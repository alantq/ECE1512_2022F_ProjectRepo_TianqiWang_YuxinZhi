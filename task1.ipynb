{
 "cells": [
  {
   "cell_type": "code",
   "execution_count": 1,
   "id": "c2c8e558-b0d0-4630-a512-c0fd68dd326b",
   "metadata": {},
   "outputs": [],
   "source": [
    "# Pissible need package install if needed\n",
    "\n",
    "#Used for import function from other ipynb file\n",
    "#pip install ipynb\n",
    "\n",
    "#Install pytorch\n",
    "#pip install pytorch"
   ]
  },
  {
   "cell_type": "code",
   "execution_count": 1,
   "id": "b2cb6855-e8e0-4a39-9619-5333c7ad1a9b",
   "metadata": {
    "tags": []
   },
   "outputs": [],
   "source": [
    "import os\n",
    "import time\n",
    "import copy\n",
    "import numpy as np\n",
    "import torch\n",
    "import torch.nn as nn\n",
    "import argparse\n",
    "from torchvision.utils import save_image\n",
    "from ipynb.fs.full.utils import get_loops, get_dataset, get_network, get_eval_pool, evaluate_synset, get_daparam, match_loss, get_time, TensorDataset, DiffAugment, ParamDiffAug\n",
    "import matplotlib.pyplot as plt"
   ]
  },
  {
   "cell_type": "code",
   "execution_count": 2,
   "id": "a0b091b7-ba55-4987-97ef-4437724f9a01",
   "metadata": {},
   "outputs": [],
   "source": [
    "from ptflops import get_model_complexity_info"
   ]
  },
  {
   "cell_type": "code",
   "execution_count": 3,
   "id": "fceca165-a5f7-4398-b665-114319706230",
   "metadata": {},
   "outputs": [],
   "source": [
    "mnist_data = \"mnist_data\"\n",
    "mnist_result = \"mnist_result\"\n",
    "\n",
    "if not os.path.exists(mnist_data):\n",
    "    os.mkdir(mnist_data)\n",
    "\n",
    "if not os.path.exists(mnist_result):\n",
    "    os.mkdir(mnist_result)\n",
    "\n",
    "cifar_data = \"cifar_data\"\n",
    "cifar_result = \"cifar_result\"\n",
    "\n",
    "if not os.path.exists(cifar_data):\n",
    "    os.mkdir(cifar_data)\n",
    "\n",
    "if not os.path.exists(cifar_result):\n",
    "    os.mkdir(cifar_result)\n"
   ]
  },
  {
   "cell_type": "code",
   "execution_count": 4,
   "id": "f50a8841-e64b-43be-8387-4ea880657e4f",
   "metadata": {},
   "outputs": [
    {
     "name": "stdout",
     "output_type": "stream",
     "text": [
      "cuda\n"
     ]
    }
   ],
   "source": [
    "device = 'cuda' if torch.cuda.is_available() else 'cpu'\n",
    "print(device)"
   ]
  },
  {
   "cell_type": "code",
   "execution_count": 5,
   "id": "b571b484-cf36-464f-b868-4c129e8c5149",
   "metadata": {},
   "outputs": [],
   "source": [
    "#load data\n",
    "channel, im_size, num_classes, class_names, mean, std, dst_train, dst_test, testloader = get_dataset('MNIST',mnist_data)"
   ]
  },
  {
   "cell_type": "code",
   "execution_count": 6,
   "id": "c89ef0e6-652f-426f-a623-61a7bd2df5d4",
   "metadata": {},
   "outputs": [],
   "source": [
    "images_all = []\n",
    "labels_all = []\n",
    "indices_class = [[] for c in range(num_classes)]"
   ]
  },
  {
   "cell_type": "code",
   "execution_count": 7,
   "id": "54870a5a-210d-455f-80af-8ba54c2602a7",
   "metadata": {},
   "outputs": [],
   "source": [
    "images_all = [torch.unsqueeze(dst_train[i][0], dim=0) for i in range(len(dst_train))]\n",
    "labels_all = [dst_train[i][1] for i in range(len(dst_train))]"
   ]
  },
  {
   "cell_type": "code",
   "execution_count": 8,
   "id": "bf77ccae-f290-40fe-a4ea-3bc0f78c85d1",
   "metadata": {},
   "outputs": [],
   "source": [
    "for i, lab in enumerate(labels_all):\n",
    "    indices_class[lab].append(i)\n",
    "images_all = torch.cat(images_all, dim=0).to(device)\n",
    "labels_all = torch.tensor(labels_all, dtype=torch.long, device=device)"
   ]
  },
  {
   "cell_type": "code",
   "execution_count": 9,
   "id": "fe7afe04-555e-4964-bca7-1bd60b052dc2",
   "metadata": {},
   "outputs": [
    {
     "name": "stdout",
     "output_type": "stream",
     "text": [
      "class c = 0: 5923 real images\n",
      "class c = 1: 6742 real images\n",
      "class c = 2: 5958 real images\n",
      "class c = 3: 6131 real images\n",
      "class c = 4: 5842 real images\n",
      "class c = 5: 5421 real images\n",
      "class c = 6: 5918 real images\n",
      "class c = 7: 6265 real images\n",
      "class c = 8: 5851 real images\n",
      "class c = 9: 5949 real images\n"
     ]
    }
   ],
   "source": [
    "for c in range(num_classes):\n",
    "    print('class c = %d: %d real images'%(c, len(indices_class[c])))"
   ]
  },
  {
   "cell_type": "markdown",
   "id": "901717a1-adcb-4328-af9f-5d1e5bd7c274",
   "metadata": {},
   "source": [
    "# 2 a"
   ]
  },
  {
   "cell_type": "code",
   "execution_count": 72,
   "id": "8e28a205-13de-4662-a05f-2073dd641008",
   "metadata": {},
   "outputs": [],
   "source": [
    "#Get the net\n",
    "ConvNet = get_network('ConvNet',channel,num_classes,im_size).to(device)"
   ]
  },
  {
   "cell_type": "code",
   "execution_count": 13,
   "id": "95850f92-42bb-41ab-a704-50a42c07264d",
   "metadata": {},
   "outputs": [],
   "source": [
    "#first train with dataset\n",
    "def epoch(mode, dataloader, net, optimizer, criterion,device):\n",
    "    loss_avg, acc_avg, num_exp = 0,0,0\n",
    "    net = net.to(device)\n",
    "    criterion = criterion.to(device)\n",
    "    if mode == 'train':\n",
    "        net.train()\n",
    "    else:\n",
    "        net.eval()\n",
    "    scheduler = torch.optim.lr_scheduler.CosineAnnealingLR(optimizer, T_max = 10)\n",
    "    for i_batch,datum in enumerate(dataloader):\n",
    "        img = datum[0].float().to(device)\n",
    "        lab = datum[1].long().to(device)\n",
    "        n_b = lab.shape[0]\n",
    "        \n",
    "        output = net(img)\n",
    "        loss = criterion(output,lab)\n",
    "        acc = np.sum(np.equal(np.argmax(output.cpu().data.numpy(), axis=-1), lab.cpu().data.numpy()))\n",
    "        \n",
    "        loss_avg += loss.item()*n_b\n",
    "        acc_avg += acc\n",
    "        num_exp += n_b\n",
    "        \n",
    "        if mode == 'train':\n",
    "            optimizer.zero_grad()\n",
    "            loss.backward()\n",
    "            optimizer.step()\n",
    "            scheduler.step()\n",
    "    loss_avg /= num_exp\n",
    "    acc_avg /= num_exp\n",
    "    \n",
    "    return loss_avg, acc_avg\n",
    "\n",
    "\n",
    "def train_with_dataset(net, images_train, labels_train, testloader,device):\n",
    "    net = net.to(device)\n",
    "    images_train = images_train.to(device)\n",
    "    labels_train = labels_train.to(device)\n",
    "    lr = 0.01\n",
    "    Epoch = 20\n",
    "    optimizer = torch.optim.SGD(net.parameters(), lr = lr, momentum = 0.9, weight_decay = 0.0005)\n",
    "    criterion = nn.CrossEntropyLoss().to(device)\n",
    "    dst_train = TensorDataset(images_train,labels_train)\n",
    "    trainloader = torch.utils.data.DataLoader(dst_train, batch_size = 256, shuffle = True, num_workers = 0)\n",
    "    for ep in range(Epoch):\n",
    "        loss_train, acc_train = epoch('train',trainloader, net, optimizer, criterion, device)\n",
    "        print(\"loss train: {}, acc_train: {}\".format(loss_train, acc_train))\n",
    "    loss_test, acc_test = epoch('test', testloader, net, optimizer, criterion, device)\n",
    "    return acc_train, acc_test\n"
   ]
  },
  {
   "cell_type": "code",
   "execution_count": 10,
   "id": "004d8c48-7c13-414a-84c4-d5f0f116df9d",
   "metadata": {},
   "outputs": [],
   "source": [
    "ConvNet = get_network('ConvNet',channel,num_classes,im_size).to(device)\n",
    "images, labels = copy.deepcopy(images_all.detach()), copy.deepcopy(labels_all.detach())"
   ]
  },
  {
   "cell_type": "code",
   "execution_count": 11,
   "id": "452aa41e-a037-41c3-a581-7c1966de7b86",
   "metadata": {},
   "outputs": [
    {
     "name": "stdout",
     "output_type": "stream",
     "text": [
      "Warning: module ConvNet is treated as a zero-op.\n",
      "ConvNet(\n",
      "  317.71 k, 100.000% Params, 49.25 MMac, 100.000% MACs, \n",
      "  (features): Sequential(\n",
      "    297.22 k, 93.551% Params, 49.23 MMac, 99.958% MACs, \n",
      "    (0): Conv2d(1.28 k, 0.403% Params, 1.31 MMac, 2.662% MACs, 1, 128, kernel_size=(3, 3), stride=(1, 1), padding=(3, 3))\n",
      "    (1): GroupNorm(256, 0.081% Params, 262.14 KMac, 0.532% MACs, 128, 128, eps=1e-05, affine=True)\n",
      "    (2): ReLU(0, 0.000% Params, 131.07 KMac, 0.266% MACs, inplace=True)\n",
      "    (3): AvgPool2d(0, 0.000% Params, 131.07 KMac, 0.266% MACs, kernel_size=2, stride=2, padding=0)\n",
      "    (4): Conv2d(147.58 k, 46.453% Params, 37.78 MMac, 76.720% MACs, 128, 128, kernel_size=(3, 3), stride=(1, 1), padding=(1, 1))\n",
      "    (5): GroupNorm(256, 0.081% Params, 65.54 KMac, 0.133% MACs, 128, 128, eps=1e-05, affine=True)\n",
      "    (6): ReLU(0, 0.000% Params, 32.77 KMac, 0.067% MACs, inplace=True)\n",
      "    (7): AvgPool2d(0, 0.000% Params, 32.77 KMac, 0.067% MACs, kernel_size=2, stride=2, padding=0)\n",
      "    (8): Conv2d(147.58 k, 46.453% Params, 9.45 MMac, 19.180% MACs, 128, 128, kernel_size=(3, 3), stride=(1, 1), padding=(1, 1))\n",
      "    (9): GroupNorm(256, 0.081% Params, 16.38 KMac, 0.033% MACs, 128, 128, eps=1e-05, affine=True)\n",
      "    (10): ReLU(0, 0.000% Params, 8.19 KMac, 0.017% MACs, inplace=True)\n",
      "    (11): AvgPool2d(0, 0.000% Params, 8.19 KMac, 0.017% MACs, kernel_size=2, stride=2, padding=0)\n",
      "  )\n",
      "  (classifier): Linear(20.49 k, 6.449% Params, 20.49 KMac, 0.042% MACs, in_features=2048, out_features=10, bias=True)\n",
      ")\n",
      "Computational complexity:       49.25 MMac\n"
     ]
    }
   ],
   "source": [
    "macs, params = get_model_complexity_info(ConvNet, (1,28,28), as_strings = True,\n",
    "                                        print_per_layer_stat = True, verbose = True)\n",
    "print('{:<30}  {:<8}'.format('Computational complexity: ', macs))"
   ]
  },
  {
   "cell_type": "code",
   "execution_count": 12,
   "id": "96773976-9554-44bd-a980-fa559b1961da",
   "metadata": {},
   "outputs": [
    {
     "name": "stdout",
     "output_type": "stream",
     "text": [
      "loss train: 0.2841838123043378, acc_train: 0.93195\n",
      "loss train: 0.06805729623834292, acc_train: 0.9822833333333333\n",
      "loss train: 0.051565202138821285, acc_train: 0.9862166666666666\n",
      "loss train: 0.04376972884039084, acc_train: 0.9880166666666667\n",
      "loss train: 0.03688659320274989, acc_train: 0.98985\n",
      "loss train: 0.03631744081179301, acc_train: 0.9896333333333334\n",
      "loss train: 0.03203204917311668, acc_train: 0.9914166666666666\n",
      "loss train: 0.028420025177299975, acc_train: 0.9921\n",
      "loss train: 0.027141653450330098, acc_train: 0.99255\n",
      "loss train: 0.02546396706899007, acc_train: 0.99325\n",
      "loss train: 0.022170541329185167, acc_train: 0.9939666666666667\n",
      "loss train: 0.020936106424530348, acc_train: 0.9945333333333334\n",
      "loss train: 0.019473087057471274, acc_train: 0.9949\n",
      "loss train: 0.019056514712174732, acc_train: 0.9951166666666666\n",
      "loss train: 0.017664020450909933, acc_train: 0.99535\n",
      "loss train: 0.01686749543795983, acc_train: 0.9957833333333334\n",
      "loss train: 0.01577594166348378, acc_train: 0.9960833333333333\n",
      "loss train: 0.015362278943508863, acc_train: 0.9960833333333333\n",
      "loss train: 0.014655016516645749, acc_train: 0.9965333333333334\n",
      "loss train: 0.012654336410760879, acc_train: 0.9975666666666667\n",
      "Acc train 0.9975666666666667, Acc test 0.9939\n"
     ]
    }
   ],
   "source": [
    "acc_train,acc_test = train_with_dataset(ConvNet,images, labels, testloader, device)\n",
    "print(\"Acc train {}, Acc test {}\".format(acc_train, acc_test))"
   ]
  },
  {
   "cell_type": "markdown",
   "id": "d3139773-d072-4b3e-b6b3-58a4bf25e09b",
   "metadata": {},
   "source": [
    "# 2 b"
   ]
  },
  {
   "cell_type": "code",
   "execution_count": 12,
   "id": "5586d38c-5e76-48dd-862a-cae666e69dc6",
   "metadata": {},
   "outputs": [],
   "source": [
    "K = 100\n",
    "T = 10\n",
    "learningRateCondensedSamples = 0.1\n",
    "numberOptimizationSteps = 1\n",
    "learningRateModel = 0.01\n",
    "numberOfOptimizationSteps = 50\n",
    "ipc = 10\n",
    "miniBatchSize = 256"
   ]
  },
  {
   "cell_type": "code",
   "execution_count": 76,
   "id": "ca15a0fb-790a-4693-8010-49c79fdf4806",
   "metadata": {},
   "outputs": [
    {
     "name": "stderr",
     "output_type": "stream",
     "text": [
      "C:\\Users\\alanw\\AppData\\Local\\Temp\\ipykernel_12252\\3204847356.py:3: DeprecationWarning: an integer is required (got type numpy.float64).  Implicit conversion to integers using __int__ is deprecated, and may be removed in a future version of Python.\n",
      "  label_syn = torch.tensor([np.ones(ipc)*i for i in range(num_classes)], dtype=torch.long, requires_grad=False, device=device).view(-1) # [0,0,0, 1,1,1, ..., 9,9,9]\n"
     ]
    }
   ],
   "source": [
    "#initialize the synthetic data\n",
    "image_syn = torch.randn(size=(num_classes*ipc, channel, im_size[0], im_size[1]), dtype=torch.float, requires_grad=True, device=device)\n",
    "label_syn = torch.tensor([np.ones(ipc)*i for i in range(num_classes)], dtype=torch.long, requires_grad=False, device=device).view(-1) # [0,0,0, 1,1,1, ..., 9,9,9]\n"
   ]
  },
  {
   "cell_type": "code",
   "execution_count": 10,
   "id": "66ed6686-69f9-475c-8918-feb3b36d61e5",
   "metadata": {},
   "outputs": [],
   "source": [
    "def get_images(c, n): # get random n images from class c\n",
    "    idx_shuffle = np.random.permutation(indices_class[c])[:n]\n",
    "    return images_all[idx_shuffle]"
   ]
  },
  {
   "cell_type": "code",
   "execution_count": 78,
   "id": "2472e087-aae2-493f-8c09-c02a338924e3",
   "metadata": {},
   "outputs": [],
   "source": [
    "for c in range(num_classes):\n",
    "    image_syn.data[c*ipc:(c+1)*ipc] = get_images(c, ipc).detach().data"
   ]
  },
  {
   "cell_type": "code",
   "execution_count": 79,
   "id": "f326a630-1d64-44d3-8e17-5ab6995f527f",
   "metadata": {},
   "outputs": [],
   "source": [
    "#Train\n",
    "optimizer_img = torch.optim.SGD([image_syn], lr = learningRateCondensedSamples, momentum = 0.5)\n",
    "optimizer_img.zero_grad()\n",
    "criterion = nn.CrossEntropyLoss().to(device)"
   ]
  },
  {
   "cell_type": "code",
   "execution_count": 80,
   "id": "b741823b-bc50-49bd-b94c-8d3392bb2963",
   "metadata": {},
   "outputs": [],
   "source": [
    "net = get_network('ConvNet',channel,num_classes,im_size).to(device)\n",
    "net.train()\n",
    "net_parameters = list(net.parameters())\n",
    "optimizer_net = torch.optim.SGD(net.parameters(), lr = learningRateModel)\n",
    "optimizer_net.zero_grad()\n",
    "loss_avg = 0"
   ]
  },
  {
   "cell_type": "code",
   "execution_count": 81,
   "id": "e886eaf6-d49b-4e4d-b43b-406368c94124",
   "metadata": {},
   "outputs": [],
   "source": [
    "parser = argparse.ArgumentParser(description='Parameter Processing')\n",
    "parser.add_argument('--dis_metric', type=str, default='ours', help='distance metric')\n",
    "args, unknown = parser.parse_known_args()\n",
    "args.device = device"
   ]
  },
  {
   "cell_type": "code",
   "execution_count": 82,
   "id": "10d40f79-b4c8-4d0a-954f-26c243beb1fd",
   "metadata": {
    "scrolled": true,
    "tags": []
   },
   "outputs": [
    {
     "name": "stdout",
     "output_type": "stream",
     "text": [
      "Outer Loop 0\n",
      "Outer Loop 1\n",
      "Outer Loop 2\n",
      "Outer Loop 3\n",
      "Outer Loop 4\n",
      "Outer Loop 5\n",
      "Outer Loop 6\n",
      "Outer Loop 7\n",
      "Outer Loop 8\n",
      "Outer Loop 9\n",
      "Outer Loop 10\n",
      "Outer Loop 11\n",
      "Outer Loop 12\n",
      "Outer Loop 13\n",
      "Outer Loop 14\n",
      "Outer Loop 15\n",
      "Outer Loop 16\n",
      "Outer Loop 17\n",
      "Outer Loop 18\n",
      "Outer Loop 19\n",
      "Outer Loop 20\n",
      "Outer Loop 21\n",
      "Outer Loop 22\n",
      "Outer Loop 23\n",
      "Outer Loop 24\n",
      "Outer Loop 25\n",
      "Outer Loop 26\n",
      "Outer Loop 27\n",
      "Outer Loop 28\n",
      "Outer Loop 29\n",
      "Outer Loop 30\n",
      "Outer Loop 31\n",
      "Outer Loop 32\n",
      "Outer Loop 33\n",
      "Outer Loop 34\n",
      "Outer Loop 35\n",
      "Outer Loop 36\n",
      "Outer Loop 37\n",
      "Outer Loop 38\n",
      "Outer Loop 39\n",
      "Outer Loop 40\n",
      "Outer Loop 41\n",
      "Outer Loop 42\n",
      "Outer Loop 43\n",
      "Outer Loop 44\n",
      "Outer Loop 45\n",
      "Outer Loop 46\n",
      "Outer Loop 47\n",
      "Outer Loop 48\n",
      "Outer Loop 49\n",
      "Outer Loop 50\n",
      "Outer Loop 51\n",
      "Outer Loop 52\n",
      "Outer Loop 53\n",
      "Outer Loop 54\n",
      "Outer Loop 55\n",
      "Outer Loop 56\n",
      "Outer Loop 57\n",
      "Outer Loop 58\n",
      "Outer Loop 59\n",
      "Outer Loop 60\n",
      "Outer Loop 61\n",
      "Outer Loop 62\n",
      "Outer Loop 63\n",
      "Outer Loop 64\n",
      "Outer Loop 65\n",
      "Outer Loop 66\n",
      "Outer Loop 67\n",
      "Outer Loop 68\n",
      "Outer Loop 69\n",
      "Outer Loop 70\n",
      "Outer Loop 71\n",
      "Outer Loop 72\n",
      "Outer Loop 73\n",
      "Outer Loop 74\n",
      "Outer Loop 75\n",
      "Outer Loop 76\n",
      "Outer Loop 77\n",
      "Outer Loop 78\n",
      "Outer Loop 79\n",
      "Outer Loop 80\n",
      "Outer Loop 81\n",
      "Outer Loop 82\n",
      "Outer Loop 83\n",
      "Outer Loop 84\n",
      "Outer Loop 85\n",
      "Outer Loop 86\n",
      "Outer Loop 87\n",
      "Outer Loop 88\n",
      "Outer Loop 89\n",
      "Outer Loop 90\n",
      "Outer Loop 91\n",
      "Outer Loop 92\n",
      "Outer Loop 93\n",
      "Outer Loop 94\n",
      "Outer Loop 95\n",
      "Outer Loop 96\n",
      "Outer Loop 97\n",
      "Outer Loop 98\n",
      "Outer Loop 99\n",
      "loss = 19.5991\n"
     ]
    }
   ],
   "source": [
    "for ol in range(K):\n",
    "    loss = torch.tensor(0.0).to(device)\n",
    "    print(\"Outer Loop {}\".format(ol))\n",
    "    for c in range(num_classes):\n",
    "        img_real = get_images(c, miniBatchSize)\n",
    "        lab_real = torch.ones((img_real.shape[0],), device=device, dtype=torch.long) * c\n",
    "        img_syn = image_syn[c*ipc:(c+1)*ipc].reshape((ipc, channel, im_size[0], im_size[1]))\n",
    "        lab_syn = torch.ones((ipc,), device=device, dtype=torch.long) * c\n",
    "        \n",
    "        output_real = net(img_real)\n",
    "        loss_real = criterion(output_real, lab_real)\n",
    "        gw_real = torch.autograd.grad(loss_real, net_parameters)\n",
    "        gw_real = list((_.detach().clone() for _ in gw_real))\n",
    "        \n",
    "        output_syn = net(img_syn)\n",
    "        loss_syn = criterion(output_syn, lab_syn)\n",
    "        gw_syn = torch.autograd.grad(loss_syn, net_parameters, create_graph=True)\n",
    "        loss += match_loss(gw_syn, gw_real, args)\n",
    "    optimizer_img.zero_grad()\n",
    "    loss.backward()\n",
    "    optimizer_img.step()\n",
    "    loss_avg += loss.item()\n",
    "    \n",
    "    if ol == K - 1:\n",
    "        break\n",
    "    \n",
    "    ''' update network '''\n",
    "    image_syn_train, label_syn_train = copy.deepcopy(image_syn.detach()), copy.deepcopy(label_syn.detach())\n",
    "    dst_syn_train = TensorDataset(image_syn_train, label_syn_train)\n",
    "    trainloader = torch.utils.data.DataLoader(dst_syn_train, batch_size=miniBatchSize, shuffle=True, num_workers=0)\n",
    "    for il in range(T):\n",
    "        epoch('train', trainloader, net, optimizer_net, criterion, device)\n",
    "\n",
    "loss_avg /= (num_classes*K)\n",
    "print('loss = %.4f' % loss_avg)\n",
    "    "
   ]
  },
  {
   "cell_type": "code",
   "execution_count": 83,
   "id": "ca9a5b5c-d523-4a62-84a4-6a83d5f47dea",
   "metadata": {},
   "outputs": [
    {
     "name": "stdout",
     "output_type": "stream",
     "text": [
      "loss train: 2.332111358642578, acc_train: 0.13\n",
      "loss train: 2.206742525100708, acc_train: 0.26\n",
      "loss train: 2.050590991973877, acc_train: 0.53\n",
      "loss train: 1.874452829360962, acc_train: 0.67\n",
      "loss train: 1.6859163045883179, acc_train: 0.83\n",
      "loss train: 1.5162575244903564, acc_train: 0.88\n",
      "loss train: 1.36368989944458, acc_train: 0.88\n",
      "loss train: 1.2110499143600464, acc_train: 0.91\n",
      "loss train: 1.0659754276275635, acc_train: 0.96\n",
      "loss train: 0.9374483227729797, acc_train: 0.96\n",
      "loss train: 0.821342945098877, acc_train: 0.98\n",
      "loss train: 0.7170741558074951, acc_train: 0.98\n",
      "loss train: 0.6267210245132446, acc_train: 0.98\n",
      "loss train: 0.548811137676239, acc_train: 0.98\n",
      "loss train: 0.4815305471420288, acc_train: 0.98\n",
      "loss train: 0.42389756441116333, acc_train: 0.98\n",
      "loss train: 0.3747239410877228, acc_train: 0.98\n",
      "loss train: 0.33216655254364014, acc_train: 0.98\n",
      "loss train: 0.29498934745788574, acc_train: 0.98\n",
      "loss train: 0.26266881823539734, acc_train: 0.98\n",
      "Acc train 0.98, Acc test 0.9005\n"
     ]
    }
   ],
   "source": [
    "ConvNet = get_network('ConvNet',channel,num_classes,im_size).to(device)\n",
    "\n",
    "#----------------------------------------MNIST result --------------------------------------------------------------------\n",
    "mnist_images_sync, mnist_labels_sync = copy.deepcopy(image_syn.detach()), copy.deepcopy(label_syn.detach())\n",
    "#----------------------------------------------------------------------------------------------------------------------------\n",
    "\n",
    "acc_train,acc_test = train_with_dataset(ConvNet,mnist_images_sync, mnist_labels_sync, testloader, device)\n",
    "print(\"Acc train {}, Acc test {}\".format(acc_train, acc_test))"
   ]
  },
  {
   "cell_type": "markdown",
   "id": "f3a9e5be-c2dd-4003-9eea-2c4f04b30ebe",
   "metadata": {},
   "source": [
    "# 1 c"
   ]
  },
  {
   "cell_type": "code",
   "execution_count": 23,
   "id": "87adb694-3ef5-4f1c-ae12-97674fe5865d",
   "metadata": {},
   "outputs": [
    {
     "data": {
      "image/png": "[encoded data removed]",
      "text/plain": [
       "<Figure size 640x480 with 10 Axes>"
      ]
     },
     "metadata": {},
     "output_type": "display_data"
    }
   ],
   "source": [
    "image_syn_vis = copy.deepcopy(image_syn.detach().cpu())\n",
    "for ch in range(channel):\n",
    "    image_syn_vis[:, ch] = image_syn_vis[:, ch]  * std[ch] + mean[ch]\n",
    "image_syn_vis[image_syn_vis<0] = 0.0\n",
    "image_syn_vis[image_syn_vis>1] = 1.0\n",
    "for i in range(10):\n",
    "    plt.subplot(2,5,i+1)\n",
    "    plt.imshow(image_syn_vis[0+i*10][0], cmap=plt.cm.gray)\n",
    "    ax = plt.gca()\n",
    "    ax.get_xaxis().set_visible(False)\n",
    "    ax.get_yaxis().set_visible(False)"
   ]
  },
  {
   "cell_type": "code",
   "execution_count": 20,
   "id": "b50c1c13-dceb-4eee-87c8-21b8e423be5e",
   "metadata": {},
   "outputs": [
    {
     "name": "stdout",
     "output_type": "stream",
     "text": [
      "Files already downloaded and verified\n",
      "Files already downloaded and verified\n"
     ]
    }
   ],
   "source": [
    "channel, im_size, num_classes, class_names, mean, std, dst_train, dst_test, testloader = get_dataset('CIFAR10',mnist_data)"
   ]
  },
  {
   "cell_type": "code",
   "execution_count": 21,
   "id": "265044e1-a48b-4e74-bd44-dd1fb4052a0a",
   "metadata": {},
   "outputs": [],
   "source": [
    "images_all = []\n",
    "labels_all = []\n",
    "indices_class = [[] for c in range(num_classes)]"
   ]
  },
  {
   "cell_type": "code",
   "execution_count": 22,
   "id": "48149048-d9e4-43ec-9710-3396c2bc4e92",
   "metadata": {},
   "outputs": [],
   "source": [
    "images_all = [torch.unsqueeze(dst_train[i][0], dim=0) for i in range(len(dst_train))]\n",
    "labels_all = [dst_train[i][1] for i in range(len(dst_train))]"
   ]
  },
  {
   "cell_type": "code",
   "execution_count": 23,
   "id": "f8c73e88-f109-4054-b86a-78554e85b509",
   "metadata": {},
   "outputs": [],
   "source": [
    "for i, lab in enumerate(labels_all):\n",
    "    indices_class[lab].append(i)\n",
    "images_all = torch.cat(images_all, dim=0).to(device)\n",
    "labels_all = torch.tensor(labels_all, dtype=torch.long, device=device)"
   ]
  },
  {
   "cell_type": "code",
   "execution_count": 24,
   "id": "0dde72bd-085c-48ab-b496-933f9e5aae0d",
   "metadata": {},
   "outputs": [],
   "source": [
    "#base line\n",
    "ConvNet = get_network('ConvNet',channel,num_classes,im_size).to(device)\n",
    "images, labels = copy.deepcopy(images_all.detach()), copy.deepcopy(labels_all.detach())"
   ]
  },
  {
   "cell_type": "code",
   "execution_count": 25,
   "id": "73fc819e-c8d2-453d-a805-aa10510d8df4",
   "metadata": {},
   "outputs": [
    {
     "name": "stdout",
     "output_type": "stream",
     "text": [
      "loss train: 1.547944690475464, acc_train: 0.45918\n",
      "loss train: 1.1248282262802125, acc_train: 0.61028\n",
      "loss train: 0.9779403326416015, acc_train: 0.66222\n",
      "loss train: 0.8702254090499878, acc_train: 0.70054\n",
      "loss train: 0.8022110078239441, acc_train: 0.7265\n",
      "loss train: 0.7415004912185669, acc_train: 0.74686\n",
      "loss train: 0.7025171150588989, acc_train: 0.76236\n",
      "loss train: 0.6469329987716674, acc_train: 0.78284\n",
      "loss train: 0.6112999915695191, acc_train: 0.79486\n",
      "loss train: 0.58758383228302, acc_train: 0.80236\n",
      "loss train: 0.5449114079666137, acc_train: 0.8203\n",
      "loss train: 0.5173571387290955, acc_train: 0.82806\n",
      "loss train: 0.4919164423942566, acc_train: 0.83784\n",
      "loss train: 0.4825076996707916, acc_train: 0.8398\n",
      "loss train: 0.4504186312007904, acc_train: 0.85238\n",
      "loss train: 0.448761411819458, acc_train: 0.85076\n",
      "loss train: 0.40977212065696716, acc_train: 0.86676\n",
      "loss train: 0.38171847384452817, acc_train: 0.87616\n",
      "loss train: 0.371153772726059, acc_train: 0.87878\n",
      "loss train: 0.35723356925964356, acc_train: 0.88446\n",
      "Acc train 0.88446, Acc test 0.7753\n"
     ]
    }
   ],
   "source": [
    "acc_train,acc_test = train_with_dataset(ConvNet,images, labels, testloader, device)\n",
    "print(\"Acc train {}, Acc test {}\".format(acc_train, acc_test))"
   ]
  },
  {
   "cell_type": "code",
   "execution_count": 26,
   "id": "3914301f-24cd-43e2-8887-f00496a7fa9c",
   "metadata": {},
   "outputs": [
    {
     "name": "stderr",
     "output_type": "stream",
     "text": [
      "C:\\Users\\alanw\\AppData\\Local\\Temp\\ipykernel_12252\\3004736898.py:3: DeprecationWarning: an integer is required (got type numpy.float64).  Implicit conversion to integers using __int__ is deprecated, and may be removed in a future version of Python.\n",
      "  label_syn = torch.tensor([np.ones(ipc)*i for i in range(num_classes)], dtype=torch.long, requires_grad=False, device=device).view(-1) # [0,0,0, 1,1,1, ..., 9,9,9]\n"
     ]
    }
   ],
   "source": [
    "#initialize syn image\n",
    "image_syn = torch.randn(size=(num_classes*ipc, channel, im_size[0], im_size[1]), dtype=torch.float, requires_grad=True, device=device)\n",
    "label_syn = torch.tensor([np.ones(ipc)*i for i in range(num_classes)], dtype=torch.long, requires_grad=False, device=device).view(-1) # [0,0,0, 1,1,1, ..., 9,9,9]\n",
    "for c in range(num_classes):\n",
    "    image_syn.data[c*ipc:(c+1)*ipc] = get_images(c, ipc).detach().data"
   ]
  },
  {
   "cell_type": "code",
   "execution_count": 27,
   "id": "ee597b37-2437-4bb5-b93d-c4e1cee54075",
   "metadata": {},
   "outputs": [],
   "source": [
    "optimizer_img = torch.optim.SGD([image_syn], lr = learningRateCondensedSamples, momentum = 0.5)\n",
    "optimizer_img.zero_grad()\n",
    "criterion = nn.CrossEntropyLoss().to(device)"
   ]
  },
  {
   "cell_type": "code",
   "execution_count": 28,
   "id": "f61370ac-ddd3-4ea2-8b76-32e80579546b",
   "metadata": {},
   "outputs": [],
   "source": [
    "net = get_network('ConvNet',channel,num_classes,im_size).to(device)\n",
    "net.train()\n",
    "net_parameters = list(net.parameters())\n",
    "optimizer_net = torch.optim.SGD(net.parameters(), lr = learningRateModel)\n",
    "optimizer_net.zero_grad()\n",
    "loss_avg = 0"
   ]
  },
  {
   "cell_type": "code",
   "execution_count": 29,
   "id": "0977e2e8-51e0-43ca-a458-2507d58736a3",
   "metadata": {},
   "outputs": [],
   "source": [
    "parser = argparse.ArgumentParser(description='Parameter Processing')\n",
    "parser.add_argument('--dis_metric', type=str, default='ours', help='distance metric')\n",
    "args, unknown = parser.parse_known_args()\n",
    "args.device = device"
   ]
  },
  {
   "cell_type": "code",
   "execution_count": 30,
   "id": "990ab045-3847-4ff3-93ff-6d34fbc3839c",
   "metadata": {
    "scrolled": true,
    "tags": []
   },
   "outputs": [
    {
     "name": "stdout",
     "output_type": "stream",
     "text": [
      "Outer Loop 0\n",
      "Outer Loop 1\n",
      "Outer Loop 2\n",
      "Outer Loop 3\n",
      "Outer Loop 4\n",
      "Outer Loop 5\n",
      "Outer Loop 6\n",
      "Outer Loop 7\n",
      "Outer Loop 8\n",
      "Outer Loop 9\n",
      "Outer Loop 10\n",
      "Outer Loop 11\n",
      "Outer Loop 12\n",
      "Outer Loop 13\n",
      "Outer Loop 14\n",
      "Outer Loop 15\n",
      "Outer Loop 16\n",
      "Outer Loop 17\n",
      "Outer Loop 18\n",
      "Outer Loop 19\n",
      "Outer Loop 20\n",
      "Outer Loop 21\n",
      "Outer Loop 22\n",
      "Outer Loop 23\n",
      "Outer Loop 24\n",
      "Outer Loop 25\n",
      "Outer Loop 26\n",
      "Outer Loop 27\n",
      "Outer Loop 28\n",
      "Outer Loop 29\n",
      "Outer Loop 30\n",
      "Outer Loop 31\n",
      "Outer Loop 32\n",
      "Outer Loop 33\n",
      "Outer Loop 34\n",
      "Outer Loop 35\n",
      "Outer Loop 36\n",
      "Outer Loop 37\n",
      "Outer Loop 38\n",
      "Outer Loop 39\n",
      "Outer Loop 40\n",
      "Outer Loop 41\n",
      "Outer Loop 42\n",
      "Outer Loop 43\n",
      "Outer Loop 44\n",
      "Outer Loop 45\n",
      "Outer Loop 46\n",
      "Outer Loop 47\n",
      "Outer Loop 48\n",
      "Outer Loop 49\n",
      "Outer Loop 50\n",
      "Outer Loop 51\n",
      "Outer Loop 52\n",
      "Outer Loop 53\n",
      "Outer Loop 54\n",
      "Outer Loop 55\n",
      "Outer Loop 56\n",
      "Outer Loop 57\n",
      "Outer Loop 58\n",
      "Outer Loop 59\n",
      "Outer Loop 60\n",
      "Outer Loop 61\n",
      "Outer Loop 62\n",
      "Outer Loop 63\n",
      "Outer Loop 64\n",
      "Outer Loop 65\n",
      "Outer Loop 66\n",
      "Outer Loop 67\n",
      "Outer Loop 68\n",
      "Outer Loop 69\n",
      "Outer Loop 70\n",
      "Outer Loop 71\n",
      "Outer Loop 72\n",
      "Outer Loop 73\n",
      "Outer Loop 74\n",
      "Outer Loop 75\n",
      "Outer Loop 76\n",
      "Outer Loop 77\n",
      "Outer Loop 78\n",
      "Outer Loop 79\n",
      "Outer Loop 80\n",
      "Outer Loop 81\n",
      "Outer Loop 82\n",
      "Outer Loop 83\n",
      "Outer Loop 84\n",
      "Outer Loop 85\n",
      "Outer Loop 86\n",
      "Outer Loop 87\n",
      "Outer Loop 88\n",
      "Outer Loop 89\n",
      "Outer Loop 90\n",
      "Outer Loop 91\n",
      "Outer Loop 92\n",
      "Outer Loop 93\n",
      "Outer Loop 94\n",
      "Outer Loop 95\n",
      "Outer Loop 96\n",
      "Outer Loop 97\n",
      "Outer Loop 98\n",
      "Outer Loop 99\n"
     ]
    }
   ],
   "source": [
    "for ol in range(K):\n",
    "    loss = torch.tensor(0.0).to(device)\n",
    "    print(\"Outer Loop {}\".format(ol))\n",
    "    for c in range(num_classes):\n",
    "        img_real = get_images(c, miniBatchSize)\n",
    "        lab_real = torch.ones((img_real.shape[0],), device=device, dtype=torch.long) * c\n",
    "        img_syn = image_syn[c*ipc:(c+1)*ipc].reshape((ipc, channel, im_size[0], im_size[1]))\n",
    "        lab_syn = torch.ones((ipc,), device=device, dtype=torch.long) * c\n",
    "        \n",
    "        output_real = net(img_real)\n",
    "        loss_real = criterion(output_real, lab_real)\n",
    "        gw_real = torch.autograd.grad(loss_real, net_parameters)\n",
    "        gw_real = list((_.detach().clone() for _ in gw_real))\n",
    "        \n",
    "        output_syn = net(img_syn)\n",
    "        loss_syn = criterion(output_syn, lab_syn)\n",
    "        gw_syn = torch.autograd.grad(loss_syn, net_parameters, create_graph=True)\n",
    "        loss += match_loss(gw_syn, gw_real, args)\n",
    "    optimizer_img.zero_grad()\n",
    "    loss.backward()\n",
    "    optimizer_img.step()\n",
    "    loss_avg += loss.item()\n",
    "    \n",
    "    if ol == K - 1:\n",
    "        break\n",
    "    \n",
    "    ''' update network '''\n",
    "    image_syn_train, label_syn_train = copy.deepcopy(image_syn.detach()), copy.deepcopy(label_syn.detach())\n",
    "    dst_syn_train = TensorDataset(image_syn_train, label_syn_train)\n",
    "    trainloader = torch.utils.data.DataLoader(dst_syn_train, batch_size=miniBatchSize, shuffle=True, num_workers=0)\n",
    "    for il in range(T):\n",
    "        epoch('train', trainloader, net, optimizer_net, criterion, device)\n",
    "\n",
    "loss_avg /= (num_classes*K)"
   ]
  },
  {
   "cell_type": "code",
   "execution_count": 31,
   "id": "4069961a-035e-48b8-a011-85f0b7d81c47",
   "metadata": {},
   "outputs": [
    {
     "name": "stdout",
     "output_type": "stream",
     "text": [
      "loss = 96.8068\n"
     ]
    }
   ],
   "source": [
    "print('loss = %.4f' % loss_avg)"
   ]
  },
  {
   "cell_type": "code",
   "execution_count": 32,
   "id": "ec9505f0-099f-4577-9517-77b69b25eb63",
   "metadata": {},
   "outputs": [
    {
     "name": "stdout",
     "output_type": "stream",
     "text": [
      "loss train: 2.3496086597442627, acc_train: 0.14\n",
      "loss train: 2.241914987564087, acc_train: 0.22\n",
      "loss train: 2.096734046936035, acc_train: 0.39\n",
      "loss train: 1.9544011354446411, acc_train: 0.49\n",
      "loss train: 1.817063808441162, acc_train: 0.55\n",
      "loss train: 1.6802949905395508, acc_train: 0.65\n",
      "loss train: 1.5463279485702515, acc_train: 0.73\n",
      "loss train: 1.423551321029663, acc_train: 0.75\n",
      "loss train: 1.3114935159683228, acc_train: 0.76\n",
      "loss train: 1.2043594121932983, acc_train: 0.81\n",
      "loss train: 1.1015599966049194, acc_train: 0.87\n",
      "loss train: 1.0055829286575317, acc_train: 0.91\n",
      "loss train: 0.9173674583435059, acc_train: 0.93\n",
      "loss train: 0.836608350276947, acc_train: 0.94\n",
      "loss train: 0.7630935907363892, acc_train: 0.94\n",
      "loss train: 0.6949479579925537, acc_train: 0.95\n",
      "loss train: 0.6313177347183228, acc_train: 0.95\n",
      "loss train: 0.57337486743927, acc_train: 0.98\n",
      "loss train: 0.5214222073554993, acc_train: 0.98\n",
      "loss train: 0.4742589592933655, acc_train: 0.98\n",
      "Acc train 0.98, Acc test 0.3259\n"
     ]
    }
   ],
   "source": [
    "ConvNet = get_network('ConvNet',channel,num_classes,im_size).to(device)\n",
    "\n",
    "#----------------------------------------CIFAR result --------------------------------------------------------------------\n",
    "cifar_images_sync, cifar_labels_sync = copy.deepcopy(image_syn.detach()), copy.deepcopy(label_syn.detach())\n",
    "#----------------------------------------------------------------------------------------------------------------------------\n",
    "\n",
    "acc_train,acc_test = train_with_dataset(ConvNet,cifar_images_sync, cifar_labels_sync, testloader, device)\n",
    "print(\"Acc train {}, Acc test {}\".format(acc_train, acc_test))"
   ]
  },
  {
   "cell_type": "code",
   "execution_count": 37,
   "id": "b46e5411-09f7-4c3c-a667-3478c2fef9cf",
   "metadata": {},
   "outputs": [
    {
     "data": {
      "image/png": "[encoded data removed]",
      "text/plain": [
       "<Figure size 640x480 with 10 Axes>"
      ]
     },
     "metadata": {},
     "output_type": "display_data"
    }
   ],
   "source": [
    "image_syn_vis = copy.deepcopy(image_syn.detach().cpu())\n",
    "for ch in range(channel):\n",
    "    image_syn_vis[:, ch] = image_syn_vis[:, ch]  * std[ch] + mean[ch]\n",
    "image_syn_vis[image_syn_vis<0] = 0.0\n",
    "image_syn_vis[image_syn_vis>1] = 1.0\n",
    "for i in range(10):\n",
    "    plt.subplot(2,5,i+1)\n",
    "    plt.imshow(image_syn_vis[0+i*10][0], cmap=plt.cm.gray)\n",
    "    ax = plt.gca()\n",
    "    ax.get_xaxis().set_visible(False)\n",
    "    ax.get_yaxis().set_visible(False)"
   ]
  },
  {
   "cell_type": "markdown",
   "id": "407b4c8d-a1b8-43bf-a44d-e03cb6f7f6f3",
   "metadata": {},
   "source": [
    "# 2 d"
   ]
  },
  {
   "cell_type": "code",
   "execution_count": 5,
   "id": "3454a568-a339-4d74-911a-472916eee9ca",
   "metadata": {},
   "outputs": [],
   "source": [
    "# ------------------------MNIST initialize with noisy-----------------------------------------\n",
    "channel, im_size, num_classes, class_names, mean, std, dst_train, dst_test, testloader = get_dataset('MNIST',mnist_data)\n",
    "images_all = []\n",
    "labels_all = []\n",
    "indices_class = [[] for c in range(num_classes)]\n",
    "\n",
    "images_all = [torch.unsqueeze(dst_train[i][0], dim=0) for i in range(len(dst_train))]\n",
    "labels_all = [dst_train[i][1] for i in range(len(dst_train))]\n",
    "\n",
    "for i, lab in enumerate(labels_all):\n",
    "    indices_class[lab].append(i)\n",
    "images_all = torch.cat(images_all, dim=0).to(device)\n",
    "labels_all = torch.tensor(labels_all, dtype=torch.long, device=device)"
   ]
  },
  {
   "cell_type": "code",
   "execution_count": 8,
   "id": "79b85164-0356-4c17-828b-320fcb2578bb",
   "metadata": {},
   "outputs": [
    {
     "name": "stderr",
     "output_type": "stream",
     "text": [
      "C:\\Users\\alanw\\AppData\\Local\\Temp\\ipykernel_10412\\2139612781.py:2: DeprecationWarning: an integer is required (got type numpy.float64).  Implicit conversion to integers using __int__ is deprecated, and may be removed in a future version of Python.\n",
      "  label_syn = torch.tensor([np.ones(ipc)*i for i in range(num_classes)], dtype=torch.long, requires_grad=False, device=device).view(-1) # [0,0,0, 1,1,1, ..., 9,9,9]\n",
      "C:\\Users\\alanw\\AppData\\Local\\Temp\\ipykernel_10412\\2139612781.py:2: UserWarning: Creating a tensor from a list of numpy.ndarrays is extremely slow. Please consider converting the list to a single numpy.ndarray with numpy.array() before converting to a tensor. (Triggered internally at C:\\cb\\pytorch_1000000000000\\work\\torch\\csrc\\utils\\tensor_new.cpp:233.)\n",
      "  label_syn = torch.tensor([np.ones(ipc)*i for i in range(num_classes)], dtype=torch.long, requires_grad=False, device=device).view(-1) # [0,0,0, 1,1,1, ..., 9,9,9]\n"
     ]
    }
   ],
   "source": [
    "image_syn = torch.randn(size=(num_classes*ipc, channel, im_size[0], im_size[1]), dtype=torch.float, requires_grad=True, device=device)\n",
    "label_syn = torch.tensor([np.ones(ipc)*i for i in range(num_classes)], dtype=torch.long, requires_grad=False, device=device).view(-1) # [0,0,0, 1,1,1, ..., 9,9,9]"
   ]
  },
  {
   "cell_type": "code",
   "execution_count": 14,
   "id": "ab45cb8a-1f43-465e-87f4-1f6b833a8a3e",
   "metadata": {
    "scrolled": true,
    "tags": []
   },
   "outputs": [
    {
     "name": "stdout",
     "output_type": "stream",
     "text": [
      "Outer Loop 0\n",
      "Outer Loop 1\n",
      "Outer Loop 2\n",
      "Outer Loop 3\n",
      "Outer Loop 4\n",
      "Outer Loop 5\n",
      "Outer Loop 6\n",
      "Outer Loop 7\n",
      "Outer Loop 8\n",
      "Outer Loop 9\n",
      "Outer Loop 10\n",
      "Outer Loop 11\n",
      "Outer Loop 12\n",
      "Outer Loop 13\n",
      "Outer Loop 14\n",
      "Outer Loop 15\n",
      "Outer Loop 16\n",
      "Outer Loop 17\n",
      "Outer Loop 18\n",
      "Outer Loop 19\n",
      "Outer Loop 20\n",
      "Outer Loop 21\n",
      "Outer Loop 22\n",
      "Outer Loop 23\n",
      "Outer Loop 24\n",
      "Outer Loop 25\n",
      "Outer Loop 26\n",
      "Outer Loop 27\n",
      "Outer Loop 28\n",
      "Outer Loop 29\n",
      "Outer Loop 30\n",
      "Outer Loop 31\n",
      "Outer Loop 32\n",
      "Outer Loop 33\n",
      "Outer Loop 34\n",
      "Outer Loop 35\n",
      "Outer Loop 36\n",
      "Outer Loop 37\n",
      "Outer Loop 38\n",
      "Outer Loop 39\n",
      "Outer Loop 40\n",
      "Outer Loop 41\n",
      "Outer Loop 42\n",
      "Outer Loop 43\n",
      "Outer Loop 44\n",
      "Outer Loop 45\n",
      "Outer Loop 46\n",
      "Outer Loop 47\n",
      "Outer Loop 48\n",
      "Outer Loop 49\n",
      "Outer Loop 50\n",
      "Outer Loop 51\n",
      "Outer Loop 52\n",
      "Outer Loop 53\n",
      "Outer Loop 54\n",
      "Outer Loop 55\n",
      "Outer Loop 56\n",
      "Outer Loop 57\n",
      "Outer Loop 58\n",
      "Outer Loop 59\n",
      "Outer Loop 60\n",
      "Outer Loop 61\n",
      "Outer Loop 62\n",
      "Outer Loop 63\n",
      "Outer Loop 64\n",
      "Outer Loop 65\n",
      "Outer Loop 66\n",
      "Outer Loop 67\n",
      "Outer Loop 68\n",
      "Outer Loop 69\n",
      "Outer Loop 70\n",
      "Outer Loop 71\n",
      "Outer Loop 72\n",
      "Outer Loop 73\n",
      "Outer Loop 74\n",
      "Outer Loop 75\n",
      "Outer Loop 76\n",
      "Outer Loop 77\n",
      "Outer Loop 78\n",
      "Outer Loop 79\n",
      "Outer Loop 80\n",
      "Outer Loop 81\n",
      "Outer Loop 82\n",
      "Outer Loop 83\n",
      "Outer Loop 84\n",
      "Outer Loop 85\n",
      "Outer Loop 86\n",
      "Outer Loop 87\n",
      "Outer Loop 88\n",
      "Outer Loop 89\n",
      "Outer Loop 90\n",
      "Outer Loop 91\n",
      "Outer Loop 92\n",
      "Outer Loop 93\n",
      "Outer Loop 94\n",
      "Outer Loop 95\n",
      "Outer Loop 96\n",
      "Outer Loop 97\n",
      "Outer Loop 98\n",
      "Outer Loop 99\n"
     ]
    }
   ],
   "source": [
    "optimizer_img = torch.optim.SGD([image_syn], lr = learningRateCondensedSamples, momentum = 0.5)\n",
    "optimizer_img.zero_grad()\n",
    "criterion = nn.CrossEntropyLoss().to(device)\n",
    "net = get_network('ConvNet',channel,num_classes,im_size).to(device)\n",
    "net.train()\n",
    "net_parameters = list(net.parameters())\n",
    "optimizer_net = torch.optim.SGD(net.parameters(), lr = learningRateModel)\n",
    "optimizer_net.zero_grad()\n",
    "loss_avg = 0\n",
    "\n",
    "parser = argparse.ArgumentParser(description='Parameter Processing')\n",
    "parser.add_argument('--dis_metric', type=str, default='ours', help='distance metric')\n",
    "args, unknown = parser.parse_known_args()\n",
    "args.device = device\n",
    "\n",
    "for ol in range(K):\n",
    "    loss = torch.tensor(0.0).to(device)\n",
    "    print(\"Outer Loop {}\".format(ol))\n",
    "    for c in range(num_classes):\n",
    "        img_real = get_images(c, miniBatchSize)\n",
    "        lab_real = torch.ones((img_real.shape[0],), device=device, dtype=torch.long) * c\n",
    "        img_syn = image_syn[c*ipc:(c+1)*ipc].reshape((ipc, channel, im_size[0], im_size[1]))\n",
    "        lab_syn = torch.ones((ipc,), device=device, dtype=torch.long) * c\n",
    "        \n",
    "        output_real = net(img_real)\n",
    "        loss_real = criterion(output_real, lab_real)\n",
    "        gw_real = torch.autograd.grad(loss_real, net_parameters)\n",
    "        gw_real = list((_.detach().clone() for _ in gw_real))\n",
    "        \n",
    "        output_syn = net(img_syn)\n",
    "        loss_syn = criterion(output_syn, lab_syn)\n",
    "        gw_syn = torch.autograd.grad(loss_syn, net_parameters, create_graph=True)\n",
    "        loss += match_loss(gw_syn, gw_real, args)\n",
    "    optimizer_img.zero_grad()\n",
    "    loss.backward()\n",
    "    optimizer_img.step()\n",
    "    loss_avg += loss.item()\n",
    "    \n",
    "    if ol == K - 1:\n",
    "        break\n",
    "    \n",
    "    ''' update network '''\n",
    "    image_syn_train, label_syn_train = copy.deepcopy(image_syn.detach()), copy.deepcopy(label_syn.detach())\n",
    "    dst_syn_train = TensorDataset(image_syn_train, label_syn_train)\n",
    "    trainloader = torch.utils.data.DataLoader(dst_syn_train, batch_size=miniBatchSize, shuffle=True, num_workers=0)\n",
    "    for il in range(T):\n",
    "        epoch('train', trainloader, net, optimizer_net, criterion, device)\n",
    "\n",
    "loss_avg /= (num_classes*K)"
   ]
  },
  {
   "cell_type": "code",
   "execution_count": 41,
   "id": "929cfe58-6749-41fd-8eae-7f08b3fa954c",
   "metadata": {},
   "outputs": [
    {
     "name": "stdout",
     "output_type": "stream",
     "text": [
      "loss = 107.7482\n"
     ]
    }
   ],
   "source": [
    "print('loss = %.4f' % loss_avg)"
   ]
  },
  {
   "cell_type": "code",
   "execution_count": 42,
   "id": "a8c0b63c-1de2-4856-8160-6a7f4619bc4c",
   "metadata": {},
   "outputs": [
    {
     "name": "stdout",
     "output_type": "stream",
     "text": [
      "loss train: 2.3337786197662354, acc_train: 0.08\n",
      "loss train: 2.254047155380249, acc_train: 0.21\n",
      "loss train: 2.151765823364258, acc_train: 0.33\n",
      "loss train: 2.033015727996826, acc_train: 0.39\n",
      "loss train: 1.8860864639282227, acc_train: 0.73\n",
      "loss train: 1.7364388704299927, acc_train: 0.94\n",
      "loss train: 1.6016851663589478, acc_train: 0.93\n",
      "loss train: 1.4677250385284424, acc_train: 0.96\n",
      "loss train: 1.329785943031311, acc_train: 0.97\n",
      "loss train: 1.2014422416687012, acc_train: 0.97\n",
      "loss train: 1.0858368873596191, acc_train: 0.97\n",
      "loss train: 0.9749681949615479, acc_train: 0.98\n",
      "loss train: 0.8700473308563232, acc_train: 0.99\n",
      "loss train: 0.7767363786697388, acc_train: 0.99\n",
      "loss train: 0.6944186687469482, acc_train: 0.99\n",
      "loss train: 0.6201221942901611, acc_train: 0.99\n",
      "loss train: 0.5531710982322693, acc_train: 0.99\n",
      "loss train: 0.49389365315437317, acc_train: 1.0\n",
      "loss train: 0.44188934564590454, acc_train: 1.0\n",
      "loss train: 0.3963097631931305, acc_train: 1.0\n",
      "Acc train 1.0, Acc test 0.7819\n"
     ]
    }
   ],
   "source": [
    "ConvNet = get_network('ConvNet',channel,num_classes,im_size).to(device)\n",
    "\n",
    "#----------------------------------------MNIST result --------------------------------------------------------------------\n",
    "mnist_images_sync_noisy, mnist_labels_sync_noisy = copy.deepcopy(image_syn.detach()), copy.deepcopy(label_syn.detach())\n",
    "#----------------------------------------------------------------------------------------------------------------------------\n",
    "\n",
    "acc_train,acc_test = train_with_dataset(ConvNet,mnist_images_sync_noisy, mnist_labels_sync_noisy, testloader, device)\n",
    "print(\"Acc train {}, Acc test {}\".format(acc_train, acc_test))"
   ]
  },
  {
   "cell_type": "code",
   "execution_count": 15,
   "id": "90f9f329-d77d-41ac-a734-f2e235d2b621",
   "metadata": {},
   "outputs": [
    {
     "data": {
      "image/png": "[encoded data removed]",
      "text/plain": [
       "<Figure size 640x480 with 10 Axes>"
      ]
     },
     "metadata": {},
     "output_type": "display_data"
    }
   ],
   "source": [
    "image_syn_vis = copy.deepcopy(image_syn.detach().cpu())\n",
    "for ch in range(channel):\n",
    "    image_syn_vis[:, ch] = image_syn_vis[:, ch]  * std[ch] + mean[ch]\n",
    "image_syn_vis[image_syn_vis<0] = 0.0\n",
    "image_syn_vis[image_syn_vis>1] = 1.0\n",
    "for i in range(10):\n",
    "    plt.subplot(2,5,i+1)\n",
    "    plt.imshow(image_syn_vis[0+i*10][0], cmap=plt.cm.gray)\n",
    "    ax = plt.gca()\n",
    "    ax.get_xaxis().set_visible(False)\n",
    "    ax.get_yaxis().set_visible(False)"
   ]
  },
  {
   "cell_type": "code",
   "execution_count": 16,
   "id": "199d4eb8-1a09-4e93-8a0a-4df6b62cda65",
   "metadata": {},
   "outputs": [
    {
     "name": "stdout",
     "output_type": "stream",
     "text": [
      "Files already downloaded and verified\n",
      "Files already downloaded and verified\n"
     ]
    }
   ],
   "source": [
    "# ------------------------CIFAR initialize with noisy-----------------------------------------\n",
    "channel, im_size, num_classes, class_names, mean, std, dst_train, dst_test, testloader = get_dataset('CIFAR10',mnist_data)\n",
    "images_all = []\n",
    "labels_all = []\n",
    "indices_class = [[] for c in range(num_classes)]\n",
    "\n",
    "images_all = [torch.unsqueeze(dst_train[i][0], dim=0) for i in range(len(dst_train))]\n",
    "labels_all = [dst_train[i][1] for i in range(len(dst_train))]\n",
    "\n",
    "for i, lab in enumerate(labels_all):\n",
    "    indices_class[lab].append(i)\n",
    "images_all = torch.cat(images_all, dim=0).to(device)\n",
    "labels_all = torch.tensor(labels_all, dtype=torch.long, device=device)"
   ]
  },
  {
   "cell_type": "code",
   "execution_count": 17,
   "id": "3f19d4fa-0c18-4129-ade2-928cf0740311",
   "metadata": {},
   "outputs": [
    {
     "name": "stderr",
     "output_type": "stream",
     "text": [
      "C:\\Users\\alanw\\AppData\\Local\\Temp\\ipykernel_10412\\2139612781.py:2: DeprecationWarning: an integer is required (got type numpy.float64).  Implicit conversion to integers using __int__ is deprecated, and may be removed in a future version of Python.\n",
      "  label_syn = torch.tensor([np.ones(ipc)*i for i in range(num_classes)], dtype=torch.long, requires_grad=False, device=device).view(-1) # [0,0,0, 1,1,1, ..., 9,9,9]\n"
     ]
    }
   ],
   "source": [
    "image_syn = torch.randn(size=(num_classes*ipc, channel, im_size[0], im_size[1]), dtype=torch.float, requires_grad=True, device=device)\n",
    "label_syn = torch.tensor([np.ones(ipc)*i for i in range(num_classes)], dtype=torch.long, requires_grad=False, device=device).view(-1) # [0,0,0, 1,1,1, ..., 9,9,9]"
   ]
  },
  {
   "cell_type": "code",
   "execution_count": 18,
   "id": "fa0ae22d-925b-4032-beba-f65fdb8a8a82",
   "metadata": {
    "scrolled": true,
    "tags": []
   },
   "outputs": [
    {
     "name": "stdout",
     "output_type": "stream",
     "text": [
      "Outer Loop 0\n",
      "Outer Loop 1\n",
      "Outer Loop 2\n",
      "Outer Loop 3\n",
      "Outer Loop 4\n",
      "Outer Loop 5\n",
      "Outer Loop 6\n",
      "Outer Loop 7\n",
      "Outer Loop 8\n",
      "Outer Loop 9\n",
      "Outer Loop 10\n",
      "Outer Loop 11\n",
      "Outer Loop 12\n",
      "Outer Loop 13\n",
      "Outer Loop 14\n",
      "Outer Loop 15\n",
      "Outer Loop 16\n",
      "Outer Loop 17\n",
      "Outer Loop 18\n",
      "Outer Loop 19\n",
      "Outer Loop 20\n",
      "Outer Loop 21\n",
      "Outer Loop 22\n",
      "Outer Loop 23\n",
      "Outer Loop 24\n",
      "Outer Loop 25\n",
      "Outer Loop 26\n",
      "Outer Loop 27\n",
      "Outer Loop 28\n",
      "Outer Loop 29\n",
      "Outer Loop 30\n",
      "Outer Loop 31\n",
      "Outer Loop 32\n",
      "Outer Loop 33\n",
      "Outer Loop 34\n",
      "Outer Loop 35\n",
      "Outer Loop 36\n",
      "Outer Loop 37\n",
      "Outer Loop 38\n",
      "Outer Loop 39\n",
      "Outer Loop 40\n",
      "Outer Loop 41\n",
      "Outer Loop 42\n",
      "Outer Loop 43\n",
      "Outer Loop 44\n",
      "Outer Loop 45\n",
      "Outer Loop 46\n",
      "Outer Loop 47\n",
      "Outer Loop 48\n",
      "Outer Loop 49\n",
      "Outer Loop 50\n",
      "Outer Loop 51\n",
      "Outer Loop 52\n",
      "Outer Loop 53\n",
      "Outer Loop 54\n",
      "Outer Loop 55\n",
      "Outer Loop 56\n",
      "Outer Loop 57\n",
      "Outer Loop 58\n",
      "Outer Loop 59\n",
      "Outer Loop 60\n",
      "Outer Loop 61\n",
      "Outer Loop 62\n",
      "Outer Loop 63\n",
      "Outer Loop 64\n",
      "Outer Loop 65\n",
      "Outer Loop 66\n",
      "Outer Loop 67\n",
      "Outer Loop 68\n",
      "Outer Loop 69\n",
      "Outer Loop 70\n",
      "Outer Loop 71\n",
      "Outer Loop 72\n",
      "Outer Loop 73\n",
      "Outer Loop 74\n",
      "Outer Loop 75\n",
      "Outer Loop 76\n",
      "Outer Loop 77\n",
      "Outer Loop 78\n",
      "Outer Loop 79\n",
      "Outer Loop 80\n",
      "Outer Loop 81\n",
      "Outer Loop 82\n",
      "Outer Loop 83\n",
      "Outer Loop 84\n",
      "Outer Loop 85\n",
      "Outer Loop 86\n",
      "Outer Loop 87\n",
      "Outer Loop 88\n",
      "Outer Loop 89\n",
      "Outer Loop 90\n",
      "Outer Loop 91\n",
      "Outer Loop 92\n",
      "Outer Loop 93\n",
      "Outer Loop 94\n",
      "Outer Loop 95\n",
      "Outer Loop 96\n",
      "Outer Loop 97\n",
      "Outer Loop 98\n",
      "Outer Loop 99\n"
     ]
    }
   ],
   "source": [
    "optimizer_img = torch.optim.SGD([image_syn], lr = learningRateCondensedSamples, momentum = 0.5)\n",
    "optimizer_img.zero_grad()\n",
    "criterion = nn.CrossEntropyLoss().to(device)\n",
    "net = get_network('ConvNet',channel,num_classes,im_size).to(device)\n",
    "net.train()\n",
    "net_parameters = list(net.parameters())\n",
    "optimizer_net = torch.optim.SGD(net.parameters(), lr = learningRateModel)\n",
    "optimizer_net.zero_grad()\n",
    "loss_avg = 0\n",
    "\n",
    "parser = argparse.ArgumentParser(description='Parameter Processing')\n",
    "parser.add_argument('--dis_metric', type=str, default='ours', help='distance metric')\n",
    "args, unknown = parser.parse_known_args()\n",
    "args.device = device\n",
    "\n",
    "for ol in range(K):\n",
    "    loss = torch.tensor(0.0).to(device)\n",
    "    print(\"Outer Loop {}\".format(ol))\n",
    "    for c in range(num_classes):\n",
    "        img_real = get_images(c, miniBatchSize)\n",
    "        lab_real = torch.ones((img_real.shape[0],), device=device, dtype=torch.long) * c\n",
    "        img_syn = image_syn[c*ipc:(c+1)*ipc].reshape((ipc, channel, im_size[0], im_size[1]))\n",
    "        lab_syn = torch.ones((ipc,), device=device, dtype=torch.long) * c\n",
    "        \n",
    "        output_real = net(img_real)\n",
    "        loss_real = criterion(output_real, lab_real)\n",
    "        gw_real = torch.autograd.grad(loss_real, net_parameters)\n",
    "        gw_real = list((_.detach().clone() for _ in gw_real))\n",
    "        \n",
    "        output_syn = net(img_syn)\n",
    "        loss_syn = criterion(output_syn, lab_syn)\n",
    "        gw_syn = torch.autograd.grad(loss_syn, net_parameters, create_graph=True)\n",
    "        loss += match_loss(gw_syn, gw_real, args)\n",
    "    optimizer_img.zero_grad()\n",
    "    loss.backward()\n",
    "    optimizer_img.step()\n",
    "    loss_avg += loss.item()\n",
    "    \n",
    "    if ol == K - 1:\n",
    "        break\n",
    "    \n",
    "    ''' update network '''\n",
    "    image_syn_train, label_syn_train = copy.deepcopy(image_syn.detach()), copy.deepcopy(label_syn.detach())\n",
    "    dst_syn_train = TensorDataset(image_syn_train, label_syn_train)\n",
    "    trainloader = torch.utils.data.DataLoader(dst_syn_train, batch_size=miniBatchSize, shuffle=True, num_workers=0)\n",
    "    for il in range(T):\n",
    "        epoch('train', trainloader, net, optimizer_net, criterion, device)\n",
    "\n",
    "loss_avg /= (num_classes*K)"
   ]
  },
  {
   "cell_type": "code",
   "execution_count": 46,
   "id": "91802dd6-d1c7-486d-a524-32cf8f00cf3d",
   "metadata": {},
   "outputs": [
    {
     "name": "stdout",
     "output_type": "stream",
     "text": [
      "loss = 145.3289\n"
     ]
    }
   ],
   "source": [
    "print('loss = %.4f' % loss_avg)"
   ]
  },
  {
   "cell_type": "code",
   "execution_count": 47,
   "id": "c971a96c-4d7a-42f1-943e-73969b5175d4",
   "metadata": {},
   "outputs": [
    {
     "name": "stdout",
     "output_type": "stream",
     "text": [
      "loss train: 2.3202176094055176, acc_train: 0.13\n",
      "loss train: 2.233461380004883, acc_train: 0.23\n",
      "loss train: 2.101426601409912, acc_train: 0.49\n",
      "loss train: 1.9425573348999023, acc_train: 0.67\n",
      "loss train: 1.7598282098770142, acc_train: 0.81\n",
      "loss train: 1.5652049779891968, acc_train: 0.93\n",
      "loss train: 1.380793571472168, acc_train: 0.98\n",
      "loss train: 1.217920184135437, acc_train: 0.96\n",
      "loss train: 1.0710244178771973, acc_train: 0.97\n",
      "loss train: 0.9346667528152466, acc_train: 0.97\n",
      "loss train: 0.8133222460746765, acc_train: 0.99\n",
      "loss train: 0.7100290060043335, acc_train: 0.99\n",
      "loss train: 0.6215379238128662, acc_train: 1.0\n",
      "loss train: 0.5434257388114929, acc_train: 1.0\n",
      "loss train: 0.47414809465408325, acc_train: 1.0\n",
      "loss train: 0.41412457823753357, acc_train: 1.0\n",
      "loss train: 0.3631823658943176, acc_train: 1.0\n",
      "loss train: 0.31983134150505066, acc_train: 1.0\n",
      "loss train: 0.28235071897506714, acc_train: 1.0\n",
      "loss train: 0.2496950775384903, acc_train: 1.0\n",
      "Acc train 1.0, Acc test 0.2677\n"
     ]
    }
   ],
   "source": [
    "ConvNet = get_network('ConvNet',channel,num_classes,im_size).to(device)\n",
    "\n",
    "#----------------------------------------CIFAR result --------------------------------------------------------------------\n",
    "cifar_images_sync_noisy, cifar_labels_sync_noisy = copy.deepcopy(image_syn.detach()), copy.deepcopy(label_syn.detach())\n",
    "#----------------------------------------------------------------------------------------------------------------------------\n",
    "\n",
    "acc_train,acc_test = train_with_dataset(ConvNet,cifar_images_sync_noisy, cifar_labels_sync_noisy, testloader, device)\n",
    "print(\"Acc train {}, Acc test {}\".format(acc_train, acc_test))"
   ]
  },
  {
   "cell_type": "code",
   "execution_count": 19,
   "id": "2f6173c0-fb8e-496a-be63-1d4a073fb3f8",
   "metadata": {},
   "outputs": [
    {
     "data": {
      "image/png": "[encoded data removed]",
      "text/plain": [
       "<Figure size 640x480 with 10 Axes>"
      ]
     },
     "metadata": {},
     "output_type": "display_data"
    }
   ],
   "source": [
    "image_syn_vis = copy.deepcopy(image_syn.detach().cpu())\n",
    "for ch in range(channel):\n",
    "    image_syn_vis[:, ch] = image_syn_vis[:, ch]  * std[ch] + mean[ch]\n",
    "image_syn_vis[image_syn_vis<0] = 0.0\n",
    "image_syn_vis[image_syn_vis>1] = 1.0\n",
    "for i in range(10):\n",
    "    plt.subplot(2,5,i+1)\n",
    "    plt.imshow(image_syn_vis[0+i*10][0], cmap=plt.cm.gray)\n",
    "    ax = plt.gca()\n",
    "    ax.get_xaxis().set_visible(False)\n",
    "    ax.get_yaxis().set_visible(False)"
   ]
  },
  {
   "cell_type": "markdown",
   "id": "c9d1fd8e-56ae-4dc3-9f98-0c880ce4adc3",
   "metadata": {},
   "source": [
    "# 2 e"
   ]
  },
  {
   "cell_type": "code",
   "execution_count": 48,
   "id": "218eb3f0-8cc2-404b-ae25-6584ac9ad415",
   "metadata": {},
   "outputs": [
    {
     "name": "stdout",
     "output_type": "stream",
     "text": [
      "loss train: 2.3363795280456543, acc_train: 0.07\n",
      "loss train: 2.2268223762512207, acc_train: 0.26\n",
      "loss train: 2.081747055053711, acc_train: 0.39\n",
      "loss train: 1.9178106784820557, acc_train: 0.5\n",
      "loss train: 1.7470426559448242, acc_train: 0.84\n",
      "loss train: 1.5921438932418823, acc_train: 0.86\n",
      "loss train: 1.4433599710464478, acc_train: 0.86\n",
      "loss train: 1.2935413122177124, acc_train: 0.88\n",
      "loss train: 1.152909278869629, acc_train: 0.93\n",
      "loss train: 1.0273029804229736, acc_train: 0.94\n",
      "loss train: 0.9121400713920593, acc_train: 0.94\n",
      "loss train: 0.8059871196746826, acc_train: 0.95\n",
      "loss train: 0.7129393219947815, acc_train: 0.95\n",
      "loss train: 0.631771981716156, acc_train: 0.95\n",
      "loss train: 0.559114396572113, acc_train: 0.95\n",
      "loss train: 0.4947793483734131, acc_train: 0.98\n",
      "loss train: 0.4396360516548157, acc_train: 0.98\n",
      "loss train: 0.3921763598918915, acc_train: 0.99\n",
      "loss train: 0.351004958152771, acc_train: 0.99\n",
      "loss train: 0.3150831162929535, acc_train: 1.0\n",
      "Acc train 1.0, Acc test 0.8841\n"
     ]
    }
   ],
   "source": [
    "# ------------------------MNIST------------------------------------\n",
    "channel, im_size, num_classes, class_names, mean, std, dst_train, dst_test, testloader = get_dataset('MNIST',mnist_data)\n",
    "\n",
    "ConvNet = get_network('ConvNet',channel,num_classes,im_size).to(device)\n",
    "\n",
    "acc_train,acc_test = train_with_dataset(ConvNet,mnist_images_sync, mnist_labels_sync, testloader, device)\n",
    "print(\"Acc train {}, Acc test {}\".format(acc_train, acc_test))"
   ]
  },
  {
   "cell_type": "code",
   "execution_count": 49,
   "id": "fc10c319-53a2-470e-8241-08e606b082e9",
   "metadata": {},
   "outputs": [
    {
     "name": "stdout",
     "output_type": "stream",
     "text": [
      "Files already downloaded and verified\n",
      "Files already downloaded and verified\n",
      "loss train: 2.3329641819000244, acc_train: 0.13\n",
      "loss train: 2.2237932682037354, acc_train: 0.17\n",
      "loss train: 2.0720787048339844, acc_train: 0.34\n",
      "loss train: 1.9291452169418335, acc_train: 0.42\n",
      "loss train: 1.7976535558700562, acc_train: 0.49\n",
      "loss train: 1.661523461341858, acc_train: 0.63\n",
      "loss train: 1.5262269973754883, acc_train: 0.67\n",
      "loss train: 1.403337836265564, acc_train: 0.72\n",
      "loss train: 1.2926316261291504, acc_train: 0.76\n",
      "loss train: 1.1867481470108032, acc_train: 0.81\n",
      "loss train: 1.0842550992965698, acc_train: 0.84\n",
      "loss train: 0.9878842234611511, acc_train: 0.87\n",
      "loss train: 0.8992829322814941, acc_train: 0.91\n",
      "loss train: 0.8193562030792236, acc_train: 0.93\n",
      "loss train: 0.7462556958198547, acc_train: 0.94\n",
      "loss train: 0.6776326894760132, acc_train: 0.95\n",
      "loss train: 0.613244891166687, acc_train: 0.95\n",
      "loss train: 0.5547217726707458, acc_train: 0.98\n",
      "loss train: 0.5026925802230835, acc_train: 0.98\n",
      "loss train: 0.4560603201389313, acc_train: 0.99\n",
      "Acc train 0.99, Acc test 0.3351\n"
     ]
    }
   ],
   "source": [
    "#-----------------------CIFAR Result------------------------------------\n",
    "channel, im_size, num_classes, class_names, mean, std, dst_train, dst_test, testloader = get_dataset('CIFAR10',mnist_data)\n",
    "\n",
    "ConvNet = get_network('ConvNet',channel,num_classes,im_size).to(device)\n",
    "\n",
    "acc_train,acc_test = train_with_dataset(ConvNet,cifar_images_sync, cifar_labels_sync, testloader, device)\n",
    "\n",
    "print(\"Acc train {}, Acc test {}\".format(acc_train, acc_test))"
   ]
  },
  {
   "cell_type": "markdown",
   "id": "55b74abe-fa46-4668-aadc-8de12b835307",
   "metadata": {},
   "source": [
    "# 3"
   ]
  },
  {
   "cell_type": "markdown",
   "id": "7f36e7f4-6e41-4c37-8ce9-cfec6529dc6a",
   "metadata": {},
   "source": [
    "### Use ResNet-18 to evaluate the cross-architecture performace"
   ]
  },
  {
   "cell_type": "markdown",
   "id": "61c84e5d-0cd3-46d7-ba66-ad284af15618",
   "metadata": {},
   "source": [
    "## MNIST Dataset"
   ]
  },
  {
   "cell_type": "code",
   "execution_count": 52,
   "id": "c5bdac3f-ef2a-4fc9-b29a-788dabe16fc2",
   "metadata": {},
   "outputs": [],
   "source": [
    "# Base Line of ResNet 18\n",
    "channel, im_size, num_classes, class_names, mean, std, dst_train, dst_test, testloader = get_dataset('MNIST',mnist_data)\n",
    "images_all = []\n",
    "labels_all = []\n",
    "indices_class = [[] for c in range(num_classes)]\n",
    "\n",
    "images_all = [torch.unsqueeze(dst_train[i][0], dim=0) for i in range(len(dst_train))]\n",
    "labels_all = [dst_train[i][1] for i in range(len(dst_train))]\n",
    "\n",
    "for i, lab in enumerate(labels_all):\n",
    "    indices_class[lab].append(i)\n",
    "images_all = torch.cat(images_all, dim=0).to(device)\n",
    "labels_all = torch.tensor(labels_all, dtype=torch.long, device=device)"
   ]
  },
  {
   "cell_type": "code",
   "execution_count": 53,
   "id": "a5cefc15-dc81-4862-af69-7b5aff766146",
   "metadata": {},
   "outputs": [],
   "source": [
    "ResNet = get_network('ResNet18',channel,num_classes,im_size).to(device)\n",
    "images, labels = copy.deepcopy(images_all.detach()), copy.deepcopy(labels_all.detach())"
   ]
  },
  {
   "cell_type": "code",
   "execution_count": 54,
   "id": "307af296-d883-4b95-87df-183d69cfdf14",
   "metadata": {},
   "outputs": [
    {
     "name": "stdout",
     "output_type": "stream",
     "text": [
      "loss train: 0.6522180804948012, acc_train: 0.8387666666666667\n",
      "loss train: 0.07006093458930651, acc_train: 0.9839166666666667\n",
      "loss train: 0.04252583730618159, acc_train: 0.9894166666666667\n",
      "loss train: 0.029201106856266656, acc_train: 0.9929166666666667\n",
      "loss train: 0.02296888309121132, acc_train: 0.9947166666666667\n",
      "loss train: 0.016170782225330672, acc_train: 0.9965666666666667\n",
      "loss train: 0.014044868513320883, acc_train: 0.9967833333333334\n",
      "loss train: 0.00878705214522779, acc_train: 0.99855\n",
      "loss train: 0.005860365565617879, acc_train: 0.9992666666666666\n",
      "loss train: 0.004034458539510766, acc_train: 0.9997333333333334\n",
      "loss train: 0.003385091878908376, acc_train: 0.9998166666666667\n",
      "loss train: 0.0027067377265542745, acc_train: 0.9999\n",
      "loss train: 0.002452658096452554, acc_train: 0.9999\n",
      "loss train: 0.0018649009206021824, acc_train: 0.9999666666666667\n",
      "loss train: 0.001587719494352738, acc_train: 0.9999833333333333\n",
      "loss train: 0.0014551771203676859, acc_train: 0.9999833333333333\n",
      "loss train: 0.0013902695917213956, acc_train: 0.9999833333333333\n",
      "loss train: 0.0013211518821306526, acc_train: 0.9999833333333333\n",
      "loss train: 0.0012565487146998446, acc_train: 0.9999833333333333\n",
      "loss train: 0.0012161292330672344, acc_train: 0.9999833333333333\n",
      "Acc train 0.9999833333333333, Acc test 0.9947\n"
     ]
    }
   ],
   "source": [
    "acc_train,acc_test = train_with_dataset(ResNet,images, labels, testloader, device)\n",
    "print(\"Acc train {}, Acc test {}\".format(acc_train, acc_test))"
   ]
  },
  {
   "cell_type": "code",
   "execution_count": 56,
   "id": "0b6aa2ef-39d7-4725-bdfe-b5aecc396a5e",
   "metadata": {},
   "outputs": [
    {
     "name": "stdout",
     "output_type": "stream",
     "text": [
      "loss train: 2.3405396938323975, acc_train: 0.1\n",
      "loss train: 2.229656934738159, acc_train: 0.26\n",
      "loss train: 2.1502790451049805, acc_train: 0.86\n",
      "loss train: 2.105726718902588, acc_train: 0.73\n",
      "loss train: 2.0491209030151367, acc_train: 0.55\n",
      "loss train: 1.9862556457519531, acc_train: 0.63\n",
      "loss train: 1.9146201610565186, acc_train: 0.91\n",
      "loss train: 1.8686784505844116, acc_train: 1.0\n",
      "loss train: 1.756156325340271, acc_train: 1.0\n",
      "loss train: 1.6904873847961426, acc_train: 1.0\n",
      "loss train: 1.6063123941421509, acc_train: 1.0\n",
      "loss train: 1.5292582511901855, acc_train: 1.0\n",
      "loss train: 1.4484022855758667, acc_train: 1.0\n",
      "loss train: 1.353452444076538, acc_train: 1.0\n",
      "loss train: 1.2954258918762207, acc_train: 1.0\n",
      "loss train: 1.2131520509719849, acc_train: 1.0\n",
      "loss train: 1.1311182975769043, acc_train: 1.0\n",
      "loss train: 1.0523457527160645, acc_train: 1.0\n",
      "loss train: 0.9837799072265625, acc_train: 1.0\n",
      "loss train: 0.9231588840484619, acc_train: 1.0\n",
      "Acc train 1.0, Acc test 0.6295\n"
     ]
    }
   ],
   "source": [
    "# MNIST Sync Data set\n",
    "ResNet = get_network('ResNet18',channel,num_classes,im_size).to(device)\n",
    "\n",
    "acc_train,acc_test = train_with_dataset(ResNet,mnist_images_sync, mnist_labels_sync, testloader, device)\n",
    "print(\"Acc train {}, Acc test {}\".format(acc_train, acc_test))"
   ]
  },
  {
   "cell_type": "code",
   "execution_count": 65,
   "id": "bcc83b64-40b4-4b2c-8165-d5454d242943",
   "metadata": {},
   "outputs": [
    {
     "name": "stdout",
     "output_type": "stream",
     "text": [
      "Files already downloaded and verified\n",
      "Files already downloaded and verified\n"
     ]
    }
   ],
   "source": [
    "#CIFAR10 Base Line\n",
    "channel, im_size, num_classes, class_names, mean, std, dst_train, dst_test, testloader = get_dataset('CIFAR10',mnist_data)"
   ]
  },
  {
   "cell_type": "code",
   "execution_count": 66,
   "id": "298c4d78-d926-4513-96e9-35a8560005a5",
   "metadata": {},
   "outputs": [],
   "source": [
    "images_all = []\n",
    "labels_all = []\n",
    "indices_class = [[] for c in range(num_classes)]"
   ]
  },
  {
   "cell_type": "code",
   "execution_count": 67,
   "id": "dc5895e9-0354-493f-94f6-9dad7a23e79e",
   "metadata": {},
   "outputs": [],
   "source": [
    "images_all = [torch.unsqueeze(dst_train[i][0], dim=0) for i in range(len(dst_train))]\n",
    "labels_all = [dst_train[i][1] for i in range(len(dst_train))]"
   ]
  },
  {
   "cell_type": "code",
   "execution_count": 68,
   "id": "269246d0-3a78-41ad-bb84-0c3011dffe5c",
   "metadata": {},
   "outputs": [],
   "source": [
    "for i, lab in enumerate(labels_all):\n",
    "    indices_class[lab].append(i)\n",
    "images_all = torch.cat(images_all, dim=0).to(device)\n",
    "labels_all = torch.tensor(labels_all, dtype=torch.long, device=device)"
   ]
  },
  {
   "cell_type": "code",
   "execution_count": 69,
   "id": "f4313340-e238-47e7-a581-a1dcd9908e26",
   "metadata": {},
   "outputs": [],
   "source": [
    "ResNet = get_network('ResNet18',channel,num_classes,im_size).to(device)\n",
    "images, labels = copy.deepcopy(images_all.detach()), copy.deepcopy(labels_all.detach())"
   ]
  },
  {
   "cell_type": "code",
   "execution_count": 70,
   "id": "d74d9871-40b4-4294-925f-34ebb18b4dd8",
   "metadata": {},
   "outputs": [
    {
     "name": "stdout",
     "output_type": "stream",
     "text": [
      "loss train: 2.036607031478882, acc_train: 0.26326\n",
      "loss train: 1.5018463986968995, acc_train: 0.4605\n",
      "loss train: 1.215119382095337, acc_train: 0.56598\n",
      "loss train: 1.0122235955619812, acc_train: 0.64308\n",
      "loss train: 0.8637059362983703, acc_train: 0.69884\n",
      "loss train: 0.7221135065078735, acc_train: 0.75034\n",
      "loss train: 0.6189231509017944, acc_train: 0.78894\n",
      "loss train: 0.502977168006897, acc_train: 0.83086\n",
      "loss train: 0.4397917521381378, acc_train: 0.85248\n",
      "loss train: 0.31992912160873416, acc_train: 0.89612\n",
      "loss train: 0.23575835165977477, acc_train: 0.92734\n",
      "loss train: 0.19226633197784423, acc_train: 0.94108\n",
      "loss train: 0.12698204562187196, acc_train: 0.96372\n",
      "loss train: 0.11050963909626008, acc_train: 0.96906\n",
      "loss train: 0.04161904918193817, acc_train: 0.9917\n",
      "loss train: 0.023255673828721048, acc_train: 0.99628\n",
      "loss train: 0.0080251327586174, acc_train: 0.99954\n",
      "loss train: 0.0032655021856725216, acc_train: 0.99992\n",
      "loss train: 0.0024474854984879494, acc_train: 0.99996\n",
      "loss train: 0.002069658165127039, acc_train: 0.99998\n",
      "Acc train 0.99998, Acc test 0.8021\n"
     ]
    }
   ],
   "source": [
    "acc_train,acc_test = train_with_dataset(ResNet,images, labels, testloader, device)\n",
    "print(\"Acc train {}, Acc test {}\".format(acc_train, acc_test))"
   ]
  },
  {
   "cell_type": "code",
   "execution_count": 73,
   "id": "1743757d-8a98-45ac-a347-e4fba7933e19",
   "metadata": {},
   "outputs": [
    {
     "name": "stdout",
     "output_type": "stream",
     "text": [
      "loss train: 2.350419044494629, acc_train: 0.1\n",
      "loss train: 2.2174603939056396, acc_train: 0.21\n",
      "loss train: 2.1183176040649414, acc_train: 0.92\n",
      "loss train: 2.1150474548339844, acc_train: 0.69\n",
      "loss train: 2.0140609741210938, acc_train: 0.71\n",
      "loss train: 1.9636225700378418, acc_train: 0.78\n",
      "loss train: 1.865300178527832, acc_train: 0.87\n",
      "loss train: 1.7489840984344482, acc_train: 1.0\n",
      "loss train: 1.6692309379577637, acc_train: 1.0\n",
      "loss train: 1.6515741348266602, acc_train: 1.0\n",
      "loss train: 1.6731828451156616, acc_train: 0.99\n",
      "loss train: 1.4895453453063965, acc_train: 1.0\n",
      "loss train: 1.4077165126800537, acc_train: 1.0\n",
      "loss train: 1.3147785663604736, acc_train: 1.0\n",
      "loss train: 1.2647818326950073, acc_train: 1.0\n",
      "loss train: 1.1701388359069824, acc_train: 1.0\n",
      "loss train: 1.0870307683944702, acc_train: 1.0\n",
      "loss train: 1.0515820980072021, acc_train: 1.0\n",
      "loss train: 0.9821707010269165, acc_train: 1.0\n",
      "loss train: 0.9116523265838623, acc_train: 1.0\n",
      "Acc train 1.0, Acc test 0.1827\n"
     ]
    }
   ],
   "source": [
    "# CIFAR Sync Data set\n",
    "ResNet = get_network('ResNet18',channel,num_classes,im_size).to(device)\n",
    "acc_train,acc_test = train_with_dataset(ResNet, cifar_images_sync, cifar_labels_sync, testloader, device)\n",
    "print(\"Acc train {}, Acc test {}\".format(acc_train, acc_test))"
   ]
  },
  {
   "cell_type": "markdown",
   "id": "1daf2562-e56f-441f-a928-009425d8016d",
   "metadata": {},
   "source": [
    "# 4"
   ]
  },
  {
   "cell_type": "markdown",
   "id": "7777eba1-7157-454e-992c-0c06fdf422be",
   "metadata": {},
   "source": [
    "## Architecture Search"
   ]
  },
  {
   "cell_type": "code",
   "execution_count": null,
   "id": "9b720bd5-f716-4267-b218-1d20e2b724c5",
   "metadata": {},
   "outputs": [],
   "source": [
    "# Use ConvNet， ResNet18, AlexNet, and LeNet"
   ]
  },
  {
   "cell_type": "code",
   "execution_count": 57,
   "id": "74ed40d8-ad7e-4195-bbcc-84a437716d8a",
   "metadata": {},
   "outputs": [],
   "source": [
    "#Base Cafir Network\n",
    "channel, im_size, num_classes, class_names, mean, std, dst_train, dst_test, testloader = get_dataset('MNIST',mnist_data)\n",
    "\n",
    "images_all = []\n",
    "labels_all = []\n",
    "indices_class = [[] for c in range(num_classes)]\n",
    "\n",
    "images_all = [torch.unsqueeze(dst_train[i][0], dim=0) for i in range(len(dst_train))]\n",
    "labels_all = [dst_train[i][1] for i in range(len(dst_train))]\n",
    "\n",
    "for i, lab in enumerate(labels_all):\n",
    "    indices_class[lab].append(i)\n",
    "images_all = torch.cat(images_all, dim=0).to(device)\n",
    "labels_all = torch.tensor(labels_all, dtype=torch.long, device=device)\n",
    "\n",
    "images, labels = copy.deepcopy(images_all.detach()), copy.deepcopy(labels_all.detach())\n",
    "\n"
   ]
  },
  {
   "cell_type": "code",
   "execution_count": 96,
   "id": "9c3842e7-3edd-4699-8568-50d9f78cfb67",
   "metadata": {},
   "outputs": [
    {
     "name": "stdout",
     "output_type": "stream",
     "text": [
      "loss train: 0.013172880605856578, acc_train: 0.9969\n",
      "loss train: 0.012732350810368855, acc_train: 0.9970666666666667\n",
      "loss train: 0.011362933179736138, acc_train: 0.99755\n",
      "loss train: 0.011079451481501261, acc_train: 0.9975166666666667\n",
      "loss train: 0.011241010404626528, acc_train: 0.9975166666666667\n",
      "loss train: 0.011053381689389546, acc_train: 0.9977833333333334\n",
      "loss train: 0.01054970047523578, acc_train: 0.9975833333333334\n",
      "loss train: 0.011309878221650919, acc_train: 0.99745\n",
      "loss train: 0.009003142658496896, acc_train: 0.99855\n",
      "loss train: 0.008540530082583427, acc_train: 0.9984833333333333\n",
      "loss train: 0.00893342197885116, acc_train: 0.9982\n",
      "loss train: 0.00909693541576465, acc_train: 0.9980833333333333\n",
      "loss train: 0.008257436113494138, acc_train: 0.99865\n",
      "loss train: 0.007916962496439616, acc_train: 0.9987333333333334\n",
      "loss train: 0.00679653005177776, acc_train: 0.99905\n",
      "loss train: 0.006965915909782052, acc_train: 0.9989\n",
      "loss train: 0.006765974517787496, acc_train: 0.9991833333333333\n",
      "loss train: 0.006648655590415001, acc_train: 0.9989666666666667\n",
      "loss train: 0.007399204958726963, acc_train: 0.9988666666666667\n",
      "loss train: 0.006616915178050598, acc_train: 0.99905\n"
     ]
    }
   ],
   "source": [
    "#ConvNet = get_network('ConvNet',channel,num_classes,im_size).to(device)\n",
    "start = time.time()\n",
    "acc_train,acc_test = train_with_dataset(ConvNet,images, labels, testloader, device)\n",
    "end = time.time()"
   ]
  },
  {
   "cell_type": "code",
   "execution_count": 97,
   "id": "6d8127bb-2b73-43af-921d-a999ec34b8e4",
   "metadata": {},
   "outputs": [
    {
     "name": "stdout",
     "output_type": "stream",
     "text": [
      "Acc train 0.99905, Acc test 0.9945\n",
      "ConvNet Time Used: 103.12141418457031\n"
     ]
    }
   ],
   "source": [
    "print(\"Acc train {}, Acc test {}\".format(acc_train, acc_test))\n",
    "print(\"ConvNet Time Used: {}\".format(end - start))"
   ]
  },
  {
   "cell_type": "code",
   "execution_count": 98,
   "id": "d41f1d2d-283b-487c-b12a-6290c36d23a4",
   "metadata": {},
   "outputs": [
    {
     "name": "stdout",
     "output_type": "stream",
     "text": [
      "loss train: 0.6897352192044258, acc_train: 0.8310166666666666\n",
      "loss train: 0.0696041516005993, acc_train: 0.9838333333333333\n",
      "loss train: 0.04026936332086722, acc_train: 0.9903166666666666\n",
      "loss train: 0.0290615335692962, acc_train: 0.9933166666666666\n",
      "loss train: 0.020843275893479587, acc_train: 0.9954166666666666\n",
      "loss train: 0.015792690772314866, acc_train: 0.9965666666666667\n",
      "loss train: 0.011810372454921404, acc_train: 0.9977166666666667\n",
      "loss train: 0.008947651223962506, acc_train: 0.9985166666666667\n",
      "loss train: 0.006251044706255197, acc_train: 0.9991833333333333\n",
      "loss train: 0.004842464879651865, acc_train: 0.99955\n",
      "loss train: 0.0033946075350046157, acc_train: 0.9997\n",
      "loss train: 0.009081407902762293, acc_train: 0.99795\n",
      "loss train: 0.002626692932595809, acc_train: 0.9998833333333333\n",
      "loss train: 0.00191760505742083, acc_train: 0.9999333333333333\n",
      "loss train: 0.0016113408635680874, acc_train: 0.9999666666666667\n",
      "loss train: 0.0014607266184563437, acc_train: 0.9999833333333333\n",
      "loss train: 0.0013638891177251936, acc_train: 0.9999833333333333\n",
      "loss train: 0.0012959806674470505, acc_train: 0.9999833333333333\n",
      "loss train: 0.0012505884304332237, acc_train: 0.9999833333333333\n",
      "loss train: 0.0012133374368151028, acc_train: 0.9999833333333333\n"
     ]
    }
   ],
   "source": [
    "ResNet = get_network('ResNet18',channel,num_classes,im_size).to(device)\n",
    "start = time.time()\n",
    "acc_train,acc_test = train_with_dataset(ResNet,images, labels, testloader, device)\n",
    "end = time.time()"
   ]
  },
  {
   "cell_type": "code",
   "execution_count": 99,
   "id": "76895695-ec6a-49c4-852f-488f377fa7e0",
   "metadata": {},
   "outputs": [
    {
     "name": "stdout",
     "output_type": "stream",
     "text": [
      "Acc train 0.9999833333333333, Acc test 0.995\n",
      "ResNet Time Used: 514.3157148361206\n"
     ]
    }
   ],
   "source": [
    "print(\"Acc train {}, Acc test {}\".format(acc_train, acc_test))\n",
    "print(\"ResNet Time Used: {}\".format(end - start))"
   ]
  },
  {
   "cell_type": "code",
   "execution_count": 62,
   "id": "3269c722-3bf8-48ff-a4e6-7e96ef6e91bb",
   "metadata": {},
   "outputs": [
    {
     "name": "stdout",
     "output_type": "stream",
     "text": [
      "loss train: 1.0086699495792388, acc_train: 0.6735833333333333\n",
      "loss train: 0.12570953842798868, acc_train: 0.96165\n",
      "loss train: 0.0816541710893313, acc_train: 0.9744833333333334\n",
      "loss train: 0.06290385072628657, acc_train: 0.98065\n",
      "loss train: 0.05760023966729641, acc_train: 0.9815833333333334\n",
      "loss train: 0.04942316608950496, acc_train: 0.9843333333333333\n",
      "loss train: 0.040369667448600134, acc_train: 0.9879\n",
      "loss train: 0.035601308272282285, acc_train: 0.9888833333333333\n",
      "loss train: 0.03306259376804034, acc_train: 0.9897833333333333\n",
      "loss train: 0.02660831254993876, acc_train: 0.9920333333333333\n",
      "loss train: 0.02443859233458837, acc_train: 0.9927333333333334\n",
      "loss train: 0.023211581565688054, acc_train: 0.9928\n",
      "loss train: 0.021232871599992115, acc_train: 0.9936166666666667\n",
      "loss train: 0.01902405854475995, acc_train: 0.9940333333333333\n",
      "loss train: 0.01878703135686616, acc_train: 0.9943\n",
      "loss train: 0.01658000594327847, acc_train: 0.9949333333333333\n",
      "loss train: 0.015344592439134915, acc_train: 0.9952666666666666\n",
      "loss train: 0.01458157769702375, acc_train: 0.9955833333333334\n",
      "loss train: 0.01415609982609749, acc_train: 0.9955\n",
      "loss train: 0.01510649537841479, acc_train: 0.9953166666666666\n"
     ]
    }
   ],
   "source": [
    "AlexNet = get_network('AlexNet',channel,num_classes,im_size).to(device)\n",
    "start = time.time()\n",
    "acc_train,acc_test = train_with_dataset(AlexNet,images, labels, testloader, device)\n",
    "end = time.time()"
   ]
  },
  {
   "cell_type": "code",
   "execution_count": 63,
   "id": "8af2d795-0f1d-419b-9ce4-91428e6018a9",
   "metadata": {},
   "outputs": [
    {
     "name": "stdout",
     "output_type": "stream",
     "text": [
      "Acc train 0.9953166666666666, Acc test 0.9917\n",
      "AlexNet Time Used: 149.43004870414734\n"
     ]
    }
   ],
   "source": [
    "print(\"Acc train {}, Acc test {}\".format(acc_train, acc_test))\n",
    "print(\"AlexNet Time Used: {}\".format(end - start))"
   ]
  },
  {
   "cell_type": "code",
   "execution_count": 64,
   "id": "b8d6492f-ea11-4eff-8a9d-f9b12683cef7",
   "metadata": {},
   "outputs": [
    {
     "name": "stdout",
     "output_type": "stream",
     "text": [
      "loss train: 1.2478897900104522, acc_train: 0.5904166666666667\n",
      "loss train: 0.24036336838404337, acc_train: 0.9264833333333333\n",
      "loss train: 0.13526274408102035, acc_train: 0.95845\n",
      "loss train: 0.10198278115193049, acc_train: 0.9685833333333334\n",
      "loss train: 0.08267203628023466, acc_train: 0.9745\n",
      "loss train: 0.07320638678173225, acc_train: 0.97735\n",
      "loss train: 0.0651488001704216, acc_train: 0.9793333333333333\n",
      "loss train: 0.06494840080340704, acc_train: 0.97995\n",
      "loss train: 0.049183271557092664, acc_train: 0.9848166666666667\n",
      "loss train: 0.05144041535059611, acc_train: 0.9840833333333333\n",
      "loss train: 0.04566354161103566, acc_train: 0.986\n",
      "loss train: 0.037738795926173525, acc_train: 0.9887166666666667\n",
      "loss train: 0.03595988673220078, acc_train: 0.9886333333333334\n",
      "loss train: 0.03234779154558976, acc_train: 0.9899666666666667\n",
      "loss train: 0.030302872569362323, acc_train: 0.9906833333333334\n",
      "loss train: 0.03320643168538809, acc_train: 0.9895166666666667\n",
      "loss train: 0.026734803546778856, acc_train: 0.9922833333333333\n",
      "loss train: 0.026151664666334788, acc_train: 0.9920833333333333\n",
      "loss train: 0.025596254352728526, acc_train: 0.9922833333333333\n",
      "loss train: 0.02344928588892023, acc_train: 0.9931666666666666\n"
     ]
    }
   ],
   "source": [
    "LeNet = get_network('LeNet',channel,num_classes,im_size).to(device)\n",
    "start = time.time()\n",
    "acc_train,acc_test = train_with_dataset(LeNet,images, labels, testloader, device)\n",
    "end = time.time()"
   ]
  },
  {
   "cell_type": "code",
   "execution_count": 65,
   "id": "ed1a058a-a263-4947-bbae-46b7a118be99",
   "metadata": {},
   "outputs": [
    {
     "name": "stdout",
     "output_type": "stream",
     "text": [
      "Acc train 0.9931666666666666, Acc test 0.9893\n",
      "LeNet Time Used: 20.04600191116333\n"
     ]
    }
   ],
   "source": [
    "print(\"Acc train {}, Acc test {}\".format(acc_train, acc_test))\n",
    "print(\"LeNet Time Used: {}\".format(end - start))"
   ]
  },
  {
   "cell_type": "raw",
   "id": "d0bc8e03-dd03-41c7-8fcb-0d01532a8a3b",
   "metadata": {},
   "source": [
    "#Rank\n",
    "\n",
    "1.ResNet : 99.50%\n",
    "2.ConvNet: 99.45%\n",
    "3.AlexNet: 99.17%\n",
    "4.LeNet: 98.93%"
   ]
  },
  {
   "cell_type": "code",
   "execution_count": null,
   "id": "ef3d4f0e-5f18-4685-bc59-de803013aa0b",
   "metadata": {},
   "outputs": [],
   "source": [
    "#Use Sync Dataset To do the model search"
   ]
  },
  {
   "cell_type": "code",
   "execution_count": 100,
   "id": "6416fcc0-8378-47f7-bded-9ed999972c6b",
   "metadata": {},
   "outputs": [
    {
     "name": "stdout",
     "output_type": "stream",
     "text": [
      "loss train: 2.3101630210876465, acc_train: 0.14\n",
      "loss train: 2.193617343902588, acc_train: 0.35\n",
      "loss train: 2.034512758255005, acc_train: 0.55\n",
      "loss train: 1.862899661064148, acc_train: 0.66\n",
      "loss train: 1.689446210861206, acc_train: 0.84\n",
      "loss train: 1.5315736532211304, acc_train: 0.89\n",
      "loss train: 1.3896780014038086, acc_train: 0.91\n",
      "loss train: 1.2524690628051758, acc_train: 0.9\n",
      "loss train: 1.1211695671081543, acc_train: 0.91\n",
      "loss train: 1.002638339996338, acc_train: 0.91\n",
      "loss train: 0.8956600427627563, acc_train: 0.91\n",
      "loss train: 0.7955242991447449, acc_train: 0.92\n",
      "loss train: 0.7050366401672363, acc_train: 0.95\n",
      "loss train: 0.6268891096115112, acc_train: 0.96\n",
      "loss train: 0.5579254031181335, acc_train: 0.98\n",
      "loss train: 0.4966243505477905, acc_train: 0.99\n",
      "loss train: 0.44328078627586365, acc_train: 0.99\n",
      "loss train: 0.39786988496780396, acc_train: 0.99\n",
      "loss train: 0.3587322235107422, acc_train: 0.99\n",
      "loss train: 0.32381942868232727, acc_train: 0.99\n"
     ]
    }
   ],
   "source": [
    "ConvNet = get_network('ConvNet',channel,num_classes,im_size).to(device)\n",
    "start = time.time()\n",
    "acc_train,acc_test = train_with_dataset(ConvNet, mnist_images_sync, mnist_labels_sync, testloader, device)\n",
    "end = time.time()"
   ]
  },
  {
   "cell_type": "code",
   "execution_count": 101,
   "id": "133a3449-7626-48ce-9ec5-a30fb26b196b",
   "metadata": {},
   "outputs": [
    {
     "name": "stdout",
     "output_type": "stream",
     "text": [
      "Acc train 0.99, Acc test 0.8876\n",
      "ConvNet Time Used: 2.2722976207733154\n"
     ]
    }
   ],
   "source": [
    "print(\"Acc train {}, Acc test {}\".format(acc_train, acc_test))\n",
    "print(\"ConvNet Time Used: {}\".format(end - start))"
   ]
  },
  {
   "cell_type": "code",
   "execution_count": 102,
   "id": "c84671b4-df28-4c3a-bfc4-b5db6a8a1d15",
   "metadata": {
    "tags": []
   },
   "outputs": [
    {
     "name": "stdout",
     "output_type": "stream",
     "text": [
      "loss train: 2.383949041366577, acc_train: 0.15\n",
      "loss train: 2.2431998252868652, acc_train: 0.2\n",
      "loss train: 2.1624364852905273, acc_train: 0.69\n",
      "loss train: 2.090658664703369, acc_train: 0.71\n",
      "loss train: 2.01332950592041, acc_train: 0.56\n",
      "loss train: 1.9615776538848877, acc_train: 0.59\n",
      "loss train: 1.8623234033584595, acc_train: 0.83\n",
      "loss train: 1.7970397472381592, acc_train: 1.0\n",
      "loss train: 1.7119057178497314, acc_train: 1.0\n",
      "loss train: 1.6801456212997437, acc_train: 1.0\n",
      "loss train: 1.5541197061538696, acc_train: 1.0\n",
      "loss train: 1.5265759229660034, acc_train: 1.0\n",
      "loss train: 1.3971458673477173, acc_train: 1.0\n",
      "loss train: 1.3181238174438477, acc_train: 1.0\n",
      "loss train: 1.2375636100769043, acc_train: 1.0\n",
      "loss train: 1.151574730873108, acc_train: 1.0\n",
      "loss train: 1.1069926023483276, acc_train: 1.0\n",
      "loss train: 1.0521178245544434, acc_train: 1.0\n",
      "loss train: 0.9863409996032715, acc_train: 1.0\n",
      "loss train: 0.9060461521148682, acc_train: 1.0\n"
     ]
    }
   ],
   "source": [
    "ResNet = get_network('ResNet18',channel,num_classes,im_size).to(device)\n",
    "start = time.time()\n",
    "acc_train,acc_test = train_with_dataset(ResNet, mnist_images_sync, mnist_labels_sync, testloader, device)\n",
    "end = time.time()"
   ]
  },
  {
   "cell_type": "code",
   "execution_count": 103,
   "id": "40e9eec6-250b-4475-ae58-17981d082813",
   "metadata": {},
   "outputs": [
    {
     "name": "stdout",
     "output_type": "stream",
     "text": [
      "Acc train 1.0, Acc test 0.6232\n",
      "ResNet Time Used: 3.842392921447754\n"
     ]
    }
   ],
   "source": [
    "print(\"Acc train {}, Acc test {}\".format(acc_train, acc_test))\n",
    "print(\"ResNet Time Used: {}\".format(end - start))"
   ]
  },
  {
   "cell_type": "code",
   "execution_count": 104,
   "id": "95f2c68a-9ec8-4b27-917b-6ff1c04051f8",
   "metadata": {},
   "outputs": [
    {
     "name": "stdout",
     "output_type": "stream",
     "text": [
      "loss train: 2.302049160003662, acc_train: 0.1\n",
      "loss train: 2.3014883995056152, acc_train: 0.1\n",
      "loss train: 2.300466299057007, acc_train: 0.1\n",
      "loss train: 2.299093246459961, acc_train: 0.11\n",
      "loss train: 2.297463893890381, acc_train: 0.12\n",
      "loss train: 2.295670986175537, acc_train: 0.17\n",
      "loss train: 2.2937700748443604, acc_train: 0.24\n",
      "loss train: 2.2917771339416504, acc_train: 0.33\n",
      "loss train: 2.2897133827209473, acc_train: 0.4\n",
      "loss train: 2.2875912189483643, acc_train: 0.36\n",
      "loss train: 2.2854034900665283, acc_train: 0.32\n",
      "loss train: 2.2831625938415527, acc_train: 0.3\n",
      "loss train: 2.280829429626465, acc_train: 0.28\n",
      "loss train: 2.2783923149108887, acc_train: 0.28\n",
      "loss train: 2.2758312225341797, acc_train: 0.28\n",
      "loss train: 2.2731313705444336, acc_train: 0.26\n",
      "loss train: 2.27028751373291, acc_train: 0.26\n",
      "loss train: 2.2673025131225586, acc_train: 0.25\n",
      "loss train: 2.264147996902466, acc_train: 0.23\n",
      "loss train: 2.2608251571655273, acc_train: 0.22\n"
     ]
    }
   ],
   "source": [
    "AlexNet = get_network('AlexNet',channel,num_classes,im_size).to(device)\n",
    "start = time.time()\n",
    "acc_train,acc_test = train_with_dataset(AlexNet, mnist_images_sync, mnist_labels_sync, testloader, device)\n",
    "end = time.time()"
   ]
  },
  {
   "cell_type": "code",
   "execution_count": 105,
   "id": "c027153b-a0b0-4706-94d7-c8b91cfea1dc",
   "metadata": {},
   "outputs": [
    {
     "name": "stdout",
     "output_type": "stream",
     "text": [
      "Acc train 0.22, Acc test 0.187\n",
      "AlexNet Time Used: 2.4560210704803467\n"
     ]
    }
   ],
   "source": [
    "print(\"Acc train {}, Acc test {}\".format(acc_train, acc_test))\n",
    "print(\"AlexNet Time Used: {}\".format(end - start))"
   ]
  },
  {
   "cell_type": "code",
   "execution_count": 106,
   "id": "e83213de-73fd-4478-9a25-f80dca1416b2",
   "metadata": {},
   "outputs": [
    {
     "name": "stdout",
     "output_type": "stream",
     "text": [
      "loss train: 2.3067433834075928, acc_train: 0.1\n",
      "loss train: 2.3065083026885986, acc_train: 0.1\n",
      "loss train: 2.3060760498046875, acc_train: 0.1\n",
      "loss train: 2.3054816722869873, acc_train: 0.1\n",
      "loss train: 2.3047544956207275, acc_train: 0.1\n",
      "loss train: 2.3039207458496094, acc_train: 0.1\n",
      "loss train: 2.303018093109131, acc_train: 0.1\n",
      "loss train: 2.3020622730255127, acc_train: 0.1\n",
      "loss train: 2.3010692596435547, acc_train: 0.1\n",
      "loss train: 2.3000683784484863, acc_train: 0.1\n",
      "loss train: 2.2990379333496094, acc_train: 0.1\n",
      "loss train: 2.2979843616485596, acc_train: 0.1\n",
      "loss train: 2.2969367504119873, acc_train: 0.1\n",
      "loss train: 2.295891284942627, acc_train: 0.1\n",
      "loss train: 2.2948551177978516, acc_train: 0.1\n",
      "loss train: 2.293825149536133, acc_train: 0.1\n",
      "loss train: 2.292790412902832, acc_train: 0.1\n",
      "loss train: 2.2917511463165283, acc_train: 0.1\n",
      "loss train: 2.2907042503356934, acc_train: 0.1\n",
      "loss train: 2.2896692752838135, acc_train: 0.1\n"
     ]
    }
   ],
   "source": [
    "LeNet = get_network('LeNet',channel,num_classes,im_size).to(device)\n",
    "start = time.time()\n",
    "acc_train,acc_test = train_with_dataset(LeNet, mnist_images_sync, mnist_labels_sync, testloader, device)\n",
    "end = time.time()"
   ]
  },
  {
   "cell_type": "code",
   "execution_count": 107,
   "id": "4f09ca61-f32d-4699-a1b0-9a61a8e91f58",
   "metadata": {},
   "outputs": [
    {
     "name": "stdout",
     "output_type": "stream",
     "text": [
      "Acc train 0.1, Acc test 0.0982\n",
      "LeNet Time Used: 1.762019157409668\n"
     ]
    }
   ],
   "source": [
    "print(\"Acc train {}, Acc test {}\".format(acc_train, acc_test))\n",
    "print(\"LeNet Time Used: {}\".format(end - start))"
   ]
  },
  {
   "cell_type": "raw",
   "id": "d159fda6-2b49-4172-baa9-d1213c3c4d25",
   "metadata": {},
   "source": [
    "Rank\n",
    "1. ConvNet: 88.76%\n",
    "2. ResNet: 62.32%\n",
    "3. AlexNet: 18.7%\n",
    "4. LeNet: 9.82%"
   ]
  }
 ],
 "metadata": {
  "kernelspec": {
   "display_name": "Python 3 (ipykernel)",
   "language": "python",
   "name": "python3"
  },
  "language_info": {
   "codemirror_mode": {
    "name": "ipython",
    "version": 3
   },
   "file_extension": ".py",
   "mimetype": "text/x-python",
   "name": "python",
   "nbconvert_exporter": "python",
   "pygments_lexer": "ipython3",
   "version": "3.8.15"
  }
 },
 "nbformat": 4,
 "nbformat_minor": 5
}
