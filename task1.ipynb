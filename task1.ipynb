{
 "cells": [
  {
   "cell_type": "code",
   "execution_count": 3,
   "id": "c2c8e558-b0d0-4630-a512-c0fd68dd326b",
   "metadata": {},
   "outputs": [],
   "source": [
    "# Pissible need package install if needed\n",
    "\n",
    "#Used for import function from other ipynb file\n",
    "#pip install ipynb\n",
    "\n",
    "#Install pytorch\n",
    "#pip install pytorch"
   ]
  },
  {
   "cell_type": "code",
   "execution_count": 1,
   "id": "b2cb6855-e8e0-4a39-9619-5333c7ad1a9b",
   "metadata": {
    "tags": []
   },
   "outputs": [],
   "source": [
    "import os\n",
    "import time\n",
    "import copy\n",
    "import numpy as np\n",
    "import torch\n",
    "import torch.nn as nn\n",
    "import argparse\n",
    "from torchvision.utils import save_image\n",
    "from ipynb.fs.full.utils import get_loops, get_dataset, get_network, get_eval_pool, evaluate_synset, get_daparam, match_loss, get_time, TensorDataset, DiffAugment, ParamDiffAug\n",
    "import matplotlib.pyplot as plt"
   ]
  },
  {
   "cell_type": "code",
   "execution_count": 2,
   "id": "fceca165-a5f7-4398-b665-114319706230",
   "metadata": {},
   "outputs": [],
   "source": [
    "mnist_data = \"mnist_data\"\n",
    "mnist_result = \"mnist_result\"\n",
    "\n",
    "if not os.path.exists(mnist_data):\n",
    "    os.mkdir(mnist_data)\n",
    "\n",
    "if not os.path.exists(mnist_result):\n",
    "    os.mkdir(mnist_result)\n",
    "\n",
    "cifar_data = \"cifar_data\"\n",
    "cifar_result = \"cifar_result\"\n",
    "\n",
    "if not os.path.exists(cifar_data):\n",
    "    os.mkdir(cifar_data)\n",
    "\n",
    "if not os.path.exists(cifar_result):\n",
    "    os.mkdir(cifar_result)\n"
   ]
  },
  {
   "cell_type": "code",
   "execution_count": 3,
   "id": "f50a8841-e64b-43be-8387-4ea880657e4f",
   "metadata": {},
   "outputs": [
    {
     "name": "stdout",
     "output_type": "stream",
     "text": [
      "cuda\n"
     ]
    }
   ],
   "source": [
    "device = 'cuda' if torch.cuda.is_available() else 'cpu'\n",
    "print(device)"
   ]
  },
  {
   "cell_type": "code",
   "execution_count": 57,
   "id": "b571b484-cf36-464f-b868-4c129e8c5149",
   "metadata": {},
   "outputs": [],
   "source": [
    "#load data\n",
    "channel, im_size, num_classes, class_names, mean, std, dst_train, dst_test, testloader = get_dataset('MNIST',mnist_data)"
   ]
  },
  {
   "cell_type": "code",
   "execution_count": 62,
   "id": "c89ef0e6-652f-426f-a623-61a7bd2df5d4",
   "metadata": {},
   "outputs": [],
   "source": [
    "images_all = []\n",
    "labels_all = []\n",
    "indices_class = [[] for c in range(num_classes)]"
   ]
  },
  {
   "cell_type": "code",
   "execution_count": 63,
   "id": "54870a5a-210d-455f-80af-8ba54c2602a7",
   "metadata": {},
   "outputs": [],
   "source": [
    "images_all = [torch.unsqueeze(dst_train[i][0], dim=0) for i in range(len(dst_train))]\n",
    "labels_all = [dst_train[i][1] for i in range(len(dst_train))]"
   ]
  },
  {
   "cell_type": "code",
   "execution_count": 64,
   "id": "bf77ccae-f290-40fe-a4ea-3bc0f78c85d1",
   "metadata": {},
   "outputs": [],
   "source": [
    "for i, lab in enumerate(labels_all):\n",
    "    indices_class[lab].append(i)\n",
    "images_all = torch.cat(images_all, dim=0).to(device)\n",
    "labels_all = torch.tensor(labels_all, dtype=torch.long, device=device)"
   ]
  },
  {
   "cell_type": "code",
   "execution_count": 8,
   "id": "fe7afe04-555e-4964-bca7-1bd60b052dc2",
   "metadata": {},
   "outputs": [
    {
     "name": "stdout",
     "output_type": "stream",
     "text": [
      "class c = 0: 5923 real images\n",
      "class c = 1: 6742 real images\n",
      "class c = 2: 5958 real images\n",
      "class c = 3: 6131 real images\n",
      "class c = 4: 5842 real images\n",
      "class c = 5: 5421 real images\n",
      "class c = 6: 5918 real images\n",
      "class c = 7: 6265 real images\n",
      "class c = 8: 5851 real images\n",
      "class c = 9: 5949 real images\n"
     ]
    }
   ],
   "source": [
    "for c in range(num_classes):\n",
    "    print('class c = %d: %d real images'%(c, len(indices_class[c])))"
   ]
  },
  {
   "cell_type": "markdown",
   "id": "901717a1-adcb-4328-af9f-5d1e5bd7c274",
   "metadata": {},
   "source": [
    "# 2 a"
   ]
  },
  {
   "cell_type": "code",
   "execution_count": 9,
   "id": "8e28a205-13de-4662-a05f-2073dd641008",
   "metadata": {},
   "outputs": [],
   "source": [
    "#Get the net\n",
    "ConvNet = get_network('ConvNet',channel,num_classes,im_size).to(device)"
   ]
  },
  {
   "cell_type": "code",
   "execution_count": 10,
   "id": "95850f92-42bb-41ab-a704-50a42c07264d",
   "metadata": {},
   "outputs": [],
   "source": [
    "#first train with dataset\n",
    "def epoch(mode, dataloader, net, optimizer, criterion,device):\n",
    "    loss_avg, acc_avg, num_exp = 0,0,0\n",
    "    net = net.to(device)\n",
    "    criterion = criterion.to(device)\n",
    "    if mode == 'train':\n",
    "        net.train()\n",
    "    else:\n",
    "        net.eval()\n",
    "    scheduler = torch.optim.lr_scheduler.CosineAnnealingLR(optimizer, T_max = 10)\n",
    "    for i_batch,datum in enumerate(dataloader):\n",
    "        img = datum[0].float().to(device)\n",
    "        lab = datum[1].long().to(device)\n",
    "        n_b = lab.shape[0]\n",
    "        \n",
    "        output = net(img)\n",
    "        loss = criterion(output,lab)\n",
    "        acc = np.sum(np.equal(np.argmax(output.cpu().data.numpy(), axis=-1), lab.cpu().data.numpy()))\n",
    "        \n",
    "        loss_avg += loss.item()*n_b\n",
    "        acc_avg += acc\n",
    "        num_exp += n_b\n",
    "        \n",
    "        if mode == 'train':\n",
    "            optimizer.zero_grad()\n",
    "            loss.backward()\n",
    "            optimizer.step()\n",
    "            scheduler.step()\n",
    "    loss_avg /= num_exp\n",
    "    acc_avg /= num_exp\n",
    "    \n",
    "    return loss_avg, acc_avg\n",
    "\n",
    "\n",
    "def train_with_dataset(net, images_train, labels_train, testloader,device):\n",
    "    net = net.to(device)\n",
    "    images_train = images_train.to(device)\n",
    "    labels_train = labels_train.to(device)\n",
    "    lr = 0.01\n",
    "    Epoch = 20\n",
    "    optimizer = torch.optim.SGD(net.parameters(), lr = lr, momentum = 0.9, weight_decay = 0.0005)\n",
    "    criterion = nn.CrossEntropyLoss().to(device)\n",
    "    dst_train = TensorDataset(images_train,labels_train)\n",
    "    trainloader = torch.utils.data.DataLoader(dst_train, batch_size = 256, shuffle = True, num_workers = 0)\n",
    "    for ep in range(Epoch):\n",
    "        loss_train, acc_train = epoch('train',trainloader, net, optimizer, criterion, device)\n",
    "        print(\"loss train: {}, acc_train: {}\".format(loss_train, acc_train))\n",
    "    loss_test, acc_test = epoch('test', testloader, net, optimizer, criterion, device)\n",
    "    return acc_train, acc_test\n"
   ]
  },
  {
   "cell_type": "code",
   "execution_count": 11,
   "id": "004d8c48-7c13-414a-84c4-d5f0f116df9d",
   "metadata": {},
   "outputs": [],
   "source": [
    "ConvNet = get_network('ConvNet',channel,num_classes,im_size).to(device)\n",
    "images, labels = copy.deepcopy(images_all.detach()), copy.deepcopy(labels_all.detach())"
   ]
  },
  {
   "cell_type": "code",
   "execution_count": 12,
   "id": "96773976-9554-44bd-a980-fa559b1961da",
   "metadata": {},
   "outputs": [
    {
     "name": "stdout",
     "output_type": "stream",
     "text": [
      "loss train: 0.2841838123043378, acc_train: 0.93195\n",
      "loss train: 0.06805729623834292, acc_train: 0.9822833333333333\n",
      "loss train: 0.051565202138821285, acc_train: 0.9862166666666666\n",
      "loss train: 0.04376972884039084, acc_train: 0.9880166666666667\n",
      "loss train: 0.03688659320274989, acc_train: 0.98985\n",
      "loss train: 0.03631744081179301, acc_train: 0.9896333333333334\n",
      "loss train: 0.03203204917311668, acc_train: 0.9914166666666666\n",
      "loss train: 0.028420025177299975, acc_train: 0.9921\n",
      "loss train: 0.027141653450330098, acc_train: 0.99255\n",
      "loss train: 0.02546396706899007, acc_train: 0.99325\n",
      "loss train: 0.022170541329185167, acc_train: 0.9939666666666667\n",
      "loss train: 0.020936106424530348, acc_train: 0.9945333333333334\n",
      "loss train: 0.019473087057471274, acc_train: 0.9949\n",
      "loss train: 0.019056514712174732, acc_train: 0.9951166666666666\n",
      "loss train: 0.017664020450909933, acc_train: 0.99535\n",
      "loss train: 0.01686749543795983, acc_train: 0.9957833333333334\n",
      "loss train: 0.01577594166348378, acc_train: 0.9960833333333333\n",
      "loss train: 0.015362278943508863, acc_train: 0.9960833333333333\n",
      "loss train: 0.014655016516645749, acc_train: 0.9965333333333334\n",
      "loss train: 0.012654336410760879, acc_train: 0.9975666666666667\n",
      "Acc train 0.9975666666666667, Acc test 0.9939\n"
     ]
    }
   ],
   "source": [
    "acc_train,acc_test = train_with_dataset(ConvNet,images, labels, testloader, device)\n",
    "print(\"Acc train {}, Acc test {}\".format(acc_train, acc_test))"
   ]
  },
  {
   "cell_type": "markdown",
   "id": "d3139773-d072-4b3e-b6b3-58a4bf25e09b",
   "metadata": {},
   "source": [
    "# 2 b"
   ]
  },
  {
   "cell_type": "code",
   "execution_count": 13,
   "id": "5586d38c-5e76-48dd-862a-cae666e69dc6",
   "metadata": {},
   "outputs": [],
   "source": [
    "K = 100\n",
    "T = 10\n",
    "learningRateCondensedSamples = 0.1\n",
    "numberOptimizationSteps = 1\n",
    "learningRateModel = 0.01\n",
    "numberOfOptimizationSteps = 50\n",
    "ipc = 10\n",
    "miniBatchSize = 256"
   ]
  },
  {
   "cell_type": "code",
   "execution_count": 15,
   "id": "ca15a0fb-790a-4693-8010-49c79fdf4806",
   "metadata": {},
   "outputs": [
    {
     "name": "stderr",
     "output_type": "stream",
     "text": [
      "C:\\Users\\alanw\\AppData\\Local\\Temp\\ipykernel_16968\\3204847356.py:3: DeprecationWarning: an integer is required (got type numpy.float64).  Implicit conversion to integers using __int__ is deprecated, and may be removed in a future version of Python.\n",
      "  label_syn = torch.tensor([np.ones(ipc)*i for i in range(num_classes)], dtype=torch.long, requires_grad=False, device=device).view(-1) # [0,0,0, 1,1,1, ..., 9,9,9]\n"
     ]
    }
   ],
   "source": [
    "#initialize the synthetic data\n",
    "image_syn = torch.randn(size=(num_classes*ipc, channel, im_size[0], im_size[1]), dtype=torch.float, requires_grad=True, device=device)\n",
    "label_syn = torch.tensor([np.ones(ipc)*i for i in range(num_classes)], dtype=torch.long, requires_grad=False, device=device).view(-1) # [0,0,0, 1,1,1, ..., 9,9,9]\n"
   ]
  },
  {
   "cell_type": "code",
   "execution_count": 16,
   "id": "66ed6686-69f9-475c-8918-feb3b36d61e5",
   "metadata": {},
   "outputs": [],
   "source": [
    "def get_images(c, n): # get random n images from class c\n",
    "    idx_shuffle = np.random.permutation(indices_class[c])[:n]\n",
    "    return images_all[idx_shuffle]"
   ]
  },
  {
   "cell_type": "code",
   "execution_count": 17,
   "id": "2472e087-aae2-493f-8c09-c02a338924e3",
   "metadata": {},
   "outputs": [],
   "source": [
    "for c in range(num_classes):\n",
    "    image_syn.data[c*ipc:(c+1)*ipc] = get_images(c, ipc).detach().data"
   ]
  },
  {
   "cell_type": "code",
   "execution_count": 18,
   "id": "f326a630-1d64-44d3-8e17-5ab6995f527f",
   "metadata": {},
   "outputs": [],
   "source": [
    "#Train\n",
    "optimizer_img = torch.optim.SGD([image_syn], lr = learningRateCondensedSamples, momentum = 0.5)\n",
    "optimizer_img.zero_grad()\n",
    "criterion = nn.CrossEntropyLoss().to(device)"
   ]
  },
  {
   "cell_type": "code",
   "execution_count": 19,
   "id": "b741823b-bc50-49bd-b94c-8d3392bb2963",
   "metadata": {},
   "outputs": [],
   "source": [
    "net = get_network('ConvNet',channel,num_classes,im_size).to(device)\n",
    "net.train()\n",
    "net_parameters = list(net.parameters())\n",
    "optimizer_net = torch.optim.SGD(net.parameters(), lr = learningRateModel)\n",
    "optimizer_net.zero_grad()\n",
    "loss_avg = 0"
   ]
  },
  {
   "cell_type": "code",
   "execution_count": 20,
   "id": "e886eaf6-d49b-4e4d-b43b-406368c94124",
   "metadata": {},
   "outputs": [],
   "source": [
    "parser = argparse.ArgumentParser(description='Parameter Processing')\n",
    "parser.add_argument('--dis_metric', type=str, default='ours', help='distance metric')\n",
    "args, unknown = parser.parse_known_args()\n",
    "args.device = device"
   ]
  },
  {
   "cell_type": "code",
   "execution_count": 21,
   "id": "10d40f79-b4c8-4d0a-954f-26c243beb1fd",
   "metadata": {
    "scrolled": true,
    "tags": []
   },
   "outputs": [
    {
     "name": "stdout",
     "output_type": "stream",
     "text": [
      "Outer Loop 0\n",
      "Outer Loop 1\n",
      "Outer Loop 2\n",
      "Outer Loop 3\n",
      "Outer Loop 4\n",
      "Outer Loop 5\n",
      "Outer Loop 6\n",
      "Outer Loop 7\n",
      "Outer Loop 8\n",
      "Outer Loop 9\n",
      "Outer Loop 10\n",
      "Outer Loop 11\n",
      "Outer Loop 12\n",
      "Outer Loop 13\n",
      "Outer Loop 14\n",
      "Outer Loop 15\n",
      "Outer Loop 16\n",
      "Outer Loop 17\n",
      "Outer Loop 18\n",
      "Outer Loop 19\n",
      "Outer Loop 20\n",
      "Outer Loop 21\n",
      "Outer Loop 22\n",
      "Outer Loop 23\n",
      "Outer Loop 24\n",
      "Outer Loop 25\n",
      "Outer Loop 26\n",
      "Outer Loop 27\n",
      "Outer Loop 28\n",
      "Outer Loop 29\n",
      "Outer Loop 30\n",
      "Outer Loop 31\n",
      "Outer Loop 32\n",
      "Outer Loop 33\n",
      "Outer Loop 34\n",
      "Outer Loop 35\n",
      "Outer Loop 36\n",
      "Outer Loop 37\n",
      "Outer Loop 38\n",
      "Outer Loop 39\n",
      "Outer Loop 40\n",
      "Outer Loop 41\n",
      "Outer Loop 42\n",
      "Outer Loop 43\n",
      "Outer Loop 44\n",
      "Outer Loop 45\n",
      "Outer Loop 46\n",
      "Outer Loop 47\n",
      "Outer Loop 48\n",
      "Outer Loop 49\n",
      "Outer Loop 50\n",
      "Outer Loop 51\n",
      "Outer Loop 52\n",
      "Outer Loop 53\n",
      "Outer Loop 54\n",
      "Outer Loop 55\n",
      "Outer Loop 56\n",
      "Outer Loop 57\n",
      "Outer Loop 58\n",
      "Outer Loop 59\n",
      "Outer Loop 60\n",
      "Outer Loop 61\n",
      "Outer Loop 62\n",
      "Outer Loop 63\n",
      "Outer Loop 64\n",
      "Outer Loop 65\n",
      "Outer Loop 66\n",
      "Outer Loop 67\n",
      "Outer Loop 68\n",
      "Outer Loop 69\n",
      "Outer Loop 70\n",
      "Outer Loop 71\n",
      "Outer Loop 72\n",
      "Outer Loop 73\n",
      "Outer Loop 74\n",
      "Outer Loop 75\n",
      "Outer Loop 76\n",
      "Outer Loop 77\n",
      "Outer Loop 78\n",
      "Outer Loop 79\n",
      "Outer Loop 80\n",
      "Outer Loop 81\n",
      "Outer Loop 82\n",
      "Outer Loop 83\n",
      "Outer Loop 84\n",
      "Outer Loop 85\n",
      "Outer Loop 86\n",
      "Outer Loop 87\n",
      "Outer Loop 88\n",
      "Outer Loop 89\n",
      "Outer Loop 90\n",
      "Outer Loop 91\n",
      "Outer Loop 92\n",
      "Outer Loop 93\n",
      "Outer Loop 94\n",
      "Outer Loop 95\n",
      "Outer Loop 96\n",
      "Outer Loop 97\n",
      "Outer Loop 98\n",
      "Outer Loop 99\n",
      "loss = 18.2540\n"
     ]
    }
   ],
   "source": [
    "for ol in range(K):\n",
    "    loss = torch.tensor(0.0).to(device)\n",
    "    print(\"Outer Loop {}\".format(ol))\n",
    "    for c in range(num_classes):\n",
    "        img_real = get_images(c, miniBatchSize)\n",
    "        lab_real = torch.ones((img_real.shape[0],), device=device, dtype=torch.long) * c\n",
    "        img_syn = image_syn[c*ipc:(c+1)*ipc].reshape((ipc, channel, im_size[0], im_size[1]))\n",
    "        lab_syn = torch.ones((ipc,), device=device, dtype=torch.long) * c\n",
    "        \n",
    "        output_real = net(img_real)\n",
    "        loss_real = criterion(output_real, lab_real)\n",
    "        gw_real = torch.autograd.grad(loss_real, net_parameters)\n",
    "        gw_real = list((_.detach().clone() for _ in gw_real))\n",
    "        \n",
    "        output_syn = net(img_syn)\n",
    "        loss_syn = criterion(output_syn, lab_syn)\n",
    "        gw_syn = torch.autograd.grad(loss_syn, net_parameters, create_graph=True)\n",
    "        loss += match_loss(gw_syn, gw_real, args)\n",
    "    optimizer_img.zero_grad()\n",
    "    loss.backward()\n",
    "    optimizer_img.step()\n",
    "    loss_avg += loss.item()\n",
    "    \n",
    "    if ol == K - 1:\n",
    "        break\n",
    "    \n",
    "    ''' update network '''\n",
    "    image_syn_train, label_syn_train = copy.deepcopy(image_syn.detach()), copy.deepcopy(label_syn.detach())\n",
    "    dst_syn_train = TensorDataset(image_syn_train, label_syn_train)\n",
    "    trainloader = torch.utils.data.DataLoader(dst_syn_train, batch_size=miniBatchSize, shuffle=True, num_workers=0)\n",
    "    for il in range(T):\n",
    "        epoch('train', trainloader, net, optimizer_net, criterion, device)\n",
    "\n",
    "loss_avg /= (num_classes*K)\n",
    "print('loss = %.4f' % loss_avg)\n",
    "    "
   ]
  },
  {
   "cell_type": "code",
   "execution_count": 22,
   "id": "ca9a5b5c-d523-4a62-84a4-6a83d5f47dea",
   "metadata": {},
   "outputs": [
    {
     "name": "stdout",
     "output_type": "stream",
     "text": [
      "loss train: 2.341052532196045, acc_train: 0.06\n",
      "loss train: 2.192593574523926, acc_train: 0.27\n",
      "loss train: 2.028395891189575, acc_train: 0.49\n",
      "loss train: 1.859337568283081, acc_train: 0.66\n",
      "loss train: 1.6771365404129028, acc_train: 0.84\n",
      "loss train: 1.519385814666748, acc_train: 0.86\n",
      "loss train: 1.377923846244812, acc_train: 0.89\n",
      "loss train: 1.2313451766967773, acc_train: 0.93\n",
      "loss train: 1.0937714576721191, acc_train: 0.92\n",
      "loss train: 0.973269522190094, acc_train: 0.96\n",
      "loss train: 0.8622119426727295, acc_train: 0.94\n",
      "loss train: 0.7574949860572815, acc_train: 0.96\n",
      "loss train: 0.6630570292472839, acc_train: 0.97\n",
      "loss train: 0.5831766724586487, acc_train: 0.97\n",
      "loss train: 0.5156046152114868, acc_train: 0.99\n",
      "loss train: 0.456206738948822, acc_train: 1.0\n",
      "loss train: 0.40412580966949463, acc_train: 1.0\n",
      "loss train: 0.3599620461463928, acc_train: 1.0\n",
      "loss train: 0.32266753911972046, acc_train: 1.0\n",
      "loss train: 0.290259450674057, acc_train: 1.0\n",
      "Acc train 1.0, Acc test 0.8948\n"
     ]
    }
   ],
   "source": [
    "ConvNet = get_network('ConvNet',channel,num_classes,im_size).to(device)\n",
    "\n",
    "#----------------------------------------MNIST result --------------------------------------------------------------------\n",
    "mnist_images_sync, mnist_labels_sync = copy.deepcopy(image_syn.detach()), copy.deepcopy(label_syn.detach())\n",
    "#----------------------------------------------------------------------------------------------------------------------------\n",
    "\n",
    "acc_train,acc_test = train_with_dataset(ConvNet,mnist_images_sync, mnist_labels_sync, testloader, device)\n",
    "print(\"Acc train {}, Acc test {}\".format(acc_train, acc_test))"
   ]
  },
  {
   "cell_type": "markdown",
   "id": "f3a9e5be-c2dd-4003-9eea-2c4f04b30ebe",
   "metadata": {},
   "source": [
    "# 1 c"
   ]
  },
  {
   "cell_type": "code",
   "execution_count": 23,
   "id": "87adb694-3ef5-4f1c-ae12-97674fe5865d",
   "metadata": {},
   "outputs": [
    {
     "data": {
      "image/png": "[encoded data removed]",
      "text/plain": [
       "<Figure size 640x480 with 10 Axes>"
      ]
     },
     "metadata": {},
     "output_type": "display_data"
    }
   ],
   "source": [
    "image_syn_vis = copy.deepcopy(image_syn.detach().cpu())\n",
    "for ch in range(channel):\n",
    "    image_syn_vis[:, ch] = image_syn_vis[:, ch]  * std[ch] + mean[ch]\n",
    "image_syn_vis[image_syn_vis<0] = 0.0\n",
    "image_syn_vis[image_syn_vis>1] = 1.0\n",
    "for i in range(10):\n",
    "    plt.subplot(2,5,i+1)\n",
    "    plt.imshow(image_syn_vis[0+i*10][0], cmap=plt.cm.gray)\n",
    "    ax = plt.gca()\n",
    "    ax.get_xaxis().set_visible(False)\n",
    "    ax.get_yaxis().set_visible(False)"
   ]
  },
  {
   "cell_type": "code",
   "execution_count": 24,
   "id": "b50c1c13-dceb-4eee-87c8-21b8e423be5e",
   "metadata": {},
   "outputs": [
    {
     "name": "stdout",
     "output_type": "stream",
     "text": [
      "Files already downloaded and verified\n",
      "Files already downloaded and verified\n"
     ]
    }
   ],
   "source": [
    "channel, im_size, num_classes, class_names, mean, std, dst_train, dst_test, testloader = get_dataset('CIFAR10',mnist_data)"
   ]
  },
  {
   "cell_type": "code",
   "execution_count": 25,
   "id": "265044e1-a48b-4e74-bd44-dd1fb4052a0a",
   "metadata": {},
   "outputs": [],
   "source": [
    "images_all = []\n",
    "labels_all = []\n",
    "indices_class = [[] for c in range(num_classes)]"
   ]
  },
  {
   "cell_type": "code",
   "execution_count": 26,
   "id": "48149048-d9e4-43ec-9710-3396c2bc4e92",
   "metadata": {},
   "outputs": [],
   "source": [
    "images_all = [torch.unsqueeze(dst_train[i][0], dim=0) for i in range(len(dst_train))]\n",
    "labels_all = [dst_train[i][1] for i in range(len(dst_train))]"
   ]
  },
  {
   "cell_type": "code",
   "execution_count": 27,
   "id": "f8c73e88-f109-4054-b86a-78554e85b509",
   "metadata": {},
   "outputs": [],
   "source": [
    "for i, lab in enumerate(labels_all):\n",
    "    indices_class[lab].append(i)\n",
    "images_all = torch.cat(images_all, dim=0).to(device)\n",
    "labels_all = torch.tensor(labels_all, dtype=torch.long, device=device)"
   ]
  },
  {
   "cell_type": "code",
   "execution_count": 28,
   "id": "0dde72bd-085c-48ab-b496-933f9e5aae0d",
   "metadata": {},
   "outputs": [],
   "source": [
    "#base line\n",
    "ConvNet = get_network('ConvNet',channel,num_classes,im_size).to(device)\n",
    "images, labels = copy.deepcopy(images_all.detach()), copy.deepcopy(labels_all.detach())"
   ]
  },
  {
   "cell_type": "code",
   "execution_count": 29,
   "id": "73fc819e-c8d2-453d-a805-aa10510d8df4",
   "metadata": {},
   "outputs": [
    {
     "name": "stdout",
     "output_type": "stream",
     "text": [
      "loss train: 1.57598432056427, acc_train: 0.45502\n",
      "loss train: 1.117743390750885, acc_train: 0.61748\n",
      "loss train: 0.959168377571106, acc_train: 0.67034\n",
      "loss train: 0.8658195055007935, acc_train: 0.70346\n",
      "loss train: 0.7801198726844788, acc_train: 0.73604\n",
      "loss train: 0.7417495775985717, acc_train: 0.74838\n",
      "loss train: 0.6959053785324096, acc_train: 0.76588\n",
      "loss train: 0.6472612742805481, acc_train: 0.78162\n",
      "loss train: 0.6106644381046296, acc_train: 0.7933\n",
      "loss train: 0.5772378401947021, acc_train: 0.80464\n",
      "loss train: 0.5463628343200684, acc_train: 0.81674\n",
      "loss train: 0.5293130875968933, acc_train: 0.82236\n",
      "loss train: 0.5078475162696838, acc_train: 0.83014\n",
      "loss train: 0.4775587204360962, acc_train: 0.84072\n",
      "loss train: 0.44734145245552065, acc_train: 0.85374\n",
      "loss train: 0.4162869452381134, acc_train: 0.86544\n",
      "loss train: 0.40474363092422483, acc_train: 0.86804\n",
      "loss train: 0.3965301719665527, acc_train: 0.86994\n",
      "loss train: 0.3716405225276947, acc_train: 0.87962\n",
      "loss train: 0.3654624116039276, acc_train: 0.87996\n",
      "Acc train 0.87996, Acc test 0.7869\n"
     ]
    }
   ],
   "source": [
    "acc_train,acc_test = train_with_dataset(ConvNet,images, labels, testloader, device)\n",
    "print(\"Acc train {}, Acc test {}\".format(acc_train, acc_test))"
   ]
  },
  {
   "cell_type": "code",
   "execution_count": 30,
   "id": "3914301f-24cd-43e2-8887-f00496a7fa9c",
   "metadata": {},
   "outputs": [
    {
     "name": "stderr",
     "output_type": "stream",
     "text": [
      "C:\\Users\\alanw\\AppData\\Local\\Temp\\ipykernel_16968\\3004736898.py:3: DeprecationWarning: an integer is required (got type numpy.float64).  Implicit conversion to integers using __int__ is deprecated, and may be removed in a future version of Python.\n",
      "  label_syn = torch.tensor([np.ones(ipc)*i for i in range(num_classes)], dtype=torch.long, requires_grad=False, device=device).view(-1) # [0,0,0, 1,1,1, ..., 9,9,9]\n"
     ]
    }
   ],
   "source": [
    "#initialize syn image\n",
    "image_syn = torch.randn(size=(num_classes*ipc, channel, im_size[0], im_size[1]), dtype=torch.float, requires_grad=True, device=device)\n",
    "label_syn = torch.tensor([np.ones(ipc)*i for i in range(num_classes)], dtype=torch.long, requires_grad=False, device=device).view(-1) # [0,0,0, 1,1,1, ..., 9,9,9]\n",
    "for c in range(num_classes):\n",
    "    image_syn.data[c*ipc:(c+1)*ipc] = get_images(c, ipc).detach().data"
   ]
  },
  {
   "cell_type": "code",
   "execution_count": 31,
   "id": "ee597b37-2437-4bb5-b93d-c4e1cee54075",
   "metadata": {},
   "outputs": [],
   "source": [
    "optimizer_img = torch.optim.SGD([image_syn], lr = learningRateCondensedSamples, momentum = 0.5)\n",
    "optimizer_img.zero_grad()\n",
    "criterion = nn.CrossEntropyLoss().to(device)"
   ]
  },
  {
   "cell_type": "code",
   "execution_count": 32,
   "id": "f61370ac-ddd3-4ea2-8b76-32e80579546b",
   "metadata": {},
   "outputs": [],
   "source": [
    "net = get_network('ConvNet',channel,num_classes,im_size).to(device)\n",
    "net.train()\n",
    "net_parameters = list(net.parameters())\n",
    "optimizer_net = torch.optim.SGD(net.parameters(), lr = learningRateModel)\n",
    "optimizer_net.zero_grad()\n",
    "loss_avg = 0"
   ]
  },
  {
   "cell_type": "code",
   "execution_count": 33,
   "id": "0977e2e8-51e0-43ca-a458-2507d58736a3",
   "metadata": {},
   "outputs": [],
   "source": [
    "parser = argparse.ArgumentParser(description='Parameter Processing')\n",
    "parser.add_argument('--dis_metric', type=str, default='ours', help='distance metric')\n",
    "args, unknown = parser.parse_known_args()\n",
    "args.device = device"
   ]
  },
  {
   "cell_type": "code",
   "execution_count": 34,
   "id": "990ab045-3847-4ff3-93ff-6d34fbc3839c",
   "metadata": {
    "scrolled": true,
    "tags": []
   },
   "outputs": [
    {
     "name": "stdout",
     "output_type": "stream",
     "text": [
      "Outer Loop 0\n",
      "Outer Loop 1\n",
      "Outer Loop 2\n",
      "Outer Loop 3\n",
      "Outer Loop 4\n",
      "Outer Loop 5\n",
      "Outer Loop 6\n",
      "Outer Loop 7\n",
      "Outer Loop 8\n",
      "Outer Loop 9\n",
      "Outer Loop 10\n",
      "Outer Loop 11\n",
      "Outer Loop 12\n",
      "Outer Loop 13\n",
      "Outer Loop 14\n",
      "Outer Loop 15\n",
      "Outer Loop 16\n",
      "Outer Loop 17\n",
      "Outer Loop 18\n",
      "Outer Loop 19\n",
      "Outer Loop 20\n",
      "Outer Loop 21\n",
      "Outer Loop 22\n",
      "Outer Loop 23\n",
      "Outer Loop 24\n",
      "Outer Loop 25\n",
      "Outer Loop 26\n",
      "Outer Loop 27\n",
      "Outer Loop 28\n",
      "Outer Loop 29\n",
      "Outer Loop 30\n",
      "Outer Loop 31\n",
      "Outer Loop 32\n",
      "Outer Loop 33\n",
      "Outer Loop 34\n",
      "Outer Loop 35\n",
      "Outer Loop 36\n",
      "Outer Loop 37\n",
      "Outer Loop 38\n",
      "Outer Loop 39\n",
      "Outer Loop 40\n",
      "Outer Loop 41\n",
      "Outer Loop 42\n",
      "Outer Loop 43\n",
      "Outer Loop 44\n",
      "Outer Loop 45\n",
      "Outer Loop 46\n",
      "Outer Loop 47\n",
      "Outer Loop 48\n",
      "Outer Loop 49\n",
      "Outer Loop 50\n",
      "Outer Loop 51\n",
      "Outer Loop 52\n",
      "Outer Loop 53\n",
      "Outer Loop 54\n",
      "Outer Loop 55\n",
      "Outer Loop 56\n",
      "Outer Loop 57\n",
      "Outer Loop 58\n",
      "Outer Loop 59\n",
      "Outer Loop 60\n",
      "Outer Loop 61\n",
      "Outer Loop 62\n",
      "Outer Loop 63\n",
      "Outer Loop 64\n",
      "Outer Loop 65\n",
      "Outer Loop 66\n",
      "Outer Loop 67\n",
      "Outer Loop 68\n",
      "Outer Loop 69\n",
      "Outer Loop 70\n",
      "Outer Loop 71\n",
      "Outer Loop 72\n",
      "Outer Loop 73\n",
      "Outer Loop 74\n",
      "Outer Loop 75\n",
      "Outer Loop 76\n",
      "Outer Loop 77\n",
      "Outer Loop 78\n",
      "Outer Loop 79\n",
      "Outer Loop 80\n",
      "Outer Loop 81\n",
      "Outer Loop 82\n",
      "Outer Loop 83\n",
      "Outer Loop 84\n",
      "Outer Loop 85\n",
      "Outer Loop 86\n",
      "Outer Loop 87\n",
      "Outer Loop 88\n",
      "Outer Loop 89\n",
      "Outer Loop 90\n",
      "Outer Loop 91\n",
      "Outer Loop 92\n",
      "Outer Loop 93\n",
      "Outer Loop 94\n",
      "Outer Loop 95\n",
      "Outer Loop 96\n",
      "Outer Loop 97\n",
      "Outer Loop 98\n",
      "Outer Loop 99\n"
     ]
    }
   ],
   "source": [
    "for ol in range(K):\n",
    "    loss = torch.tensor(0.0).to(device)\n",
    "    print(\"Outer Loop {}\".format(ol))\n",
    "    for c in range(num_classes):\n",
    "        img_real = get_images(c, miniBatchSize)\n",
    "        lab_real = torch.ones((img_real.shape[0],), device=device, dtype=torch.long) * c\n",
    "        img_syn = image_syn[c*ipc:(c+1)*ipc].reshape((ipc, channel, im_size[0], im_size[1]))\n",
    "        lab_syn = torch.ones((ipc,), device=device, dtype=torch.long) * c\n",
    "        \n",
    "        output_real = net(img_real)\n",
    "        loss_real = criterion(output_real, lab_real)\n",
    "        gw_real = torch.autograd.grad(loss_real, net_parameters)\n",
    "        gw_real = list((_.detach().clone() for _ in gw_real))\n",
    "        \n",
    "        output_syn = net(img_syn)\n",
    "        loss_syn = criterion(output_syn, lab_syn)\n",
    "        gw_syn = torch.autograd.grad(loss_syn, net_parameters, create_graph=True)\n",
    "        loss += match_loss(gw_syn, gw_real, args)\n",
    "    optimizer_img.zero_grad()\n",
    "    loss.backward()\n",
    "    optimizer_img.step()\n",
    "    loss_avg += loss.item()\n",
    "    \n",
    "    if ol == K - 1:\n",
    "        break\n",
    "    \n",
    "    ''' update network '''\n",
    "    image_syn_train, label_syn_train = copy.deepcopy(image_syn.detach()), copy.deepcopy(label_syn.detach())\n",
    "    dst_syn_train = TensorDataset(image_syn_train, label_syn_train)\n",
    "    trainloader = torch.utils.data.DataLoader(dst_syn_train, batch_size=miniBatchSize, shuffle=True, num_workers=0)\n",
    "    for il in range(T):\n",
    "        epoch('train', trainloader, net, optimizer_net, criterion, device)\n",
    "\n",
    "loss_avg /= (num_classes*K)"
   ]
  },
  {
   "cell_type": "code",
   "execution_count": 35,
   "id": "4069961a-035e-48b8-a011-85f0b7d81c47",
   "metadata": {},
   "outputs": [
    {
     "name": "stdout",
     "output_type": "stream",
     "text": [
      "loss = 98.5464\n"
     ]
    }
   ],
   "source": [
    "print('loss = %.4f' % loss_avg)"
   ]
  },
  {
   "cell_type": "code",
   "execution_count": 36,
   "id": "ec9505f0-099f-4577-9517-77b69b25eb63",
   "metadata": {},
   "outputs": [
    {
     "name": "stdout",
     "output_type": "stream",
     "text": [
      "loss train: 2.369576930999756, acc_train: 0.07\n",
      "loss train: 2.2656502723693848, acc_train: 0.17\n",
      "loss train: 2.119093894958496, acc_train: 0.33\n",
      "loss train: 1.9733123779296875, acc_train: 0.44\n",
      "loss train: 1.8312550783157349, acc_train: 0.47\n",
      "loss train: 1.6831225156784058, acc_train: 0.58\n",
      "loss train: 1.5386179685592651, acc_train: 0.74\n",
      "loss train: 1.410273551940918, acc_train: 0.78\n",
      "loss train: 1.2962679862976074, acc_train: 0.79\n",
      "loss train: 1.1899192333221436, acc_train: 0.83\n",
      "loss train: 1.0877491235733032, acc_train: 0.87\n",
      "loss train: 0.9904817342758179, acc_train: 0.89\n",
      "loss train: 0.9005174040794373, acc_train: 0.94\n",
      "loss train: 0.8170846700668335, acc_train: 0.93\n",
      "loss train: 0.7386789917945862, acc_train: 0.94\n",
      "loss train: 0.6659858822822571, acc_train: 0.94\n",
      "loss train: 0.60032719373703, acc_train: 0.97\n",
      "loss train: 0.541923999786377, acc_train: 0.99\n",
      "loss train: 0.4896070063114166, acc_train: 0.99\n",
      "loss train: 0.4428113102912903, acc_train: 0.99\n",
      "Acc train 0.99, Acc test 0.3457\n"
     ]
    }
   ],
   "source": [
    "ConvNet = get_network('ConvNet',channel,num_classes,im_size).to(device)\n",
    "\n",
    "#----------------------------------------CIFAR result --------------------------------------------------------------------\n",
    "cifar_images_sync, cifar_labels_sync = copy.deepcopy(image_syn.detach()), copy.deepcopy(label_syn.detach())\n",
    "#----------------------------------------------------------------------------------------------------------------------------\n",
    "\n",
    "acc_train,acc_test = train_with_dataset(ConvNet,cifar_images_sync, cifar_labels_sync, testloader, device)\n",
    "print(\"Acc train {}, Acc test {}\".format(acc_train, acc_test))"
   ]
  },
  {
   "cell_type": "code",
   "execution_count": 37,
   "id": "b46e5411-09f7-4c3c-a667-3478c2fef9cf",
   "metadata": {},
   "outputs": [
    {
     "data": {
      "image/png": "[encoded data removed]",
      "text/plain": [
       "<Figure size 640x480 with 10 Axes>"
      ]
     },
     "metadata": {},
     "output_type": "display_data"
    }
   ],
   "source": [
    "image_syn_vis = copy.deepcopy(image_syn.detach().cpu())\n",
    "for ch in range(channel):\n",
    "    image_syn_vis[:, ch] = image_syn_vis[:, ch]  * std[ch] + mean[ch]\n",
    "image_syn_vis[image_syn_vis<0] = 0.0\n",
    "image_syn_vis[image_syn_vis>1] = 1.0\n",
    "for i in range(10):\n",
    "    plt.subplot(2,5,i+1)\n",
    "    plt.imshow(image_syn_vis[0+i*10][0], cmap=plt.cm.gray)\n",
    "    ax = plt.gca()\n",
    "    ax.get_xaxis().set_visible(False)\n",
    "    ax.get_yaxis().set_visible(False)"
   ]
  },
  {
   "cell_type": "markdown",
   "id": "407b4c8d-a1b8-43bf-a44d-e03cb6f7f6f3",
   "metadata": {},
   "source": [
    "# 2 d"
   ]
  },
  {
   "cell_type": "code",
   "execution_count": 38,
   "id": "3454a568-a339-4d74-911a-472916eee9ca",
   "metadata": {},
   "outputs": [],
   "source": [
    "# ------------------------MNIST initialize with noisy-----------------------------------------\n",
    "channel, im_size, num_classes, class_names, mean, std, dst_train, dst_test, testloader = get_dataset('MNIST',mnist_data)\n",
    "images_all = []\n",
    "labels_all = []\n",
    "indices_class = [[] for c in range(num_classes)]\n",
    "\n",
    "images_all = [torch.unsqueeze(dst_train[i][0], dim=0) for i in range(len(dst_train))]\n",
    "labels_all = [dst_train[i][1] for i in range(len(dst_train))]\n",
    "\n",
    "for i, lab in enumerate(labels_all):\n",
    "    indices_class[lab].append(i)\n",
    "images_all = torch.cat(images_all, dim=0).to(device)\n",
    "labels_all = torch.tensor(labels_all, dtype=torch.long, device=device)"
   ]
  },
  {
   "cell_type": "code",
   "execution_count": 39,
   "id": "79b85164-0356-4c17-828b-320fcb2578bb",
   "metadata": {},
   "outputs": [
    {
     "name": "stderr",
     "output_type": "stream",
     "text": [
      "C:\\Users\\alanw\\AppData\\Local\\Temp\\ipykernel_16968\\2139612781.py:2: DeprecationWarning: an integer is required (got type numpy.float64).  Implicit conversion to integers using __int__ is deprecated, and may be removed in a future version of Python.\n",
      "  label_syn = torch.tensor([np.ones(ipc)*i for i in range(num_classes)], dtype=torch.long, requires_grad=False, device=device).view(-1) # [0,0,0, 1,1,1, ..., 9,9,9]\n"
     ]
    }
   ],
   "source": [
    "image_syn = torch.randn(size=(num_classes*ipc, channel, im_size[0], im_size[1]), dtype=torch.float, requires_grad=True, device=device)\n",
    "label_syn = torch.tensor([np.ones(ipc)*i for i in range(num_classes)], dtype=torch.long, requires_grad=False, device=device).view(-1) # [0,0,0, 1,1,1, ..., 9,9,9]"
   ]
  },
  {
   "cell_type": "code",
   "execution_count": 40,
   "id": "ab45cb8a-1f43-465e-87f4-1f6b833a8a3e",
   "metadata": {
    "scrolled": true,
    "tags": []
   },
   "outputs": [
    {
     "name": "stdout",
     "output_type": "stream",
     "text": [
      "Outer Loop 0\n",
      "Outer Loop 1\n",
      "Outer Loop 2\n",
      "Outer Loop 3\n",
      "Outer Loop 4\n",
      "Outer Loop 5\n",
      "Outer Loop 6\n",
      "Outer Loop 7\n",
      "Outer Loop 8\n",
      "Outer Loop 9\n",
      "Outer Loop 10\n",
      "Outer Loop 11\n",
      "Outer Loop 12\n",
      "Outer Loop 13\n",
      "Outer Loop 14\n",
      "Outer Loop 15\n",
      "Outer Loop 16\n",
      "Outer Loop 17\n",
      "Outer Loop 18\n",
      "Outer Loop 19\n",
      "Outer Loop 20\n",
      "Outer Loop 21\n",
      "Outer Loop 22\n",
      "Outer Loop 23\n",
      "Outer Loop 24\n",
      "Outer Loop 25\n",
      "Outer Loop 26\n",
      "Outer Loop 27\n",
      "Outer Loop 28\n",
      "Outer Loop 29\n",
      "Outer Loop 30\n",
      "Outer Loop 31\n",
      "Outer Loop 32\n",
      "Outer Loop 33\n",
      "Outer Loop 34\n",
      "Outer Loop 35\n",
      "Outer Loop 36\n",
      "Outer Loop 37\n",
      "Outer Loop 38\n",
      "Outer Loop 39\n",
      "Outer Loop 40\n",
      "Outer Loop 41\n",
      "Outer Loop 42\n",
      "Outer Loop 43\n",
      "Outer Loop 44\n",
      "Outer Loop 45\n",
      "Outer Loop 46\n",
      "Outer Loop 47\n",
      "Outer Loop 48\n",
      "Outer Loop 49\n",
      "Outer Loop 50\n",
      "Outer Loop 51\n",
      "Outer Loop 52\n",
      "Outer Loop 53\n",
      "Outer Loop 54\n",
      "Outer Loop 55\n",
      "Outer Loop 56\n",
      "Outer Loop 57\n",
      "Outer Loop 58\n",
      "Outer Loop 59\n",
      "Outer Loop 60\n",
      "Outer Loop 61\n",
      "Outer Loop 62\n",
      "Outer Loop 63\n",
      "Outer Loop 64\n",
      "Outer Loop 65\n",
      "Outer Loop 66\n",
      "Outer Loop 67\n",
      "Outer Loop 68\n",
      "Outer Loop 69\n",
      "Outer Loop 70\n",
      "Outer Loop 71\n",
      "Outer Loop 72\n",
      "Outer Loop 73\n",
      "Outer Loop 74\n",
      "Outer Loop 75\n",
      "Outer Loop 76\n",
      "Outer Loop 77\n",
      "Outer Loop 78\n",
      "Outer Loop 79\n",
      "Outer Loop 80\n",
      "Outer Loop 81\n",
      "Outer Loop 82\n",
      "Outer Loop 83\n",
      "Outer Loop 84\n",
      "Outer Loop 85\n",
      "Outer Loop 86\n",
      "Outer Loop 87\n",
      "Outer Loop 88\n",
      "Outer Loop 89\n",
      "Outer Loop 90\n",
      "Outer Loop 91\n",
      "Outer Loop 92\n",
      "Outer Loop 93\n",
      "Outer Loop 94\n",
      "Outer Loop 95\n",
      "Outer Loop 96\n",
      "Outer Loop 97\n",
      "Outer Loop 98\n",
      "Outer Loop 99\n"
     ]
    }
   ],
   "source": [
    "optimizer_img = torch.optim.SGD([image_syn], lr = learningRateCondensedSamples, momentum = 0.5)\n",
    "optimizer_img.zero_grad()\n",
    "criterion = nn.CrossEntropyLoss().to(device)\n",
    "net = get_network('ConvNet',channel,num_classes,im_size).to(device)\n",
    "net.train()\n",
    "net_parameters = list(net.parameters())\n",
    "optimizer_net = torch.optim.SGD(net.parameters(), lr = learningRateModel)\n",
    "optimizer_net.zero_grad()\n",
    "loss_avg = 0\n",
    "\n",
    "parser = argparse.ArgumentParser(description='Parameter Processing')\n",
    "parser.add_argument('--dis_metric', type=str, default='ours', help='distance metric')\n",
    "args, unknown = parser.parse_known_args()\n",
    "args.device = device\n",
    "\n",
    "for ol in range(K):\n",
    "    loss = torch.tensor(0.0).to(device)\n",
    "    print(\"Outer Loop {}\".format(ol))\n",
    "    for c in range(num_classes):\n",
    "        img_real = get_images(c, miniBatchSize)\n",
    "        lab_real = torch.ones((img_real.shape[0],), device=device, dtype=torch.long) * c\n",
    "        img_syn = image_syn[c*ipc:(c+1)*ipc].reshape((ipc, channel, im_size[0], im_size[1]))\n",
    "        lab_syn = torch.ones((ipc,), device=device, dtype=torch.long) * c\n",
    "        \n",
    "        output_real = net(img_real)\n",
    "        loss_real = criterion(output_real, lab_real)\n",
    "        gw_real = torch.autograd.grad(loss_real, net_parameters)\n",
    "        gw_real = list((_.detach().clone() for _ in gw_real))\n",
    "        \n",
    "        output_syn = net(img_syn)\n",
    "        loss_syn = criterion(output_syn, lab_syn)\n",
    "        gw_syn = torch.autograd.grad(loss_syn, net_parameters, create_graph=True)\n",
    "        loss += match_loss(gw_syn, gw_real, args)\n",
    "    optimizer_img.zero_grad()\n",
    "    loss.backward()\n",
    "    optimizer_img.step()\n",
    "    loss_avg += loss.item()\n",
    "    \n",
    "    if ol == K - 1:\n",
    "        break\n",
    "    \n",
    "    ''' update network '''\n",
    "    image_syn_train, label_syn_train = copy.deepcopy(image_syn.detach()), copy.deepcopy(label_syn.detach())\n",
    "    dst_syn_train = TensorDataset(image_syn_train, label_syn_train)\n",
    "    trainloader = torch.utils.data.DataLoader(dst_syn_train, batch_size=miniBatchSize, shuffle=True, num_workers=0)\n",
    "    for il in range(T):\n",
    "        epoch('train', trainloader, net, optimizer_net, criterion, device)\n",
    "\n",
    "loss_avg /= (num_classes*K)"
   ]
  },
  {
   "cell_type": "code",
   "execution_count": 41,
   "id": "929cfe58-6749-41fd-8eae-7f08b3fa954c",
   "metadata": {},
   "outputs": [
    {
     "name": "stdout",
     "output_type": "stream",
     "text": [
      "loss = 107.7482\n"
     ]
    }
   ],
   "source": [
    "print('loss = %.4f' % loss_avg)"
   ]
  },
  {
   "cell_type": "code",
   "execution_count": 42,
   "id": "a8c0b63c-1de2-4856-8160-6a7f4619bc4c",
   "metadata": {},
   "outputs": [
    {
     "name": "stdout",
     "output_type": "stream",
     "text": [
      "loss train: 2.3337786197662354, acc_train: 0.08\n",
      "loss train: 2.254047155380249, acc_train: 0.21\n",
      "loss train: 2.151765823364258, acc_train: 0.33\n",
      "loss train: 2.033015727996826, acc_train: 0.39\n",
      "loss train: 1.8860864639282227, acc_train: 0.73\n",
      "loss train: 1.7364388704299927, acc_train: 0.94\n",
      "loss train: 1.6016851663589478, acc_train: 0.93\n",
      "loss train: 1.4677250385284424, acc_train: 0.96\n",
      "loss train: 1.329785943031311, acc_train: 0.97\n",
      "loss train: 1.2014422416687012, acc_train: 0.97\n",
      "loss train: 1.0858368873596191, acc_train: 0.97\n",
      "loss train: 0.9749681949615479, acc_train: 0.98\n",
      "loss train: 0.8700473308563232, acc_train: 0.99\n",
      "loss train: 0.7767363786697388, acc_train: 0.99\n",
      "loss train: 0.6944186687469482, acc_train: 0.99\n",
      "loss train: 0.6201221942901611, acc_train: 0.99\n",
      "loss train: 0.5531710982322693, acc_train: 0.99\n",
      "loss train: 0.49389365315437317, acc_train: 1.0\n",
      "loss train: 0.44188934564590454, acc_train: 1.0\n",
      "loss train: 0.3963097631931305, acc_train: 1.0\n",
      "Acc train 1.0, Acc test 0.7819\n"
     ]
    }
   ],
   "source": [
    "ConvNet = get_network('ConvNet',channel,num_classes,im_size).to(device)\n",
    "\n",
    "#----------------------------------------MNIST result --------------------------------------------------------------------\n",
    "mnist_images_sync_noisy, mnist_labels_sync_noisy = copy.deepcopy(image_syn.detach()), copy.deepcopy(label_syn.detach())\n",
    "#----------------------------------------------------------------------------------------------------------------------------\n",
    "\n",
    "acc_train,acc_test = train_with_dataset(ConvNet,mnist_images_sync_noisy, mnist_labels_sync_noisy, testloader, device)\n",
    "print(\"Acc train {}, Acc test {}\".format(acc_train, acc_test))"
   ]
  },
  {
   "cell_type": "code",
   "execution_count": 43,
   "id": "199d4eb8-1a09-4e93-8a0a-4df6b62cda65",
   "metadata": {},
   "outputs": [
    {
     "name": "stdout",
     "output_type": "stream",
     "text": [
      "Files already downloaded and verified\n",
      "Files already downloaded and verified\n"
     ]
    }
   ],
   "source": [
    "# ------------------------CIFAR initialize with noisy-----------------------------------------\n",
    "channel, im_size, num_classes, class_names, mean, std, dst_train, dst_test, testloader = get_dataset('CIFAR10',mnist_data)\n",
    "images_all = []\n",
    "labels_all = []\n",
    "indices_class = [[] for c in range(num_classes)]\n",
    "\n",
    "images_all = [torch.unsqueeze(dst_train[i][0], dim=0) for i in range(len(dst_train))]\n",
    "labels_all = [dst_train[i][1] for i in range(len(dst_train))]\n",
    "\n",
    "for i, lab in enumerate(labels_all):\n",
    "    indices_class[lab].append(i)\n",
    "images_all = torch.cat(images_all, dim=0).to(device)\n",
    "labels_all = torch.tensor(labels_all, dtype=torch.long, device=device)"
   ]
  },
  {
   "cell_type": "code",
   "execution_count": 44,
   "id": "3f19d4fa-0c18-4129-ade2-928cf0740311",
   "metadata": {},
   "outputs": [
    {
     "name": "stderr",
     "output_type": "stream",
     "text": [
      "C:\\Users\\alanw\\AppData\\Local\\Temp\\ipykernel_16968\\2139612781.py:2: DeprecationWarning: an integer is required (got type numpy.float64).  Implicit conversion to integers using __int__ is deprecated, and may be removed in a future version of Python.\n",
      "  label_syn = torch.tensor([np.ones(ipc)*i for i in range(num_classes)], dtype=torch.long, requires_grad=False, device=device).view(-1) # [0,0,0, 1,1,1, ..., 9,9,9]\n"
     ]
    }
   ],
   "source": [
    "image_syn = torch.randn(size=(num_classes*ipc, channel, im_size[0], im_size[1]), dtype=torch.float, requires_grad=True, device=device)\n",
    "label_syn = torch.tensor([np.ones(ipc)*i for i in range(num_classes)], dtype=torch.long, requires_grad=False, device=device).view(-1) # [0,0,0, 1,1,1, ..., 9,9,9]"
   ]
  },
  {
   "cell_type": "code",
   "execution_count": 45,
   "id": "fa0ae22d-925b-4032-beba-f65fdb8a8a82",
   "metadata": {
    "scrolled": true,
    "tags": []
   },
   "outputs": [
    {
     "name": "stdout",
     "output_type": "stream",
     "text": [
      "Outer Loop 0\n",
      "Outer Loop 1\n",
      "Outer Loop 2\n",
      "Outer Loop 3\n",
      "Outer Loop 4\n",
      "Outer Loop 5\n",
      "Outer Loop 6\n",
      "Outer Loop 7\n",
      "Outer Loop 8\n",
      "Outer Loop 9\n",
      "Outer Loop 10\n",
      "Outer Loop 11\n",
      "Outer Loop 12\n",
      "Outer Loop 13\n",
      "Outer Loop 14\n",
      "Outer Loop 15\n",
      "Outer Loop 16\n",
      "Outer Loop 17\n",
      "Outer Loop 18\n",
      "Outer Loop 19\n",
      "Outer Loop 20\n",
      "Outer Loop 21\n",
      "Outer Loop 22\n",
      "Outer Loop 23\n",
      "Outer Loop 24\n",
      "Outer Loop 25\n",
      "Outer Loop 26\n",
      "Outer Loop 27\n",
      "Outer Loop 28\n",
      "Outer Loop 29\n",
      "Outer Loop 30\n",
      "Outer Loop 31\n",
      "Outer Loop 32\n",
      "Outer Loop 33\n",
      "Outer Loop 34\n",
      "Outer Loop 35\n",
      "Outer Loop 36\n",
      "Outer Loop 37\n",
      "Outer Loop 38\n",
      "Outer Loop 39\n",
      "Outer Loop 40\n",
      "Outer Loop 41\n",
      "Outer Loop 42\n",
      "Outer Loop 43\n",
      "Outer Loop 44\n",
      "Outer Loop 45\n",
      "Outer Loop 46\n",
      "Outer Loop 47\n",
      "Outer Loop 48\n",
      "Outer Loop 49\n",
      "Outer Loop 50\n",
      "Outer Loop 51\n",
      "Outer Loop 52\n",
      "Outer Loop 53\n",
      "Outer Loop 54\n",
      "Outer Loop 55\n",
      "Outer Loop 56\n",
      "Outer Loop 57\n",
      "Outer Loop 58\n",
      "Outer Loop 59\n",
      "Outer Loop 60\n",
      "Outer Loop 61\n",
      "Outer Loop 62\n",
      "Outer Loop 63\n",
      "Outer Loop 64\n",
      "Outer Loop 65\n",
      "Outer Loop 66\n",
      "Outer Loop 67\n",
      "Outer Loop 68\n",
      "Outer Loop 69\n",
      "Outer Loop 70\n",
      "Outer Loop 71\n",
      "Outer Loop 72\n",
      "Outer Loop 73\n",
      "Outer Loop 74\n",
      "Outer Loop 75\n",
      "Outer Loop 76\n",
      "Outer Loop 77\n",
      "Outer Loop 78\n",
      "Outer Loop 79\n",
      "Outer Loop 80\n",
      "Outer Loop 81\n",
      "Outer Loop 82\n",
      "Outer Loop 83\n",
      "Outer Loop 84\n",
      "Outer Loop 85\n",
      "Outer Loop 86\n",
      "Outer Loop 87\n",
      "Outer Loop 88\n",
      "Outer Loop 89\n",
      "Outer Loop 90\n",
      "Outer Loop 91\n",
      "Outer Loop 92\n",
      "Outer Loop 93\n",
      "Outer Loop 94\n",
      "Outer Loop 95\n",
      "Outer Loop 96\n",
      "Outer Loop 97\n",
      "Outer Loop 98\n",
      "Outer Loop 99\n"
     ]
    }
   ],
   "source": [
    "optimizer_img = torch.optim.SGD([image_syn], lr = learningRateCondensedSamples, momentum = 0.5)\n",
    "optimizer_img.zero_grad()\n",
    "criterion = nn.CrossEntropyLoss().to(device)\n",
    "net = get_network('ConvNet',channel,num_classes,im_size).to(device)\n",
    "net.train()\n",
    "net_parameters = list(net.parameters())\n",
    "optimizer_net = torch.optim.SGD(net.parameters(), lr = learningRateModel)\n",
    "optimizer_net.zero_grad()\n",
    "loss_avg = 0\n",
    "\n",
    "parser = argparse.ArgumentParser(description='Parameter Processing')\n",
    "parser.add_argument('--dis_metric', type=str, default='ours', help='distance metric')\n",
    "args, unknown = parser.parse_known_args()\n",
    "args.device = device\n",
    "\n",
    "for ol in range(K):\n",
    "    loss = torch.tensor(0.0).to(device)\n",
    "    print(\"Outer Loop {}\".format(ol))\n",
    "    for c in range(num_classes):\n",
    "        img_real = get_images(c, miniBatchSize)\n",
    "        lab_real = torch.ones((img_real.shape[0],), device=device, dtype=torch.long) * c\n",
    "        img_syn = image_syn[c*ipc:(c+1)*ipc].reshape((ipc, channel, im_size[0], im_size[1]))\n",
    "        lab_syn = torch.ones((ipc,), device=device, dtype=torch.long) * c\n",
    "        \n",
    "        output_real = net(img_real)\n",
    "        loss_real = criterion(output_real, lab_real)\n",
    "        gw_real = torch.autograd.grad(loss_real, net_parameters)\n",
    "        gw_real = list((_.detach().clone() for _ in gw_real))\n",
    "        \n",
    "        output_syn = net(img_syn)\n",
    "        loss_syn = criterion(output_syn, lab_syn)\n",
    "        gw_syn = torch.autograd.grad(loss_syn, net_parameters, create_graph=True)\n",
    "        loss += match_loss(gw_syn, gw_real, args)\n",
    "    optimizer_img.zero_grad()\n",
    "    loss.backward()\n",
    "    optimizer_img.step()\n",
    "    loss_avg += loss.item()\n",
    "    \n",
    "    if ol == K - 1:\n",
    "        break\n",
    "    \n",
    "    ''' update network '''\n",
    "    image_syn_train, label_syn_train = copy.deepcopy(image_syn.detach()), copy.deepcopy(label_syn.detach())\n",
    "    dst_syn_train = TensorDataset(image_syn_train, label_syn_train)\n",
    "    trainloader = torch.utils.data.DataLoader(dst_syn_train, batch_size=miniBatchSize, shuffle=True, num_workers=0)\n",
    "    for il in range(T):\n",
    "        epoch('train', trainloader, net, optimizer_net, criterion, device)\n",
    "\n",
    "loss_avg /= (num_classes*K)"
   ]
  },
  {
   "cell_type": "code",
   "execution_count": 46,
   "id": "91802dd6-d1c7-486d-a524-32cf8f00cf3d",
   "metadata": {},
   "outputs": [
    {
     "name": "stdout",
     "output_type": "stream",
     "text": [
      "loss = 145.3289\n"
     ]
    }
   ],
   "source": [
    "print('loss = %.4f' % loss_avg)"
   ]
  },
  {
   "cell_type": "code",
   "execution_count": 47,
   "id": "c971a96c-4d7a-42f1-943e-73969b5175d4",
   "metadata": {},
   "outputs": [
    {
     "name": "stdout",
     "output_type": "stream",
     "text": [
      "loss train: 2.3202176094055176, acc_train: 0.13\n",
      "loss train: 2.233461380004883, acc_train: 0.23\n",
      "loss train: 2.101426601409912, acc_train: 0.49\n",
      "loss train: 1.9425573348999023, acc_train: 0.67\n",
      "loss train: 1.7598282098770142, acc_train: 0.81\n",
      "loss train: 1.5652049779891968, acc_train: 0.93\n",
      "loss train: 1.380793571472168, acc_train: 0.98\n",
      "loss train: 1.217920184135437, acc_train: 0.96\n",
      "loss train: 1.0710244178771973, acc_train: 0.97\n",
      "loss train: 0.9346667528152466, acc_train: 0.97\n",
      "loss train: 0.8133222460746765, acc_train: 0.99\n",
      "loss train: 0.7100290060043335, acc_train: 0.99\n",
      "loss train: 0.6215379238128662, acc_train: 1.0\n",
      "loss train: 0.5434257388114929, acc_train: 1.0\n",
      "loss train: 0.47414809465408325, acc_train: 1.0\n",
      "loss train: 0.41412457823753357, acc_train: 1.0\n",
      "loss train: 0.3631823658943176, acc_train: 1.0\n",
      "loss train: 0.31983134150505066, acc_train: 1.0\n",
      "loss train: 0.28235071897506714, acc_train: 1.0\n",
      "loss train: 0.2496950775384903, acc_train: 1.0\n",
      "Acc train 1.0, Acc test 0.2677\n"
     ]
    }
   ],
   "source": [
    "ConvNet = get_network('ConvNet',channel,num_classes,im_size).to(device)\n",
    "\n",
    "#----------------------------------------CIFAR result --------------------------------------------------------------------\n",
    "cifar_images_sync_noisy, cifar_labels_sync_noisy = copy.deepcopy(image_syn.detach()), copy.deepcopy(label_syn.detach())\n",
    "#----------------------------------------------------------------------------------------------------------------------------\n",
    "\n",
    "acc_train,acc_test = train_with_dataset(ConvNet,cifar_images_sync_noisy, cifar_labels_sync_noisy, testloader, device)\n",
    "print(\"Acc train {}, Acc test {}\".format(acc_train, acc_test))"
   ]
  },
  {
   "cell_type": "markdown",
   "id": "c9d1fd8e-56ae-4dc3-9f98-0c880ce4adc3",
   "metadata": {},
   "source": [
    "# 2 e"
   ]
  },
  {
   "cell_type": "code",
   "execution_count": 48,
   "id": "218eb3f0-8cc2-404b-ae25-6584ac9ad415",
   "metadata": {},
   "outputs": [
    {
     "name": "stdout",
     "output_type": "stream",
     "text": [
      "loss train: 2.3363795280456543, acc_train: 0.07\n",
      "loss train: 2.2268223762512207, acc_train: 0.26\n",
      "loss train: 2.081747055053711, acc_train: 0.39\n",
      "loss train: 1.9178106784820557, acc_train: 0.5\n",
      "loss train: 1.7470426559448242, acc_train: 0.84\n",
      "loss train: 1.5921438932418823, acc_train: 0.86\n",
      "loss train: 1.4433599710464478, acc_train: 0.86\n",
      "loss train: 1.2935413122177124, acc_train: 0.88\n",
      "loss train: 1.152909278869629, acc_train: 0.93\n",
      "loss train: 1.0273029804229736, acc_train: 0.94\n",
      "loss train: 0.9121400713920593, acc_train: 0.94\n",
      "loss train: 0.8059871196746826, acc_train: 0.95\n",
      "loss train: 0.7129393219947815, acc_train: 0.95\n",
      "loss train: 0.631771981716156, acc_train: 0.95\n",
      "loss train: 0.559114396572113, acc_train: 0.95\n",
      "loss train: 0.4947793483734131, acc_train: 0.98\n",
      "loss train: 0.4396360516548157, acc_train: 0.98\n",
      "loss train: 0.3921763598918915, acc_train: 0.99\n",
      "loss train: 0.351004958152771, acc_train: 0.99\n",
      "loss train: 0.3150831162929535, acc_train: 1.0\n",
      "Acc train 1.0, Acc test 0.8841\n"
     ]
    }
   ],
   "source": [
    "# ------------------------MNIST------------------------------------\n",
    "channel, im_size, num_classes, class_names, mean, std, dst_train, dst_test, testloader = get_dataset('MNIST',mnist_data)\n",
    "\n",
    "ConvNet = get_network('ConvNet',channel,num_classes,im_size).to(device)\n",
    "\n",
    "acc_train,acc_test = train_with_dataset(ConvNet,mnist_images_sync, mnist_labels_sync, testloader, device)\n",
    "print(\"Acc train {}, Acc test {}\".format(acc_train, acc_test))"
   ]
  },
  {
   "cell_type": "code",
   "execution_count": 49,
   "id": "fc10c319-53a2-470e-8241-08e606b082e9",
   "metadata": {},
   "outputs": [
    {
     "name": "stdout",
     "output_type": "stream",
     "text": [
      "Files already downloaded and verified\n",
      "Files already downloaded and verified\n",
      "loss train: 2.3329641819000244, acc_train: 0.13\n",
      "loss train: 2.2237932682037354, acc_train: 0.17\n",
      "loss train: 2.0720787048339844, acc_train: 0.34\n",
      "loss train: 1.9291452169418335, acc_train: 0.42\n",
      "loss train: 1.7976535558700562, acc_train: 0.49\n",
      "loss train: 1.661523461341858, acc_train: 0.63\n",
      "loss train: 1.5262269973754883, acc_train: 0.67\n",
      "loss train: 1.403337836265564, acc_train: 0.72\n",
      "loss train: 1.2926316261291504, acc_train: 0.76\n",
      "loss train: 1.1867481470108032, acc_train: 0.81\n",
      "loss train: 1.0842550992965698, acc_train: 0.84\n",
      "loss train: 0.9878842234611511, acc_train: 0.87\n",
      "loss train: 0.8992829322814941, acc_train: 0.91\n",
      "loss train: 0.8193562030792236, acc_train: 0.93\n",
      "loss train: 0.7462556958198547, acc_train: 0.94\n",
      "loss train: 0.6776326894760132, acc_train: 0.95\n",
      "loss train: 0.613244891166687, acc_train: 0.95\n",
      "loss train: 0.5547217726707458, acc_train: 0.98\n",
      "loss train: 0.5026925802230835, acc_train: 0.98\n",
      "loss train: 0.4560603201389313, acc_train: 0.99\n",
      "Acc train 0.99, Acc test 0.3351\n"
     ]
    }
   ],
   "source": [
    "#-----------------------CIFAR Result------------------------------------\n",
    "channel, im_size, num_classes, class_names, mean, std, dst_train, dst_test, testloader = get_dataset('CIFAR10',mnist_data)\n",
    "\n",
    "ConvNet = get_network('ConvNet',channel,num_classes,im_size).to(device)\n",
    "\n",
    "acc_train,acc_test = train_with_dataset(ConvNet,cifar_images_sync, cifar_labels_sync, testloader, device)\n",
    "\n",
    "print(\"Acc train {}, Acc test {}\".format(acc_train, acc_test))"
   ]
  },
  {
   "cell_type": "markdown",
   "id": "55b74abe-fa46-4668-aadc-8de12b835307",
   "metadata": {},
   "source": [
    "# 3"
   ]
  },
  {
   "cell_type": "markdown",
   "id": "7f36e7f4-6e41-4c37-8ce9-cfec6529dc6a",
   "metadata": {},
   "source": [
    "### Use ResNet-18 to evaluate the cross-architecture performace"
   ]
  },
  {
   "cell_type": "markdown",
   "id": "61c84e5d-0cd3-46d7-ba66-ad284af15618",
   "metadata": {},
   "source": [
    "## MNIST Dataset"
   ]
  },
  {
   "cell_type": "code",
   "execution_count": 52,
   "id": "c5bdac3f-ef2a-4fc9-b29a-788dabe16fc2",
   "metadata": {},
   "outputs": [],
   "source": [
    "# Base Line of ResNet 18\n",
    "channel, im_size, num_classes, class_names, mean, std, dst_train, dst_test, testloader = get_dataset('MNIST',mnist_data)\n",
    "images_all = []\n",
    "labels_all = []\n",
    "indices_class = [[] for c in range(num_classes)]\n",
    "\n",
    "images_all = [torch.unsqueeze(dst_train[i][0], dim=0) for i in range(len(dst_train))]\n",
    "labels_all = [dst_train[i][1] for i in range(len(dst_train))]\n",
    "\n",
    "for i, lab in enumerate(labels_all):\n",
    "    indices_class[lab].append(i)\n",
    "images_all = torch.cat(images_all, dim=0).to(device)\n",
    "labels_all = torch.tensor(labels_all, dtype=torch.long, device=device)"
   ]
  },
  {
   "cell_type": "code",
   "execution_count": 53,
   "id": "a5cefc15-dc81-4862-af69-7b5aff766146",
   "metadata": {},
   "outputs": [],
   "source": [
    "ResNet = get_network('ResNet18',channel,num_classes,im_size).to(device)\n",
    "images, labels = copy.deepcopy(images_all.detach()), copy.deepcopy(labels_all.detach())"
   ]
  },
  {
   "cell_type": "code",
   "execution_count": 54,
   "id": "307af296-d883-4b95-87df-183d69cfdf14",
   "metadata": {},
   "outputs": [
    {
     "name": "stdout",
     "output_type": "stream",
     "text": [
      "loss train: 0.6522180804948012, acc_train: 0.8387666666666667\n",
      "loss train: 0.07006093458930651, acc_train: 0.9839166666666667\n",
      "loss train: 0.04252583730618159, acc_train: 0.9894166666666667\n",
      "loss train: 0.029201106856266656, acc_train: 0.9929166666666667\n",
      "loss train: 0.02296888309121132, acc_train: 0.9947166666666667\n",
      "loss train: 0.016170782225330672, acc_train: 0.9965666666666667\n",
      "loss train: 0.014044868513320883, acc_train: 0.9967833333333334\n",
      "loss train: 0.00878705214522779, acc_train: 0.99855\n",
      "loss train: 0.005860365565617879, acc_train: 0.9992666666666666\n",
      "loss train: 0.004034458539510766, acc_train: 0.9997333333333334\n",
      "loss train: 0.003385091878908376, acc_train: 0.9998166666666667\n",
      "loss train: 0.0027067377265542745, acc_train: 0.9999\n",
      "loss train: 0.002452658096452554, acc_train: 0.9999\n",
      "loss train: 0.0018649009206021824, acc_train: 0.9999666666666667\n",
      "loss train: 0.001587719494352738, acc_train: 0.9999833333333333\n",
      "loss train: 0.0014551771203676859, acc_train: 0.9999833333333333\n",
      "loss train: 0.0013902695917213956, acc_train: 0.9999833333333333\n",
      "loss train: 0.0013211518821306526, acc_train: 0.9999833333333333\n",
      "loss train: 0.0012565487146998446, acc_train: 0.9999833333333333\n",
      "loss train: 0.0012161292330672344, acc_train: 0.9999833333333333\n",
      "Acc train 0.9999833333333333, Acc test 0.9947\n"
     ]
    }
   ],
   "source": [
    "acc_train,acc_test = train_with_dataset(ResNet,images, labels, testloader, device)\n",
    "print(\"Acc train {}, Acc test {}\".format(acc_train, acc_test))"
   ]
  },
  {
   "cell_type": "code",
   "execution_count": 56,
   "id": "0b6aa2ef-39d7-4725-bdfe-b5aecc396a5e",
   "metadata": {},
   "outputs": [
    {
     "name": "stdout",
     "output_type": "stream",
     "text": [
      "loss train: 2.3405396938323975, acc_train: 0.1\n",
      "loss train: 2.229656934738159, acc_train: 0.26\n",
      "loss train: 2.1502790451049805, acc_train: 0.86\n",
      "loss train: 2.105726718902588, acc_train: 0.73\n",
      "loss train: 2.0491209030151367, acc_train: 0.55\n",
      "loss train: 1.9862556457519531, acc_train: 0.63\n",
      "loss train: 1.9146201610565186, acc_train: 0.91\n",
      "loss train: 1.8686784505844116, acc_train: 1.0\n",
      "loss train: 1.756156325340271, acc_train: 1.0\n",
      "loss train: 1.6904873847961426, acc_train: 1.0\n",
      "loss train: 1.6063123941421509, acc_train: 1.0\n",
      "loss train: 1.5292582511901855, acc_train: 1.0\n",
      "loss train: 1.4484022855758667, acc_train: 1.0\n",
      "loss train: 1.353452444076538, acc_train: 1.0\n",
      "loss train: 1.2954258918762207, acc_train: 1.0\n",
      "loss train: 1.2131520509719849, acc_train: 1.0\n",
      "loss train: 1.1311182975769043, acc_train: 1.0\n",
      "loss train: 1.0523457527160645, acc_train: 1.0\n",
      "loss train: 0.9837799072265625, acc_train: 1.0\n",
      "loss train: 0.9231588840484619, acc_train: 1.0\n",
      "Acc train 1.0, Acc test 0.6295\n"
     ]
    }
   ],
   "source": [
    "# MNIST Sync Data set\n",
    "ResNet = get_network('ResNet18',channel,num_classes,im_size).to(device)\n",
    "\n",
    "acc_train,acc_test = train_with_dataset(ResNet,mnist_images_sync, mnist_labels_sync, testloader, device)\n",
    "print(\"Acc train {}, Acc test {}\".format(acc_train, acc_test))"
   ]
  },
  {
   "cell_type": "code",
   "execution_count": 65,
   "id": "bcc83b64-40b4-4b2c-8165-d5454d242943",
   "metadata": {},
   "outputs": [
    {
     "name": "stdout",
     "output_type": "stream",
     "text": [
      "Files already downloaded and verified\n",
      "Files already downloaded and verified\n"
     ]
    }
   ],
   "source": [
    "#CIFAR10 Base Line\n",
    "channel, im_size, num_classes, class_names, mean, std, dst_train, dst_test, testloader = get_dataset('CIFAR10',mnist_data)"
   ]
  },
  {
   "cell_type": "code",
   "execution_count": 66,
   "id": "298c4d78-d926-4513-96e9-35a8560005a5",
   "metadata": {},
   "outputs": [],
   "source": [
    "images_all = []\n",
    "labels_all = []\n",
    "indices_class = [[] for c in range(num_classes)]"
   ]
  },
  {
   "cell_type": "code",
   "execution_count": 67,
   "id": "dc5895e9-0354-493f-94f6-9dad7a23e79e",
   "metadata": {},
   "outputs": [],
   "source": [
    "images_all = [torch.unsqueeze(dst_train[i][0], dim=0) for i in range(len(dst_train))]\n",
    "labels_all = [dst_train[i][1] for i in range(len(dst_train))]"
   ]
  },
  {
   "cell_type": "code",
   "execution_count": 68,
   "id": "269246d0-3a78-41ad-bb84-0c3011dffe5c",
   "metadata": {},
   "outputs": [],
   "source": [
    "for i, lab in enumerate(labels_all):\n",
    "    indices_class[lab].append(i)\n",
    "images_all = torch.cat(images_all, dim=0).to(device)\n",
    "labels_all = torch.tensor(labels_all, dtype=torch.long, device=device)"
   ]
  },
  {
   "cell_type": "code",
   "execution_count": 69,
   "id": "f4313340-e238-47e7-a581-a1dcd9908e26",
   "metadata": {},
   "outputs": [],
   "source": [
    "ResNet = get_network('ResNet18',channel,num_classes,im_size).to(device)\n",
    "images, labels = copy.deepcopy(images_all.detach()), copy.deepcopy(labels_all.detach())"
   ]
  },
  {
   "cell_type": "code",
   "execution_count": 70,
   "id": "d74d9871-40b4-4294-925f-34ebb18b4dd8",
   "metadata": {},
   "outputs": [
    {
     "name": "stdout",
     "output_type": "stream",
     "text": [
      "loss train: 2.036607031478882, acc_train: 0.26326\n",
      "loss train: 1.5018463986968995, acc_train: 0.4605\n",
      "loss train: 1.215119382095337, acc_train: 0.56598\n",
      "loss train: 1.0122235955619812, acc_train: 0.64308\n",
      "loss train: 0.8637059362983703, acc_train: 0.69884\n",
      "loss train: 0.7221135065078735, acc_train: 0.75034\n",
      "loss train: 0.6189231509017944, acc_train: 0.78894\n",
      "loss train: 0.502977168006897, acc_train: 0.83086\n",
      "loss train: 0.4397917521381378, acc_train: 0.85248\n",
      "loss train: 0.31992912160873416, acc_train: 0.89612\n",
      "loss train: 0.23575835165977477, acc_train: 0.92734\n",
      "loss train: 0.19226633197784423, acc_train: 0.94108\n",
      "loss train: 0.12698204562187196, acc_train: 0.96372\n",
      "loss train: 0.11050963909626008, acc_train: 0.96906\n",
      "loss train: 0.04161904918193817, acc_train: 0.9917\n",
      "loss train: 0.023255673828721048, acc_train: 0.99628\n",
      "loss train: 0.0080251327586174, acc_train: 0.99954\n",
      "loss train: 0.0032655021856725216, acc_train: 0.99992\n",
      "loss train: 0.0024474854984879494, acc_train: 0.99996\n",
      "loss train: 0.002069658165127039, acc_train: 0.99998\n",
      "Acc train 0.99998, Acc test 0.8021\n"
     ]
    }
   ],
   "source": [
    "acc_train,acc_test = train_with_dataset(ResNet,images, labels, testloader, device)\n",
    "print(\"Acc train {}, Acc test {}\".format(acc_train, acc_test))"
   ]
  },
  {
   "cell_type": "code",
   "execution_count": 73,
   "id": "1743757d-8a98-45ac-a347-e4fba7933e19",
   "metadata": {},
   "outputs": [
    {
     "name": "stdout",
     "output_type": "stream",
     "text": [
      "loss train: 2.350419044494629, acc_train: 0.1\n",
      "loss train: 2.2174603939056396, acc_train: 0.21\n",
      "loss train: 2.1183176040649414, acc_train: 0.92\n",
      "loss train: 2.1150474548339844, acc_train: 0.69\n",
      "loss train: 2.0140609741210938, acc_train: 0.71\n",
      "loss train: 1.9636225700378418, acc_train: 0.78\n",
      "loss train: 1.865300178527832, acc_train: 0.87\n",
      "loss train: 1.7489840984344482, acc_train: 1.0\n",
      "loss train: 1.6692309379577637, acc_train: 1.0\n",
      "loss train: 1.6515741348266602, acc_train: 1.0\n",
      "loss train: 1.6731828451156616, acc_train: 0.99\n",
      "loss train: 1.4895453453063965, acc_train: 1.0\n",
      "loss train: 1.4077165126800537, acc_train: 1.0\n",
      "loss train: 1.3147785663604736, acc_train: 1.0\n",
      "loss train: 1.2647818326950073, acc_train: 1.0\n",
      "loss train: 1.1701388359069824, acc_train: 1.0\n",
      "loss train: 1.0870307683944702, acc_train: 1.0\n",
      "loss train: 1.0515820980072021, acc_train: 1.0\n",
      "loss train: 0.9821707010269165, acc_train: 1.0\n",
      "loss train: 0.9116523265838623, acc_train: 1.0\n",
      "Acc train 1.0, Acc test 0.1827\n"
     ]
    }
   ],
   "source": [
    "# CIFAR Sync Data set\n",
    "ResNet = get_network('ResNet18',channel,num_classes,im_size).to(device)\n",
    "\n",
    "acc_train,acc_test = train_with_dataset(ResNet, cifar_images_sync, cifar_labels_sync, testloader, device)\n",
    "print(\"Acc train {}, Acc test {}\".format(acc_train, acc_test))"
   ]
  },
  {
   "cell_type": "code",
   "execution_count": null,
   "id": "fe67c486-41f1-4480-8833-2de2f0dfd160",
   "metadata": {},
   "outputs": [],
   "source": []
  }
 ],
 "metadata": {
  "kernelspec": {
   "display_name": "Python 3 (ipykernel)",
   "language": "python",
   "name": "python3"
  },
  "language_info": {
   "codemirror_mode": {
    "name": "ipython",
    "version": 3
   },
   "file_extension": ".py",
   "mimetype": "text/x-python",
   "name": "python",
   "nbconvert_exporter": "python",
   "pygments_lexer": "ipython3",
   "version": "3.8.15"
  }
 },
 "nbformat": 4,
 "nbformat_minor": 5
}
