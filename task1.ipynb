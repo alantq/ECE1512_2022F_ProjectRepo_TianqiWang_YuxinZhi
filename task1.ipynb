{
 "cells": [
  {
   "cell_type": "code",
   "execution_count": 5,
   "id": "c2c8e558-b0d0-4630-a512-c0fd68dd326b",
   "metadata": {},
   "outputs": [],
   "source": [
    "# Pissible need package install if needed\n",
    "\n",
    "#Used for import function from other ipynb file\n",
    "#pip install ipynb\n",
    "\n",
    "#Install pytorch\n",
    "#pip install pytorch"
   ]
  },
  {
   "cell_type": "code",
   "execution_count": 17,
   "id": "b2cb6855-e8e0-4a39-9619-5333c7ad1a9b",
   "metadata": {
    "tags": []
   },
   "outputs": [],
   "source": [
    "import os\n",
    "import time\n",
    "import copy\n",
    "import numpy as np\n",
    "import torch\n",
    "import torch.nn as nn\n",
    "from torchvision.utils import save_image\n",
    "from ipynb.fs.full.utils import get_loops, get_dataset, get_network, get_eval_pool, evaluate_synset, get_daparam, match_loss, get_time, TensorDataset, epoch, DiffAugment, ParamDiffAug"
   ]
  },
  {
   "cell_type": "code",
   "execution_count": 18,
   "id": "fceca165-a5f7-4398-b665-114319706230",
   "metadata": {},
   "outputs": [],
   "source": [
    "mnist_data = \"mnist_data\"\n",
    "mnist_result = \"mnist_result\"\n",
    "\n",
    "if not os.path.exists(mnist_data):\n",
    "    os.mkdir(mnist_data)\n",
    "\n",
    "if not os.path.exists(mnist_result):\n",
    "    os.mkdir(mnist_result)\n",
    "\n",
    "cifar_data = \"cifar_data\"\n",
    "cifar_result = \"cifar_result\"\n",
    "\n",
    "if not os.path.exists(cifar_data):\n",
    "    os.mkdir(cifar_data)\n",
    "\n",
    "if not os.path.exists(cifar_result):\n",
    "    os.mkdir(cifar_result)\n"
   ]
  },
  {
   "cell_type": "code",
   "execution_count": 19,
   "id": "f50a8841-e64b-43be-8387-4ea880657e4f",
   "metadata": {},
   "outputs": [
    {
     "name": "stdout",
     "output_type": "stream",
     "text": [
      "cuda\n"
     ]
    }
   ],
   "source": [
    "device = 'cuda' if torch.cuda.is_available() else 'cpu'\n",
    "print(device)"
   ]
  },
  {
   "cell_type": "code",
   "execution_count": 20,
   "id": "b571b484-cf36-464f-b868-4c129e8c5149",
   "metadata": {},
   "outputs": [],
   "source": [
    "#load data\n",
    "channel, im_size, num_classes, class_names, mean, std, dst_train, dst_test, testloader = get_dataset('MNIST',mnist_data)"
   ]
  },
  {
   "cell_type": "code",
   "execution_count": 21,
   "id": "c89ef0e6-652f-426f-a623-61a7bd2df5d4",
   "metadata": {},
   "outputs": [],
   "source": [
    "images_all = []\n",
    "labels_all = []\n",
    "indices_class = [[] for c in range(num_classes)]"
   ]
  },
  {
   "cell_type": "code",
   "execution_count": 22,
   "id": "54870a5a-210d-455f-80af-8ba54c2602a7",
   "metadata": {},
   "outputs": [],
   "source": [
    "images_all = [torch.unsqueeze(dst_train[i][0], dim=0) for i in range(len(dst_train))]\n",
    "labels_all = [dst_train[i][1] for i in range(len(dst_train))]"
   ]
  },
  {
   "cell_type": "code",
   "execution_count": 23,
   "id": "bf77ccae-f290-40fe-a4ea-3bc0f78c85d1",
   "metadata": {},
   "outputs": [],
   "source": [
    "for i, lab in enumerate(labels_all):\n",
    "    indices_class[lab].append(i)\n",
    "images_all = torch.cat(images_all, dim=0).to(device)\n",
    "labels_all = torch.tensor(labels_all, dtype=torch.long, device=device)"
   ]
  },
  {
   "cell_type": "code",
   "execution_count": 24,
   "id": "fe7afe04-555e-4964-bca7-1bd60b052dc2",
   "metadata": {},
   "outputs": [
    {
     "name": "stdout",
     "output_type": "stream",
     "text": [
      "class c = 0: 5923 real images\n",
      "class c = 1: 6742 real images\n",
      "class c = 2: 5958 real images\n",
      "class c = 3: 6131 real images\n",
      "class c = 4: 5842 real images\n",
      "class c = 5: 5421 real images\n",
      "class c = 6: 5918 real images\n",
      "class c = 7: 6265 real images\n",
      "class c = 8: 5851 real images\n",
      "class c = 9: 5949 real images\n"
     ]
    }
   ],
   "source": [
    "for c in range(num_classes):\n",
    "    print('class c = %d: %d real images'%(c, len(indices_class[c])))"
   ]
  },
  {
   "cell_type": "code",
   "execution_count": 25,
   "id": "8e28a205-13de-4662-a05f-2073dd641008",
   "metadata": {},
   "outputs": [],
   "source": [
    "#Get the net\n",
    "ConvNet = get_network('ConvNet',channel,num_classes,im_size).to(device)"
   ]
  },
  {
   "cell_type": "code",
   "execution_count": 30,
   "id": "95850f92-42bb-41ab-a704-50a42c07264d",
   "metadata": {},
   "outputs": [],
   "source": [
    "#first train with dataset\n",
    "def epoch(mode, dataloader, net, optimizer, criterion,device):\n",
    "    loss_avg, acc_avg, num_exp = 0,0,0\n",
    "    net = net.to(device)\n",
    "    criterion = criterion.to(device)\n",
    "    if mode == 'train':\n",
    "        net.train()\n",
    "    else:\n",
    "        net.eval()\n",
    "    scheduler = torch.optim.lr_scheduler.CosineAnnealingLR(optimizer, T_max = 10)\n",
    "    for i_batch,datum in enumerate(dataloader):\n",
    "        img = datum[0].float().to(device)\n",
    "        lab = datum[1].long().to(device)\n",
    "        n_b = lab.shape[0]\n",
    "        \n",
    "        output = net(img)\n",
    "        loss = criterion(output,lab)\n",
    "        acc = np.sum(np.equal(np.argmax(output.cpu().data.numpy(), axis=-1), lab.cpu().data.numpy()))\n",
    "        \n",
    "        loss_avg += loss.item()*n_b\n",
    "        acc_avg += acc\n",
    "        num_exp += n_b\n",
    "        \n",
    "        if mode == 'train':\n",
    "            optimizer.zero_grad()\n",
    "            loss.backward()\n",
    "            optimizer.step()\n",
    "            scheduler.step()\n",
    "    loss_avg /= num_exp\n",
    "    acc_avg /= num_exp\n",
    "    \n",
    "    return loss_avg, acc_avg\n",
    "\n",
    "\n",
    "def train_with_dataset(net, images_train, labels_train, testloader,device):\n",
    "    net = net.to(device)\n",
    "    images_train = images_train.to(device)\n",
    "    labels_train = labels_train.to(device)\n",
    "    lr = 0.01\n",
    "    Epoch = 20\n",
    "    optimizer = torch.optim.SGD(net.parameters(), lr = lr, momentum = 0.9, weight_decay = 0.0005)\n",
    "    criterion = nn.CrossEntropyLoss().to(device)\n",
    "    dst_train = TensorDataset(images_train,labels_train)\n",
    "    trainloader = torch.utils.data.DataLoader(dst_train, batch_size = 256, shuffle = True, num_workers = 0)\n",
    "    for ep in range(Epoch):\n",
    "        loss_train, acc_train = epoch('train',trainloader, net, optimizer, criterion, device)\n",
    "        print(\"loss train: {}, acc_trainL {}\".format(loss_train, acc_train))\n",
    "    loss_test, acc_test = epoch('test', testloader, net, optimizer, criterion, device)\n",
    "    #print('%s Evaluate_%02d: epoch = %04d train time = %d s train loss = %.6f train acc = %.4f, test acc = %.4f' % (get_time(), it_eval, Epoch, int(time_train), loss_train, acc_train, acc_test))\n",
    "    return acc_train, acc_test\n"
   ]
  },
  {
   "cell_type": "code",
   "execution_count": 31,
   "id": "004d8c48-7c13-414a-84c4-d5f0f116df9d",
   "metadata": {},
   "outputs": [],
   "source": [
    "ConvNet = get_network('ConvNet',channel,num_classes,im_size).to(device)\n",
    "images, labels = copy.deepcopy(images_all.detach()), copy.deepcopy(labels_all.detach())"
   ]
  },
  {
   "cell_type": "code",
   "execution_count": 32,
   "id": "96773976-9554-44bd-a980-fa559b1961da",
   "metadata": {},
   "outputs": [
    {
     "name": "stdout",
     "output_type": "stream",
     "text": [
      "loss train: 0.2845669314642747, acc_trainL 0.9305\n",
      "loss train: 0.07055715382099152, acc_trainL 0.98095\n",
      "loss train: 0.051819219532608984, acc_trainL 0.9856833333333334\n",
      "loss train: 0.0431235013773044, acc_trainL 0.9882333333333333\n",
      "loss train: 0.03930354802906513, acc_trainL 0.9890333333333333\n",
      "loss train: 0.03349100859761238, acc_trainL 0.9910666666666667\n",
      "loss train: 0.030719790793458622, acc_trainL 0.9916166666666667\n",
      "loss train: 0.028566329753398897, acc_trainL 0.9921666666666666\n",
      "loss train: 0.027640800115962823, acc_trainL 0.9923666666666666\n",
      "loss train: 0.0252966020449996, acc_trainL 0.9929666666666667\n",
      "loss train: 0.023900788811345896, acc_trainL 0.9934333333333333\n",
      "loss train: 0.022544928916792075, acc_trainL 0.9939833333333333\n",
      "loss train: 0.019872964514543612, acc_trainL 0.9947\n",
      "loss train: 0.018982830706238747, acc_trainL 0.9950833333333333\n",
      "loss train: 0.01840347923139731, acc_trainL 0.9953666666666666\n",
      "loss train: 0.01773046632607778, acc_trainL 0.9957\n",
      "loss train: 0.016535125508904458, acc_trainL 0.9959333333333333\n",
      "loss train: 0.015277041118343672, acc_trainL 0.9964666666666666\n",
      "loss train: 0.01572567803064982, acc_trainL 0.9962333333333333\n",
      "loss train: 0.013919465330243111, acc_trainL 0.9967166666666667\n"
     ]
    },
    {
     "ename": "NameError",
     "evalue": "name 'it_eval' is not defined",
     "output_type": "error",
     "traceback": [
      "\u001b[1;31m---------------------------------------------------------------------------\u001b[0m",
      "\u001b[1;31mNameError\u001b[0m                                 Traceback (most recent call last)",
      "\u001b[1;32m~\\AppData\\Local\\Temp\\ipykernel_9548\\4148002279.py\u001b[0m in \u001b[0;36m<module>\u001b[1;34m\u001b[0m\n\u001b[1;32m----> 1\u001b[1;33m \u001b[0macc_train\u001b[0m\u001b[1;33m,\u001b[0m\u001b[0macc_test\u001b[0m \u001b[1;33m=\u001b[0m \u001b[0mtrain_with_dataset\u001b[0m\u001b[1;33m(\u001b[0m\u001b[0mConvNet\u001b[0m\u001b[1;33m,\u001b[0m\u001b[0mimages\u001b[0m\u001b[1;33m,\u001b[0m \u001b[0mlabels\u001b[0m\u001b[1;33m,\u001b[0m \u001b[0mtestloader\u001b[0m\u001b[1;33m,\u001b[0m \u001b[0mdevice\u001b[0m\u001b[1;33m)\u001b[0m\u001b[1;33m\u001b[0m\u001b[1;33m\u001b[0m\u001b[0m\n\u001b[0m\u001b[0;32m      2\u001b[0m \u001b[0mprint\u001b[0m\u001b[1;33m(\u001b[0m\u001b[1;34m\"Acc train {}, Acc test {}\"\u001b[0m\u001b[1;33m.\u001b[0m\u001b[0mformat\u001b[0m\u001b[1;33m(\u001b[0m\u001b[0macc_train\u001b[0m\u001b[1;33m,\u001b[0m \u001b[0macc_test\u001b[0m\u001b[1;33m)\u001b[0m\u001b[1;33m)\u001b[0m\u001b[1;33m\u001b[0m\u001b[1;33m\u001b[0m\u001b[0m\n",
      "\u001b[1;32m~\\AppData\\Local\\Temp\\ipykernel_9548\\2046242239.py\u001b[0m in \u001b[0;36mtrain_with_dataset\u001b[1;34m(net, images_train, labels_train, testloader, device)\u001b[0m\n\u001b[0;32m     47\u001b[0m         \u001b[0mprint\u001b[0m\u001b[1;33m(\u001b[0m\u001b[1;34m\"loss train: {}, acc_trainL {}\"\u001b[0m\u001b[1;33m.\u001b[0m\u001b[0mformat\u001b[0m\u001b[1;33m(\u001b[0m\u001b[0mloss_train\u001b[0m\u001b[1;33m,\u001b[0m \u001b[0macc_train\u001b[0m\u001b[1;33m)\u001b[0m\u001b[1;33m)\u001b[0m\u001b[1;33m\u001b[0m\u001b[1;33m\u001b[0m\u001b[0m\n\u001b[0;32m     48\u001b[0m     \u001b[0mloss_test\u001b[0m\u001b[1;33m,\u001b[0m \u001b[0macc_test\u001b[0m \u001b[1;33m=\u001b[0m \u001b[0mepoch\u001b[0m\u001b[1;33m(\u001b[0m\u001b[1;34m'test'\u001b[0m\u001b[1;33m,\u001b[0m \u001b[0mtestloader\u001b[0m\u001b[1;33m,\u001b[0m \u001b[0mnet\u001b[0m\u001b[1;33m,\u001b[0m \u001b[0moptimizer\u001b[0m\u001b[1;33m,\u001b[0m \u001b[0mcriterion\u001b[0m\u001b[1;33m,\u001b[0m \u001b[0mdevice\u001b[0m\u001b[1;33m)\u001b[0m\u001b[1;33m\u001b[0m\u001b[1;33m\u001b[0m\u001b[0m\n\u001b[1;32m---> 49\u001b[1;33m     \u001b[0mprint\u001b[0m\u001b[1;33m(\u001b[0m\u001b[1;34m'%s Evaluate_%02d: epoch = %04d train time = %d s train loss = %.6f train acc = %.4f, test acc = %.4f'\u001b[0m \u001b[1;33m%\u001b[0m \u001b[1;33m(\u001b[0m\u001b[0mget_time\u001b[0m\u001b[1;33m(\u001b[0m\u001b[1;33m)\u001b[0m\u001b[1;33m,\u001b[0m \u001b[0mit_eval\u001b[0m\u001b[1;33m,\u001b[0m \u001b[0mEpoch\u001b[0m\u001b[1;33m,\u001b[0m \u001b[0mint\u001b[0m\u001b[1;33m(\u001b[0m\u001b[0mtime_train\u001b[0m\u001b[1;33m)\u001b[0m\u001b[1;33m,\u001b[0m \u001b[0mloss_train\u001b[0m\u001b[1;33m,\u001b[0m \u001b[0macc_train\u001b[0m\u001b[1;33m,\u001b[0m \u001b[0macc_test\u001b[0m\u001b[1;33m)\u001b[0m\u001b[1;33m)\u001b[0m\u001b[1;33m\u001b[0m\u001b[1;33m\u001b[0m\u001b[0m\n\u001b[0m\u001b[0;32m     50\u001b[0m     \u001b[1;32mreturn\u001b[0m \u001b[0macc_train\u001b[0m\u001b[1;33m,\u001b[0m \u001b[0macc_test\u001b[0m\u001b[1;33m\u001b[0m\u001b[1;33m\u001b[0m\u001b[0m\n",
      "\u001b[1;31mNameError\u001b[0m: name 'it_eval' is not defined"
     ]
    }
   ],
   "source": [
    "acc_train,acc_test = train_with_dataset(ConvNet,images, labels, testloader, device)\n",
    "print(\"Acc train {}, Acc test {}\".format(acc_train, acc_test))"
   ]
  },
  {
   "cell_type": "code",
   "execution_count": null,
   "id": "f87aa2d7-5fd8-43ed-af5a-f4701fc5017f",
   "metadata": {},
   "outputs": [],
   "source": []
  }
 ],
 "metadata": {
  "kernelspec": {
   "display_name": "Python 3 (ipykernel)",
   "language": "python",
   "name": "python3"
  },
  "language_info": {
   "codemirror_mode": {
    "name": "ipython",
    "version": 3
   },
   "file_extension": ".py",
   "mimetype": "text/x-python",
   "name": "python",
   "nbconvert_exporter": "python",
   "pygments_lexer": "ipython3",
   "version": "3.9.13"
  }
 },
 "nbformat": 4,
 "nbformat_minor": 5
}
