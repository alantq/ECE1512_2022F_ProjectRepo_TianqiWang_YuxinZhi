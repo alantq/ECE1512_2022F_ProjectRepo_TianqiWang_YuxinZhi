{
 "cells": [
  {
   "cell_type": "code",
   "execution_count": 1,
   "id": "c2c8e558-b0d0-4630-a512-c0fd68dd326b",
   "metadata": {},
   "outputs": [],
   "source": [
    "# Pissible need package install if needed\n",
    "\n",
    "#Used for import function from other ipynb file\n",
    "#pip install ipynb\n",
    "\n",
    "#Install pytorch\n",
    "#pip install pytorch"
   ]
  },
  {
   "cell_type": "code",
   "execution_count": 1,
   "id": "b2cb6855-e8e0-4a39-9619-5333c7ad1a9b",
   "metadata": {
    "tags": []
   },
   "outputs": [],
   "source": [
    "import os\n",
    "import time\n",
    "import copy\n",
    "import numpy as np\n",
    "import torch\n",
    "import torch.nn as nn\n",
    "from torchvision.utils import save_image\n",
    "from ipynb.fs.full.utils import get_loops, get_dataset, get_network, get_eval_pool, evaluate_synset, get_daparam, match_loss, get_time, TensorDataset, epoch, DiffAugment, ParamDiffAug"
   ]
  },
  {
   "cell_type": "code",
   "execution_count": 2,
   "id": "fceca165-a5f7-4398-b665-114319706230",
   "metadata": {},
   "outputs": [],
   "source": [
    "mnist_data = \"mnist_data\"\n",
    "mnist_result = \"mnist_result\"\n",
    "\n",
    "if not os.path.exists(mnist_data):\n",
    "    os.mkdir(mnist_data)\n",
    "\n",
    "if not os.path.exists(mnist_result):\n",
    "    os.mkdir(mnist_result)\n",
    "\n",
    "cifar_data = \"cifar_data\"\n",
    "cifar_result = \"cifar_result\"\n",
    "\n",
    "if not os.path.exists(cifar_data):\n",
    "    os.mkdir(cifar_data)\n",
    "\n",
    "if not os.path.exists(cifar_result):\n",
    "    os.mkdir(cifar_result)\n"
   ]
  },
  {
   "cell_type": "code",
   "execution_count": 3,
   "id": "b571b484-cf36-464f-b868-4c129e8c5149",
   "metadata": {},
   "outputs": [
    {
     "data": {
      "text/plain": [
       "(1,\n",
       " (28, 28),\n",
       " 10,\n",
       " ['0', '1', '2', '3', '4', '5', '6', '7', '8', '9'],\n",
       " [0.1307],\n",
       " [0.3081],\n",
       " Dataset MNIST\n",
       "     Number of datapoints: 60000\n",
       "     Root location: mnist_data\n",
       "     Split: Train\n",
       "     StandardTransform\n",
       " Transform: Compose(\n",
       "                ToTensor()\n",
       "                Normalize(mean=[0.1307], std=[0.3081])\n",
       "            ),\n",
       " Dataset MNIST\n",
       "     Number of datapoints: 10000\n",
       "     Root location: mnist_data\n",
       "     Split: Test\n",
       "     StandardTransform\n",
       " Transform: Compose(\n",
       "                ToTensor()\n",
       "                Normalize(mean=[0.1307], std=[0.3081])\n",
       "            ),\n",
       " <torch.utils.data.dataloader.DataLoader at 0x7feed1c16520>)"
      ]
     },
     "execution_count": 3,
     "metadata": {},
     "output_type": "execute_result"
    }
   ],
   "source": [
    "#load data\n",
    "channel, im_size, num_classes, class_names, mean, std, dst_train, dst_test, testloader = get_dataset('MNIST',mnist_data)"
   ]
  },
  {
   "cell_type": "code",
   "execution_count": null,
   "id": "c89ef0e6-652f-426f-a623-61a7bd2df5d4",
   "metadata": {},
   "outputs": [],
   "source": []
  }
 ],
 "metadata": {
  "kernelspec": {
   "display_name": "Python 3 (ipykernel)",
   "language": "python",
   "name": "python3"
  },
  "language_info": {
   "codemirror_mode": {
    "name": "ipython",
    "version": 3
   },
   "file_extension": ".py",
   "mimetype": "text/x-python",
   "name": "python",
   "nbconvert_exporter": "python",
   "pygments_lexer": "ipython3",
   "version": "3.9.12"
  }
 },
 "nbformat": 4,
 "nbformat_minor": 5
}
