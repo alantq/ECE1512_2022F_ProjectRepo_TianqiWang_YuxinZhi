{
 "cells": [
  {
   "cell_type": "code",
   "execution_count": 3,
   "id": "c2c8e558-b0d0-4630-a512-c0fd68dd326b",
   "metadata": {},
   "outputs": [],
   "source": [
    "# Pissible need package install if needed\n",
    "\n",
    "#Used for import function from other ipynb file\n",
    "#pip install ipynb\n",
    "\n",
    "#Install pytorch\n",
    "#pip install pytorch"
   ]
  },
  {
   "cell_type": "code",
   "execution_count": 1,
   "id": "a47390e5-5a62-477b-80b7-f031ab35ae2b",
   "metadata": {},
   "outputs": [],
   "source": [
    "import torch"
   ]
  },
  {
   "cell_type": "code",
   "execution_count": 88,
   "id": "b2cb6855-e8e0-4a39-9619-5333c7ad1a9b",
   "metadata": {
    "tags": []
   },
   "outputs": [],
   "source": [
    "import os\n",
    "import time\n",
    "import copy\n",
    "import numpy as np\n",
    "import torch\n",
    "import torch.nn as nn\n",
    "import argparse\n",
    "from torchvision.utils import save_image\n",
    "from ipynb.fs.full.utils import get_loops, get_dataset, get_network, get_eval_pool, evaluate_synset, get_daparam, match_loss, get_time, TensorDataset, DiffAugment, ParamDiffAug\n",
    "import matplotlib.pyplot as plt"
   ]
  },
  {
   "cell_type": "code",
   "execution_count": 8,
   "id": "fceca165-a5f7-4398-b665-114319706230",
   "metadata": {},
   "outputs": [],
   "source": [
    "mnist_data = \"mnist_data\"\n",
    "mnist_result = \"mnist_result\"\n",
    "\n",
    "if not os.path.exists(mnist_data):\n",
    "    os.mkdir(mnist_data)\n",
    "\n",
    "if not os.path.exists(mnist_result):\n",
    "    os.mkdir(mnist_result)\n",
    "\n",
    "cifar_data = \"cifar_data\"\n",
    "cifar_result = \"cifar_result\"\n",
    "\n",
    "if not os.path.exists(cifar_data):\n",
    "    os.mkdir(cifar_data)\n",
    "\n",
    "if not os.path.exists(cifar_result):\n",
    "    os.mkdir(cifar_result)\n"
   ]
  },
  {
   "cell_type": "code",
   "execution_count": 9,
   "id": "f50a8841-e64b-43be-8387-4ea880657e4f",
   "metadata": {},
   "outputs": [
    {
     "name": "stdout",
     "output_type": "stream",
     "text": [
      "cuda\n"
     ]
    }
   ],
   "source": [
    "device = 'cuda' if torch.cuda.is_available() else 'cpu'\n",
    "print(device)"
   ]
  },
  {
   "cell_type": "code",
   "execution_count": 127,
   "id": "b571b484-cf36-464f-b868-4c129e8c5149",
   "metadata": {},
   "outputs": [],
   "source": [
    "#load data\n",
    "channel, im_size, num_classes, class_names, mean, std, dst_train, dst_test, testloader = get_dataset('MNIST',mnist_data)"
   ]
  },
  {
   "cell_type": "code",
   "execution_count": 128,
   "id": "c89ef0e6-652f-426f-a623-61a7bd2df5d4",
   "metadata": {},
   "outputs": [],
   "source": [
    "images_all = []\n",
    "labels_all = []\n",
    "indices_class = [[] for c in range(num_classes)]"
   ]
  },
  {
   "cell_type": "code",
   "execution_count": 129,
   "id": "54870a5a-210d-455f-80af-8ba54c2602a7",
   "metadata": {},
   "outputs": [],
   "source": [
    "images_all = [torch.unsqueeze(dst_train[i][0], dim=0) for i in range(len(dst_train))]\n",
    "labels_all = [dst_train[i][1] for i in range(len(dst_train))]"
   ]
  },
  {
   "cell_type": "code",
   "execution_count": 130,
   "id": "bf77ccae-f290-40fe-a4ea-3bc0f78c85d1",
   "metadata": {},
   "outputs": [],
   "source": [
    "for i, lab in enumerate(labels_all):\n",
    "    indices_class[lab].append(i)\n",
    "images_all = torch.cat(images_all, dim=0).to(device)\n",
    "labels_all = torch.tensor(labels_all, dtype=torch.long, device=device)"
   ]
  },
  {
   "cell_type": "code",
   "execution_count": 131,
   "id": "fe7afe04-555e-4964-bca7-1bd60b052dc2",
   "metadata": {},
   "outputs": [
    {
     "name": "stdout",
     "output_type": "stream",
     "text": [
      "class c = 0: 5923 real images\n",
      "class c = 1: 6742 real images\n",
      "class c = 2: 5958 real images\n",
      "class c = 3: 6131 real images\n",
      "class c = 4: 5842 real images\n",
      "class c = 5: 5421 real images\n",
      "class c = 6: 5918 real images\n",
      "class c = 7: 6265 real images\n",
      "class c = 8: 5851 real images\n",
      "class c = 9: 5949 real images\n"
     ]
    }
   ],
   "source": [
    "for c in range(num_classes):\n",
    "    print('class c = %d: %d real images'%(c, len(indices_class[c])))"
   ]
  },
  {
   "cell_type": "markdown",
   "id": "901717a1-adcb-4328-af9f-5d1e5bd7c274",
   "metadata": {},
   "source": [
    "# 2 a"
   ]
  },
  {
   "cell_type": "code",
   "execution_count": 132,
   "id": "8e28a205-13de-4662-a05f-2073dd641008",
   "metadata": {},
   "outputs": [],
   "source": [
    "#Get the net\n",
    "ConvNet = get_network('ConvNet',channel,num_classes,im_size).to(device)"
   ]
  },
  {
   "cell_type": "code",
   "execution_count": 133,
   "id": "95850f92-42bb-41ab-a704-50a42c07264d",
   "metadata": {},
   "outputs": [],
   "source": [
    "#first train with dataset\n",
    "def epoch(mode, dataloader, net, optimizer, criterion,device):\n",
    "    loss_avg, acc_avg, num_exp = 0,0,0\n",
    "    net = net.to(device)\n",
    "    criterion = criterion.to(device)\n",
    "    if mode == 'train':\n",
    "        net.train()\n",
    "    else:\n",
    "        net.eval()\n",
    "    scheduler = torch.optim.lr_scheduler.CosineAnnealingLR(optimizer, T_max = 10)\n",
    "    for i_batch,datum in enumerate(dataloader):\n",
    "        img = datum[0].float().to(device)\n",
    "        lab = datum[1].long().to(device)\n",
    "        n_b = lab.shape[0]\n",
    "        \n",
    "        output = net(img)\n",
    "        loss = criterion(output,lab)\n",
    "        acc = np.sum(np.equal(np.argmax(output.cpu().data.numpy(), axis=-1), lab.cpu().data.numpy()))\n",
    "        \n",
    "        loss_avg += loss.item()*n_b\n",
    "        acc_avg += acc\n",
    "        num_exp += n_b\n",
    "        \n",
    "        if mode == 'train':\n",
    "            optimizer.zero_grad()\n",
    "            loss.backward()\n",
    "            optimizer.step()\n",
    "            scheduler.step()\n",
    "    loss_avg /= num_exp\n",
    "    acc_avg /= num_exp\n",
    "    \n",
    "    return loss_avg, acc_avg\n",
    "\n",
    "\n",
    "def train_with_dataset(net, images_train, labels_train, testloader,device):\n",
    "    net = net.to(device)\n",
    "    images_train = images_train.to(device)\n",
    "    labels_train = labels_train.to(device)\n",
    "    lr = 0.01\n",
    "    Epoch = 20\n",
    "    optimizer = torch.optim.SGD(net.parameters(), lr = lr, momentum = 0.9, weight_decay = 0.0005)\n",
    "    criterion = nn.CrossEntropyLoss().to(device)\n",
    "    dst_train = TensorDataset(images_train,labels_train)\n",
    "    trainloader = torch.utils.data.DataLoader(dst_train, batch_size = 256, shuffle = True, num_workers = 0)\n",
    "    for ep in range(Epoch):\n",
    "        loss_train, acc_train = epoch('train',trainloader, net, optimizer, criterion, device)\n",
    "        print(\"loss train: {}, acc_train: {}\".format(loss_train, acc_train))\n",
    "    loss_test, acc_test = epoch('test', testloader, net, optimizer, criterion, device)\n",
    "    return acc_train, acc_test\n"
   ]
  },
  {
   "cell_type": "code",
   "execution_count": 134,
   "id": "004d8c48-7c13-414a-84c4-d5f0f116df9d",
   "metadata": {},
   "outputs": [],
   "source": [
    "ConvNet = get_network('ConvNet',channel,num_classes,im_size).to(device)\n",
    "images, labels = copy.deepcopy(images_all.detach()), copy.deepcopy(labels_all.detach())"
   ]
  },
  {
   "cell_type": "code",
   "execution_count": 135,
   "id": "96773976-9554-44bd-a980-fa559b1961da",
   "metadata": {},
   "outputs": [
    {
     "name": "stdout",
     "output_type": "stream",
     "text": [
      "loss train: 0.2813450437903404, acc_train: 0.9336333333333333\n",
      "loss train: 0.07174733942349752, acc_train: 0.98135\n",
      "loss train: 0.052296118489901226, acc_train: 0.98575\n",
      "loss train: 0.04291417036851247, acc_train: 0.9884\n",
      "loss train: 0.0410687867924571, acc_train: 0.9888\n",
      "loss train: 0.034195215247074764, acc_train: 0.9909\n",
      "loss train: 0.030782918323079746, acc_train: 0.9917333333333334\n",
      "loss train: 0.02806105834444364, acc_train: 0.99255\n",
      "loss train: 0.025210503802696863, acc_train: 0.9931833333333333\n",
      "loss train: 0.02548946618984143, acc_train: 0.9929166666666667\n",
      "loss train: 0.022979000716408095, acc_train: 0.9939\n",
      "loss train: 0.022479002445936203, acc_train: 0.9939333333333333\n",
      "loss train: 0.020719313219189645, acc_train: 0.9946\n",
      "loss train: 0.020362074918548266, acc_train: 0.9947333333333334\n",
      "loss train: 0.018947665725151698, acc_train: 0.995\n",
      "loss train: 0.018022723152240117, acc_train: 0.9952166666666666\n",
      "loss train: 0.015779156557718912, acc_train: 0.9962666666666666\n",
      "loss train: 0.015445921871066094, acc_train: 0.99625\n",
      "loss train: 0.014895461209615072, acc_train: 0.99625\n",
      "loss train: 0.014686582281813026, acc_train: 0.9965333333333334\n",
      "Acc train 0.9965333333333334, Acc test 0.9941\n"
     ]
    }
   ],
   "source": [
    "acc_train,acc_test = train_with_dataset(ConvNet,images, labels, testloader, device)\n",
    "print(\"Acc train {}, Acc test {}\".format(acc_train, acc_test))"
   ]
  },
  {
   "cell_type": "markdown",
   "id": "d3139773-d072-4b3e-b6b3-58a4bf25e09b",
   "metadata": {},
   "source": [
    "# 2 b"
   ]
  },
  {
   "cell_type": "code",
   "execution_count": 136,
   "id": "5586d38c-5e76-48dd-862a-cae666e69dc6",
   "metadata": {},
   "outputs": [],
   "source": [
    "K = 100\n",
    "T = 10\n",
    "learningRateCondensedSamples = 0.1\n",
    "numberOptimizationSteps = 1\n",
    "learningRateModel = 0.01\n",
    "numberOfOptimizationSteps = 50\n",
    "ipc = 10\n",
    "miniBatchSize = 256"
   ]
  },
  {
   "cell_type": "code",
   "execution_count": 137,
   "id": "ca15a0fb-790a-4693-8010-49c79fdf4806",
   "metadata": {},
   "outputs": [
    {
     "name": "stderr",
     "output_type": "stream",
     "text": [
      "C:\\Users\\alanw\\AppData\\Local\\Temp\\ipykernel_4616\\3204847356.py:3: DeprecationWarning: an integer is required (got type numpy.float64).  Implicit conversion to integers using __int__ is deprecated, and may be removed in a future version of Python.\n",
      "  label_syn = torch.tensor([np.ones(ipc)*i for i in range(num_classes)], dtype=torch.long, requires_grad=False, device=device).view(-1) # [0,0,0, 1,1,1, ..., 9,9,9]\n"
     ]
    }
   ],
   "source": [
    "#initialize the synthetic data\n",
    "image_syn = torch.randn(size=(num_classes*ipc, channel, im_size[0], im_size[1]), dtype=torch.float, requires_grad=True, device=device)\n",
    "label_syn = torch.tensor([np.ones(ipc)*i for i in range(num_classes)], dtype=torch.long, requires_grad=False, device=device).view(-1) # [0,0,0, 1,1,1, ..., 9,9,9]\n"
   ]
  },
  {
   "cell_type": "code",
   "execution_count": 138,
   "id": "66ed6686-69f9-475c-8918-feb3b36d61e5",
   "metadata": {},
   "outputs": [],
   "source": [
    "def get_images(c, n): # get random n images from class c\n",
    "    idx_shuffle = np.random.permutation(indices_class[c])[:n]\n",
    "    return images_all[idx_shuffle]"
   ]
  },
  {
   "cell_type": "code",
   "execution_count": 139,
   "id": "2472e087-aae2-493f-8c09-c02a338924e3",
   "metadata": {},
   "outputs": [],
   "source": [
    "for c in range(num_classes):\n",
    "    image_syn.data[c*ipc:(c+1)*ipc] = get_images(c, ipc).detach().data"
   ]
  },
  {
   "cell_type": "code",
   "execution_count": 140,
   "id": "f326a630-1d64-44d3-8e17-5ab6995f527f",
   "metadata": {},
   "outputs": [],
   "source": [
    "#Train\n",
    "optimizer_img = torch.optim.SGD([image_syn], lr = learningRateCondensedSamples, momentum = 0.5)\n",
    "optimizer_img.zero_grad()\n",
    "criterion = nn.CrossEntropyLoss().to(device)"
   ]
  },
  {
   "cell_type": "code",
   "execution_count": 141,
   "id": "b741823b-bc50-49bd-b94c-8d3392bb2963",
   "metadata": {},
   "outputs": [],
   "source": [
    "net = get_network('ConvNet',channel,num_classes,im_size).to(device)\n",
    "net.train()\n",
    "net_parameters = list(net.parameters())\n",
    "optimizer_net = torch.optim.SGD(net.parameters(), lr = learningRateModel)\n",
    "optimizer_net.zero_grad()\n",
    "loss_avg = 0"
   ]
  },
  {
   "cell_type": "code",
   "execution_count": 142,
   "id": "e886eaf6-d49b-4e4d-b43b-406368c94124",
   "metadata": {},
   "outputs": [],
   "source": [
    "parser = argparse.ArgumentParser(description='Parameter Processing')\n",
    "parser.add_argument('--dis_metric', type=str, default='ours', help='distance metric')\n",
    "args, unknown = parser.parse_known_args()\n",
    "args.device = device"
   ]
  },
  {
   "cell_type": "code",
   "execution_count": 143,
   "id": "10d40f79-b4c8-4d0a-954f-26c243beb1fd",
   "metadata": {
    "scrolled": true,
    "tags": []
   },
   "outputs": [
    {
     "name": "stdout",
     "output_type": "stream",
     "text": [
      "Outer Loop 0\n",
      "Outer Loop 1\n",
      "Outer Loop 2\n",
      "Outer Loop 3\n",
      "Outer Loop 4\n",
      "Outer Loop 5\n",
      "Outer Loop 6\n",
      "Outer Loop 7\n",
      "Outer Loop 8\n",
      "Outer Loop 9\n",
      "Outer Loop 10\n",
      "Outer Loop 11\n",
      "Outer Loop 12\n",
      "Outer Loop 13\n",
      "Outer Loop 14\n",
      "Outer Loop 15\n",
      "Outer Loop 16\n",
      "Outer Loop 17\n",
      "Outer Loop 18\n",
      "Outer Loop 19\n",
      "Outer Loop 20\n",
      "Outer Loop 21\n",
      "Outer Loop 22\n",
      "Outer Loop 23\n",
      "Outer Loop 24\n",
      "Outer Loop 25\n",
      "Outer Loop 26\n",
      "Outer Loop 27\n",
      "Outer Loop 28\n",
      "Outer Loop 29\n",
      "Outer Loop 30\n",
      "Outer Loop 31\n",
      "Outer Loop 32\n",
      "Outer Loop 33\n",
      "Outer Loop 34\n",
      "Outer Loop 35\n",
      "Outer Loop 36\n",
      "Outer Loop 37\n",
      "Outer Loop 38\n",
      "Outer Loop 39\n",
      "Outer Loop 40\n",
      "Outer Loop 41\n",
      "Outer Loop 42\n",
      "Outer Loop 43\n",
      "Outer Loop 44\n",
      "Outer Loop 45\n",
      "Outer Loop 46\n",
      "Outer Loop 47\n",
      "Outer Loop 48\n",
      "Outer Loop 49\n",
      "Outer Loop 50\n",
      "Outer Loop 51\n",
      "Outer Loop 52\n",
      "Outer Loop 53\n",
      "Outer Loop 54\n",
      "Outer Loop 55\n",
      "Outer Loop 56\n",
      "Outer Loop 57\n",
      "Outer Loop 58\n",
      "Outer Loop 59\n",
      "Outer Loop 60\n",
      "Outer Loop 61\n",
      "Outer Loop 62\n",
      "Outer Loop 63\n",
      "Outer Loop 64\n",
      "Outer Loop 65\n",
      "Outer Loop 66\n",
      "Outer Loop 67\n",
      "Outer Loop 68\n",
      "Outer Loop 69\n",
      "Outer Loop 70\n",
      "Outer Loop 71\n",
      "Outer Loop 72\n",
      "Outer Loop 73\n",
      "Outer Loop 74\n",
      "Outer Loop 75\n",
      "Outer Loop 76\n",
      "Outer Loop 77\n",
      "Outer Loop 78\n",
      "Outer Loop 79\n",
      "Outer Loop 80\n",
      "Outer Loop 81\n",
      "Outer Loop 82\n",
      "Outer Loop 83\n",
      "Outer Loop 84\n",
      "Outer Loop 85\n",
      "Outer Loop 86\n",
      "Outer Loop 87\n",
      "Outer Loop 88\n",
      "Outer Loop 89\n",
      "Outer Loop 90\n",
      "Outer Loop 91\n",
      "Outer Loop 92\n",
      "Outer Loop 93\n",
      "Outer Loop 94\n",
      "Outer Loop 95\n",
      "Outer Loop 96\n",
      "Outer Loop 97\n",
      "Outer Loop 98\n",
      "Outer Loop 99\n",
      "loss = 19.5856\n"
     ]
    }
   ],
   "source": [
    "for ol in range(K):\n",
    "    loss = torch.tensor(0.0).to(device)\n",
    "    print(\"Outer Loop {}\".format(ol))\n",
    "    for c in range(num_classes):\n",
    "        img_real = get_images(c, miniBatchSize)\n",
    "        lab_real = torch.ones((img_real.shape[0],), device=device, dtype=torch.long) * c\n",
    "        img_syn = image_syn[c*ipc:(c+1)*ipc].reshape((ipc, channel, im_size[0], im_size[1]))\n",
    "        lab_syn = torch.ones((ipc,), device=device, dtype=torch.long) * c\n",
    "        \n",
    "        output_real = net(img_real)\n",
    "        loss_real = criterion(output_real, lab_real)\n",
    "        gw_real = torch.autograd.grad(loss_real, net_parameters)\n",
    "        gw_real = list((_.detach().clone() for _ in gw_real))\n",
    "        \n",
    "        output_syn = net(img_syn)\n",
    "        loss_syn = criterion(output_syn, lab_syn)\n",
    "        gw_syn = torch.autograd.grad(loss_syn, net_parameters, create_graph=True)\n",
    "        loss += match_loss(gw_syn, gw_real, args)\n",
    "    optimizer_img.zero_grad()\n",
    "    loss.backward()\n",
    "    optimizer_img.step()\n",
    "    loss_avg += loss.item()\n",
    "    \n",
    "    if ol == K - 1:\n",
    "        break\n",
    "    \n",
    "    ''' update network '''\n",
    "    image_syn_train, label_syn_train = copy.deepcopy(image_syn.detach()), copy.deepcopy(label_syn.detach())\n",
    "    dst_syn_train = TensorDataset(image_syn_train, label_syn_train)\n",
    "    trainloader = torch.utils.data.DataLoader(dst_syn_train, batch_size=miniBatchSize, shuffle=True, num_workers=0)\n",
    "    for il in range(T):\n",
    "        epoch('train', trainloader, net, optimizer_net, criterion, device)\n",
    "\n",
    "loss_avg /= (num_classes*K)\n",
    "print('loss = %.4f' % loss_avg)\n",
    "    "
   ]
  },
  {
   "cell_type": "code",
   "execution_count": 144,
   "id": "ca9a5b5c-d523-4a62-84a4-6a83d5f47dea",
   "metadata": {},
   "outputs": [
    {
     "name": "stdout",
     "output_type": "stream",
     "text": [
      "loss train: 2.3500776290893555, acc_train: 0.07\n",
      "loss train: 2.2080719470977783, acc_train: 0.25\n",
      "loss train: 2.039961099624634, acc_train: 0.5\n",
      "loss train: 1.867619514465332, acc_train: 0.55\n",
      "loss train: 1.6745489835739136, acc_train: 0.78\n",
      "loss train: 1.4927163124084473, acc_train: 0.9\n",
      "loss train: 1.3337702751159668, acc_train: 0.84\n",
      "loss train: 1.1803957223892212, acc_train: 0.85\n",
      "loss train: 1.0338361263275146, acc_train: 0.95\n",
      "loss train: 0.9048736691474915, acc_train: 0.97\n",
      "loss train: 0.7922200560569763, acc_train: 0.96\n",
      "loss train: 0.6895557641983032, acc_train: 0.97\n",
      "loss train: 0.5975948572158813, acc_train: 0.99\n",
      "loss train: 0.5200803279876709, acc_train: 0.99\n",
      "loss train: 0.4553050100803375, acc_train: 0.99\n",
      "loss train: 0.3994424343109131, acc_train: 0.99\n",
      "loss train: 0.35101428627967834, acc_train: 0.99\n",
      "loss train: 0.30995237827301025, acc_train: 1.0\n",
      "loss train: 0.2750681936740875, acc_train: 1.0\n",
      "loss train: 0.24459825456142426, acc_train: 1.0\n",
      "Acc train 1.0, Acc test 0.8817\n"
     ]
    }
   ],
   "source": [
    "ConvNet = get_network('ConvNet',channel,num_classes,im_size).to(device)\n",
    "\n",
    "#----------------------------------------MNIST result --------------------------------------------------------------------\n",
    "mnist_images_sync, mnist_labels_sync = copy.deepcopy(image_syn.detach()), copy.deepcopy(label_syn.detach())\n",
    "#----------------------------------------------------------------------------------------------------------------------------\n",
    "\n",
    "acc_train,acc_test = train_with_dataset(ConvNet,mnist_images_sync, mnist_labels_sync, testloader, device)\n",
    "print(\"Acc train {}, Acc test {}\".format(acc_train, acc_test))"
   ]
  },
  {
   "cell_type": "markdown",
   "id": "f3a9e5be-c2dd-4003-9eea-2c4f04b30ebe",
   "metadata": {},
   "source": [
    "# 1 c"
   ]
  },
  {
   "cell_type": "code",
   "execution_count": 145,
   "id": "87adb694-3ef5-4f1c-ae12-97674fe5865d",
   "metadata": {},
   "outputs": [
    {
     "data": {
      "image/png": "[encoded data removed]",
      "text/plain": [
       "<Figure size 640x480 with 10 Axes>"
      ]
     },
     "metadata": {},
     "output_type": "display_data"
    }
   ],
   "source": [
    "image_syn_vis = copy.deepcopy(image_syn.detach().cpu())\n",
    "for ch in range(channel):\n",
    "    image_syn_vis[:, ch] = image_syn_vis[:, ch]  * std[ch] + mean[ch]\n",
    "image_syn_vis[image_syn_vis<0] = 0.0\n",
    "image_syn_vis[image_syn_vis>1] = 1.0\n",
    "for i in range(10):\n",
    "    plt.subplot(2,5,i+1)\n",
    "    plt.imshow(image_syn_vis[0+i*10][0], cmap=plt.cm.gray)\n",
    "    ax = plt.gca()\n",
    "    ax.get_xaxis().set_visible(False)\n",
    "    ax.get_yaxis().set_visible(False)"
   ]
  },
  {
   "cell_type": "code",
   "execution_count": 146,
   "id": "b50c1c13-dceb-4eee-87c8-21b8e423be5e",
   "metadata": {},
   "outputs": [
    {
     "name": "stdout",
     "output_type": "stream",
     "text": [
      "Files already downloaded and verified\n",
      "Files already downloaded and verified\n"
     ]
    }
   ],
   "source": [
    "channel, im_size, num_classes, class_names, mean, std, dst_train, dst_test, testloader = get_dataset('CIFAR10',mnist_data)"
   ]
  },
  {
   "cell_type": "code",
   "execution_count": 147,
   "id": "265044e1-a48b-4e74-bd44-dd1fb4052a0a",
   "metadata": {},
   "outputs": [],
   "source": [
    "images_all = []\n",
    "labels_all = []\n",
    "indices_class = [[] for c in range(num_classes)]"
   ]
  },
  {
   "cell_type": "code",
   "execution_count": 148,
   "id": "48149048-d9e4-43ec-9710-3396c2bc4e92",
   "metadata": {},
   "outputs": [],
   "source": [
    "images_all = [torch.unsqueeze(dst_train[i][0], dim=0) for i in range(len(dst_train))]\n",
    "labels_all = [dst_train[i][1] for i in range(len(dst_train))]"
   ]
  },
  {
   "cell_type": "code",
   "execution_count": 149,
   "id": "f8c73e88-f109-4054-b86a-78554e85b509",
   "metadata": {},
   "outputs": [],
   "source": [
    "for i, lab in enumerate(labels_all):\n",
    "    indices_class[lab].append(i)\n",
    "images_all = torch.cat(images_all, dim=0).to(device)\n",
    "labels_all = torch.tensor(labels_all, dtype=torch.long, device=device)"
   ]
  },
  {
   "cell_type": "code",
   "execution_count": 150,
   "id": "0dde72bd-085c-48ab-b496-933f9e5aae0d",
   "metadata": {},
   "outputs": [],
   "source": [
    "#base line\n",
    "ConvNet = get_network('ConvNet',channel,num_classes,im_size).to(device)\n",
    "images, labels = copy.deepcopy(images_all.detach()), copy.deepcopy(labels_all.detach())"
   ]
  },
  {
   "cell_type": "code",
   "execution_count": 151,
   "id": "73fc819e-c8d2-453d-a805-aa10510d8df4",
   "metadata": {},
   "outputs": [
    {
     "name": "stdout",
     "output_type": "stream",
     "text": [
      "loss train: 1.5186413581085205, acc_train: 0.47404\n",
      "loss train: 1.0999914757919311, acc_train: 0.62014\n",
      "loss train: 0.9484160287857055, acc_train: 0.67376\n",
      "loss train: 0.8601027767562867, acc_train: 0.70638\n",
      "loss train: 0.7801035723495483, acc_train: 0.73186\n",
      "loss train: 0.731474999256134, acc_train: 0.75032\n",
      "loss train: 0.6833760660171508, acc_train: 0.76794\n",
      "loss train: 0.6455917256736755, acc_train: 0.78226\n",
      "loss train: 0.625276674041748, acc_train: 0.78964\n",
      "loss train: 0.5872163279914856, acc_train: 0.8023\n",
      "loss train: 0.5616978243827819, acc_train: 0.81006\n",
      "loss train: 0.5249532890224456, acc_train: 0.82452\n",
      "loss train: 0.5111388612556458, acc_train: 0.82762\n",
      "loss train: 0.4778921584510803, acc_train: 0.84074\n",
      "loss train: 0.4637912337112427, acc_train: 0.8458\n",
      "loss train: 0.44275431280136107, acc_train: 0.85252\n",
      "loss train: 0.41493288507461545, acc_train: 0.8647\n",
      "loss train: 0.4010163061618805, acc_train: 0.86872\n",
      "loss train: 0.3673111338710785, acc_train: 0.88172\n",
      "loss train: 0.35732473117828367, acc_train: 0.88566\n",
      "Acc train 0.88566, Acc test 0.7889\n"
     ]
    }
   ],
   "source": [
    "acc_train,acc_test = train_with_dataset(ConvNet,images, labels, testloader, device)\n",
    "print(\"Acc train {}, Acc test {}\".format(acc_train, acc_test))"
   ]
  },
  {
   "cell_type": "code",
   "execution_count": 152,
   "id": "3914301f-24cd-43e2-8887-f00496a7fa9c",
   "metadata": {},
   "outputs": [
    {
     "name": "stderr",
     "output_type": "stream",
     "text": [
      "C:\\Users\\alanw\\AppData\\Local\\Temp\\ipykernel_4616\\3004736898.py:3: DeprecationWarning: an integer is required (got type numpy.float64).  Implicit conversion to integers using __int__ is deprecated, and may be removed in a future version of Python.\n",
      "  label_syn = torch.tensor([np.ones(ipc)*i for i in range(num_classes)], dtype=torch.long, requires_grad=False, device=device).view(-1) # [0,0,0, 1,1,1, ..., 9,9,9]\n"
     ]
    }
   ],
   "source": [
    "#initialize syn image\n",
    "image_syn = torch.randn(size=(num_classes*ipc, channel, im_size[0], im_size[1]), dtype=torch.float, requires_grad=True, device=device)\n",
    "label_syn = torch.tensor([np.ones(ipc)*i for i in range(num_classes)], dtype=torch.long, requires_grad=False, device=device).view(-1) # [0,0,0, 1,1,1, ..., 9,9,9]\n",
    "for c in range(num_classes):\n",
    "    image_syn.data[c*ipc:(c+1)*ipc] = get_images(c, ipc).detach().data"
   ]
  },
  {
   "cell_type": "code",
   "execution_count": 153,
   "id": "ee597b37-2437-4bb5-b93d-c4e1cee54075",
   "metadata": {},
   "outputs": [],
   "source": [
    "optimizer_img = torch.optim.SGD([image_syn], lr = learningRateCondensedSamples, momentum = 0.5)\n",
    "optimizer_img.zero_grad()\n",
    "criterion = nn.CrossEntropyLoss().to(device)"
   ]
  },
  {
   "cell_type": "code",
   "execution_count": 154,
   "id": "f61370ac-ddd3-4ea2-8b76-32e80579546b",
   "metadata": {},
   "outputs": [],
   "source": [
    "net = get_network('ConvNet',channel,num_classes,im_size).to(device)\n",
    "net.train()\n",
    "net_parameters = list(net.parameters())\n",
    "optimizer_net = torch.optim.SGD(net.parameters(), lr = learningRateModel)\n",
    "optimizer_net.zero_grad()\n",
    "loss_avg = 0"
   ]
  },
  {
   "cell_type": "code",
   "execution_count": 155,
   "id": "0977e2e8-51e0-43ca-a458-2507d58736a3",
   "metadata": {},
   "outputs": [],
   "source": [
    "parser = argparse.ArgumentParser(description='Parameter Processing')\n",
    "parser.add_argument('--dis_metric', type=str, default='ours', help='distance metric')\n",
    "args, unknown = parser.parse_known_args()\n",
    "args.device = device"
   ]
  },
  {
   "cell_type": "code",
   "execution_count": 156,
   "id": "990ab045-3847-4ff3-93ff-6d34fbc3839c",
   "metadata": {
    "scrolled": true,
    "tags": []
   },
   "outputs": [
    {
     "name": "stdout",
     "output_type": "stream",
     "text": [
      "Outer Loop 0\n",
      "Outer Loop 1\n",
      "Outer Loop 2\n",
      "Outer Loop 3\n",
      "Outer Loop 4\n",
      "Outer Loop 5\n",
      "Outer Loop 6\n",
      "Outer Loop 7\n",
      "Outer Loop 8\n",
      "Outer Loop 9\n",
      "Outer Loop 10\n",
      "Outer Loop 11\n",
      "Outer Loop 12\n",
      "Outer Loop 13\n",
      "Outer Loop 14\n",
      "Outer Loop 15\n",
      "Outer Loop 16\n",
      "Outer Loop 17\n",
      "Outer Loop 18\n",
      "Outer Loop 19\n",
      "Outer Loop 20\n",
      "Outer Loop 21\n",
      "Outer Loop 22\n",
      "Outer Loop 23\n",
      "Outer Loop 24\n",
      "Outer Loop 25\n",
      "Outer Loop 26\n",
      "Outer Loop 27\n",
      "Outer Loop 28\n",
      "Outer Loop 29\n",
      "Outer Loop 30\n",
      "Outer Loop 31\n",
      "Outer Loop 32\n",
      "Outer Loop 33\n",
      "Outer Loop 34\n",
      "Outer Loop 35\n",
      "Outer Loop 36\n",
      "Outer Loop 37\n",
      "Outer Loop 38\n",
      "Outer Loop 39\n",
      "Outer Loop 40\n",
      "Outer Loop 41\n",
      "Outer Loop 42\n",
      "Outer Loop 43\n",
      "Outer Loop 44\n",
      "Outer Loop 45\n",
      "Outer Loop 46\n",
      "Outer Loop 47\n",
      "Outer Loop 48\n",
      "Outer Loop 49\n",
      "Outer Loop 50\n",
      "Outer Loop 51\n",
      "Outer Loop 52\n",
      "Outer Loop 53\n",
      "Outer Loop 54\n",
      "Outer Loop 55\n",
      "Outer Loop 56\n",
      "Outer Loop 57\n",
      "Outer Loop 58\n",
      "Outer Loop 59\n",
      "Outer Loop 60\n",
      "Outer Loop 61\n",
      "Outer Loop 62\n",
      "Outer Loop 63\n",
      "Outer Loop 64\n",
      "Outer Loop 65\n",
      "Outer Loop 66\n",
      "Outer Loop 67\n",
      "Outer Loop 68\n",
      "Outer Loop 69\n",
      "Outer Loop 70\n",
      "Outer Loop 71\n",
      "Outer Loop 72\n",
      "Outer Loop 73\n",
      "Outer Loop 74\n",
      "Outer Loop 75\n",
      "Outer Loop 76\n",
      "Outer Loop 77\n",
      "Outer Loop 78\n",
      "Outer Loop 79\n",
      "Outer Loop 80\n",
      "Outer Loop 81\n",
      "Outer Loop 82\n",
      "Outer Loop 83\n",
      "Outer Loop 84\n",
      "Outer Loop 85\n",
      "Outer Loop 86\n",
      "Outer Loop 87\n",
      "Outer Loop 88\n",
      "Outer Loop 89\n",
      "Outer Loop 90\n",
      "Outer Loop 91\n",
      "Outer Loop 92\n",
      "Outer Loop 93\n",
      "Outer Loop 94\n",
      "Outer Loop 95\n",
      "Outer Loop 96\n",
      "Outer Loop 97\n",
      "Outer Loop 98\n",
      "Outer Loop 99\n"
     ]
    }
   ],
   "source": [
    "for ol in range(K):\n",
    "    loss = torch.tensor(0.0).to(device)\n",
    "    print(\"Outer Loop {}\".format(ol))\n",
    "    for c in range(num_classes):\n",
    "        img_real = get_images(c, miniBatchSize)\n",
    "        lab_real = torch.ones((img_real.shape[0],), device=device, dtype=torch.long) * c\n",
    "        img_syn = image_syn[c*ipc:(c+1)*ipc].reshape((ipc, channel, im_size[0], im_size[1]))\n",
    "        lab_syn = torch.ones((ipc,), device=device, dtype=torch.long) * c\n",
    "        \n",
    "        output_real = net(img_real)\n",
    "        loss_real = criterion(output_real, lab_real)\n",
    "        gw_real = torch.autograd.grad(loss_real, net_parameters)\n",
    "        gw_real = list((_.detach().clone() for _ in gw_real))\n",
    "        \n",
    "        output_syn = net(img_syn)\n",
    "        loss_syn = criterion(output_syn, lab_syn)\n",
    "        gw_syn = torch.autograd.grad(loss_syn, net_parameters, create_graph=True)\n",
    "        loss += match_loss(gw_syn, gw_real, args)\n",
    "    optimizer_img.zero_grad()\n",
    "    loss.backward()\n",
    "    optimizer_img.step()\n",
    "    loss_avg += loss.item()\n",
    "    \n",
    "    if ol == K - 1:\n",
    "        break\n",
    "    \n",
    "    ''' update network '''\n",
    "    image_syn_train, label_syn_train = copy.deepcopy(image_syn.detach()), copy.deepcopy(label_syn.detach())\n",
    "    dst_syn_train = TensorDataset(image_syn_train, label_syn_train)\n",
    "    trainloader = torch.utils.data.DataLoader(dst_syn_train, batch_size=miniBatchSize, shuffle=True, num_workers=0)\n",
    "    for il in range(T):\n",
    "        epoch('train', trainloader, net, optimizer_net, criterion, device)\n",
    "\n",
    "loss_avg /= (num_classes*K)"
   ]
  },
  {
   "cell_type": "code",
   "execution_count": 157,
   "id": "4069961a-035e-48b8-a011-85f0b7d81c47",
   "metadata": {},
   "outputs": [
    {
     "name": "stdout",
     "output_type": "stream",
     "text": [
      "loss = 92.3808\n"
     ]
    }
   ],
   "source": [
    "print('loss = %.4f' % loss_avg)"
   ]
  },
  {
   "cell_type": "code",
   "execution_count": 159,
   "id": "ec9505f0-099f-4577-9517-77b69b25eb63",
   "metadata": {},
   "outputs": [
    {
     "name": "stdout",
     "output_type": "stream",
     "text": [
      "loss train: 2.337019920349121, acc_train: 0.11\n",
      "loss train: 2.2376081943511963, acc_train: 0.19\n",
      "loss train: 2.0888168811798096, acc_train: 0.44\n",
      "loss train: 1.9432306289672852, acc_train: 0.47\n",
      "loss train: 1.8072222471237183, acc_train: 0.52\n",
      "loss train: 1.6682066917419434, acc_train: 0.62\n",
      "loss train: 1.530117392539978, acc_train: 0.74\n",
      "loss train: 1.4025686979293823, acc_train: 0.78\n",
      "loss train: 1.285974383354187, acc_train: 0.85\n",
      "loss train: 1.176071047782898, acc_train: 0.87\n",
      "loss train: 1.0721518993377686, acc_train: 0.89\n",
      "loss train: 0.9761106967926025, acc_train: 0.9\n",
      "loss train: 0.8879815936088562, acc_train: 0.94\n",
      "loss train: 0.8073111176490784, acc_train: 0.96\n",
      "loss train: 0.7314158082008362, acc_train: 0.97\n",
      "loss train: 0.6606225371360779, acc_train: 0.99\n",
      "loss train: 0.5956206321716309, acc_train: 0.99\n",
      "loss train: 0.5372591614723206, acc_train: 0.99\n",
      "loss train: 0.4856618046760559, acc_train: 0.99\n",
      "loss train: 0.43952298164367676, acc_train: 0.99\n",
      "Acc train 0.99, Acc test 0.3355\n"
     ]
    }
   ],
   "source": [
    "ConvNet = get_network('ConvNet',channel,num_classes,im_size).to(device)\n",
    "\n",
    "#----------------------------------------CIFAR result --------------------------------------------------------------------\n",
    "cifar_images_sync, cifar_labels_sync = copy.deepcopy(image_syn.detach()), copy.deepcopy(label_syn.detach())\n",
    "#----------------------------------------------------------------------------------------------------------------------------\n",
    "\n",
    "acc_train,acc_test = train_with_dataset(ConvNet,cifar_images_sync, cifar_labels_sync, testloader, device)\n",
    "print(\"Acc train {}, Acc test {}\".format(acc_train, acc_test))"
   ]
  },
  {
   "cell_type": "code",
   "execution_count": 161,
   "id": "b46e5411-09f7-4c3c-a667-3478c2fef9cf",
   "metadata": {},
   "outputs": [
    {
     "data": {
      "image/png": "[encoded data removed]",
      "text/plain": [
       "<Figure size 640x480 with 10 Axes>"
      ]
     },
     "metadata": {},
     "output_type": "display_data"
    }
   ],
   "source": [
    "image_syn_vis = copy.deepcopy(image_syn.detach().cpu())\n",
    "for ch in range(channel):\n",
    "    image_syn_vis[:, ch] = image_syn_vis[:, ch]  * std[ch] + mean[ch]\n",
    "image_syn_vis[image_syn_vis<0] = 0.0\n",
    "image_syn_vis[image_syn_vis>1] = 1.0\n",
    "for i in range(10):\n",
    "    plt.subplot(2,5,i+1)\n",
    "    plt.imshow(image_syn_vis[0+i*10][0], cmap=plt.cm.gray)\n",
    "    ax = plt.gca()\n",
    "    ax.get_xaxis().set_visible(False)\n",
    "    ax.get_yaxis().set_visible(False)"
   ]
  },
  {
   "cell_type": "markdown",
   "id": "407b4c8d-a1b8-43bf-a44d-e03cb6f7f6f3",
   "metadata": {},
   "source": [
    "# 2 d"
   ]
  },
  {
   "cell_type": "code",
   "execution_count": 162,
   "id": "3454a568-a339-4d74-911a-472916eee9ca",
   "metadata": {},
   "outputs": [],
   "source": [
    "# ------------------------MNIST initialize with noisy-----------------------------------------\n",
    "channel, im_size, num_classes, class_names, mean, std, dst_train, dst_test, testloader = get_dataset('MNIST',mnist_data)\n",
    "images_all = []\n",
    "labels_all = []\n",
    "indices_class = [[] for c in range(num_classes)]\n",
    "\n",
    "images_all = [torch.unsqueeze(dst_train[i][0], dim=0) for i in range(len(dst_train))]\n",
    "labels_all = [dst_train[i][1] for i in range(len(dst_train))]\n",
    "\n",
    "for i, lab in enumerate(labels_all):\n",
    "    indices_class[lab].append(i)\n",
    "images_all = torch.cat(images_all, dim=0).to(device)\n",
    "labels_all = torch.tensor(labels_all, dtype=torch.long, device=device)"
   ]
  },
  {
   "cell_type": "code",
   "execution_count": 163,
   "id": "79b85164-0356-4c17-828b-320fcb2578bb",
   "metadata": {},
   "outputs": [
    {
     "name": "stderr",
     "output_type": "stream",
     "text": [
      "C:\\Users\\alanw\\AppData\\Local\\Temp\\ipykernel_4616\\2139612781.py:2: DeprecationWarning: an integer is required (got type numpy.float64).  Implicit conversion to integers using __int__ is deprecated, and may be removed in a future version of Python.\n",
      "  label_syn = torch.tensor([np.ones(ipc)*i for i in range(num_classes)], dtype=torch.long, requires_grad=False, device=device).view(-1) # [0,0,0, 1,1,1, ..., 9,9,9]\n"
     ]
    }
   ],
   "source": [
    "image_syn = torch.randn(size=(num_classes*ipc, channel, im_size[0], im_size[1]), dtype=torch.float, requires_grad=True, device=device)\n",
    "label_syn = torch.tensor([np.ones(ipc)*i for i in range(num_classes)], dtype=torch.long, requires_grad=False, device=device).view(-1) # [0,0,0, 1,1,1, ..., 9,9,9]"
   ]
  },
  {
   "cell_type": "code",
   "execution_count": 164,
   "id": "ab45cb8a-1f43-465e-87f4-1f6b833a8a3e",
   "metadata": {
    "scrolled": true,
    "tags": []
   },
   "outputs": [
    {
     "name": "stdout",
     "output_type": "stream",
     "text": [
      "Outer Loop 0\n",
      "Outer Loop 1\n",
      "Outer Loop 2\n",
      "Outer Loop 3\n",
      "Outer Loop 4\n",
      "Outer Loop 5\n",
      "Outer Loop 6\n",
      "Outer Loop 7\n",
      "Outer Loop 8\n",
      "Outer Loop 9\n",
      "Outer Loop 10\n",
      "Outer Loop 11\n",
      "Outer Loop 12\n",
      "Outer Loop 13\n",
      "Outer Loop 14\n",
      "Outer Loop 15\n",
      "Outer Loop 16\n",
      "Outer Loop 17\n",
      "Outer Loop 18\n",
      "Outer Loop 19\n",
      "Outer Loop 20\n",
      "Outer Loop 21\n",
      "Outer Loop 22\n",
      "Outer Loop 23\n",
      "Outer Loop 24\n",
      "Outer Loop 25\n",
      "Outer Loop 26\n",
      "Outer Loop 27\n",
      "Outer Loop 28\n",
      "Outer Loop 29\n",
      "Outer Loop 30\n",
      "Outer Loop 31\n",
      "Outer Loop 32\n",
      "Outer Loop 33\n",
      "Outer Loop 34\n",
      "Outer Loop 35\n",
      "Outer Loop 36\n",
      "Outer Loop 37\n",
      "Outer Loop 38\n",
      "Outer Loop 39\n",
      "Outer Loop 40\n",
      "Outer Loop 41\n",
      "Outer Loop 42\n",
      "Outer Loop 43\n",
      "Outer Loop 44\n",
      "Outer Loop 45\n",
      "Outer Loop 46\n",
      "Outer Loop 47\n",
      "Outer Loop 48\n",
      "Outer Loop 49\n",
      "Outer Loop 50\n",
      "Outer Loop 51\n",
      "Outer Loop 52\n",
      "Outer Loop 53\n",
      "Outer Loop 54\n",
      "Outer Loop 55\n",
      "Outer Loop 56\n",
      "Outer Loop 57\n",
      "Outer Loop 58\n",
      "Outer Loop 59\n",
      "Outer Loop 60\n",
      "Outer Loop 61\n",
      "Outer Loop 62\n",
      "Outer Loop 63\n",
      "Outer Loop 64\n",
      "Outer Loop 65\n",
      "Outer Loop 66\n",
      "Outer Loop 67\n",
      "Outer Loop 68\n",
      "Outer Loop 69\n",
      "Outer Loop 70\n",
      "Outer Loop 71\n",
      "Outer Loop 72\n",
      "Outer Loop 73\n",
      "Outer Loop 74\n",
      "Outer Loop 75\n",
      "Outer Loop 76\n",
      "Outer Loop 77\n",
      "Outer Loop 78\n",
      "Outer Loop 79\n",
      "Outer Loop 80\n",
      "Outer Loop 81\n",
      "Outer Loop 82\n",
      "Outer Loop 83\n",
      "Outer Loop 84\n",
      "Outer Loop 85\n",
      "Outer Loop 86\n",
      "Outer Loop 87\n",
      "Outer Loop 88\n",
      "Outer Loop 89\n",
      "Outer Loop 90\n",
      "Outer Loop 91\n",
      "Outer Loop 92\n",
      "Outer Loop 93\n",
      "Outer Loop 94\n",
      "Outer Loop 95\n",
      "Outer Loop 96\n",
      "Outer Loop 97\n",
      "Outer Loop 98\n",
      "Outer Loop 99\n"
     ]
    }
   ],
   "source": [
    "optimizer_img = torch.optim.SGD([image_syn], lr = learningRateCondensedSamples, momentum = 0.5)\n",
    "optimizer_img.zero_grad()\n",
    "criterion = nn.CrossEntropyLoss().to(device)\n",
    "net = get_network('ConvNet',channel,num_classes,im_size).to(device)\n",
    "net.train()\n",
    "net_parameters = list(net.parameters())\n",
    "optimizer_net = torch.optim.SGD(net.parameters(), lr = learningRateModel)\n",
    "optimizer_net.zero_grad()\n",
    "loss_avg = 0\n",
    "\n",
    "parser = argparse.ArgumentParser(description='Parameter Processing')\n",
    "parser.add_argument('--dis_metric', type=str, default='ours', help='distance metric')\n",
    "args, unknown = parser.parse_known_args()\n",
    "args.device = device\n",
    "\n",
    "for ol in range(K):\n",
    "    loss = torch.tensor(0.0).to(device)\n",
    "    print(\"Outer Loop {}\".format(ol))\n",
    "    for c in range(num_classes):\n",
    "        img_real = get_images(c, miniBatchSize)\n",
    "        lab_real = torch.ones((img_real.shape[0],), device=device, dtype=torch.long) * c\n",
    "        img_syn = image_syn[c*ipc:(c+1)*ipc].reshape((ipc, channel, im_size[0], im_size[1]))\n",
    "        lab_syn = torch.ones((ipc,), device=device, dtype=torch.long) * c\n",
    "        \n",
    "        output_real = net(img_real)\n",
    "        loss_real = criterion(output_real, lab_real)\n",
    "        gw_real = torch.autograd.grad(loss_real, net_parameters)\n",
    "        gw_real = list((_.detach().clone() for _ in gw_real))\n",
    "        \n",
    "        output_syn = net(img_syn)\n",
    "        loss_syn = criterion(output_syn, lab_syn)\n",
    "        gw_syn = torch.autograd.grad(loss_syn, net_parameters, create_graph=True)\n",
    "        loss += match_loss(gw_syn, gw_real, args)\n",
    "    optimizer_img.zero_grad()\n",
    "    loss.backward()\n",
    "    optimizer_img.step()\n",
    "    loss_avg += loss.item()\n",
    "    \n",
    "    if ol == K - 1:\n",
    "        break\n",
    "    \n",
    "    ''' update network '''\n",
    "    image_syn_train, label_syn_train = copy.deepcopy(image_syn.detach()), copy.deepcopy(label_syn.detach())\n",
    "    dst_syn_train = TensorDataset(image_syn_train, label_syn_train)\n",
    "    trainloader = torch.utils.data.DataLoader(dst_syn_train, batch_size=miniBatchSize, shuffle=True, num_workers=0)\n",
    "    for il in range(T):\n",
    "        epoch('train', trainloader, net, optimizer_net, criterion, device)\n",
    "\n",
    "loss_avg /= (num_classes*K)"
   ]
  },
  {
   "cell_type": "code",
   "execution_count": 165,
   "id": "929cfe58-6749-41fd-8eae-7f08b3fa954c",
   "metadata": {},
   "outputs": [
    {
     "name": "stdout",
     "output_type": "stream",
     "text": [
      "loss = 109.3868\n"
     ]
    }
   ],
   "source": [
    "print('loss = %.4f' % loss_avg)"
   ]
  },
  {
   "cell_type": "code",
   "execution_count": 166,
   "id": "a8c0b63c-1de2-4856-8160-6a7f4619bc4c",
   "metadata": {},
   "outputs": [
    {
     "name": "stdout",
     "output_type": "stream",
     "text": [
      "loss train: 2.3481152057647705, acc_train: 0.07\n",
      "loss train: 2.2511353492736816, acc_train: 0.22\n",
      "loss train: 2.153642416000366, acc_train: 0.35\n",
      "loss train: 2.0423824787139893, acc_train: 0.32\n",
      "loss train: 1.890242338180542, acc_train: 0.74\n",
      "loss train: 1.7436752319335938, acc_train: 0.86\n",
      "loss train: 1.6223092079162598, acc_train: 0.78\n",
      "loss train: 1.4973660707473755, acc_train: 0.8\n",
      "loss train: 1.363615870475769, acc_train: 0.91\n",
      "loss train: 1.2427769899368286, acc_train: 0.94\n",
      "loss train: 1.1385847330093384, acc_train: 0.96\n",
      "loss train: 1.0379784107208252, acc_train: 0.96\n",
      "loss train: 0.9397436380386353, acc_train: 0.96\n",
      "loss train: 0.8526791334152222, acc_train: 0.96\n",
      "loss train: 0.7769293785095215, acc_train: 0.95\n",
      "loss train: 0.7068271040916443, acc_train: 0.96\n",
      "loss train: 0.6407475471496582, acc_train: 0.96\n",
      "loss train: 0.5807604789733887, acc_train: 0.98\n",
      "loss train: 0.5276836156845093, acc_train: 0.98\n",
      "loss train: 0.4803120493888855, acc_train: 0.98\n",
      "Acc train 0.98, Acc test 0.7776\n"
     ]
    }
   ],
   "source": [
    "ConvNet = get_network('ConvNet',channel,num_classes,im_size).to(device)\n",
    "\n",
    "#----------------------------------------MNIST result --------------------------------------------------------------------\n",
    "mnist_images_sync_noisy, mnist_labels_sync_noisy = copy.deepcopy(image_syn.detach()), copy.deepcopy(label_syn.detach())\n",
    "#----------------------------------------------------------------------------------------------------------------------------\n",
    "\n",
    "acc_train,acc_test = train_with_dataset(ConvNet,mnist_images_sync_noisy, mnist_labels_sync_noisy, testloader, device)\n",
    "print(\"Acc train {}, Acc test {}\".format(acc_train, acc_test))"
   ]
  },
  {
   "cell_type": "code",
   "execution_count": 167,
   "id": "199d4eb8-1a09-4e93-8a0a-4df6b62cda65",
   "metadata": {},
   "outputs": [
    {
     "name": "stdout",
     "output_type": "stream",
     "text": [
      "Files already downloaded and verified\n",
      "Files already downloaded and verified\n"
     ]
    }
   ],
   "source": [
    "# ------------------------CIFAR initialize with noisy-----------------------------------------\n",
    "channel, im_size, num_classes, class_names, mean, std, dst_train, dst_test, testloader = get_dataset('CIFAR10',mnist_data)\n",
    "images_all = []\n",
    "labels_all = []\n",
    "indices_class = [[] for c in range(num_classes)]\n",
    "\n",
    "images_all = [torch.unsqueeze(dst_train[i][0], dim=0) for i in range(len(dst_train))]\n",
    "labels_all = [dst_train[i][1] for i in range(len(dst_train))]\n",
    "\n",
    "for i, lab in enumerate(labels_all):\n",
    "    indices_class[lab].append(i)\n",
    "images_all = torch.cat(images_all, dim=0).to(device)\n",
    "labels_all = torch.tensor(labels_all, dtype=torch.long, device=device)"
   ]
  },
  {
   "cell_type": "code",
   "execution_count": 168,
   "id": "3f19d4fa-0c18-4129-ade2-928cf0740311",
   "metadata": {},
   "outputs": [
    {
     "name": "stderr",
     "output_type": "stream",
     "text": [
      "C:\\Users\\alanw\\AppData\\Local\\Temp\\ipykernel_4616\\2139612781.py:2: DeprecationWarning: an integer is required (got type numpy.float64).  Implicit conversion to integers using __int__ is deprecated, and may be removed in a future version of Python.\n",
      "  label_syn = torch.tensor([np.ones(ipc)*i for i in range(num_classes)], dtype=torch.long, requires_grad=False, device=device).view(-1) # [0,0,0, 1,1,1, ..., 9,9,9]\n"
     ]
    }
   ],
   "source": [
    "image_syn = torch.randn(size=(num_classes*ipc, channel, im_size[0], im_size[1]), dtype=torch.float, requires_grad=True, device=device)\n",
    "label_syn = torch.tensor([np.ones(ipc)*i for i in range(num_classes)], dtype=torch.long, requires_grad=False, device=device).view(-1) # [0,0,0, 1,1,1, ..., 9,9,9]"
   ]
  },
  {
   "cell_type": "code",
   "execution_count": 169,
   "id": "fa0ae22d-925b-4032-beba-f65fdb8a8a82",
   "metadata": {
    "scrolled": true,
    "tags": []
   },
   "outputs": [
    {
     "name": "stdout",
     "output_type": "stream",
     "text": [
      "Outer Loop 0\n",
      "Outer Loop 1\n",
      "Outer Loop 2\n",
      "Outer Loop 3\n",
      "Outer Loop 4\n",
      "Outer Loop 5\n",
      "Outer Loop 6\n",
      "Outer Loop 7\n",
      "Outer Loop 8\n",
      "Outer Loop 9\n",
      "Outer Loop 10\n",
      "Outer Loop 11\n",
      "Outer Loop 12\n",
      "Outer Loop 13\n",
      "Outer Loop 14\n",
      "Outer Loop 15\n",
      "Outer Loop 16\n",
      "Outer Loop 17\n",
      "Outer Loop 18\n",
      "Outer Loop 19\n",
      "Outer Loop 20\n",
      "Outer Loop 21\n",
      "Outer Loop 22\n",
      "Outer Loop 23\n",
      "Outer Loop 24\n",
      "Outer Loop 25\n",
      "Outer Loop 26\n",
      "Outer Loop 27\n",
      "Outer Loop 28\n",
      "Outer Loop 29\n",
      "Outer Loop 30\n",
      "Outer Loop 31\n",
      "Outer Loop 32\n",
      "Outer Loop 33\n",
      "Outer Loop 34\n",
      "Outer Loop 35\n",
      "Outer Loop 36\n",
      "Outer Loop 37\n",
      "Outer Loop 38\n",
      "Outer Loop 39\n",
      "Outer Loop 40\n",
      "Outer Loop 41\n",
      "Outer Loop 42\n",
      "Outer Loop 43\n",
      "Outer Loop 44\n",
      "Outer Loop 45\n",
      "Outer Loop 46\n",
      "Outer Loop 47\n",
      "Outer Loop 48\n",
      "Outer Loop 49\n",
      "Outer Loop 50\n",
      "Outer Loop 51\n",
      "Outer Loop 52\n",
      "Outer Loop 53\n",
      "Outer Loop 54\n",
      "Outer Loop 55\n",
      "Outer Loop 56\n",
      "Outer Loop 57\n",
      "Outer Loop 58\n",
      "Outer Loop 59\n",
      "Outer Loop 60\n",
      "Outer Loop 61\n",
      "Outer Loop 62\n",
      "Outer Loop 63\n",
      "Outer Loop 64\n",
      "Outer Loop 65\n",
      "Outer Loop 66\n",
      "Outer Loop 67\n",
      "Outer Loop 68\n",
      "Outer Loop 69\n",
      "Outer Loop 70\n",
      "Outer Loop 71\n",
      "Outer Loop 72\n",
      "Outer Loop 73\n",
      "Outer Loop 74\n",
      "Outer Loop 75\n",
      "Outer Loop 76\n",
      "Outer Loop 77\n",
      "Outer Loop 78\n",
      "Outer Loop 79\n",
      "Outer Loop 80\n",
      "Outer Loop 81\n",
      "Outer Loop 82\n",
      "Outer Loop 83\n",
      "Outer Loop 84\n",
      "Outer Loop 85\n",
      "Outer Loop 86\n",
      "Outer Loop 87\n",
      "Outer Loop 88\n",
      "Outer Loop 89\n",
      "Outer Loop 90\n",
      "Outer Loop 91\n",
      "Outer Loop 92\n",
      "Outer Loop 93\n",
      "Outer Loop 94\n",
      "Outer Loop 95\n",
      "Outer Loop 96\n",
      "Outer Loop 97\n",
      "Outer Loop 98\n",
      "Outer Loop 99\n"
     ]
    }
   ],
   "source": [
    "optimizer_img = torch.optim.SGD([image_syn], lr = learningRateCondensedSamples, momentum = 0.5)\n",
    "optimizer_img.zero_grad()\n",
    "criterion = nn.CrossEntropyLoss().to(device)\n",
    "net = get_network('ConvNet',channel,num_classes,im_size).to(device)\n",
    "net.train()\n",
    "net_parameters = list(net.parameters())\n",
    "optimizer_net = torch.optim.SGD(net.parameters(), lr = learningRateModel)\n",
    "optimizer_net.zero_grad()\n",
    "loss_avg = 0\n",
    "\n",
    "parser = argparse.ArgumentParser(description='Parameter Processing')\n",
    "parser.add_argument('--dis_metric', type=str, default='ours', help='distance metric')\n",
    "args, unknown = parser.parse_known_args()\n",
    "args.device = device\n",
    "\n",
    "for ol in range(K):\n",
    "    loss = torch.tensor(0.0).to(device)\n",
    "    print(\"Outer Loop {}\".format(ol))\n",
    "    for c in range(num_classes):\n",
    "        img_real = get_images(c, miniBatchSize)\n",
    "        lab_real = torch.ones((img_real.shape[0],), device=device, dtype=torch.long) * c\n",
    "        img_syn = image_syn[c*ipc:(c+1)*ipc].reshape((ipc, channel, im_size[0], im_size[1]))\n",
    "        lab_syn = torch.ones((ipc,), device=device, dtype=torch.long) * c\n",
    "        \n",
    "        output_real = net(img_real)\n",
    "        loss_real = criterion(output_real, lab_real)\n",
    "        gw_real = torch.autograd.grad(loss_real, net_parameters)\n",
    "        gw_real = list((_.detach().clone() for _ in gw_real))\n",
    "        \n",
    "        output_syn = net(img_syn)\n",
    "        loss_syn = criterion(output_syn, lab_syn)\n",
    "        gw_syn = torch.autograd.grad(loss_syn, net_parameters, create_graph=True)\n",
    "        loss += match_loss(gw_syn, gw_real, args)\n",
    "    optimizer_img.zero_grad()\n",
    "    loss.backward()\n",
    "    optimizer_img.step()\n",
    "    loss_avg += loss.item()\n",
    "    \n",
    "    if ol == K - 1:\n",
    "        break\n",
    "    \n",
    "    ''' update network '''\n",
    "    image_syn_train, label_syn_train = copy.deepcopy(image_syn.detach()), copy.deepcopy(label_syn.detach())\n",
    "    dst_syn_train = TensorDataset(image_syn_train, label_syn_train)\n",
    "    trainloader = torch.utils.data.DataLoader(dst_syn_train, batch_size=miniBatchSize, shuffle=True, num_workers=0)\n",
    "    for il in range(T):\n",
    "        epoch('train', trainloader, net, optimizer_net, criterion, device)\n",
    "\n",
    "loss_avg /= (num_classes*K)"
   ]
  },
  {
   "cell_type": "code",
   "execution_count": 170,
   "id": "91802dd6-d1c7-486d-a524-32cf8f00cf3d",
   "metadata": {},
   "outputs": [
    {
     "name": "stdout",
     "output_type": "stream",
     "text": [
      "loss = 146.5663\n"
     ]
    }
   ],
   "source": [
    "print('loss = %.4f' % loss_avg)"
   ]
  },
  {
   "cell_type": "code",
   "execution_count": 171,
   "id": "c971a96c-4d7a-42f1-943e-73969b5175d4",
   "metadata": {},
   "outputs": [
    {
     "name": "stdout",
     "output_type": "stream",
     "text": [
      "loss train: 2.3759701251983643, acc_train: 0.08\n",
      "loss train: 2.2860002517700195, acc_train: 0.06\n",
      "loss train: 2.1635663509368896, acc_train: 0.29\n",
      "loss train: 2.0260558128356934, acc_train: 0.45\n",
      "loss train: 1.8572895526885986, acc_train: 0.61\n",
      "loss train: 1.662672758102417, acc_train: 0.91\n",
      "loss train: 1.472883939743042, acc_train: 0.98\n",
      "loss train: 1.3037686347961426, acc_train: 0.98\n",
      "loss train: 1.1455719470977783, acc_train: 0.98\n",
      "loss train: 0.9924879670143127, acc_train: 0.98\n",
      "loss train: 0.8531034588813782, acc_train: 1.0\n",
      "loss train: 0.7349989414215088, acc_train: 1.0\n",
      "loss train: 0.6365845203399658, acc_train: 1.0\n",
      "loss train: 0.5522715449333191, acc_train: 1.0\n",
      "loss train: 0.47850748896598816, acc_train: 1.0\n",
      "loss train: 0.41478225588798523, acc_train: 1.0\n",
      "loss train: 0.36086300015449524, acc_train: 1.0\n",
      "loss train: 0.31568068265914917, acc_train: 1.0\n",
      "loss train: 0.2776459753513336, acc_train: 1.0\n",
      "loss train: 0.24533237516880035, acc_train: 1.0\n",
      "Acc train 1.0, Acc test 0.2639\n"
     ]
    }
   ],
   "source": [
    "ConvNet = get_network('ConvNet',channel,num_classes,im_size).to(device)\n",
    "\n",
    "#----------------------------------------CIFAR result --------------------------------------------------------------------\n",
    "cifar_images_sync_noisy, cifar_labels_sync_noisy = copy.deepcopy(image_syn.detach()), copy.deepcopy(label_syn.detach())\n",
    "#----------------------------------------------------------------------------------------------------------------------------\n",
    "\n",
    "acc_train,acc_test = train_with_dataset(ConvNet,cifar_images_sync_noisy, cifar_labels_sync_noisy, testloader, device)\n",
    "print(\"Acc train {}, Acc test {}\".format(acc_train, acc_test))"
   ]
  },
  {
   "cell_type": "markdown",
   "id": "c9d1fd8e-56ae-4dc3-9f98-0c880ce4adc3",
   "metadata": {},
   "source": [
    "# 2 e"
   ]
  },
  {
   "cell_type": "code",
   "execution_count": 172,
   "id": "218eb3f0-8cc2-404b-ae25-6584ac9ad415",
   "metadata": {},
   "outputs": [
    {
     "name": "stdout",
     "output_type": "stream",
     "text": [
      "loss train: 2.340663433074951, acc_train: 0.1\n",
      "loss train: 2.1855263710021973, acc_train: 0.3\n",
      "loss train: 2.026710271835327, acc_train: 0.42\n",
      "loss train: 1.8519154787063599, acc_train: 0.44\n",
      "loss train: 1.6452915668487549, acc_train: 0.81\n",
      "loss train: 1.4713256359100342, acc_train: 0.82\n",
      "loss train: 1.3256127834320068, acc_train: 0.86\n",
      "loss train: 1.1728260517120361, acc_train: 0.88\n",
      "loss train: 1.0262266397476196, acc_train: 0.94\n",
      "loss train: 0.9051598906517029, acc_train: 0.95\n",
      "loss train: 0.7985687851905823, acc_train: 0.97\n",
      "loss train: 0.6984975934028625, acc_train: 0.98\n",
      "loss train: 0.6097496747970581, acc_train: 0.99\n",
      "loss train: 0.5345929861068726, acc_train: 0.98\n",
      "loss train: 0.4691038131713867, acc_train: 0.98\n",
      "loss train: 0.41178253293037415, acc_train: 0.98\n",
      "loss train: 0.3629816770553589, acc_train: 0.99\n",
      "loss train: 0.3212772309780121, acc_train: 0.99\n",
      "loss train: 0.28493401408195496, acc_train: 0.99\n",
      "loss train: 0.25335830450057983, acc_train: 0.99\n",
      "Acc train 0.99, Acc test 0.884\n"
     ]
    }
   ],
   "source": [
    "# ------------------------MNIST------------------------------------\n",
    "channel, im_size, num_classes, class_names, mean, std, dst_train, dst_test, testloader = get_dataset('MNIST',mnist_data)\n",
    "\n",
    "ConvNet = get_network('ConvNet',channel,num_classes,im_size).to(device)\n",
    "\n",
    "acc_train,acc_test = train_with_dataset(ConvNet,mnist_images_sync, mnist_labels_sync, testloader, device)\n",
    "print(\"Acc train {}, Acc test {}\".format(acc_train, acc_test))"
   ]
  },
  {
   "cell_type": "code",
   "execution_count": 173,
   "id": "fc10c319-53a2-470e-8241-08e606b082e9",
   "metadata": {},
   "outputs": [
    {
     "name": "stdout",
     "output_type": "stream",
     "text": [
      "Files already downloaded and verified\n",
      "Files already downloaded and verified\n"
     ]
    },
    {
     "ename": "RuntimeError",
     "evalue": "Given groups=1, weight of size [128, 3, 3, 3], expected input[100, 1, 28, 28] to have 3 channels, but got 1 channels instead",
     "output_type": "error",
     "traceback": [
      "\u001b[1;31m---------------------------------------------------------------------------\u001b[0m",
      "\u001b[1;31mRuntimeError\u001b[0m                              Traceback (most recent call last)",
      "\u001b[1;32m~\\AppData\\Local\\Temp\\ipykernel_4616\\3730962259.py\u001b[0m in \u001b[0;36m<module>\u001b[1;34m\u001b[0m\n\u001b[0;32m      4\u001b[0m \u001b[0mConvNet\u001b[0m \u001b[1;33m=\u001b[0m \u001b[0mget_network\u001b[0m\u001b[1;33m(\u001b[0m\u001b[1;34m'ConvNet'\u001b[0m\u001b[1;33m,\u001b[0m\u001b[0mchannel\u001b[0m\u001b[1;33m,\u001b[0m\u001b[0mnum_classes\u001b[0m\u001b[1;33m,\u001b[0m\u001b[0mim_size\u001b[0m\u001b[1;33m)\u001b[0m\u001b[1;33m.\u001b[0m\u001b[0mto\u001b[0m\u001b[1;33m(\u001b[0m\u001b[0mdevice\u001b[0m\u001b[1;33m)\u001b[0m\u001b[1;33m\u001b[0m\u001b[1;33m\u001b[0m\u001b[0m\n\u001b[0;32m      5\u001b[0m \u001b[1;33m\u001b[0m\u001b[0m\n\u001b[1;32m----> 6\u001b[1;33m \u001b[0macc_train\u001b[0m\u001b[1;33m,\u001b[0m\u001b[0macc_test\u001b[0m \u001b[1;33m=\u001b[0m \u001b[0mtrain_with_dataset\u001b[0m\u001b[1;33m(\u001b[0m\u001b[0mConvNet\u001b[0m\u001b[1;33m,\u001b[0m\u001b[0mmnist_images_sync\u001b[0m\u001b[1;33m,\u001b[0m \u001b[0mmnist_labels_sync\u001b[0m\u001b[1;33m,\u001b[0m \u001b[0mtestloader\u001b[0m\u001b[1;33m,\u001b[0m \u001b[0mdevice\u001b[0m\u001b[1;33m)\u001b[0m\u001b[1;33m\u001b[0m\u001b[1;33m\u001b[0m\u001b[0m\n\u001b[0m\u001b[0;32m      7\u001b[0m \u001b[1;33m\u001b[0m\u001b[0m\n\u001b[0;32m      8\u001b[0m \u001b[0mprint\u001b[0m\u001b[1;33m(\u001b[0m\u001b[1;34m\"Acc train {}, Acc test {}\"\u001b[0m\u001b[1;33m.\u001b[0m\u001b[0mformat\u001b[0m\u001b[1;33m(\u001b[0m\u001b[0macc_train\u001b[0m\u001b[1;33m,\u001b[0m \u001b[0macc_test\u001b[0m\u001b[1;33m)\u001b[0m\u001b[1;33m)\u001b[0m\u001b[1;33m\u001b[0m\u001b[1;33m\u001b[0m\u001b[0m\n",
      "\u001b[1;32m~\\AppData\\Local\\Temp\\ipykernel_4616\\3527359888.py\u001b[0m in \u001b[0;36mtrain_with_dataset\u001b[1;34m(net, images_train, labels_train, testloader, device)\u001b[0m\n\u001b[0;32m     44\u001b[0m     \u001b[0mtrainloader\u001b[0m \u001b[1;33m=\u001b[0m \u001b[0mtorch\u001b[0m\u001b[1;33m.\u001b[0m\u001b[0mutils\u001b[0m\u001b[1;33m.\u001b[0m\u001b[0mdata\u001b[0m\u001b[1;33m.\u001b[0m\u001b[0mDataLoader\u001b[0m\u001b[1;33m(\u001b[0m\u001b[0mdst_train\u001b[0m\u001b[1;33m,\u001b[0m \u001b[0mbatch_size\u001b[0m \u001b[1;33m=\u001b[0m \u001b[1;36m256\u001b[0m\u001b[1;33m,\u001b[0m \u001b[0mshuffle\u001b[0m \u001b[1;33m=\u001b[0m \u001b[1;32mTrue\u001b[0m\u001b[1;33m,\u001b[0m \u001b[0mnum_workers\u001b[0m \u001b[1;33m=\u001b[0m \u001b[1;36m0\u001b[0m\u001b[1;33m)\u001b[0m\u001b[1;33m\u001b[0m\u001b[1;33m\u001b[0m\u001b[0m\n\u001b[0;32m     45\u001b[0m     \u001b[1;32mfor\u001b[0m \u001b[0mep\u001b[0m \u001b[1;32min\u001b[0m \u001b[0mrange\u001b[0m\u001b[1;33m(\u001b[0m\u001b[0mEpoch\u001b[0m\u001b[1;33m)\u001b[0m\u001b[1;33m:\u001b[0m\u001b[1;33m\u001b[0m\u001b[1;33m\u001b[0m\u001b[0m\n\u001b[1;32m---> 46\u001b[1;33m         \u001b[0mloss_train\u001b[0m\u001b[1;33m,\u001b[0m \u001b[0macc_train\u001b[0m \u001b[1;33m=\u001b[0m \u001b[0mepoch\u001b[0m\u001b[1;33m(\u001b[0m\u001b[1;34m'train'\u001b[0m\u001b[1;33m,\u001b[0m\u001b[0mtrainloader\u001b[0m\u001b[1;33m,\u001b[0m \u001b[0mnet\u001b[0m\u001b[1;33m,\u001b[0m \u001b[0moptimizer\u001b[0m\u001b[1;33m,\u001b[0m \u001b[0mcriterion\u001b[0m\u001b[1;33m,\u001b[0m \u001b[0mdevice\u001b[0m\u001b[1;33m)\u001b[0m\u001b[1;33m\u001b[0m\u001b[1;33m\u001b[0m\u001b[0m\n\u001b[0m\u001b[0;32m     47\u001b[0m         \u001b[0mprint\u001b[0m\u001b[1;33m(\u001b[0m\u001b[1;34m\"loss train: {}, acc_train: {}\"\u001b[0m\u001b[1;33m.\u001b[0m\u001b[0mformat\u001b[0m\u001b[1;33m(\u001b[0m\u001b[0mloss_train\u001b[0m\u001b[1;33m,\u001b[0m \u001b[0macc_train\u001b[0m\u001b[1;33m)\u001b[0m\u001b[1;33m)\u001b[0m\u001b[1;33m\u001b[0m\u001b[1;33m\u001b[0m\u001b[0m\n\u001b[0;32m     48\u001b[0m     \u001b[0mloss_test\u001b[0m\u001b[1;33m,\u001b[0m \u001b[0macc_test\u001b[0m \u001b[1;33m=\u001b[0m \u001b[0mepoch\u001b[0m\u001b[1;33m(\u001b[0m\u001b[1;34m'test'\u001b[0m\u001b[1;33m,\u001b[0m \u001b[0mtestloader\u001b[0m\u001b[1;33m,\u001b[0m \u001b[0mnet\u001b[0m\u001b[1;33m,\u001b[0m \u001b[0moptimizer\u001b[0m\u001b[1;33m,\u001b[0m \u001b[0mcriterion\u001b[0m\u001b[1;33m,\u001b[0m \u001b[0mdevice\u001b[0m\u001b[1;33m)\u001b[0m\u001b[1;33m\u001b[0m\u001b[1;33m\u001b[0m\u001b[0m\n",
      "\u001b[1;32m~\\AppData\\Local\\Temp\\ipykernel_4616\\3527359888.py\u001b[0m in \u001b[0;36mepoch\u001b[1;34m(mode, dataloader, net, optimizer, criterion, device)\u001b[0m\n\u001b[0;32m     14\u001b[0m         \u001b[0mn_b\u001b[0m \u001b[1;33m=\u001b[0m \u001b[0mlab\u001b[0m\u001b[1;33m.\u001b[0m\u001b[0mshape\u001b[0m\u001b[1;33m[\u001b[0m\u001b[1;36m0\u001b[0m\u001b[1;33m]\u001b[0m\u001b[1;33m\u001b[0m\u001b[1;33m\u001b[0m\u001b[0m\n\u001b[0;32m     15\u001b[0m \u001b[1;33m\u001b[0m\u001b[0m\n\u001b[1;32m---> 16\u001b[1;33m         \u001b[0moutput\u001b[0m \u001b[1;33m=\u001b[0m \u001b[0mnet\u001b[0m\u001b[1;33m(\u001b[0m\u001b[0mimg\u001b[0m\u001b[1;33m)\u001b[0m\u001b[1;33m\u001b[0m\u001b[1;33m\u001b[0m\u001b[0m\n\u001b[0m\u001b[0;32m     17\u001b[0m         \u001b[0mloss\u001b[0m \u001b[1;33m=\u001b[0m \u001b[0mcriterion\u001b[0m\u001b[1;33m(\u001b[0m\u001b[0moutput\u001b[0m\u001b[1;33m,\u001b[0m\u001b[0mlab\u001b[0m\u001b[1;33m)\u001b[0m\u001b[1;33m\u001b[0m\u001b[1;33m\u001b[0m\u001b[0m\n\u001b[0;32m     18\u001b[0m         \u001b[0macc\u001b[0m \u001b[1;33m=\u001b[0m \u001b[0mnp\u001b[0m\u001b[1;33m.\u001b[0m\u001b[0msum\u001b[0m\u001b[1;33m(\u001b[0m\u001b[0mnp\u001b[0m\u001b[1;33m.\u001b[0m\u001b[0mequal\u001b[0m\u001b[1;33m(\u001b[0m\u001b[0mnp\u001b[0m\u001b[1;33m.\u001b[0m\u001b[0margmax\u001b[0m\u001b[1;33m(\u001b[0m\u001b[0moutput\u001b[0m\u001b[1;33m.\u001b[0m\u001b[0mcpu\u001b[0m\u001b[1;33m(\u001b[0m\u001b[1;33m)\u001b[0m\u001b[1;33m.\u001b[0m\u001b[0mdata\u001b[0m\u001b[1;33m.\u001b[0m\u001b[0mnumpy\u001b[0m\u001b[1;33m(\u001b[0m\u001b[1;33m)\u001b[0m\u001b[1;33m,\u001b[0m \u001b[0maxis\u001b[0m\u001b[1;33m=\u001b[0m\u001b[1;33m-\u001b[0m\u001b[1;36m1\u001b[0m\u001b[1;33m)\u001b[0m\u001b[1;33m,\u001b[0m \u001b[0mlab\u001b[0m\u001b[1;33m.\u001b[0m\u001b[0mcpu\u001b[0m\u001b[1;33m(\u001b[0m\u001b[1;33m)\u001b[0m\u001b[1;33m.\u001b[0m\u001b[0mdata\u001b[0m\u001b[1;33m.\u001b[0m\u001b[0mnumpy\u001b[0m\u001b[1;33m(\u001b[0m\u001b[1;33m)\u001b[0m\u001b[1;33m)\u001b[0m\u001b[1;33m)\u001b[0m\u001b[1;33m\u001b[0m\u001b[1;33m\u001b[0m\u001b[0m\n",
      "\u001b[1;32m~\\anaconda3\\envs\\project3\\lib\\site-packages\\torch\\nn\\modules\\module.py\u001b[0m in \u001b[0;36m_call_impl\u001b[1;34m(self, *input, **kwargs)\u001b[0m\n\u001b[0;32m   1188\u001b[0m         if not (self._backward_hooks or self._forward_hooks or self._forward_pre_hooks or _global_backward_hooks\n\u001b[0;32m   1189\u001b[0m                 or _global_forward_hooks or _global_forward_pre_hooks):\n\u001b[1;32m-> 1190\u001b[1;33m             \u001b[1;32mreturn\u001b[0m \u001b[0mforward_call\u001b[0m\u001b[1;33m(\u001b[0m\u001b[1;33m*\u001b[0m\u001b[0minput\u001b[0m\u001b[1;33m,\u001b[0m \u001b[1;33m**\u001b[0m\u001b[0mkwargs\u001b[0m\u001b[1;33m)\u001b[0m\u001b[1;33m\u001b[0m\u001b[1;33m\u001b[0m\u001b[0m\n\u001b[0m\u001b[0;32m   1191\u001b[0m         \u001b[1;31m# Do not call functions when jit is used\u001b[0m\u001b[1;33m\u001b[0m\u001b[1;33m\u001b[0m\u001b[1;33m\u001b[0m\u001b[0m\n\u001b[0;32m   1192\u001b[0m         \u001b[0mfull_backward_hooks\u001b[0m\u001b[1;33m,\u001b[0m \u001b[0mnon_full_backward_hooks\u001b[0m \u001b[1;33m=\u001b[0m \u001b[1;33m[\u001b[0m\u001b[1;33m]\u001b[0m\u001b[1;33m,\u001b[0m \u001b[1;33m[\u001b[0m\u001b[1;33m]\u001b[0m\u001b[1;33m\u001b[0m\u001b[1;33m\u001b[0m\u001b[0m\n",
      "\u001b[1;32mF:\\Project\\1512-ProjectRepo\\networks.ipynb\u001b[0m in \u001b[0;36mforward\u001b[1;34m(self, x)\u001b[0m\n\u001b[0;32m     48\u001b[0m     \u001b[1;34m\"        super(ConvNet, self).__init__()\\n\"\u001b[0m\u001b[1;33m,\u001b[0m\u001b[1;33m\u001b[0m\u001b[1;33m\u001b[0m\u001b[0m\n\u001b[0;32m     49\u001b[0m     \u001b[1;34m\"\\n\"\u001b[0m\u001b[1;33m,\u001b[0m\u001b[1;33m\u001b[0m\u001b[1;33m\u001b[0m\u001b[0m\n\u001b[1;32m---> 50\u001b[1;33m     \u001b[1;34m\"        self.features, shape_feat = self._make_layers(channel, net_width, net_depth, net_norm, net_act, net_pooling, im_size)\\n\"\u001b[0m\u001b[1;33m,\u001b[0m\u001b[1;33m\u001b[0m\u001b[1;33m\u001b[0m\u001b[0m\n\u001b[0m\u001b[0;32m     51\u001b[0m     \u001b[1;34m\"        num_feat = shape_feat[0]*shape_feat[1]*shape_feat[2]\\n\"\u001b[0m\u001b[1;33m,\u001b[0m\u001b[1;33m\u001b[0m\u001b[1;33m\u001b[0m\u001b[0m\n\u001b[0;32m     52\u001b[0m     \u001b[1;34m\"        self.classifier = nn.Linear(num_feat, num_classes)\\n\"\u001b[0m\u001b[1;33m,\u001b[0m\u001b[1;33m\u001b[0m\u001b[1;33m\u001b[0m\u001b[0m\n",
      "\u001b[1;32m~\\anaconda3\\envs\\project3\\lib\\site-packages\\torch\\nn\\modules\\module.py\u001b[0m in \u001b[0;36m_call_impl\u001b[1;34m(self, *input, **kwargs)\u001b[0m\n\u001b[0;32m   1188\u001b[0m         if not (self._backward_hooks or self._forward_hooks or self._forward_pre_hooks or _global_backward_hooks\n\u001b[0;32m   1189\u001b[0m                 or _global_forward_hooks or _global_forward_pre_hooks):\n\u001b[1;32m-> 1190\u001b[1;33m             \u001b[1;32mreturn\u001b[0m \u001b[0mforward_call\u001b[0m\u001b[1;33m(\u001b[0m\u001b[1;33m*\u001b[0m\u001b[0minput\u001b[0m\u001b[1;33m,\u001b[0m \u001b[1;33m**\u001b[0m\u001b[0mkwargs\u001b[0m\u001b[1;33m)\u001b[0m\u001b[1;33m\u001b[0m\u001b[1;33m\u001b[0m\u001b[0m\n\u001b[0m\u001b[0;32m   1191\u001b[0m         \u001b[1;31m# Do not call functions when jit is used\u001b[0m\u001b[1;33m\u001b[0m\u001b[1;33m\u001b[0m\u001b[1;33m\u001b[0m\u001b[0m\n\u001b[0;32m   1192\u001b[0m         \u001b[0mfull_backward_hooks\u001b[0m\u001b[1;33m,\u001b[0m \u001b[0mnon_full_backward_hooks\u001b[0m \u001b[1;33m=\u001b[0m \u001b[1;33m[\u001b[0m\u001b[1;33m]\u001b[0m\u001b[1;33m,\u001b[0m \u001b[1;33m[\u001b[0m\u001b[1;33m]\u001b[0m\u001b[1;33m\u001b[0m\u001b[1;33m\u001b[0m\u001b[0m\n",
      "\u001b[1;32m~\\anaconda3\\envs\\project3\\lib\\site-packages\\torch\\nn\\modules\\container.py\u001b[0m in \u001b[0;36mforward\u001b[1;34m(self, input)\u001b[0m\n\u001b[0;32m    202\u001b[0m     \u001b[1;32mdef\u001b[0m \u001b[0mforward\u001b[0m\u001b[1;33m(\u001b[0m\u001b[0mself\u001b[0m\u001b[1;33m,\u001b[0m \u001b[0minput\u001b[0m\u001b[1;33m)\u001b[0m\u001b[1;33m:\u001b[0m\u001b[1;33m\u001b[0m\u001b[1;33m\u001b[0m\u001b[0m\n\u001b[0;32m    203\u001b[0m         \u001b[1;32mfor\u001b[0m \u001b[0mmodule\u001b[0m \u001b[1;32min\u001b[0m \u001b[0mself\u001b[0m\u001b[1;33m:\u001b[0m\u001b[1;33m\u001b[0m\u001b[1;33m\u001b[0m\u001b[0m\n\u001b[1;32m--> 204\u001b[1;33m             \u001b[0minput\u001b[0m \u001b[1;33m=\u001b[0m \u001b[0mmodule\u001b[0m\u001b[1;33m(\u001b[0m\u001b[0minput\u001b[0m\u001b[1;33m)\u001b[0m\u001b[1;33m\u001b[0m\u001b[1;33m\u001b[0m\u001b[0m\n\u001b[0m\u001b[0;32m    205\u001b[0m         \u001b[1;32mreturn\u001b[0m \u001b[0minput\u001b[0m\u001b[1;33m\u001b[0m\u001b[1;33m\u001b[0m\u001b[0m\n\u001b[0;32m    206\u001b[0m \u001b[1;33m\u001b[0m\u001b[0m\n",
      "\u001b[1;32m~\\anaconda3\\envs\\project3\\lib\\site-packages\\torch\\nn\\modules\\module.py\u001b[0m in \u001b[0;36m_call_impl\u001b[1;34m(self, *input, **kwargs)\u001b[0m\n\u001b[0;32m   1188\u001b[0m         if not (self._backward_hooks or self._forward_hooks or self._forward_pre_hooks or _global_backward_hooks\n\u001b[0;32m   1189\u001b[0m                 or _global_forward_hooks or _global_forward_pre_hooks):\n\u001b[1;32m-> 1190\u001b[1;33m             \u001b[1;32mreturn\u001b[0m \u001b[0mforward_call\u001b[0m\u001b[1;33m(\u001b[0m\u001b[1;33m*\u001b[0m\u001b[0minput\u001b[0m\u001b[1;33m,\u001b[0m \u001b[1;33m**\u001b[0m\u001b[0mkwargs\u001b[0m\u001b[1;33m)\u001b[0m\u001b[1;33m\u001b[0m\u001b[1;33m\u001b[0m\u001b[0m\n\u001b[0m\u001b[0;32m   1191\u001b[0m         \u001b[1;31m# Do not call functions when jit is used\u001b[0m\u001b[1;33m\u001b[0m\u001b[1;33m\u001b[0m\u001b[1;33m\u001b[0m\u001b[0m\n\u001b[0;32m   1192\u001b[0m         \u001b[0mfull_backward_hooks\u001b[0m\u001b[1;33m,\u001b[0m \u001b[0mnon_full_backward_hooks\u001b[0m \u001b[1;33m=\u001b[0m \u001b[1;33m[\u001b[0m\u001b[1;33m]\u001b[0m\u001b[1;33m,\u001b[0m \u001b[1;33m[\u001b[0m\u001b[1;33m]\u001b[0m\u001b[1;33m\u001b[0m\u001b[1;33m\u001b[0m\u001b[0m\n",
      "\u001b[1;32m~\\anaconda3\\envs\\project3\\lib\\site-packages\\torch\\nn\\modules\\conv.py\u001b[0m in \u001b[0;36mforward\u001b[1;34m(self, input)\u001b[0m\n\u001b[0;32m    461\u001b[0m \u001b[1;33m\u001b[0m\u001b[0m\n\u001b[0;32m    462\u001b[0m     \u001b[1;32mdef\u001b[0m \u001b[0mforward\u001b[0m\u001b[1;33m(\u001b[0m\u001b[0mself\u001b[0m\u001b[1;33m,\u001b[0m \u001b[0minput\u001b[0m\u001b[1;33m:\u001b[0m \u001b[0mTensor\u001b[0m\u001b[1;33m)\u001b[0m \u001b[1;33m->\u001b[0m \u001b[0mTensor\u001b[0m\u001b[1;33m:\u001b[0m\u001b[1;33m\u001b[0m\u001b[1;33m\u001b[0m\u001b[0m\n\u001b[1;32m--> 463\u001b[1;33m         \u001b[1;32mreturn\u001b[0m \u001b[0mself\u001b[0m\u001b[1;33m.\u001b[0m\u001b[0m_conv_forward\u001b[0m\u001b[1;33m(\u001b[0m\u001b[0minput\u001b[0m\u001b[1;33m,\u001b[0m \u001b[0mself\u001b[0m\u001b[1;33m.\u001b[0m\u001b[0mweight\u001b[0m\u001b[1;33m,\u001b[0m \u001b[0mself\u001b[0m\u001b[1;33m.\u001b[0m\u001b[0mbias\u001b[0m\u001b[1;33m)\u001b[0m\u001b[1;33m\u001b[0m\u001b[1;33m\u001b[0m\u001b[0m\n\u001b[0m\u001b[0;32m    464\u001b[0m \u001b[1;33m\u001b[0m\u001b[0m\n\u001b[0;32m    465\u001b[0m \u001b[1;32mclass\u001b[0m \u001b[0mConv3d\u001b[0m\u001b[1;33m(\u001b[0m\u001b[0m_ConvNd\u001b[0m\u001b[1;33m)\u001b[0m\u001b[1;33m:\u001b[0m\u001b[1;33m\u001b[0m\u001b[1;33m\u001b[0m\u001b[0m\n",
      "\u001b[1;32m~\\anaconda3\\envs\\project3\\lib\\site-packages\\torch\\nn\\modules\\conv.py\u001b[0m in \u001b[0;36m_conv_forward\u001b[1;34m(self, input, weight, bias)\u001b[0m\n\u001b[0;32m    457\u001b[0m                             \u001b[0mweight\u001b[0m\u001b[1;33m,\u001b[0m \u001b[0mbias\u001b[0m\u001b[1;33m,\u001b[0m \u001b[0mself\u001b[0m\u001b[1;33m.\u001b[0m\u001b[0mstride\u001b[0m\u001b[1;33m,\u001b[0m\u001b[1;33m\u001b[0m\u001b[1;33m\u001b[0m\u001b[0m\n\u001b[0;32m    458\u001b[0m                             _pair(0), self.dilation, self.groups)\n\u001b[1;32m--> 459\u001b[1;33m         return F.conv2d(input, weight, bias, self.stride,\n\u001b[0m\u001b[0;32m    460\u001b[0m                         self.padding, self.dilation, self.groups)\n\u001b[0;32m    461\u001b[0m \u001b[1;33m\u001b[0m\u001b[0m\n",
      "\u001b[1;31mRuntimeError\u001b[0m: Given groups=1, weight of size [128, 3, 3, 3], expected input[100, 1, 28, 28] to have 3 channels, but got 1 channels instead"
     ]
    }
   ],
   "source": [
    "#-----------------------CIFAR Result------------------------------------\n",
    "channel, im_size, num_classes, class_names, mean, std, dst_train, dst_test, testloader = get_dataset('CIFAR10',mnist_data)\n",
    "\n",
    "ConvNet = get_network('ConvNet',channel,num_classes,im_size).to(device)\n",
    "\n",
    "acc_train,acc_test = train_with_dataset(ConvNet,cifar_images_sync, cifar_labels_sync, testloader, device)\n",
    "\n",
    "print(\"Acc train {}, Acc test {}\".format(acc_train, acc_test))"
   ]
  },
  {
   "cell_type": "code",
   "execution_count": null,
   "id": "596a3d63-1d8e-4800-95ac-3654aedb5f78",
   "metadata": {},
   "outputs": [],
   "source": []
  }
 ],
 "metadata": {
  "kernelspec": {
   "display_name": "Python 3 (ipykernel)",
   "language": "python",
   "name": "python3"
  },
  "language_info": {
   "codemirror_mode": {
    "name": "ipython",
    "version": 3
   },
   "file_extension": ".py",
   "mimetype": "text/x-python",
   "name": "python",
   "nbconvert_exporter": "python",
   "pygments_lexer": "ipython3",
   "version": "3.8.15"
  }
 },
 "nbformat": 4,
 "nbformat_minor": 5
}
