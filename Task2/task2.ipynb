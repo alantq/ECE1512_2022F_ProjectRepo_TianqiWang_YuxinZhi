{
 "cells": [
  {
   "cell_type": "code",
   "execution_count": 1,
   "id": "1a78de2b-54f2-42b7-8c89-1d740c9e3fbe",
   "metadata": {},
   "outputs": [],
   "source": [
    "import os\n",
    "import argparse\n",
    "import numpy as np\n",
    "import torch\n",
    "import torch.nn as nn\n",
    "import torch.nn.functional as F\n",
    "import torchvision.utils\n",
    "from tqdm import tqdm\n",
    "from ipynb.fs.full.utils import get_dataset, get_network, get_eval_pool, evaluate_synset, get_time, DiffAugment, ParamDiffAug,TensorDataset\n",
    "import copy\n",
    "import random\n",
    "from ipynb.fs.full.reparam_module import ReparamModule\n",
    "\n",
    "import warnings\n",
    "warnings.filterwarnings(\"ignore\", category=DeprecationWarning)\n",
    "import gc"
   ]
  },
  {
   "cell_type": "code",
   "execution_count": 2,
   "id": "ba6789f6-80b1-45ca-8c80-4b18f4ba8ef7",
   "metadata": {},
   "outputs": [],
   "source": [
    "import wandb"
   ]
  },
  {
   "cell_type": "code",
   "execution_count": 3,
   "id": "c9423008-25e7-455b-b0db-2f19c5678c24",
   "metadata": {},
   "outputs": [],
   "source": [
    "def main(args):\n",
    "\n",
    "    if args.zca and args.texture:\n",
    "        raise AssertionError(\"Cannot use zca and texture together\")\n",
    "\n",
    "    if args.texture and args.pix_init == \"real\":\n",
    "        print(\"WARNING: Using texture with real initialization will take a very long time to smooth out the boundaries between images.\")\n",
    "\n",
    "    if args.max_experts is not None and args.max_files is not None:\n",
    "        args.total_experts = args.max_experts * args.max_files\n",
    "\n",
    "    print(\"CUDNN STATUS: {}\".format(torch.backends.cudnn.enabled))\n",
    "\n",
    "    args.dsa = True if args.dsa == 'True' else False\n",
    "    args.device = 'cuda' if torch.cuda.is_available() else 'cpu'\n",
    "\n",
    "    eval_it_pool = np.arange(0, args.Iteration + 1, args.eval_it).tolist()\n",
    "    channel, im_size, num_classes, class_names, mean, std, dst_train, dst_test, testloader, loader_train_dict, class_map, class_map_inv = get_dataset(args.dataset, args.data_path, args.batch_real, args.subset, args=args)\n",
    "    model_eval_pool = get_eval_pool(args.eval_mode, args.model, args.model)\n",
    "\n",
    "    im_res = im_size[0]\n",
    "\n",
    "    args.im_size = im_size\n",
    "\n",
    "    accs_all_exps = dict() # record performances of all experiments\n",
    "    for key in model_eval_pool:\n",
    "        accs_all_exps[key] = []\n",
    "\n",
    "    data_save = []\n",
    "\n",
    "    if args.dsa:\n",
    "        # args.epoch_eval_train = 1000\n",
    "        args.dc_aug_param = None\n",
    "\n",
    "    args.dsa_param = ParamDiffAug()\n",
    "\n",
    "    dsa_params = args.dsa_param\n",
    "    if args.zca:\n",
    "        zca_trans = args.zca_trans\n",
    "    else:\n",
    "        zca_trans = None\n",
    "\n",
    "    wandb.init(sync_tensorboard=False,\n",
    "               project=\"DatasetDistillation\",\n",
    "               job_type=\"CleanRepo\",\n",
    "               config=args,\n",
    "               )\n",
    "\n",
    "    args = type('', (), {})()\n",
    "\n",
    "    for key in wandb.config._items:\n",
    "        setattr(args, key, wandb.config._items[key])\n",
    "\n",
    "    args.dsa_param = dsa_params\n",
    "    args.zca_trans = zca_trans\n",
    "\n",
    "    if args.batch_syn is None:\n",
    "        args.batch_syn = num_classes * args.ipc\n",
    "\n",
    "    args.distributed = torch.cuda.device_count() > 1\n",
    "\n",
    "\n",
    "    print('Hyper-parameters: \\n', args.__dict__)\n",
    "    print('Evaluation model pool: ', model_eval_pool)\n",
    "\n",
    "    ''' organize the real dataset '''\n",
    "    images_all = []\n",
    "    labels_all = []\n",
    "    indices_class = [[] for c in range(num_classes)]\n",
    "    print(\"BUILDING DATASET\")\n",
    "    for i in tqdm(range(len(dst_train))):\n",
    "        sample = dst_train[i]\n",
    "        images_all.append(torch.unsqueeze(sample[0], dim=0))\n",
    "        labels_all.append(class_map[torch.tensor(sample[1]).item()])\n",
    "\n",
    "    for i, lab in tqdm(enumerate(labels_all)):\n",
    "        indices_class[lab].append(i)\n",
    "    images_all = torch.cat(images_all, dim=0).to(\"cpu\")\n",
    "    labels_all = torch.tensor(labels_all, dtype=torch.long, device=\"cpu\")\n",
    "\n",
    "    for c in range(num_classes):\n",
    "        print('class c = %d: %d real images'%(c, len(indices_class[c])))\n",
    "\n",
    "    for ch in range(channel):\n",
    "        print('real images channel %d, mean = %.4f, std = %.4f'%(ch, torch.mean(images_all[:, ch]), torch.std(images_all[:, ch])))\n",
    "\n",
    "\n",
    "    def get_images(c, n):  # get random n images from class c\n",
    "        idx_shuffle = np.random.permutation(indices_class[c])[:n]\n",
    "        return images_all[idx_shuffle]\n",
    "\n",
    "\n",
    "    ''' initialize the synthetic data '''\n",
    "    label_syn = torch.tensor([np.ones(args.ipc,dtype=np.int_)*i for i in range(num_classes)], dtype=torch.long, requires_grad=False, device=args.device).view(-1) # [0,0,0, 1,1,1, ..., 9,9,9]\n",
    "\n",
    "    if args.texture:\n",
    "        image_syn = torch.randn(size=(num_classes * args.ipc, channel, im_size[0]*args.canvas_size, im_size[1]*args.canvas_size), dtype=torch.float)\n",
    "    else:\n",
    "        image_syn = torch.randn(size=(num_classes * args.ipc, channel, im_size[0], im_size[1]), dtype=torch.float)\n",
    "\n",
    "    syn_lr = torch.tensor(args.lr_teacher).to(args.device)\n",
    "\n",
    "    if args.pix_init == 'real':\n",
    "        print('initialize synthetic data from random real images')\n",
    "        if args.texture:\n",
    "            for c in range(num_classes):\n",
    "                for i in range(args.canvas_size):\n",
    "                    for j in range(args.canvas_size):\n",
    "                        image_syn.data[c * args.ipc:(c + 1) * args.ipc, :, i * im_size[0]:(i + 1) * im_size[0],\n",
    "                        j * im_size[1]:(j + 1) * im_size[1]] = torch.cat(\n",
    "                            [get_images(c, 1).detach().data for s in range(args.ipc)])\n",
    "        for c in range(num_classes):\n",
    "            image_syn.data[c * args.ipc:(c + 1) * args.ipc] = get_images(c, args.ipc).detach().data\n",
    "    else:\n",
    "        print('initialize synthetic data from random noise')\n",
    "\n",
    "\n",
    "    ''' training '''\n",
    "    image_syn = image_syn.detach().to(args.device).requires_grad_(True)\n",
    "    syn_lr = syn_lr.detach().to(args.device).requires_grad_(True)\n",
    "    optimizer_img = torch.optim.SGD([image_syn], lr=args.lr_img, momentum=0.5)\n",
    "    optimizer_lr = torch.optim.SGD([syn_lr], lr=args.lr_lr, momentum=0.5)\n",
    "    optimizer_img.zero_grad()\n",
    "\n",
    "    criterion = nn.CrossEntropyLoss().to(args.device)\n",
    "    print('%s training begins'%get_time())\n",
    "\n",
    "    expert_dir = os.path.join(args.buffer_path, args.dataset)\n",
    "    if args.dataset == \"ImageNet\":\n",
    "        expert_dir = os.path.join(expert_dir, args.subset, str(args.res))\n",
    "    if args.dataset in [\"CIFAR10\", \"CIFAR100\"] and not args.zca:\n",
    "        expert_dir += \"_NO_ZCA\"\n",
    "    expert_dir = os.path.join(expert_dir, args.model)\n",
    "    print(\"Expert Dir: {}\".format(expert_dir))\n",
    "\n",
    "    if args.load_all:\n",
    "        buffer = []\n",
    "        n = 0\n",
    "        while os.path.exists(os.path.join(expert_dir, \"replay_buffer_{}.pt\".format(n))):\n",
    "            buffer = buffer + torch.load(os.path.join(expert_dir, \"replay_buffer_{}.pt\".format(n)))\n",
    "            n += 1\n",
    "        if n == 0:\n",
    "            raise AssertionError(\"No buffers detected at {}\".format(expert_dir))\n",
    "\n",
    "    else:\n",
    "        expert_files = []\n",
    "        n = 0\n",
    "        while os.path.exists(os.path.join(expert_dir, \"replay_buffer_{}.pt\".format(n))):\n",
    "            expert_files.append(os.path.join(expert_dir, \"replay_buffer_{}.pt\".format(n)))\n",
    "            n += 1\n",
    "        if n == 0:\n",
    "            raise AssertionError(\"No buffers detected at {}\".format(expert_dir))\n",
    "        file_idx = 0\n",
    "        expert_idx = 0\n",
    "        random.shuffle(expert_files)\n",
    "        if args.max_files is not None:\n",
    "            expert_files = expert_files[:args.max_files]\n",
    "        print(\"loading file {}\".format(expert_files[file_idx]))\n",
    "        buffer = torch.load(expert_files[file_idx])\n",
    "        if args.max_experts is not None:\n",
    "            buffer = buffer[:args.max_experts]\n",
    "        random.shuffle(buffer)\n",
    "\n",
    "    best_acc = {m: 0 for m in model_eval_pool}\n",
    "\n",
    "    best_std = {m: 0 for m in model_eval_pool}\n",
    "\n",
    "    for it in range(0, args.Iteration+1):\n",
    "        save_this_it = False\n",
    "\n",
    "        # writer.add_scalar('Progress', it, it)\n",
    "        wandb.log({\"Progress\": it}, step=it)\n",
    "        ''' Evaluate synthetic data '''\n",
    "        if it in eval_it_pool:\n",
    "            for model_eval in model_eval_pool:\n",
    "                print('-------------------------\\nEvaluation\\nmodel_train = %s, model_eval = %s, iteration = %d'%(args.model, model_eval, it))\n",
    "                if args.dsa:\n",
    "                    print('DSA augmentation strategy: \\n', args.dsa_strategy)\n",
    "                    print('DSA augmentation parameters: \\n', args.dsa_param.__dict__)\n",
    "                else:\n",
    "                    print('DC augmentation parameters: \\n', args.dc_aug_param)\n",
    "\n",
    "                accs_test = []\n",
    "                accs_train = []\n",
    "                for it_eval in range(args.num_eval):\n",
    "                    net_eval = get_network(model_eval, channel, num_classes, im_size).to(args.device) # get a random model\n",
    "\n",
    "                    eval_labs = label_syn\n",
    "                    with torch.no_grad():\n",
    "                        image_save = image_syn\n",
    "                    image_syn_eval, label_syn_eval = copy.deepcopy(image_save.detach()), copy.deepcopy(eval_labs.detach()) # avoid any unaware modification\n",
    "\n",
    "                    args.lr_net = syn_lr.item()\n",
    "                    _, acc_train, acc_test = evaluate_synset(it_eval, net_eval, image_syn_eval, label_syn_eval, testloader, args, texture=args.texture)\n",
    "                    accs_test.append(acc_test)\n",
    "                    accs_train.append(acc_train)\n",
    "                    gc.collect()\n",
    "                    torch.cuda.empty_cache()\n",
    "                accs_test = np.array(accs_test)\n",
    "                accs_train = np.array(accs_train)\n",
    "                acc_test_mean = np.mean(accs_test)\n",
    "                acc_test_std = np.std(accs_test)\n",
    "                if acc_test_mean > best_acc[model_eval]:\n",
    "                    best_acc[model_eval] = acc_test_mean\n",
    "                    best_std[model_eval] = acc_test_std\n",
    "                    save_this_it = True\n",
    "                print('Evaluate %d random %s, mean = %.4f std = %.4f\\n-------------------------'%(len(accs_test), model_eval, acc_test_mean, acc_test_std))\n",
    "                gc.collect()\n",
    "                torch.cuda.empty_cache()\n",
    "                wandb.log({'Accuracy/{}'.format(model_eval): acc_test_mean}, step=it)\n",
    "                wandb.log({'Max_Accuracy/{}'.format(model_eval): best_acc[model_eval]}, step=it)\n",
    "                wandb.log({'Std/{}'.format(model_eval): acc_test_std}, step=it)\n",
    "                wandb.log({'Max_Std/{}'.format(model_eval): best_std[model_eval]}, step=it)\n",
    "\n",
    "\n",
    "        if it in eval_it_pool and (save_this_it or it % 1000 == 0):\n",
    "            with torch.no_grad():\n",
    "                image_save = image_syn.cuda()\n",
    "\n",
    "                save_dir = os.path.join(\".\", \"logged_files\", args.dataset, wandb.run.name)\n",
    "\n",
    "                if not os.path.exists(save_dir):\n",
    "                    os.makedirs(save_dir)\n",
    "\n",
    "                torch.save(image_save.cpu(), os.path.join(save_dir, \"images_{}.pt\".format(it)))\n",
    "                torch.save(label_syn.cpu(), os.path.join(save_dir, \"labels_{}.pt\".format(it)))\n",
    "\n",
    "                if save_this_it:\n",
    "                    torch.save(image_save.cpu(), os.path.join(save_dir, \"images_best.pt\".format(it)))\n",
    "                    torch.save(label_syn.cpu(), os.path.join(save_dir, \"labels_best.pt\".format(it)))\n",
    "\n",
    "                wandb.log({\"Pixels\": wandb.Histogram(torch.nan_to_num(image_syn.detach().cpu()))}, step=it)\n",
    "\n",
    "                if args.ipc < 50 or args.force_save:\n",
    "                    upsampled = image_save\n",
    "                    if args.dataset != \"ImageNet\":\n",
    "                        upsampled = torch.repeat_interleave(upsampled, repeats=4, dim=2)\n",
    "                        upsampled = torch.repeat_interleave(upsampled, repeats=4, dim=3)\n",
    "                    grid = torchvision.utils.make_grid(upsampled, nrow=10, normalize=True, scale_each=True)\n",
    "                    wandb.log({\"Synthetic_Images\": wandb.Image(torch.nan_to_num(grid.detach().cpu()))}, step=it)\n",
    "                    wandb.log({'Synthetic_Pixels': wandb.Histogram(torch.nan_to_num(image_save.detach().cpu()))}, step=it)\n",
    "\n",
    "                    for clip_val in [2.5]:\n",
    "                        std = torch.std(image_save)\n",
    "                        mean = torch.mean(image_save)\n",
    "                        upsampled = torch.clip(image_save, min=mean-clip_val*std, max=mean+clip_val*std)\n",
    "                        if args.dataset != \"ImageNet\":\n",
    "                            upsampled = torch.repeat_interleave(upsampled, repeats=4, dim=2)\n",
    "                            upsampled = torch.repeat_interleave(upsampled, repeats=4, dim=3)\n",
    "                        grid = torchvision.utils.make_grid(upsampled, nrow=10, normalize=True, scale_each=True)\n",
    "                        wandb.log({\"Clipped_Synthetic_Images/std_{}\".format(clip_val): wandb.Image(torch.nan_to_num(grid.detach().cpu()))}, step=it)\n",
    "\n",
    "                    if args.zca:\n",
    "                        image_save = image_save.to(args.device)\n",
    "                        image_save = args.zca_trans.inverse_transform(image_save)\n",
    "                        image_save.cpu()\n",
    "\n",
    "                        torch.save(image_save.cpu(), os.path.join(save_dir, \"images_zca_{}.pt\".format(it)))\n",
    "\n",
    "                        upsampled = image_save\n",
    "                        if args.dataset != \"ImageNet\":\n",
    "                            upsampled = torch.repeat_interleave(upsampled, repeats=4, dim=2)\n",
    "                            upsampled = torch.repeat_interleave(upsampled, repeats=4, dim=3)\n",
    "                        grid = torchvision.utils.make_grid(upsampled, nrow=10, normalize=True, scale_each=True)\n",
    "                        wandb.log({\"Reconstructed_Images\": wandb.Image(torch.nan_to_num(grid.detach().cpu()))}, step=it)\n",
    "                        wandb.log({'Reconstructed_Pixels': wandb.Histogram(torch.nan_to_num(image_save.detach().cpu()))}, step=it)\n",
    "\n",
    "                        for clip_val in [2.5]:\n",
    "                            std = torch.std(image_save)\n",
    "                            mean = torch.mean(image_save)\n",
    "                            upsampled = torch.clip(image_save, min=mean - clip_val * std, max=mean + clip_val * std)\n",
    "                            if args.dataset != \"ImageNet\":\n",
    "                                upsampled = torch.repeat_interleave(upsampled, repeats=4, dim=2)\n",
    "                                upsampled = torch.repeat_interleave(upsampled, repeats=4, dim=3)\n",
    "                            grid = torchvision.utils.make_grid(upsampled, nrow=10, normalize=True, scale_each=True)\n",
    "                            wandb.log({\"Clipped_Reconstructed_Images/std_{}\".format(clip_val): wandb.Image(\n",
    "                                torch.nan_to_num(grid.detach().cpu()))}, step=it)\n",
    "\n",
    "        wandb.log({\"Synthetic_LR\": syn_lr.detach().cpu()}, step=it)\n",
    "\n",
    "        student_net = get_network(args.model, channel, num_classes, im_size, dist=False).to(args.device)  # get a random model\n",
    "\n",
    "        student_net = ReparamModule(student_net)\n",
    "\n",
    "        if args.distributed:\n",
    "            student_net = torch.nn.DataParallel(student_net)\n",
    "\n",
    "        student_net.train()\n",
    "\n",
    "        num_params = sum([np.prod(p.size()) for p in (student_net.parameters())])\n",
    "\n",
    "        if args.load_all:\n",
    "            expert_trajectory = buffer[np.random.randint(0, len(buffer))]\n",
    "        else:\n",
    "            expert_trajectory = buffer[expert_idx]\n",
    "            expert_idx += 1\n",
    "            if expert_idx == len(buffer):\n",
    "                expert_idx = 0\n",
    "                file_idx += 1\n",
    "                if file_idx == len(expert_files):\n",
    "                    file_idx = 0\n",
    "                    random.shuffle(expert_files)\n",
    "                print(\"loading file {}\".format(expert_files[file_idx]))\n",
    "                if args.max_files != 1:\n",
    "                    del buffer\n",
    "                    buffer = torch.load(expert_files[file_idx])\n",
    "                if args.max_experts is not None:\n",
    "                    buffer = buffer[:args.max_experts]\n",
    "                random.shuffle(buffer)\n",
    "\n",
    "        start_epoch = np.random.randint(0, args.max_start_epoch)\n",
    "        starting_params = expert_trajectory[start_epoch]\n",
    "\n",
    "        target_params = expert_trajectory[start_epoch+args.expert_epochs]\n",
    "        target_params = torch.cat([p.data.to(args.device).reshape(-1) for p in target_params], 0)\n",
    "\n",
    "        student_params = [torch.cat([p.data.to(args.device).reshape(-1) for p in starting_params], 0).requires_grad_(True)]\n",
    "\n",
    "        starting_params = torch.cat([p.data.to(args.device).reshape(-1) for p in starting_params], 0)\n",
    "\n",
    "        syn_images = image_syn\n",
    "\n",
    "        y_hat = label_syn.to(args.device)\n",
    "\n",
    "        param_loss_list = []\n",
    "        param_dist_list = []\n",
    "        indices_chunks = []\n",
    "\n",
    "        for step in range(args.syn_steps):\n",
    "\n",
    "            if not indices_chunks:\n",
    "                indices = torch.randperm(len(syn_images))\n",
    "                indices_chunks = list(torch.split(indices, args.batch_syn))\n",
    "\n",
    "            these_indices = indices_chunks.pop()\n",
    "\n",
    "\n",
    "            x = syn_images[these_indices]\n",
    "            this_y = y_hat[these_indices]\n",
    "\n",
    "            if args.texture:\n",
    "                x = torch.cat([torch.stack([torch.roll(im, (torch.randint(im_size[0]*args.canvas_size, (1,)), torch.randint(im_size[1]*args.canvas_size, (1,))), (1,2))[:,:im_size[0],:im_size[1]] for im in x]) for _ in range(args.canvas_samples)])\n",
    "                this_y = torch.cat([this_y for _ in range(args.canvas_samples)])\n",
    "\n",
    "            if args.dsa and (not args.no_aug):\n",
    "                x = DiffAugment(x, args.dsa_strategy, param=args.dsa_param)\n",
    "\n",
    "            if args.distributed:\n",
    "                forward_params = student_params[-1].unsqueeze(0).expand(torch.cuda.device_count(), -1)\n",
    "            else:\n",
    "                forward_params = student_params[-1]\n",
    "            x = student_net(x, flat_param=forward_params)\n",
    "            ce_loss = criterion(x, this_y)\n",
    "\n",
    "            grad = torch.autograd.grad(ce_loss, student_params[-1], create_graph=True)[0]\n",
    "\n",
    "            student_params.append(student_params[-1] - syn_lr * grad)\n",
    "            gc.collect()\n",
    "            torch.cuda.empty_cache()\n",
    "\n",
    "\n",
    "        param_loss = torch.tensor(0.0).to(args.device)\n",
    "        param_dist = torch.tensor(0.0).to(args.device)\n",
    "\n",
    "        param_loss += torch.nn.functional.mse_loss(student_params[-1], target_params, reduction=\"sum\")\n",
    "        param_dist += torch.nn.functional.mse_loss(starting_params, target_params, reduction=\"sum\")\n",
    "\n",
    "        param_loss_list.append(param_loss)\n",
    "        param_dist_list.append(param_dist)\n",
    "\n",
    "\n",
    "        param_loss /= num_params\n",
    "        param_dist /= num_params\n",
    "\n",
    "        param_loss /= param_dist\n",
    "\n",
    "        grand_loss = param_loss\n",
    "\n",
    "        optimizer_img.zero_grad()\n",
    "        optimizer_lr.zero_grad()\n",
    "\n",
    "        grand_loss.backward()\n",
    "\n",
    "        optimizer_img.step()\n",
    "        optimizer_lr.step()\n",
    "\n",
    "        wandb.log({\"Grand_Loss\": grand_loss.detach().cpu(),\n",
    "                   \"Start_Epoch\": start_epoch})\n",
    "\n",
    "        for _ in student_params:\n",
    "            del _\n",
    "\n",
    "        if it%10 == 0:\n",
    "            print('%s iter = %04d, loss = %.4f' % (get_time(), it, grand_loss.item()))\n",
    "        gc.collect()\n",
    "        torch.cuda.empty_cache()\n",
    "\n",
    "    wandb.finish()\n",
    "    return image_syn,label_syn"
   ]
  },
  {
   "cell_type": "code",
   "execution_count": 4,
   "id": "654daf56-4680-48f6-b207-80a7cbdd17e3",
   "metadata": {},
   "outputs": [
    {
     "data": {
      "text/plain": [
       "_StoreTrueAction(option_strings=['--force_save'], dest='force_save', nargs=0, const=True, default=False, type=None, choices=None, help='this will save images for 50ipc', metavar=None)"
      ]
     },
     "execution_count": 4,
     "metadata": {},
     "output_type": "execute_result"
    }
   ],
   "source": [
    "parser = argparse.ArgumentParser(description='Parameter Processing')\n",
    "parser.add_argument('--dataset', type=str, default='CIFAR10', help='dataset')\n",
    "parser.add_argument('--subset', type=str, default='imagenette', help='ImageNet subset. This only does anything when --dataset=ImageNet')\n",
    "parser.add_argument('--model', type=str, default='ConvNet', help='model')\n",
    "parser.add_argument('--ipc', type=int, default=10, help='image(s) per class')\n",
    "parser.add_argument('--eval_mode', type=str, default='S',\n",
    "                        help='eval_mode, check utils.py for more info')\n",
    "parser.add_argument('--num_eval', type=int, default=5, help='how many networks to evaluate on')\n",
    "parser.add_argument('--eval_it', type=int, default=100, help='how often to evaluate')\n",
    "parser.add_argument('--epoch_eval_train', type=int, default=1000, help='epochs to train a model with synthetic data')\n",
    "parser.add_argument('--Iteration', type=int, default=5000, help='how many distillation steps to perform')\n",
    "parser.add_argument('--lr_img', type=float, default=1000, help='learning rate for updating synthetic images')\n",
    "parser.add_argument('--lr_lr', type=float, default=1e-05, help='learning rate for updating... learning rate')\n",
    "parser.add_argument('--lr_teacher', type=float, default=0.01, help='initialization for synthetic learning rate')\n",
    "parser.add_argument('--lr_init', type=float, default=0.01, help='how to init lr (alpha)')\n",
    "parser.add_argument('--batch_real', type=int, default=256, help='batch size for real data')\n",
    "parser.add_argument('--batch_syn', type=int, default=50, help='should only use this if you run out of VRAM')\n",
    "parser.add_argument('--batch_train', type=int, default=256, help='batch size for training networks')\n",
    "parser.add_argument('--pix_init', type=str, default='real', choices=[\"noise\", \"real\"],\n",
    "                        help='noise/real: initialize synthetic images from random noise or randomly sampled real images.')\n",
    "parser.add_argument('--dsa', type=str, default='True', choices=['True', 'False'],\n",
    "                        help='whether to use differentiable Siamese augmentation.')\n",
    "parser.add_argument('--dsa_strategy', type=str, default='color_crop_cutout_flip_scale_rotate',\n",
    "                        help='differentiable Siamese augmentation strategy')\n",
    "parser.add_argument('--data_path', type=str, default='data', help='dataset path')\n",
    "parser.add_argument('--buffer_path', type=str, default='./buffers', help='buffer path')\n",
    "parser.add_argument('--expert_epochs', type=int, default=2, help='how many expert epochs the target params are')\n",
    "parser.add_argument('--syn_steps', type=int, default=30, help='how many steps to take on synthetic data')\n",
    "parser.add_argument('--max_start_epoch', type=int, default=15, help='max epoch we can start at')\n",
    "parser.add_argument('--zca', action='store_true', help=\"do ZCA whitening\")\n",
    "parser.add_argument('--load_all', action='store_true', help=\"only use if you can fit all expert trajectories into RAM\")\n",
    "parser.add_argument('--no_aug', type=bool, default=False, help='this turns off diff aug during distillation')\n",
    "parser.add_argument('--texture', action='store_true', help=\"will distill textures instead\")\n",
    "parser.add_argument('--canvas_size', type=int, default=2, help='size of synthetic canvas')\n",
    "parser.add_argument('--canvas_samples', type=int, default=1, help='number of canvas samples per iteration')\n",
    "parser.add_argument('--max_files', type=int, default=None, help='number of expert files to read (leave as None unless doing ablations)')\n",
    "parser.add_argument('--max_experts', type=int, default=None, help='number of experts to read per file (leave as None unless doing ablations)')\n",
    "parser.add_argument('--force_save', action='store_true', help='this will save images for 50ipc')"
   ]
  },
  {
   "cell_type": "code",
   "execution_count": 5,
   "id": "318f663e-80be-4766-94d8-ce42f05bf89b",
   "metadata": {},
   "outputs": [],
   "source": [
    "args, unknown = parser.parse_known_args()\n"
   ]
  },
  {
   "cell_type": "code",
   "execution_count": 6,
   "id": "7e1c481d-a35e-41de-9f18-85e855265179",
   "metadata": {
    "scrolled": true,
    "tags": []
   },
   "outputs": [
    {
     "name": "stdout",
     "output_type": "stream",
     "text": [
      "CUDNN STATUS: True\n",
      "Files already downloaded and verified\n",
      "Files already downloaded and verified\n"
     ]
    },
    {
     "name": "stderr",
     "output_type": "stream",
     "text": [
      "\u001b[34m\u001b[1mwandb\u001b[0m: Currently logged in as: \u001b[33malan-wangtianqi\u001b[0m (\u001b[33m1512-project\u001b[0m). Use \u001b[1m`wandb login --relogin`\u001b[0m to force relogin\n"
     ]
    },
    {
     "data": {
      "text/html": [
       "Tracking run with wandb version 0.13.5"
      ],
      "text/plain": [
       "<IPython.core.display.HTML object>"
      ]
     },
     "metadata": {},
     "output_type": "display_data"
    },
    {
     "data": {
      "text/html": [
       "Run data is saved locally in <code>F:\\Project\\1512-ProjectRepo\\Task2\\wandb\\run-20221206_024240-2t4dg8wt</code>"
      ],
      "text/plain": [
       "<IPython.core.display.HTML object>"
      ]
     },
     "metadata": {},
     "output_type": "display_data"
    },
    {
     "data": {
      "text/html": [
       "Syncing run <strong><a href=\"https://wandb.ai/1512-project/DatasetDistillation/runs/2t4dg8wt\" target=\"_blank\">skilled-pyramid-14</a></strong> to <a href=\"https://wandb.ai/1512-project/DatasetDistillation\" target=\"_blank\">Weights & Biases</a> (<a href=\"https://wandb.me/run\" target=\"_blank\">docs</a>)<br/>"
      ],
      "text/plain": [
       "<IPython.core.display.HTML object>"
      ]
     },
     "metadata": {},
     "output_type": "display_data"
    },
    {
     "name": "stdout",
     "output_type": "stream",
     "text": [
      "Hyper-parameters: \n",
      " {'dataset': 'CIFAR10', 'subset': 'imagenette', 'model': 'ConvNet', 'ipc': 10, 'eval_mode': 'S', 'num_eval': 5, 'eval_it': 100, 'epoch_eval_train': 1000, 'Iteration': 5000, 'lr_img': 1000, 'lr_lr': 1e-05, 'lr_teacher': 0.01, 'lr_init': 0.01, 'batch_real': 256, 'batch_syn': 50, 'batch_train': 256, 'pix_init': 'real', 'dsa': True, 'dsa_strategy': 'color_crop_cutout_flip_scale_rotate', 'data_path': 'data', 'buffer_path': './buffers', 'expert_epochs': 2, 'syn_steps': 30, 'max_start_epoch': 15, 'zca': False, 'load_all': False, 'no_aug': False, 'texture': False, 'canvas_size': 2, 'canvas_samples': 1, 'max_files': None, 'max_experts': None, 'force_save': False, 'device': 'cuda', 'im_size': [32, 32], 'dc_aug_param': None, 'dsa_param': <ipynb.fs.full.utils.ParamDiffAug object at 0x00000209664F3490>, '_wandb': {}, 'zca_trans': None, 'distributed': False}\n",
      "Evaluation model pool:  ['ConvNet']\n",
      "BUILDING DATASET\n"
     ]
    },
    {
     "name": "stderr",
     "output_type": "stream",
     "text": [
      "100%|██████████████████████████████████████████████████████████████████████████| 50000/50000 [00:09<00:00, 5163.53it/s]\n",
      "50000it [00:00, 2780999.87it/s]\n"
     ]
    },
    {
     "name": "stdout",
     "output_type": "stream",
     "text": [
      "class c = 0: 5000 real images\n",
      "class c = 1: 5000 real images\n",
      "class c = 2: 5000 real images\n",
      "class c = 3: 5000 real images\n",
      "class c = 4: 5000 real images\n",
      "class c = 5: 5000 real images\n",
      "class c = 6: 5000 real images\n",
      "class c = 7: 5000 real images\n",
      "class c = 8: 5000 real images\n",
      "class c = 9: 5000 real images\n",
      "real images channel 0, mean = -0.0000, std = 1.2211\n",
      "real images channel 1, mean = -0.0002, std = 1.2211\n",
      "real images channel 2, mean = 0.0002, std = 1.3014\n"
     ]
    },
    {
     "name": "stderr",
     "output_type": "stream",
     "text": [
      "C:\\Users\\alanw\\AppData\\Local\\Temp\\ipykernel_21544\\403025746.py:94: UserWarning: Creating a tensor from a list of numpy.ndarrays is extremely slow. Please consider converting the list to a single numpy.ndarray with numpy.array() before converting to a tensor. (Triggered internally at C:\\cb\\pytorch_1000000000000\\work\\torch\\csrc\\utils\\tensor_new.cpp:233.)\n",
      "  label_syn = torch.tensor([np.ones(args.ipc,dtype=np.int_)*i for i in range(num_classes)], dtype=torch.long, requires_grad=False, device=args.device).view(-1) # [0,0,0, 1,1,1, ..., 9,9,9]\n"
     ]
    },
    {
     "name": "stdout",
     "output_type": "stream",
     "text": [
      "initialize synthetic data from random real images\n",
      "[2022-12-06 02:42:55] training begins\n",
      "Expert Dir: ./buffers\\CIFAR10_NO_ZCA\\ConvNet\n",
      "loading file ./buffers\\CIFAR10_NO_ZCA\\ConvNet\\replay_buffer_0.pt\n",
      "-------------------------\n",
      "Evaluation\n",
      "model_train = ConvNet, model_eval = ConvNet, iteration = 0\n",
      "DSA augmentation strategy: \n",
      " color_crop_cutout_flip_scale_rotate\n",
      "DSA augmentation parameters: \n",
      " {'aug_mode': 'S', 'prob_flip': 0.5, 'ratio_scale': 1.2, 'ratio_rotate': 15.0, 'ratio_crop_pad': 0.125, 'ratio_cutout': 0.5, 'ratio_noise': 0.05, 'brightness': 1.0, 'saturation': 2.0, 'contrast': 0.5}\n"
     ]
    },
    {
     "name": "stderr",
     "output_type": "stream",
     "text": [
      "  0%|                                                                                         | 0/1001 [00:00<?, ?it/s]C:\\Users\\alanw\\anaconda3\\envs\\project3\\lib\\site-packages\\torch\\functional.py:504: UserWarning: torch.meshgrid: in an upcoming release, it will be required to pass the indexing argument. (Triggered internally at C:\\cb\\pytorch_1000000000000\\work\\aten\\src\\ATen\\native\\TensorShape.cpp:3191.)\n",
      "  return _VF.meshgrid(tensors, **kwargs)  # type: ignore[attr-defined]\n",
      "100%|██████████████████████████████████████████████████████████████████████████████| 1001/1001 [00:14<00:00, 69.77it/s]\n"
     ]
    },
    {
     "name": "stdout",
     "output_type": "stream",
     "text": [
      "[2022-12-06 02:43:11] Evaluate_00: epoch = 1000 train time = 14 s train loss = 0.000981 train acc = 1.0000, test acc = 0.3127\n"
     ]
    },
    {
     "name": "stderr",
     "output_type": "stream",
     "text": [
      "100%|██████████████████████████████████████████████████████████████████████████████| 1001/1001 [00:13<00:00, 75.42it/s]\n"
     ]
    },
    {
     "name": "stdout",
     "output_type": "stream",
     "text": [
      "[2022-12-06 02:43:24] Evaluate_01: epoch = 1000 train time = 13 s train loss = 0.000474 train acc = 1.0000, test acc = 0.3194\n"
     ]
    },
    {
     "name": "stderr",
     "output_type": "stream",
     "text": [
      "100%|██████████████████████████████████████████████████████████████████████████████| 1001/1001 [00:13<00:00, 75.92it/s]\n"
     ]
    },
    {
     "name": "stdout",
     "output_type": "stream",
     "text": [
      "[2022-12-06 02:43:38] Evaluate_02: epoch = 1000 train time = 13 s train loss = 0.005514 train acc = 1.0000, test acc = 0.3152\n"
     ]
    },
    {
     "name": "stderr",
     "output_type": "stream",
     "text": [
      "100%|██████████████████████████████████████████████████████████████████████████████| 1001/1001 [00:13<00:00, 75.42it/s]\n"
     ]
    },
    {
     "name": "stdout",
     "output_type": "stream",
     "text": [
      "[2022-12-06 02:43:51] Evaluate_03: epoch = 1000 train time = 13 s train loss = 0.000527 train acc = 1.0000, test acc = 0.3233\n"
     ]
    },
    {
     "name": "stderr",
     "output_type": "stream",
     "text": [
      "100%|██████████████████████████████████████████████████████████████████████████████| 1001/1001 [00:13<00:00, 75.01it/s]\n"
     ]
    },
    {
     "name": "stdout",
     "output_type": "stream",
     "text": [
      "[2022-12-06 02:44:04] Evaluate_04: epoch = 1000 train time = 13 s train loss = 0.004695 train acc = 1.0000, test acc = 0.3170\n",
      "Evaluate 5 random ConvNet, mean = 0.3175 std = 0.0036\n",
      "-------------------------\n",
      "[2022-12-06 02:44:07] iter = 0000, loss = 1.5303\n",
      "loading file ./buffers\\CIFAR10_NO_ZCA\\ConvNet\\replay_buffer_2.pt\n",
      "[2022-12-06 02:44:30] iter = 0010, loss = 0.9475\n",
      "loading file ./buffers\\CIFAR10_NO_ZCA\\ConvNet\\replay_buffer_1.pt\n",
      "[2022-12-06 02:44:53] iter = 0020, loss = 0.9695\n",
      "loading file ./buffers\\CIFAR10_NO_ZCA\\ConvNet\\replay_buffer_4.pt\n",
      "[2022-12-06 02:45:15] iter = 0030, loss = 0.9463\n",
      "loading file ./buffers\\CIFAR10_NO_ZCA\\ConvNet\\replay_buffer_3.pt\n",
      "[2022-12-06 02:45:38] iter = 0040, loss = 0.8869\n",
      "loading file ./buffers\\CIFAR10_NO_ZCA\\ConvNet\\replay_buffer_1.pt\n",
      "[2022-12-06 02:46:00] iter = 0050, loss = 0.9556\n",
      "loading file ./buffers\\CIFAR10_NO_ZCA\\ConvNet\\replay_buffer_3.pt\n",
      "[2022-12-06 02:46:22] iter = 0060, loss = 0.9419\n",
      "loading file ./buffers\\CIFAR10_NO_ZCA\\ConvNet\\replay_buffer_0.pt\n",
      "[2022-12-06 02:46:45] iter = 0070, loss = 0.8122\n",
      "loading file ./buffers\\CIFAR10_NO_ZCA\\ConvNet\\replay_buffer_2.pt\n",
      "[2022-12-06 02:47:07] iter = 0080, loss = 0.8652\n",
      "loading file ./buffers\\CIFAR10_NO_ZCA\\ConvNet\\replay_buffer_4.pt\n",
      "[2022-12-06 02:47:29] iter = 0090, loss = 0.8517\n",
      "loading file ./buffers\\CIFAR10_NO_ZCA\\ConvNet\\replay_buffer_1.pt\n",
      "-------------------------\n",
      "Evaluation\n",
      "model_train = ConvNet, model_eval = ConvNet, iteration = 100\n",
      "DSA augmentation strategy: \n",
      " color_crop_cutout_flip_scale_rotate\n",
      "DSA augmentation parameters: \n",
      " {'aug_mode': 'S', 'prob_flip': 0.5, 'ratio_scale': 1.2, 'ratio_rotate': 15.0, 'ratio_crop_pad': 0.125, 'ratio_cutout': 0.5, 'ratio_noise': 0.05, 'brightness': 1.0, 'saturation': 2.0, 'contrast': 0.5, 'batchmode': False, 'latestseed': -1}\n"
     ]
    },
    {
     "name": "stderr",
     "output_type": "stream",
     "text": [
      "100%|██████████████████████████████████████████████████████████████████████████████| 1001/1001 [00:13<00:00, 75.37it/s]\n"
     ]
    },
    {
     "name": "stdout",
     "output_type": "stream",
     "text": [
      "[2022-12-06 02:48:03] Evaluate_00: epoch = 1000 train time = 13 s train loss = 0.000834 train acc = 1.0000, test acc = 0.4896\n"
     ]
    },
    {
     "name": "stderr",
     "output_type": "stream",
     "text": [
      "100%|██████████████████████████████████████████████████████████████████████████████| 1001/1001 [00:13<00:00, 72.84it/s]\n"
     ]
    },
    {
     "name": "stdout",
     "output_type": "stream",
     "text": [
      "[2022-12-06 02:48:17] Evaluate_01: epoch = 1000 train time = 13 s train loss = 0.001138 train acc = 1.0000, test acc = 0.4811\n"
     ]
    },
    {
     "name": "stderr",
     "output_type": "stream",
     "text": [
      "100%|██████████████████████████████████████████████████████████████████████████████| 1001/1001 [00:13<00:00, 72.37it/s]\n"
     ]
    },
    {
     "name": "stdout",
     "output_type": "stream",
     "text": [
      "[2022-12-06 02:48:30] Evaluate_02: epoch = 1000 train time = 13 s train loss = 0.000241 train acc = 1.0000, test acc = 0.4852\n"
     ]
    },
    {
     "name": "stderr",
     "output_type": "stream",
     "text": [
      "100%|██████████████████████████████████████████████████████████████████████████████| 1001/1001 [00:13<00:00, 73.60it/s]\n"
     ]
    },
    {
     "name": "stdout",
     "output_type": "stream",
     "text": [
      "[2022-12-06 02:48:44] Evaluate_03: epoch = 1000 train time = 13 s train loss = 0.004215 train acc = 1.0000, test acc = 0.4848\n"
     ]
    },
    {
     "name": "stderr",
     "output_type": "stream",
     "text": [
      "100%|██████████████████████████████████████████████████████████████████████████████| 1001/1001 [00:13<00:00, 76.01it/s]\n"
     ]
    },
    {
     "name": "stdout",
     "output_type": "stream",
     "text": [
      "[2022-12-06 02:48:57] Evaluate_04: epoch = 1000 train time = 13 s train loss = 0.001101 train acc = 1.0000, test acc = 0.4807\n",
      "Evaluate 5 random ConvNet, mean = 0.4843 std = 0.0032\n",
      "-------------------------\n",
      "[2022-12-06 02:49:00] iter = 0100, loss = 0.9634\n",
      "loading file ./buffers\\CIFAR10_NO_ZCA\\ConvNet\\replay_buffer_0.pt\n",
      "[2022-12-06 02:49:22] iter = 0110, loss = 0.9612\n",
      "loading file ./buffers\\CIFAR10_NO_ZCA\\ConvNet\\replay_buffer_4.pt\n",
      "[2022-12-06 02:49:45] iter = 0120, loss = 0.7110\n",
      "loading file ./buffers\\CIFAR10_NO_ZCA\\ConvNet\\replay_buffer_3.pt\n",
      "[2022-12-06 02:50:07] iter = 0130, loss = 0.8047\n",
      "loading file ./buffers\\CIFAR10_NO_ZCA\\ConvNet\\replay_buffer_2.pt\n",
      "[2022-12-06 02:50:29] iter = 0140, loss = 0.9116\n",
      "loading file ./buffers\\CIFAR10_NO_ZCA\\ConvNet\\replay_buffer_4.pt\n",
      "[2022-12-06 02:50:51] iter = 0150, loss = 0.9193\n",
      "loading file ./buffers\\CIFAR10_NO_ZCA\\ConvNet\\replay_buffer_1.pt\n",
      "[2022-12-06 02:51:14] iter = 0160, loss = 0.7220\n",
      "loading file ./buffers\\CIFAR10_NO_ZCA\\ConvNet\\replay_buffer_2.pt\n",
      "[2022-12-06 02:51:36] iter = 0170, loss = 0.8122\n",
      "loading file ./buffers\\CIFAR10_NO_ZCA\\ConvNet\\replay_buffer_0.pt\n",
      "[2022-12-06 02:51:58] iter = 0180, loss = 0.7439\n",
      "loading file ./buffers\\CIFAR10_NO_ZCA\\ConvNet\\replay_buffer_3.pt\n",
      "[2022-12-06 02:52:21] iter = 0190, loss = 0.7121\n",
      "loading file ./buffers\\CIFAR10_NO_ZCA\\ConvNet\\replay_buffer_3.pt\n",
      "-------------------------\n",
      "Evaluation\n",
      "model_train = ConvNet, model_eval = ConvNet, iteration = 200\n",
      "DSA augmentation strategy: \n",
      " color_crop_cutout_flip_scale_rotate\n",
      "DSA augmentation parameters: \n",
      " {'aug_mode': 'S', 'prob_flip': 0.5, 'ratio_scale': 1.2, 'ratio_rotate': 15.0, 'ratio_crop_pad': 0.125, 'ratio_cutout': 0.5, 'ratio_noise': 0.05, 'brightness': 1.0, 'saturation': 2.0, 'contrast': 0.5, 'batchmode': False, 'latestseed': -1}\n"
     ]
    },
    {
     "name": "stderr",
     "output_type": "stream",
     "text": [
      "100%|██████████████████████████████████████████████████████████████████████████████| 1001/1001 [00:13<00:00, 75.09it/s]\n"
     ]
    },
    {
     "name": "stdout",
     "output_type": "stream",
     "text": [
      "[2022-12-06 02:52:54] Evaluate_00: epoch = 1000 train time = 13 s train loss = 0.000230 train acc = 1.0000, test acc = 0.5201\n"
     ]
    },
    {
     "name": "stderr",
     "output_type": "stream",
     "text": [
      "100%|██████████████████████████████████████████████████████████████████████████████| 1001/1001 [00:13<00:00, 75.48it/s]\n"
     ]
    },
    {
     "name": "stdout",
     "output_type": "stream",
     "text": [
      "[2022-12-06 02:53:07] Evaluate_01: epoch = 1000 train time = 13 s train loss = 0.000837 train acc = 1.0000, test acc = 0.5223\n"
     ]
    },
    {
     "name": "stderr",
     "output_type": "stream",
     "text": [
      "100%|██████████████████████████████████████████████████████████████████████████████| 1001/1001 [00:13<00:00, 75.60it/s]\n"
     ]
    },
    {
     "name": "stdout",
     "output_type": "stream",
     "text": [
      "[2022-12-06 02:53:21] Evaluate_02: epoch = 1000 train time = 13 s train loss = 0.000946 train acc = 1.0000, test acc = 0.5292\n"
     ]
    },
    {
     "name": "stderr",
     "output_type": "stream",
     "text": [
      "100%|██████████████████████████████████████████████████████████████████████████████| 1001/1001 [00:13<00:00, 75.37it/s]\n"
     ]
    },
    {
     "name": "stdout",
     "output_type": "stream",
     "text": [
      "[2022-12-06 02:53:34] Evaluate_03: epoch = 1000 train time = 13 s train loss = 0.001717 train acc = 1.0000, test acc = 0.5255\n"
     ]
    },
    {
     "name": "stderr",
     "output_type": "stream",
     "text": [
      "100%|██████████████████████████████████████████████████████████████████████████████| 1001/1001 [00:13<00:00, 76.00it/s]\n"
     ]
    },
    {
     "name": "stdout",
     "output_type": "stream",
     "text": [
      "[2022-12-06 02:53:47] Evaluate_04: epoch = 1000 train time = 13 s train loss = 0.000690 train acc = 1.0000, test acc = 0.5270\n",
      "Evaluate 5 random ConvNet, mean = 0.5248 std = 0.0033\n",
      "-------------------------\n",
      "[2022-12-06 02:53:50] iter = 0200, loss = 0.9655\n",
      "loading file ./buffers\\CIFAR10_NO_ZCA\\ConvNet\\replay_buffer_2.pt\n",
      "[2022-12-06 02:54:12] iter = 0210, loss = 0.8237\n",
      "loading file ./buffers\\CIFAR10_NO_ZCA\\ConvNet\\replay_buffer_1.pt\n",
      "[2022-12-06 02:54:34] iter = 0220, loss = 0.9477\n",
      "loading file ./buffers\\CIFAR10_NO_ZCA\\ConvNet\\replay_buffer_0.pt\n",
      "[2022-12-06 02:54:57] iter = 0230, loss = 0.8269\n",
      "loading file ./buffers\\CIFAR10_NO_ZCA\\ConvNet\\replay_buffer_4.pt\n",
      "[2022-12-06 02:55:19] iter = 0240, loss = 0.6769\n",
      "loading file ./buffers\\CIFAR10_NO_ZCA\\ConvNet\\replay_buffer_2.pt\n",
      "[2022-12-06 02:55:41] iter = 0250, loss = 0.7214\n",
      "loading file ./buffers\\CIFAR10_NO_ZCA\\ConvNet\\replay_buffer_0.pt\n",
      "[2022-12-06 02:56:04] iter = 0260, loss = 0.6222\n",
      "loading file ./buffers\\CIFAR10_NO_ZCA\\ConvNet\\replay_buffer_3.pt\n",
      "[2022-12-06 02:56:26] iter = 0270, loss = 0.6178\n",
      "loading file ./buffers\\CIFAR10_NO_ZCA\\ConvNet\\replay_buffer_1.pt\n",
      "[2022-12-06 02:56:48] iter = 0280, loss = 0.9481\n",
      "loading file ./buffers\\CIFAR10_NO_ZCA\\ConvNet\\replay_buffer_4.pt\n",
      "[2022-12-06 02:57:10] iter = 0290, loss = 0.8023\n",
      "loading file ./buffers\\CIFAR10_NO_ZCA\\ConvNet\\replay_buffer_3.pt\n",
      "-------------------------\n",
      "Evaluation\n",
      "model_train = ConvNet, model_eval = ConvNet, iteration = 300\n",
      "DSA augmentation strategy: \n",
      " color_crop_cutout_flip_scale_rotate\n",
      "DSA augmentation parameters: \n",
      " {'aug_mode': 'S', 'prob_flip': 0.5, 'ratio_scale': 1.2, 'ratio_rotate': 15.0, 'ratio_crop_pad': 0.125, 'ratio_cutout': 0.5, 'ratio_noise': 0.05, 'brightness': 1.0, 'saturation': 2.0, 'contrast': 0.5, 'batchmode': False, 'latestseed': -1}\n"
     ]
    },
    {
     "name": "stderr",
     "output_type": "stream",
     "text": [
      "100%|██████████████████████████████████████████████████████████████████████████████| 1001/1001 [00:13<00:00, 74.49it/s]\n"
     ]
    },
    {
     "name": "stdout",
     "output_type": "stream",
     "text": [
      "[2022-12-06 02:57:44] Evaluate_00: epoch = 1000 train time = 13 s train loss = 0.000193 train acc = 1.0000, test acc = 0.5581\n"
     ]
    },
    {
     "name": "stderr",
     "output_type": "stream",
     "text": [
      "100%|██████████████████████████████████████████████████████████████████████████████| 1001/1001 [00:13<00:00, 75.98it/s]\n"
     ]
    },
    {
     "name": "stdout",
     "output_type": "stream",
     "text": [
      "[2022-12-06 02:57:57] Evaluate_01: epoch = 1000 train time = 13 s train loss = 0.000239 train acc = 1.0000, test acc = 0.5610\n"
     ]
    },
    {
     "name": "stderr",
     "output_type": "stream",
     "text": [
      "100%|██████████████████████████████████████████████████████████████████████████████| 1001/1001 [00:13<00:00, 75.87it/s]\n"
     ]
    },
    {
     "name": "stdout",
     "output_type": "stream",
     "text": [
      "[2022-12-06 02:58:11] Evaluate_02: epoch = 1000 train time = 13 s train loss = 0.001008 train acc = 1.0000, test acc = 0.5531\n"
     ]
    },
    {
     "name": "stderr",
     "output_type": "stream",
     "text": [
      "100%|██████████████████████████████████████████████████████████████████████████████| 1001/1001 [00:13<00:00, 76.05it/s]\n"
     ]
    },
    {
     "name": "stdout",
     "output_type": "stream",
     "text": [
      "[2022-12-06 02:58:24] Evaluate_03: epoch = 1000 train time = 13 s train loss = 0.001768 train acc = 1.0000, test acc = 0.5517\n"
     ]
    },
    {
     "name": "stderr",
     "output_type": "stream",
     "text": [
      "100%|██████████████████████████████████████████████████████████████████████████████| 1001/1001 [00:13<00:00, 75.66it/s]\n"
     ]
    },
    {
     "name": "stdout",
     "output_type": "stream",
     "text": [
      "[2022-12-06 02:58:37] Evaluate_04: epoch = 1000 train time = 13 s train loss = 0.000676 train acc = 1.0000, test acc = 0.5393\n",
      "Evaluate 5 random ConvNet, mean = 0.5526 std = 0.0075\n",
      "-------------------------\n",
      "[2022-12-06 02:58:40] iter = 0300, loss = 0.9099\n",
      "loading file ./buffers\\CIFAR10_NO_ZCA\\ConvNet\\replay_buffer_2.pt\n",
      "[2022-12-06 02:59:02] iter = 0310, loss = 0.9192\n",
      "loading file ./buffers\\CIFAR10_NO_ZCA\\ConvNet\\replay_buffer_1.pt\n",
      "[2022-12-06 02:59:24] iter = 0320, loss = 0.8553\n",
      "loading file ./buffers\\CIFAR10_NO_ZCA\\ConvNet\\replay_buffer_0.pt\n",
      "[2022-12-06 02:59:46] iter = 0330, loss = 0.6911\n",
      "loading file ./buffers\\CIFAR10_NO_ZCA\\ConvNet\\replay_buffer_4.pt\n",
      "[2022-12-06 03:00:08] iter = 0340, loss = 0.6387\n",
      "loading file ./buffers\\CIFAR10_NO_ZCA\\ConvNet\\replay_buffer_1.pt\n",
      "[2022-12-06 03:00:30] iter = 0350, loss = 0.9127\n",
      "loading file ./buffers\\CIFAR10_NO_ZCA\\ConvNet\\replay_buffer_2.pt\n",
      "[2022-12-06 03:00:52] iter = 0360, loss = 0.6528\n",
      "loading file ./buffers\\CIFAR10_NO_ZCA\\ConvNet\\replay_buffer_4.pt\n",
      "[2022-12-06 03:01:14] iter = 0370, loss = 0.6314\n",
      "loading file ./buffers\\CIFAR10_NO_ZCA\\ConvNet\\replay_buffer_3.pt\n",
      "[2022-12-06 03:01:36] iter = 0380, loss = 0.8345\n",
      "loading file ./buffers\\CIFAR10_NO_ZCA\\ConvNet\\replay_buffer_0.pt\n",
      "[2022-12-06 03:01:58] iter = 0390, loss = 0.9084\n",
      "loading file ./buffers\\CIFAR10_NO_ZCA\\ConvNet\\replay_buffer_3.pt\n",
      "-------------------------\n",
      "Evaluation\n",
      "model_train = ConvNet, model_eval = ConvNet, iteration = 400\n",
      "DSA augmentation strategy: \n",
      " color_crop_cutout_flip_scale_rotate\n",
      "DSA augmentation parameters: \n",
      " {'aug_mode': 'S', 'prob_flip': 0.5, 'ratio_scale': 1.2, 'ratio_rotate': 15.0, 'ratio_crop_pad': 0.125, 'ratio_cutout': 0.5, 'ratio_noise': 0.05, 'brightness': 1.0, 'saturation': 2.0, 'contrast': 0.5, 'batchmode': False, 'latestseed': -1}\n"
     ]
    },
    {
     "name": "stderr",
     "output_type": "stream",
     "text": [
      "100%|██████████████████████████████████████████████████████████████████████████████| 1001/1001 [00:12<00:00, 77.93it/s]\n"
     ]
    },
    {
     "name": "stdout",
     "output_type": "stream",
     "text": [
      "[2022-12-06 03:02:31] Evaluate_00: epoch = 1000 train time = 12 s train loss = 0.000325 train acc = 1.0000, test acc = 0.5617\n"
     ]
    },
    {
     "name": "stderr",
     "output_type": "stream",
     "text": [
      "100%|██████████████████████████████████████████████████████████████████████████████| 1001/1001 [00:12<00:00, 78.86it/s]\n"
     ]
    },
    {
     "name": "stdout",
     "output_type": "stream",
     "text": [
      "[2022-12-06 03:02:43] Evaluate_01: epoch = 1000 train time = 12 s train loss = 0.000256 train acc = 1.0000, test acc = 0.5760\n"
     ]
    },
    {
     "name": "stderr",
     "output_type": "stream",
     "text": [
      "100%|██████████████████████████████████████████████████████████████████████████████| 1001/1001 [00:12<00:00, 78.66it/s]\n"
     ]
    },
    {
     "name": "stdout",
     "output_type": "stream",
     "text": [
      "[2022-12-06 03:02:56] Evaluate_02: epoch = 1000 train time = 12 s train loss = 0.000200 train acc = 1.0000, test acc = 0.5686\n"
     ]
    },
    {
     "name": "stderr",
     "output_type": "stream",
     "text": [
      "100%|██████████████████████████████████████████████████████████████████████████████| 1001/1001 [00:12<00:00, 79.14it/s]\n"
     ]
    },
    {
     "name": "stdout",
     "output_type": "stream",
     "text": [
      "[2022-12-06 03:03:09] Evaluate_03: epoch = 1000 train time = 12 s train loss = 0.000305 train acc = 1.0000, test acc = 0.5611\n"
     ]
    },
    {
     "name": "stderr",
     "output_type": "stream",
     "text": [
      "100%|██████████████████████████████████████████████████████████████████████████████| 1001/1001 [00:12<00:00, 78.75it/s]\n"
     ]
    },
    {
     "name": "stdout",
     "output_type": "stream",
     "text": [
      "[2022-12-06 03:03:22] Evaluate_04: epoch = 1000 train time = 12 s train loss = 0.001922 train acc = 1.0000, test acc = 0.5528\n",
      "Evaluate 5 random ConvNet, mean = 0.5640 std = 0.0078\n",
      "-------------------------\n",
      "[2022-12-06 03:03:24] iter = 0400, loss = 0.7585\n",
      "loading file ./buffers\\CIFAR10_NO_ZCA\\ConvNet\\replay_buffer_2.pt\n",
      "[2022-12-06 03:03:47] iter = 0410, loss = 0.8794\n",
      "loading file ./buffers\\CIFAR10_NO_ZCA\\ConvNet\\replay_buffer_0.pt\n",
      "[2022-12-06 03:04:09] iter = 0420, loss = 0.7029\n",
      "loading file ./buffers\\CIFAR10_NO_ZCA\\ConvNet\\replay_buffer_4.pt\n",
      "[2022-12-06 03:04:31] iter = 0430, loss = 0.9479\n",
      "loading file ./buffers\\CIFAR10_NO_ZCA\\ConvNet\\replay_buffer_1.pt\n",
      "[2022-12-06 03:04:53] iter = 0440, loss = 0.9451\n",
      "loading file ./buffers\\CIFAR10_NO_ZCA\\ConvNet\\replay_buffer_1.pt\n",
      "[2022-12-06 03:05:15] iter = 0450, loss = 0.9502\n",
      "loading file ./buffers\\CIFAR10_NO_ZCA\\ConvNet\\replay_buffer_0.pt\n",
      "[2022-12-06 03:05:37] iter = 0460, loss = 0.8883\n",
      "loading file ./buffers\\CIFAR10_NO_ZCA\\ConvNet\\replay_buffer_2.pt\n",
      "[2022-12-06 03:05:59] iter = 0470, loss = 0.8165\n",
      "loading file ./buffers\\CIFAR10_NO_ZCA\\ConvNet\\replay_buffer_3.pt\n",
      "[2022-12-06 03:06:21] iter = 0480, loss = 0.7411\n",
      "loading file ./buffers\\CIFAR10_NO_ZCA\\ConvNet\\replay_buffer_4.pt\n",
      "[2022-12-06 03:06:43] iter = 0490, loss = 0.6953\n",
      "loading file ./buffers\\CIFAR10_NO_ZCA\\ConvNet\\replay_buffer_4.pt\n",
      "-------------------------\n",
      "Evaluation\n",
      "model_train = ConvNet, model_eval = ConvNet, iteration = 500\n",
      "DSA augmentation strategy: \n",
      " color_crop_cutout_flip_scale_rotate\n",
      "DSA augmentation parameters: \n",
      " {'aug_mode': 'S', 'prob_flip': 0.5, 'ratio_scale': 1.2, 'ratio_rotate': 15.0, 'ratio_crop_pad': 0.125, 'ratio_cutout': 0.5, 'ratio_noise': 0.05, 'brightness': 1.0, 'saturation': 2.0, 'contrast': 0.5, 'batchmode': False, 'latestseed': -1}\n"
     ]
    },
    {
     "name": "stderr",
     "output_type": "stream",
     "text": [
      "100%|██████████████████████████████████████████████████████████████████████████████| 1001/1001 [00:12<00:00, 78.67it/s]\n"
     ]
    },
    {
     "name": "stdout",
     "output_type": "stream",
     "text": [
      "[2022-12-06 03:07:15] Evaluate_00: epoch = 1000 train time = 12 s train loss = 0.001420 train acc = 1.0000, test acc = 0.5806\n"
     ]
    },
    {
     "name": "stderr",
     "output_type": "stream",
     "text": [
      "100%|██████████████████████████████████████████████████████████████████████████████| 1001/1001 [00:12<00:00, 77.63it/s]\n"
     ]
    },
    {
     "name": "stdout",
     "output_type": "stream",
     "text": [
      "[2022-12-06 03:07:28] Evaluate_01: epoch = 1000 train time = 12 s train loss = 0.000230 train acc = 1.0000, test acc = 0.5637\n"
     ]
    },
    {
     "name": "stderr",
     "output_type": "stream",
     "text": [
      "100%|██████████████████████████████████████████████████████████████████████████████| 1001/1001 [00:12<00:00, 77.21it/s]\n"
     ]
    },
    {
     "name": "stdout",
     "output_type": "stream",
     "text": [
      "[2022-12-06 03:07:41] Evaluate_02: epoch = 1000 train time = 12 s train loss = 0.000211 train acc = 1.0000, test acc = 0.5781\n"
     ]
    },
    {
     "name": "stderr",
     "output_type": "stream",
     "text": [
      "100%|██████████████████████████████████████████████████████████████████████████████| 1001/1001 [00:12<00:00, 79.07it/s]\n"
     ]
    },
    {
     "name": "stdout",
     "output_type": "stream",
     "text": [
      "[2022-12-06 03:07:54] Evaluate_03: epoch = 1000 train time = 12 s train loss = 0.000208 train acc = 1.0000, test acc = 0.5791\n"
     ]
    },
    {
     "name": "stderr",
     "output_type": "stream",
     "text": [
      "100%|██████████████████████████████████████████████████████████████████████████████| 1001/1001 [00:12<00:00, 78.99it/s]\n"
     ]
    },
    {
     "name": "stdout",
     "output_type": "stream",
     "text": [
      "[2022-12-06 03:08:07] Evaluate_04: epoch = 1000 train time = 12 s train loss = 0.000132 train acc = 1.0000, test acc = 0.5731\n",
      "Evaluate 5 random ConvNet, mean = 0.5749 std = 0.0061\n",
      "-------------------------\n",
      "[2022-12-06 03:08:09] iter = 0500, loss = 0.6283\n",
      "loading file ./buffers\\CIFAR10_NO_ZCA\\ConvNet\\replay_buffer_0.pt\n",
      "[2022-12-06 03:08:31] iter = 0510, loss = 0.7151\n",
      "loading file ./buffers\\CIFAR10_NO_ZCA\\ConvNet\\replay_buffer_1.pt\n",
      "[2022-12-06 03:08:53] iter = 0520, loss = 0.9325\n",
      "loading file ./buffers\\CIFAR10_NO_ZCA\\ConvNet\\replay_buffer_3.pt\n",
      "[2022-12-06 03:09:16] iter = 0530, loss = 0.9428\n",
      "loading file ./buffers\\CIFAR10_NO_ZCA\\ConvNet\\replay_buffer_2.pt\n",
      "[2022-12-06 03:09:38] iter = 0540, loss = 0.9084\n",
      "loading file ./buffers\\CIFAR10_NO_ZCA\\ConvNet\\replay_buffer_0.pt\n",
      "[2022-12-06 03:10:00] iter = 0550, loss = 0.6659\n",
      "loading file ./buffers\\CIFAR10_NO_ZCA\\ConvNet\\replay_buffer_1.pt\n",
      "[2022-12-06 03:10:22] iter = 0560, loss = 0.6041\n",
      "loading file ./buffers\\CIFAR10_NO_ZCA\\ConvNet\\replay_buffer_3.pt\n",
      "[2022-12-06 03:10:44] iter = 0570, loss = 0.9208\n",
      "loading file ./buffers\\CIFAR10_NO_ZCA\\ConvNet\\replay_buffer_2.pt\n",
      "[2022-12-06 03:11:06] iter = 0580, loss = 0.7249\n",
      "loading file ./buffers\\CIFAR10_NO_ZCA\\ConvNet\\replay_buffer_4.pt\n",
      "[2022-12-06 03:11:28] iter = 0590, loss = 0.6158\n",
      "loading file ./buffers\\CIFAR10_NO_ZCA\\ConvNet\\replay_buffer_1.pt\n",
      "-------------------------\n",
      "Evaluation\n",
      "model_train = ConvNet, model_eval = ConvNet, iteration = 600\n",
      "DSA augmentation strategy: \n",
      " color_crop_cutout_flip_scale_rotate\n",
      "DSA augmentation parameters: \n",
      " {'aug_mode': 'S', 'prob_flip': 0.5, 'ratio_scale': 1.2, 'ratio_rotate': 15.0, 'ratio_crop_pad': 0.125, 'ratio_cutout': 0.5, 'ratio_noise': 0.05, 'brightness': 1.0, 'saturation': 2.0, 'contrast': 0.5, 'batchmode': False, 'latestseed': -1}\n"
     ]
    },
    {
     "name": "stderr",
     "output_type": "stream",
     "text": [
      "100%|██████████████████████████████████████████████████████████████████████████████| 1001/1001 [00:12<00:00, 78.76it/s]\n"
     ]
    },
    {
     "name": "stdout",
     "output_type": "stream",
     "text": [
      "[2022-12-06 03:12:01] Evaluate_00: epoch = 1000 train time = 12 s train loss = 0.000232 train acc = 1.0000, test acc = 0.5834\n"
     ]
    },
    {
     "name": "stderr",
     "output_type": "stream",
     "text": [
      "100%|██████████████████████████████████████████████████████████████████████████████| 1001/1001 [00:12<00:00, 78.79it/s]\n"
     ]
    },
    {
     "name": "stdout",
     "output_type": "stream",
     "text": [
      "[2022-12-06 03:12:14] Evaluate_01: epoch = 1000 train time = 12 s train loss = 0.004415 train acc = 1.0000, test acc = 0.5962\n"
     ]
    },
    {
     "name": "stderr",
     "output_type": "stream",
     "text": [
      "100%|██████████████████████████████████████████████████████████████████████████████| 1001/1001 [00:12<00:00, 78.83it/s]\n"
     ]
    },
    {
     "name": "stdout",
     "output_type": "stream",
     "text": [
      "[2022-12-06 03:12:26] Evaluate_02: epoch = 1000 train time = 12 s train loss = 0.000247 train acc = 1.0000, test acc = 0.5931\n"
     ]
    },
    {
     "name": "stderr",
     "output_type": "stream",
     "text": [
      "100%|██████████████████████████████████████████████████████████████████████████████| 1001/1001 [00:12<00:00, 77.39it/s]\n"
     ]
    },
    {
     "name": "stdout",
     "output_type": "stream",
     "text": [
      "[2022-12-06 03:12:39] Evaluate_03: epoch = 1000 train time = 12 s train loss = 0.000586 train acc = 1.0000, test acc = 0.5772\n"
     ]
    },
    {
     "name": "stderr",
     "output_type": "stream",
     "text": [
      "100%|██████████████████████████████████████████████████████████████████████████████| 1001/1001 [00:12<00:00, 78.93it/s]\n"
     ]
    },
    {
     "name": "stdout",
     "output_type": "stream",
     "text": [
      "[2022-12-06 03:12:52] Evaluate_04: epoch = 1000 train time = 12 s train loss = 0.000214 train acc = 1.0000, test acc = 0.5934\n",
      "Evaluate 5 random ConvNet, mean = 0.5887 std = 0.0072\n",
      "-------------------------\n",
      "[2022-12-06 03:12:55] iter = 0600, loss = 0.6141\n",
      "loading file ./buffers\\CIFAR10_NO_ZCA\\ConvNet\\replay_buffer_4.pt\n",
      "[2022-12-06 03:13:17] iter = 0610, loss = 0.8750\n",
      "loading file ./buffers\\CIFAR10_NO_ZCA\\ConvNet\\replay_buffer_3.pt\n",
      "[2022-12-06 03:13:39] iter = 0620, loss = 0.6252\n",
      "loading file ./buffers\\CIFAR10_NO_ZCA\\ConvNet\\replay_buffer_2.pt\n",
      "[2022-12-06 03:14:01] iter = 0630, loss = 0.8597\n",
      "loading file ./buffers\\CIFAR10_NO_ZCA\\ConvNet\\replay_buffer_0.pt\n",
      "[2022-12-06 03:14:23] iter = 0640, loss = 0.9468\n",
      "loading file ./buffers\\CIFAR10_NO_ZCA\\ConvNet\\replay_buffer_2.pt\n",
      "[2022-12-06 03:14:45] iter = 0650, loss = 0.8481\n",
      "loading file ./buffers\\CIFAR10_NO_ZCA\\ConvNet\\replay_buffer_1.pt\n",
      "[2022-12-06 03:15:07] iter = 0660, loss = 0.8062\n",
      "loading file ./buffers\\CIFAR10_NO_ZCA\\ConvNet\\replay_buffer_0.pt\n",
      "[2022-12-06 03:15:29] iter = 0670, loss = 0.6263\n",
      "loading file ./buffers\\CIFAR10_NO_ZCA\\ConvNet\\replay_buffer_4.pt\n",
      "[2022-12-06 03:15:51] iter = 0680, loss = 0.9429\n",
      "loading file ./buffers\\CIFAR10_NO_ZCA\\ConvNet\\replay_buffer_3.pt\n",
      "[2022-12-06 03:16:13] iter = 0690, loss = 0.9335\n",
      "loading file ./buffers\\CIFAR10_NO_ZCA\\ConvNet\\replay_buffer_4.pt\n",
      "-------------------------\n",
      "Evaluation\n",
      "model_train = ConvNet, model_eval = ConvNet, iteration = 700\n",
      "DSA augmentation strategy: \n",
      " color_crop_cutout_flip_scale_rotate\n",
      "DSA augmentation parameters: \n",
      " {'aug_mode': 'S', 'prob_flip': 0.5, 'ratio_scale': 1.2, 'ratio_rotate': 15.0, 'ratio_crop_pad': 0.125, 'ratio_cutout': 0.5, 'ratio_noise': 0.05, 'brightness': 1.0, 'saturation': 2.0, 'contrast': 0.5, 'batchmode': False, 'latestseed': -1}\n"
     ]
    },
    {
     "name": "stderr",
     "output_type": "stream",
     "text": [
      "100%|██████████████████████████████████████████████████████████████████████████████| 1001/1001 [00:12<00:00, 77.84it/s]\n"
     ]
    },
    {
     "name": "stdout",
     "output_type": "stream",
     "text": [
      "[2022-12-06 03:16:46] Evaluate_00: epoch = 1000 train time = 12 s train loss = 0.004023 train acc = 1.0000, test acc = 0.5869\n"
     ]
    },
    {
     "name": "stderr",
     "output_type": "stream",
     "text": [
      "100%|██████████████████████████████████████████████████████████████████████████████| 1001/1001 [00:12<00:00, 79.08it/s]\n"
     ]
    },
    {
     "name": "stdout",
     "output_type": "stream",
     "text": [
      "[2022-12-06 03:16:59] Evaluate_01: epoch = 1000 train time = 12 s train loss = 0.000185 train acc = 1.0000, test acc = 0.5941\n"
     ]
    },
    {
     "name": "stderr",
     "output_type": "stream",
     "text": [
      "100%|██████████████████████████████████████████████████████████████████████████████| 1001/1001 [00:12<00:00, 78.71it/s]\n"
     ]
    },
    {
     "name": "stdout",
     "output_type": "stream",
     "text": [
      "[2022-12-06 03:17:11] Evaluate_02: epoch = 1000 train time = 12 s train loss = 0.000197 train acc = 1.0000, test acc = 0.5830\n"
     ]
    },
    {
     "name": "stderr",
     "output_type": "stream",
     "text": [
      "100%|██████████████████████████████████████████████████████████████████████████████| 1001/1001 [00:12<00:00, 78.23it/s]\n"
     ]
    },
    {
     "name": "stdout",
     "output_type": "stream",
     "text": [
      "[2022-12-06 03:17:24] Evaluate_03: epoch = 1000 train time = 12 s train loss = 0.001075 train acc = 1.0000, test acc = 0.5947\n"
     ]
    },
    {
     "name": "stderr",
     "output_type": "stream",
     "text": [
      "100%|██████████████████████████████████████████████████████████████████████████████| 1001/1001 [00:12<00:00, 77.86it/s]\n"
     ]
    },
    {
     "name": "stdout",
     "output_type": "stream",
     "text": [
      "[2022-12-06 03:17:37] Evaluate_04: epoch = 1000 train time = 12 s train loss = 0.004216 train acc = 1.0000, test acc = 0.5835\n",
      "Evaluate 5 random ConvNet, mean = 0.5884 std = 0.0051\n",
      "-------------------------\n",
      "[2022-12-06 03:17:39] iter = 0700, loss = 0.9586\n",
      "loading file ./buffers\\CIFAR10_NO_ZCA\\ConvNet\\replay_buffer_0.pt\n",
      "[2022-12-06 03:18:02] iter = 0710, loss = 0.9056\n",
      "loading file ./buffers\\CIFAR10_NO_ZCA\\ConvNet\\replay_buffer_1.pt\n",
      "[2022-12-06 03:18:24] iter = 0720, loss = 0.9384\n",
      "loading file ./buffers\\CIFAR10_NO_ZCA\\ConvNet\\replay_buffer_3.pt\n",
      "[2022-12-06 03:18:46] iter = 0730, loss = 0.6536\n",
      "loading file ./buffers\\CIFAR10_NO_ZCA\\ConvNet\\replay_buffer_2.pt\n",
      "[2022-12-06 03:19:08] iter = 0740, loss = 0.8411\n",
      "loading file ./buffers\\CIFAR10_NO_ZCA\\ConvNet\\replay_buffer_3.pt\n",
      "[2022-12-06 03:19:30] iter = 0750, loss = 0.8180\n",
      "loading file ./buffers\\CIFAR10_NO_ZCA\\ConvNet\\replay_buffer_2.pt\n",
      "[2022-12-06 03:19:52] iter = 0760, loss = 0.8332\n",
      "loading file ./buffers\\CIFAR10_NO_ZCA\\ConvNet\\replay_buffer_1.pt\n",
      "[2022-12-06 03:20:14] iter = 0770, loss = 0.6980\n",
      "loading file ./buffers\\CIFAR10_NO_ZCA\\ConvNet\\replay_buffer_0.pt\n",
      "[2022-12-06 03:20:36] iter = 0780, loss = 0.6697\n",
      "loading file ./buffers\\CIFAR10_NO_ZCA\\ConvNet\\replay_buffer_4.pt\n",
      "[2022-12-06 03:20:58] iter = 0790, loss = 0.9002\n",
      "loading file ./buffers\\CIFAR10_NO_ZCA\\ConvNet\\replay_buffer_4.pt\n",
      "-------------------------\n",
      "Evaluation\n",
      "model_train = ConvNet, model_eval = ConvNet, iteration = 800\n",
      "DSA augmentation strategy: \n",
      " color_crop_cutout_flip_scale_rotate\n",
      "DSA augmentation parameters: \n",
      " {'aug_mode': 'S', 'prob_flip': 0.5, 'ratio_scale': 1.2, 'ratio_rotate': 15.0, 'ratio_crop_pad': 0.125, 'ratio_cutout': 0.5, 'ratio_noise': 0.05, 'brightness': 1.0, 'saturation': 2.0, 'contrast': 0.5, 'batchmode': False, 'latestseed': -1}\n"
     ]
    },
    {
     "name": "stderr",
     "output_type": "stream",
     "text": [
      "100%|██████████████████████████████████████████████████████████████████████████████| 1001/1001 [00:12<00:00, 78.16it/s]\n"
     ]
    },
    {
     "name": "stdout",
     "output_type": "stream",
     "text": [
      "[2022-12-06 03:21:30] Evaluate_00: epoch = 1000 train time = 12 s train loss = 0.001593 train acc = 1.0000, test acc = 0.5904\n"
     ]
    },
    {
     "name": "stderr",
     "output_type": "stream",
     "text": [
      "100%|██████████████████████████████████████████████████████████████████████████████| 1001/1001 [00:12<00:00, 79.22it/s]\n"
     ]
    },
    {
     "name": "stdout",
     "output_type": "stream",
     "text": [
      "[2022-12-06 03:21:43] Evaluate_01: epoch = 1000 train time = 12 s train loss = 0.000393 train acc = 1.0000, test acc = 0.5841\n"
     ]
    },
    {
     "name": "stderr",
     "output_type": "stream",
     "text": [
      "100%|██████████████████████████████████████████████████████████████████████████████| 1001/1001 [00:12<00:00, 78.94it/s]\n"
     ]
    },
    {
     "name": "stdout",
     "output_type": "stream",
     "text": [
      "[2022-12-06 03:21:56] Evaluate_02: epoch = 1000 train time = 12 s train loss = 0.000493 train acc = 1.0000, test acc = 0.5864\n"
     ]
    },
    {
     "name": "stderr",
     "output_type": "stream",
     "text": [
      "100%|██████████████████████████████████████████████████████████████████████████████| 1001/1001 [00:12<00:00, 79.07it/s]\n"
     ]
    },
    {
     "name": "stdout",
     "output_type": "stream",
     "text": [
      "[2022-12-06 03:22:09] Evaluate_03: epoch = 1000 train time = 12 s train loss = 0.000327 train acc = 1.0000, test acc = 0.6004\n"
     ]
    },
    {
     "name": "stderr",
     "output_type": "stream",
     "text": [
      "100%|██████████████████████████████████████████████████████████████████████████████| 1001/1001 [00:12<00:00, 77.12it/s]\n"
     ]
    },
    {
     "name": "stdout",
     "output_type": "stream",
     "text": [
      "[2022-12-06 03:22:22] Evaluate_04: epoch = 1000 train time = 12 s train loss = 0.003601 train acc = 1.0000, test acc = 0.5915\n",
      "Evaluate 5 random ConvNet, mean = 0.5906 std = 0.0056\n",
      "-------------------------\n",
      "[2022-12-06 03:22:24] iter = 0800, loss = 0.7298\n",
      "loading file ./buffers\\CIFAR10_NO_ZCA\\ConvNet\\replay_buffer_2.pt\n",
      "[2022-12-06 03:22:46] iter = 0810, loss = 0.6868\n",
      "loading file ./buffers\\CIFAR10_NO_ZCA\\ConvNet\\replay_buffer_1.pt\n",
      "[2022-12-06 03:23:08] iter = 0820, loss = 0.9274\n",
      "loading file ./buffers\\CIFAR10_NO_ZCA\\ConvNet\\replay_buffer_3.pt\n",
      "[2022-12-06 03:23:30] iter = 0830, loss = 0.5409\n",
      "loading file ./buffers\\CIFAR10_NO_ZCA\\ConvNet\\replay_buffer_0.pt\n",
      "[2022-12-06 03:23:52] iter = 0840, loss = 0.9319\n",
      "loading file ./buffers\\CIFAR10_NO_ZCA\\ConvNet\\replay_buffer_1.pt\n",
      "[2022-12-06 03:24:14] iter = 0850, loss = 0.9361\n",
      "loading file ./buffers\\CIFAR10_NO_ZCA\\ConvNet\\replay_buffer_4.pt\n",
      "[2022-12-06 03:24:36] iter = 0860, loss = 0.9442\n",
      "loading file ./buffers\\CIFAR10_NO_ZCA\\ConvNet\\replay_buffer_3.pt\n",
      "[2022-12-06 03:24:58] iter = 0870, loss = 0.9011\n",
      "loading file ./buffers\\CIFAR10_NO_ZCA\\ConvNet\\replay_buffer_2.pt\n",
      "[2022-12-06 03:25:20] iter = 0880, loss = 0.9472\n",
      "loading file ./buffers\\CIFAR10_NO_ZCA\\ConvNet\\replay_buffer_0.pt\n",
      "[2022-12-06 03:25:42] iter = 0890, loss = 0.9505\n",
      "loading file ./buffers\\CIFAR10_NO_ZCA\\ConvNet\\replay_buffer_1.pt\n",
      "-------------------------\n",
      "Evaluation\n",
      "model_train = ConvNet, model_eval = ConvNet, iteration = 900\n",
      "DSA augmentation strategy: \n",
      " color_crop_cutout_flip_scale_rotate\n",
      "DSA augmentation parameters: \n",
      " {'aug_mode': 'S', 'prob_flip': 0.5, 'ratio_scale': 1.2, 'ratio_rotate': 15.0, 'ratio_crop_pad': 0.125, 'ratio_cutout': 0.5, 'ratio_noise': 0.05, 'brightness': 1.0, 'saturation': 2.0, 'contrast': 0.5, 'batchmode': False, 'latestseed': -1}\n"
     ]
    },
    {
     "name": "stderr",
     "output_type": "stream",
     "text": [
      "100%|██████████████████████████████████████████████████████████████████████████████| 1001/1001 [00:12<00:00, 77.92it/s]\n"
     ]
    },
    {
     "name": "stdout",
     "output_type": "stream",
     "text": [
      "[2022-12-06 03:26:15] Evaluate_00: epoch = 1000 train time = 12 s train loss = 0.000682 train acc = 1.0000, test acc = 0.5909\n"
     ]
    },
    {
     "name": "stderr",
     "output_type": "stream",
     "text": [
      "100%|██████████████████████████████████████████████████████████████████████████████| 1001/1001 [00:12<00:00, 78.78it/s]\n"
     ]
    },
    {
     "name": "stdout",
     "output_type": "stream",
     "text": [
      "[2022-12-06 03:26:28] Evaluate_01: epoch = 1000 train time = 12 s train loss = 0.000226 train acc = 1.0000, test acc = 0.5941\n"
     ]
    },
    {
     "name": "stderr",
     "output_type": "stream",
     "text": [
      "100%|██████████████████████████████████████████████████████████████████████████████| 1001/1001 [00:12<00:00, 78.65it/s]\n"
     ]
    },
    {
     "name": "stdout",
     "output_type": "stream",
     "text": [
      "[2022-12-06 03:26:40] Evaluate_02: epoch = 1000 train time = 12 s train loss = 0.000698 train acc = 1.0000, test acc = 0.5882\n"
     ]
    },
    {
     "name": "stderr",
     "output_type": "stream",
     "text": [
      "100%|██████████████████████████████████████████████████████████████████████████████| 1001/1001 [00:13<00:00, 76.92it/s]\n"
     ]
    },
    {
     "name": "stdout",
     "output_type": "stream",
     "text": [
      "[2022-12-06 03:26:54] Evaluate_03: epoch = 1000 train time = 13 s train loss = 0.000207 train acc = 1.0000, test acc = 0.5797\n"
     ]
    },
    {
     "name": "stderr",
     "output_type": "stream",
     "text": [
      "100%|██████████████████████████████████████████████████████████████████████████████| 1001/1001 [00:12<00:00, 78.98it/s]\n"
     ]
    },
    {
     "name": "stdout",
     "output_type": "stream",
     "text": [
      "[2022-12-06 03:27:06] Evaluate_04: epoch = 1000 train time = 12 s train loss = 0.001014 train acc = 1.0000, test acc = 0.5945\n",
      "Evaluate 5 random ConvNet, mean = 0.5895 std = 0.0054\n",
      "-------------------------\n",
      "[2022-12-06 03:27:08] iter = 0900, loss = 0.8696\n",
      "loading file ./buffers\\CIFAR10_NO_ZCA\\ConvNet\\replay_buffer_0.pt\n",
      "[2022-12-06 03:27:31] iter = 0910, loss = 0.5405\n",
      "loading file ./buffers\\CIFAR10_NO_ZCA\\ConvNet\\replay_buffer_3.pt\n",
      "[2022-12-06 03:27:53] iter = 0920, loss = 0.8899\n",
      "loading file ./buffers\\CIFAR10_NO_ZCA\\ConvNet\\replay_buffer_2.pt\n",
      "[2022-12-06 03:28:15] iter = 0930, loss = 0.9234\n",
      "loading file ./buffers\\CIFAR10_NO_ZCA\\ConvNet\\replay_buffer_4.pt\n",
      "[2022-12-06 03:28:38] iter = 0940, loss = 0.8204\n",
      "loading file ./buffers\\CIFAR10_NO_ZCA\\ConvNet\\replay_buffer_4.pt\n",
      "[2022-12-06 03:29:00] iter = 0950, loss = 0.5653\n",
      "loading file ./buffers\\CIFAR10_NO_ZCA\\ConvNet\\replay_buffer_1.pt\n",
      "[2022-12-06 03:29:22] iter = 0960, loss = 0.5516\n",
      "loading file ./buffers\\CIFAR10_NO_ZCA\\ConvNet\\replay_buffer_3.pt\n",
      "[2022-12-06 03:29:44] iter = 0970, loss = 0.8317\n",
      "loading file ./buffers\\CIFAR10_NO_ZCA\\ConvNet\\replay_buffer_0.pt\n",
      "[2022-12-06 03:30:06] iter = 0980, loss = 0.8760\n",
      "loading file ./buffers\\CIFAR10_NO_ZCA\\ConvNet\\replay_buffer_2.pt\n",
      "[2022-12-06 03:30:28] iter = 0990, loss = 0.5635\n",
      "loading file ./buffers\\CIFAR10_NO_ZCA\\ConvNet\\replay_buffer_2.pt\n",
      "-------------------------\n",
      "Evaluation\n",
      "model_train = ConvNet, model_eval = ConvNet, iteration = 1000\n",
      "DSA augmentation strategy: \n",
      " color_crop_cutout_flip_scale_rotate\n",
      "DSA augmentation parameters: \n",
      " {'aug_mode': 'S', 'prob_flip': 0.5, 'ratio_scale': 1.2, 'ratio_rotate': 15.0, 'ratio_crop_pad': 0.125, 'ratio_cutout': 0.5, 'ratio_noise': 0.05, 'brightness': 1.0, 'saturation': 2.0, 'contrast': 0.5, 'batchmode': False, 'latestseed': -1}\n"
     ]
    },
    {
     "name": "stderr",
     "output_type": "stream",
     "text": [
      "100%|██████████████████████████████████████████████████████████████████████████████| 1001/1001 [00:12<00:00, 78.87it/s]\n"
     ]
    },
    {
     "name": "stdout",
     "output_type": "stream",
     "text": [
      "[2022-12-06 03:31:01] Evaluate_00: epoch = 1000 train time = 12 s train loss = 0.000317 train acc = 1.0000, test acc = 0.5916\n"
     ]
    },
    {
     "name": "stderr",
     "output_type": "stream",
     "text": [
      "100%|██████████████████████████████████████████████████████████████████████████████| 1001/1001 [00:12<00:00, 78.97it/s]\n"
     ]
    },
    {
     "name": "stdout",
     "output_type": "stream",
     "text": [
      "[2022-12-06 03:31:14] Evaluate_01: epoch = 1000 train time = 12 s train loss = 0.000326 train acc = 1.0000, test acc = 0.5959\n"
     ]
    },
    {
     "name": "stderr",
     "output_type": "stream",
     "text": [
      "100%|██████████████████████████████████████████████████████████████████████████████| 1001/1001 [00:12<00:00, 78.88it/s]\n"
     ]
    },
    {
     "name": "stdout",
     "output_type": "stream",
     "text": [
      "[2022-12-06 03:31:27] Evaluate_02: epoch = 1000 train time = 12 s train loss = 0.004795 train acc = 1.0000, test acc = 0.5941\n"
     ]
    },
    {
     "name": "stderr",
     "output_type": "stream",
     "text": [
      "100%|██████████████████████████████████████████████████████████████████████████████| 1001/1001 [00:12<00:00, 79.06it/s]\n"
     ]
    },
    {
     "name": "stdout",
     "output_type": "stream",
     "text": [
      "[2022-12-06 03:31:39] Evaluate_03: epoch = 1000 train time = 12 s train loss = 0.000260 train acc = 1.0000, test acc = 0.6013\n"
     ]
    },
    {
     "name": "stderr",
     "output_type": "stream",
     "text": [
      "100%|██████████████████████████████████████████████████████████████████████████████| 1001/1001 [00:12<00:00, 77.25it/s]\n"
     ]
    },
    {
     "name": "stdout",
     "output_type": "stream",
     "text": [
      "[2022-12-06 03:31:52] Evaluate_04: epoch = 1000 train time = 12 s train loss = 0.003637 train acc = 1.0000, test acc = 0.6016\n",
      "Evaluate 5 random ConvNet, mean = 0.5969 std = 0.0040\n",
      "-------------------------\n",
      "[2022-12-06 03:31:55] iter = 1000, loss = 0.9494\n",
      "loading file ./buffers\\CIFAR10_NO_ZCA\\ConvNet\\replay_buffer_3.pt\n",
      "[2022-12-06 03:32:17] iter = 1010, loss = 0.7195\n",
      "loading file ./buffers\\CIFAR10_NO_ZCA\\ConvNet\\replay_buffer_1.pt\n",
      "[2022-12-06 03:32:39] iter = 1020, loss = 0.6416\n",
      "loading file ./buffers\\CIFAR10_NO_ZCA\\ConvNet\\replay_buffer_0.pt\n",
      "[2022-12-06 03:33:01] iter = 1030, loss = 0.8629\n",
      "loading file ./buffers\\CIFAR10_NO_ZCA\\ConvNet\\replay_buffer_4.pt\n",
      "[2022-12-06 03:33:23] iter = 1040, loss = 0.9127\n",
      "loading file ./buffers\\CIFAR10_NO_ZCA\\ConvNet\\replay_buffer_0.pt\n",
      "[2022-12-06 03:33:45] iter = 1050, loss = 0.6719\n",
      "loading file ./buffers\\CIFAR10_NO_ZCA\\ConvNet\\replay_buffer_1.pt\n",
      "[2022-12-06 03:34:08] iter = 1060, loss = 0.8726\n",
      "loading file ./buffers\\CIFAR10_NO_ZCA\\ConvNet\\replay_buffer_2.pt\n",
      "[2022-12-06 03:34:30] iter = 1070, loss = 0.7783\n",
      "loading file ./buffers\\CIFAR10_NO_ZCA\\ConvNet\\replay_buffer_3.pt\n",
      "[2022-12-06 03:34:52] iter = 1080, loss = 0.9141\n",
      "loading file ./buffers\\CIFAR10_NO_ZCA\\ConvNet\\replay_buffer_4.pt\n",
      "[2022-12-06 03:35:14] iter = 1090, loss = 0.7042\n",
      "loading file ./buffers\\CIFAR10_NO_ZCA\\ConvNet\\replay_buffer_2.pt\n",
      "-------------------------\n",
      "Evaluation\n",
      "model_train = ConvNet, model_eval = ConvNet, iteration = 1100\n",
      "DSA augmentation strategy: \n",
      " color_crop_cutout_flip_scale_rotate\n",
      "DSA augmentation parameters: \n",
      " {'aug_mode': 'S', 'prob_flip': 0.5, 'ratio_scale': 1.2, 'ratio_rotate': 15.0, 'ratio_crop_pad': 0.125, 'ratio_cutout': 0.5, 'ratio_noise': 0.05, 'brightness': 1.0, 'saturation': 2.0, 'contrast': 0.5, 'batchmode': False, 'latestseed': -1}\n"
     ]
    },
    {
     "name": "stderr",
     "output_type": "stream",
     "text": [
      "100%|██████████████████████████████████████████████████████████████████████████████| 1001/1001 [00:12<00:00, 79.12it/s]\n"
     ]
    },
    {
     "name": "stdout",
     "output_type": "stream",
     "text": [
      "[2022-12-06 03:35:47] Evaluate_00: epoch = 1000 train time = 12 s train loss = 0.002908 train acc = 1.0000, test acc = 0.5862\n"
     ]
    },
    {
     "name": "stderr",
     "output_type": "stream",
     "text": [
      "100%|██████████████████████████████████████████████████████████████████████████████| 1001/1001 [00:12<00:00, 78.99it/s]\n"
     ]
    },
    {
     "name": "stdout",
     "output_type": "stream",
     "text": [
      "[2022-12-06 03:36:00] Evaluate_01: epoch = 1000 train time = 12 s train loss = 0.004026 train acc = 1.0000, test acc = 0.5850\n"
     ]
    },
    {
     "name": "stderr",
     "output_type": "stream",
     "text": [
      "100%|██████████████████████████████████████████████████████████████████████████████| 1001/1001 [00:12<00:00, 79.03it/s]\n"
     ]
    },
    {
     "name": "stdout",
     "output_type": "stream",
     "text": [
      "[2022-12-06 03:36:12] Evaluate_02: epoch = 1000 train time = 12 s train loss = 0.004866 train acc = 1.0000, test acc = 0.5840\n"
     ]
    },
    {
     "name": "stderr",
     "output_type": "stream",
     "text": [
      "100%|██████████████████████████████████████████████████████████████████████████████| 1001/1001 [00:12<00:00, 77.63it/s]\n"
     ]
    },
    {
     "name": "stdout",
     "output_type": "stream",
     "text": [
      "[2022-12-06 03:36:25] Evaluate_03: epoch = 1000 train time = 12 s train loss = 0.001654 train acc = 1.0000, test acc = 0.5947\n"
     ]
    },
    {
     "name": "stderr",
     "output_type": "stream",
     "text": [
      "100%|██████████████████████████████████████████████████████████████████████████████| 1001/1001 [00:12<00:00, 79.14it/s]\n"
     ]
    },
    {
     "name": "stdout",
     "output_type": "stream",
     "text": [
      "[2022-12-06 03:36:38] Evaluate_04: epoch = 1000 train time = 12 s train loss = 0.000309 train acc = 1.0000, test acc = 0.5889\n",
      "Evaluate 5 random ConvNet, mean = 0.5878 std = 0.0038\n",
      "-------------------------\n",
      "[2022-12-06 03:36:40] iter = 1100, loss = 0.5961\n",
      "loading file ./buffers\\CIFAR10_NO_ZCA\\ConvNet\\replay_buffer_1.pt\n",
      "[2022-12-06 03:37:02] iter = 1110, loss = 0.7130\n",
      "loading file ./buffers\\CIFAR10_NO_ZCA\\ConvNet\\replay_buffer_4.pt\n",
      "[2022-12-06 03:37:25] iter = 1120, loss = 0.9257\n",
      "loading file ./buffers\\CIFAR10_NO_ZCA\\ConvNet\\replay_buffer_0.pt\n",
      "[2022-12-06 03:37:47] iter = 1130, loss = 0.6153\n",
      "loading file ./buffers\\CIFAR10_NO_ZCA\\ConvNet\\replay_buffer_3.pt\n",
      "[2022-12-06 03:38:09] iter = 1140, loss = 0.8731\n",
      "loading file ./buffers\\CIFAR10_NO_ZCA\\ConvNet\\replay_buffer_1.pt\n",
      "[2022-12-06 03:38:31] iter = 1150, loss = 0.9012\n",
      "loading file ./buffers\\CIFAR10_NO_ZCA\\ConvNet\\replay_buffer_0.pt\n",
      "[2022-12-06 03:38:53] iter = 1160, loss = 0.6714\n",
      "loading file ./buffers\\CIFAR10_NO_ZCA\\ConvNet\\replay_buffer_4.pt\n",
      "[2022-12-06 03:39:15] iter = 1170, loss = 0.9300\n",
      "loading file ./buffers\\CIFAR10_NO_ZCA\\ConvNet\\replay_buffer_3.pt\n",
      "[2022-12-06 03:39:37] iter = 1180, loss = 0.5578\n",
      "loading file ./buffers\\CIFAR10_NO_ZCA\\ConvNet\\replay_buffer_2.pt\n",
      "[2022-12-06 03:39:59] iter = 1190, loss = 0.5659\n",
      "loading file ./buffers\\CIFAR10_NO_ZCA\\ConvNet\\replay_buffer_0.pt\n",
      "-------------------------\n",
      "Evaluation\n",
      "model_train = ConvNet, model_eval = ConvNet, iteration = 1200\n",
      "DSA augmentation strategy: \n",
      " color_crop_cutout_flip_scale_rotate\n",
      "DSA augmentation parameters: \n",
      " {'aug_mode': 'S', 'prob_flip': 0.5, 'ratio_scale': 1.2, 'ratio_rotate': 15.0, 'ratio_crop_pad': 0.125, 'ratio_cutout': 0.5, 'ratio_noise': 0.05, 'brightness': 1.0, 'saturation': 2.0, 'contrast': 0.5, 'batchmode': False, 'latestseed': -1}\n"
     ]
    },
    {
     "name": "stderr",
     "output_type": "stream",
     "text": [
      "100%|██████████████████████████████████████████████████████████████████████████████| 1001/1001 [00:12<00:00, 78.87it/s]\n"
     ]
    },
    {
     "name": "stdout",
     "output_type": "stream",
     "text": [
      "[2022-12-06 03:40:32] Evaluate_00: epoch = 1000 train time = 12 s train loss = 0.001566 train acc = 1.0000, test acc = 0.5979\n"
     ]
    },
    {
     "name": "stderr",
     "output_type": "stream",
     "text": [
      "100%|██████████████████████████████████████████████████████████████████████████████| 1001/1001 [00:12<00:00, 79.04it/s]\n"
     ]
    },
    {
     "name": "stdout",
     "output_type": "stream",
     "text": [
      "[2022-12-06 03:40:45] Evaluate_01: epoch = 1000 train time = 12 s train loss = 0.000256 train acc = 1.0000, test acc = 0.6005\n"
     ]
    },
    {
     "name": "stderr",
     "output_type": "stream",
     "text": [
      "100%|██████████████████████████████████████████████████████████████████████████████| 1001/1001 [00:12<00:00, 77.57it/s]\n"
     ]
    },
    {
     "name": "stdout",
     "output_type": "stream",
     "text": [
      "[2022-12-06 03:40:58] Evaluate_02: epoch = 1000 train time = 12 s train loss = 0.000419 train acc = 1.0000, test acc = 0.5938\n"
     ]
    },
    {
     "name": "stderr",
     "output_type": "stream",
     "text": [
      "100%|██████████████████████████████████████████████████████████████████████████████| 1001/1001 [00:12<00:00, 78.95it/s]\n"
     ]
    },
    {
     "name": "stdout",
     "output_type": "stream",
     "text": [
      "[2022-12-06 03:41:10] Evaluate_03: epoch = 1000 train time = 12 s train loss = 0.000175 train acc = 1.0000, test acc = 0.5906\n"
     ]
    },
    {
     "name": "stderr",
     "output_type": "stream",
     "text": [
      "100%|██████████████████████████████████████████████████████████████████████████████| 1001/1001 [00:12<00:00, 79.25it/s]\n"
     ]
    },
    {
     "name": "stdout",
     "output_type": "stream",
     "text": [
      "[2022-12-06 03:41:23] Evaluate_04: epoch = 1000 train time = 12 s train loss = 0.001299 train acc = 1.0000, test acc = 0.5934\n",
      "Evaluate 5 random ConvNet, mean = 0.5952 std = 0.0035\n",
      "-------------------------\n",
      "[2022-12-06 03:41:25] iter = 1200, loss = 0.8852\n",
      "loading file ./buffers\\CIFAR10_NO_ZCA\\ConvNet\\replay_buffer_2.pt\n",
      "[2022-12-06 03:41:48] iter = 1210, loss = 0.5777\n",
      "loading file ./buffers\\CIFAR10_NO_ZCA\\ConvNet\\replay_buffer_3.pt\n",
      "[2022-12-06 03:42:10] iter = 1220, loss = 0.6949\n",
      "loading file ./buffers\\CIFAR10_NO_ZCA\\ConvNet\\replay_buffer_1.pt\n",
      "[2022-12-06 03:42:32] iter = 1230, loss = 0.9276\n",
      "loading file ./buffers\\CIFAR10_NO_ZCA\\ConvNet\\replay_buffer_4.pt\n",
      "[2022-12-06 03:42:54] iter = 1240, loss = 0.5947\n",
      "loading file ./buffers\\CIFAR10_NO_ZCA\\ConvNet\\replay_buffer_3.pt\n",
      "[2022-12-06 03:43:16] iter = 1250, loss = 0.7809\n",
      "loading file ./buffers\\CIFAR10_NO_ZCA\\ConvNet\\replay_buffer_1.pt\n",
      "[2022-12-06 03:43:38] iter = 1260, loss = 0.9138\n",
      "loading file ./buffers\\CIFAR10_NO_ZCA\\ConvNet\\replay_buffer_0.pt\n",
      "[2022-12-06 03:44:00] iter = 1270, loss = 0.6349\n",
      "loading file ./buffers\\CIFAR10_NO_ZCA\\ConvNet\\replay_buffer_4.pt\n",
      "[2022-12-06 03:44:22] iter = 1280, loss = 0.7651\n",
      "loading file ./buffers\\CIFAR10_NO_ZCA\\ConvNet\\replay_buffer_2.pt\n",
      "[2022-12-06 03:44:44] iter = 1290, loss = 0.9306\n",
      "loading file ./buffers\\CIFAR10_NO_ZCA\\ConvNet\\replay_buffer_2.pt\n",
      "-------------------------\n",
      "Evaluation\n",
      "model_train = ConvNet, model_eval = ConvNet, iteration = 1300\n",
      "DSA augmentation strategy: \n",
      " color_crop_cutout_flip_scale_rotate\n",
      "DSA augmentation parameters: \n",
      " {'aug_mode': 'S', 'prob_flip': 0.5, 'ratio_scale': 1.2, 'ratio_rotate': 15.0, 'ratio_crop_pad': 0.125, 'ratio_cutout': 0.5, 'ratio_noise': 0.05, 'brightness': 1.0, 'saturation': 2.0, 'contrast': 0.5, 'batchmode': False, 'latestseed': -1}\n"
     ]
    },
    {
     "name": "stderr",
     "output_type": "stream",
     "text": [
      "100%|██████████████████████████████████████████████████████████████████████████████| 1001/1001 [00:12<00:00, 78.52it/s]\n"
     ]
    },
    {
     "name": "stdout",
     "output_type": "stream",
     "text": [
      "[2022-12-06 03:45:17] Evaluate_00: epoch = 1000 train time = 12 s train loss = 0.000153 train acc = 1.0000, test acc = 0.5923\n"
     ]
    },
    {
     "name": "stderr",
     "output_type": "stream",
     "text": [
      "100%|██████████████████████████████████████████████████████████████████████████████| 1001/1001 [00:12<00:00, 78.22it/s]\n"
     ]
    },
    {
     "name": "stdout",
     "output_type": "stream",
     "text": [
      "[2022-12-06 03:45:30] Evaluate_01: epoch = 1000 train time = 12 s train loss = 0.000434 train acc = 1.0000, test acc = 0.6099\n"
     ]
    },
    {
     "name": "stderr",
     "output_type": "stream",
     "text": [
      "100%|██████████████████████████████████████████████████████████████████████████████| 1001/1001 [00:12<00:00, 79.20it/s]\n"
     ]
    },
    {
     "name": "stdout",
     "output_type": "stream",
     "text": [
      "[2022-12-06 03:45:42] Evaluate_02: epoch = 1000 train time = 12 s train loss = 0.000113 train acc = 1.0000, test acc = 0.5983\n"
     ]
    },
    {
     "name": "stderr",
     "output_type": "stream",
     "text": [
      "100%|██████████████████████████████████████████████████████████████████████████████| 1001/1001 [00:12<00:00, 78.98it/s]\n"
     ]
    },
    {
     "name": "stdout",
     "output_type": "stream",
     "text": [
      "[2022-12-06 03:45:55] Evaluate_03: epoch = 1000 train time = 12 s train loss = 0.000551 train acc = 1.0000, test acc = 0.5889\n"
     ]
    },
    {
     "name": "stderr",
     "output_type": "stream",
     "text": [
      "100%|██████████████████████████████████████████████████████████████████████████████| 1001/1001 [00:12<00:00, 78.60it/s]\n"
     ]
    },
    {
     "name": "stdout",
     "output_type": "stream",
     "text": [
      "[2022-12-06 03:46:08] Evaluate_04: epoch = 1000 train time = 12 s train loss = 0.000161 train acc = 1.0000, test acc = 0.5860\n",
      "Evaluate 5 random ConvNet, mean = 0.5951 std = 0.0085\n",
      "-------------------------\n",
      "[2022-12-06 03:46:10] iter = 1300, loss = 0.5842\n",
      "loading file ./buffers\\CIFAR10_NO_ZCA\\ConvNet\\replay_buffer_4.pt\n",
      "[2022-12-06 03:46:32] iter = 1310, loss = 0.6532\n",
      "loading file ./buffers\\CIFAR10_NO_ZCA\\ConvNet\\replay_buffer_0.pt\n",
      "[2022-12-06 03:46:54] iter = 1320, loss = 0.5702\n",
      "loading file ./buffers\\CIFAR10_NO_ZCA\\ConvNet\\replay_buffer_1.pt\n",
      "[2022-12-06 03:47:16] iter = 1330, loss = 0.5552\n",
      "loading file ./buffers\\CIFAR10_NO_ZCA\\ConvNet\\replay_buffer_3.pt\n",
      "[2022-12-06 03:47:39] iter = 1340, loss = 0.7213\n",
      "loading file ./buffers\\CIFAR10_NO_ZCA\\ConvNet\\replay_buffer_3.pt\n",
      "[2022-12-06 03:48:01] iter = 1350, loss = 0.9064\n",
      "loading file ./buffers\\CIFAR10_NO_ZCA\\ConvNet\\replay_buffer_2.pt\n",
      "[2022-12-06 03:48:23] iter = 1360, loss = 0.5661\n",
      "loading file ./buffers\\CIFAR10_NO_ZCA\\ConvNet\\replay_buffer_0.pt\n",
      "[2022-12-06 03:48:45] iter = 1370, loss = 0.8457\n",
      "loading file ./buffers\\CIFAR10_NO_ZCA\\ConvNet\\replay_buffer_1.pt\n",
      "[2022-12-06 03:49:07] iter = 1380, loss = 0.7081\n",
      "loading file ./buffers\\CIFAR10_NO_ZCA\\ConvNet\\replay_buffer_4.pt\n",
      "[2022-12-06 03:49:29] iter = 1390, loss = 0.5969\n",
      "loading file ./buffers\\CIFAR10_NO_ZCA\\ConvNet\\replay_buffer_4.pt\n",
      "-------------------------\n",
      "Evaluation\n",
      "model_train = ConvNet, model_eval = ConvNet, iteration = 1400\n",
      "DSA augmentation strategy: \n",
      " color_crop_cutout_flip_scale_rotate\n",
      "DSA augmentation parameters: \n",
      " {'aug_mode': 'S', 'prob_flip': 0.5, 'ratio_scale': 1.2, 'ratio_rotate': 15.0, 'ratio_crop_pad': 0.125, 'ratio_cutout': 0.5, 'ratio_noise': 0.05, 'brightness': 1.0, 'saturation': 2.0, 'contrast': 0.5, 'batchmode': False, 'latestseed': -1}\n"
     ]
    },
    {
     "name": "stderr",
     "output_type": "stream",
     "text": [
      "100%|██████████████████████████████████████████████████████████████████████████████| 1001/1001 [00:12<00:00, 79.07it/s]\n"
     ]
    },
    {
     "name": "stdout",
     "output_type": "stream",
     "text": [
      "[2022-12-06 03:50:02] Evaluate_00: epoch = 1000 train time = 12 s train loss = 0.000361 train acc = 1.0000, test acc = 0.5966\n"
     ]
    },
    {
     "name": "stderr",
     "output_type": "stream",
     "text": [
      "100%|██████████████████████████████████████████████████████████████████████████████| 1001/1001 [00:12<00:00, 78.91it/s]\n"
     ]
    },
    {
     "name": "stdout",
     "output_type": "stream",
     "text": [
      "[2022-12-06 03:50:15] Evaluate_01: epoch = 1000 train time = 12 s train loss = 0.000372 train acc = 1.0000, test acc = 0.6051\n"
     ]
    },
    {
     "name": "stderr",
     "output_type": "stream",
     "text": [
      "100%|██████████████████████████████████████████████████████████████████████████████| 1001/1001 [00:12<00:00, 77.43it/s]\n"
     ]
    },
    {
     "name": "stdout",
     "output_type": "stream",
     "text": [
      "[2022-12-06 03:50:28] Evaluate_02: epoch = 1000 train time = 12 s train loss = 0.000429 train acc = 1.0000, test acc = 0.6065\n"
     ]
    },
    {
     "name": "stderr",
     "output_type": "stream",
     "text": [
      "100%|██████████████████████████████████████████████████████████████████████████████| 1001/1001 [00:12<00:00, 78.72it/s]\n"
     ]
    },
    {
     "name": "stdout",
     "output_type": "stream",
     "text": [
      "[2022-12-06 03:50:41] Evaluate_03: epoch = 1000 train time = 12 s train loss = 0.000319 train acc = 1.0000, test acc = 0.6040\n"
     ]
    },
    {
     "name": "stderr",
     "output_type": "stream",
     "text": [
      "100%|██████████████████████████████████████████████████████████████████████████████| 1001/1001 [00:12<00:00, 78.67it/s]\n"
     ]
    },
    {
     "name": "stdout",
     "output_type": "stream",
     "text": [
      "[2022-12-06 03:50:53] Evaluate_04: epoch = 1000 train time = 12 s train loss = 0.000365 train acc = 1.0000, test acc = 0.5990\n",
      "Evaluate 5 random ConvNet, mean = 0.6022 std = 0.0038\n",
      "-------------------------\n",
      "[2022-12-06 03:50:56] iter = 1400, loss = 0.8427\n",
      "loading file ./buffers\\CIFAR10_NO_ZCA\\ConvNet\\replay_buffer_3.pt\n",
      "[2022-12-06 03:51:18] iter = 1410, loss = 0.9329\n",
      "loading file ./buffers\\CIFAR10_NO_ZCA\\ConvNet\\replay_buffer_0.pt\n",
      "[2022-12-06 03:51:40] iter = 1420, loss = 0.8191\n",
      "loading file ./buffers\\CIFAR10_NO_ZCA\\ConvNet\\replay_buffer_1.pt\n",
      "[2022-12-06 03:52:03] iter = 1430, loss = 0.5458\n",
      "loading file ./buffers\\CIFAR10_NO_ZCA\\ConvNet\\replay_buffer_2.pt\n",
      "[2022-12-06 03:52:25] iter = 1440, loss = 0.7083\n",
      "loading file ./buffers\\CIFAR10_NO_ZCA\\ConvNet\\replay_buffer_0.pt\n",
      "[2022-12-06 03:52:47] iter = 1450, loss = 0.6255\n",
      "loading file ./buffers\\CIFAR10_NO_ZCA\\ConvNet\\replay_buffer_3.pt\n",
      "[2022-12-06 03:53:09] iter = 1460, loss = 0.6564\n",
      "loading file ./buffers\\CIFAR10_NO_ZCA\\ConvNet\\replay_buffer_4.pt\n",
      "[2022-12-06 03:53:31] iter = 1470, loss = 0.9431\n",
      "loading file ./buffers\\CIFAR10_NO_ZCA\\ConvNet\\replay_buffer_2.pt\n",
      "[2022-12-06 03:53:53] iter = 1480, loss = 0.9081\n",
      "loading file ./buffers\\CIFAR10_NO_ZCA\\ConvNet\\replay_buffer_1.pt\n",
      "[2022-12-06 03:54:15] iter = 1490, loss = 0.9290\n",
      "loading file ./buffers\\CIFAR10_NO_ZCA\\ConvNet\\replay_buffer_2.pt\n",
      "-------------------------\n",
      "Evaluation\n",
      "model_train = ConvNet, model_eval = ConvNet, iteration = 1500\n",
      "DSA augmentation strategy: \n",
      " color_crop_cutout_flip_scale_rotate\n",
      "DSA augmentation parameters: \n",
      " {'aug_mode': 'S', 'prob_flip': 0.5, 'ratio_scale': 1.2, 'ratio_rotate': 15.0, 'ratio_crop_pad': 0.125, 'ratio_cutout': 0.5, 'ratio_noise': 0.05, 'brightness': 1.0, 'saturation': 2.0, 'contrast': 0.5, 'batchmode': False, 'latestseed': -1}\n"
     ]
    },
    {
     "name": "stderr",
     "output_type": "stream",
     "text": [
      "100%|██████████████████████████████████████████████████████████████████████████████| 1001/1001 [00:12<00:00, 77.78it/s]\n"
     ]
    },
    {
     "name": "stdout",
     "output_type": "stream",
     "text": [
      "[2022-12-06 03:54:48] Evaluate_00: epoch = 1000 train time = 12 s train loss = 0.000311 train acc = 1.0000, test acc = 0.5926\n"
     ]
    },
    {
     "name": "stderr",
     "output_type": "stream",
     "text": [
      "100%|██████████████████████████████████████████████████████████████████████████████| 1001/1001 [00:12<00:00, 79.07it/s]\n"
     ]
    },
    {
     "name": "stdout",
     "output_type": "stream",
     "text": [
      "[2022-12-06 03:55:01] Evaluate_01: epoch = 1000 train time = 12 s train loss = 0.000369 train acc = 1.0000, test acc = 0.6044\n"
     ]
    },
    {
     "name": "stderr",
     "output_type": "stream",
     "text": [
      "100%|██████████████████████████████████████████████████████████████████████████████| 1001/1001 [00:12<00:00, 79.03it/s]\n"
     ]
    },
    {
     "name": "stdout",
     "output_type": "stream",
     "text": [
      "[2022-12-06 03:55:14] Evaluate_02: epoch = 1000 train time = 12 s train loss = 0.000253 train acc = 1.0000, test acc = 0.5966\n"
     ]
    },
    {
     "name": "stderr",
     "output_type": "stream",
     "text": [
      "100%|██████████████████████████████████████████████████████████████████████████████| 1001/1001 [00:12<00:00, 78.73it/s]\n"
     ]
    },
    {
     "name": "stdout",
     "output_type": "stream",
     "text": [
      "[2022-12-06 03:55:26] Evaluate_03: epoch = 1000 train time = 12 s train loss = 0.001295 train acc = 1.0000, test acc = 0.6006\n"
     ]
    },
    {
     "name": "stderr",
     "output_type": "stream",
     "text": [
      "100%|██████████████████████████████████████████████████████████████████████████████| 1001/1001 [00:12<00:00, 79.18it/s]\n"
     ]
    },
    {
     "name": "stdout",
     "output_type": "stream",
     "text": [
      "[2022-12-06 03:55:39] Evaluate_04: epoch = 1000 train time = 12 s train loss = 0.004040 train acc = 1.0000, test acc = 0.5923\n",
      "Evaluate 5 random ConvNet, mean = 0.5973 std = 0.0047\n",
      "-------------------------\n",
      "[2022-12-06 03:55:41] iter = 1500, loss = 0.7893\n",
      "loading file ./buffers\\CIFAR10_NO_ZCA\\ConvNet\\replay_buffer_1.pt\n",
      "[2022-12-06 03:56:04] iter = 1510, loss = 0.6812\n",
      "loading file ./buffers\\CIFAR10_NO_ZCA\\ConvNet\\replay_buffer_4.pt\n",
      "[2022-12-06 03:56:26] iter = 1520, loss = 0.8710\n",
      "loading file ./buffers\\CIFAR10_NO_ZCA\\ConvNet\\replay_buffer_0.pt\n",
      "[2022-12-06 03:56:48] iter = 1530, loss = 0.5867\n",
      "loading file ./buffers\\CIFAR10_NO_ZCA\\ConvNet\\replay_buffer_3.pt\n",
      "[2022-12-06 03:57:10] iter = 1540, loss = 0.5687\n",
      "loading file ./buffers\\CIFAR10_NO_ZCA\\ConvNet\\replay_buffer_3.pt\n",
      "[2022-12-06 03:57:32] iter = 1550, loss = 0.8656\n",
      "loading file ./buffers\\CIFAR10_NO_ZCA\\ConvNet\\replay_buffer_0.pt\n",
      "[2022-12-06 03:57:54] iter = 1560, loss = 0.9156\n",
      "loading file ./buffers\\CIFAR10_NO_ZCA\\ConvNet\\replay_buffer_1.pt\n",
      "[2022-12-06 03:58:16] iter = 1570, loss = 0.6488\n",
      "loading file ./buffers\\CIFAR10_NO_ZCA\\ConvNet\\replay_buffer_2.pt\n",
      "[2022-12-06 03:58:38] iter = 1580, loss = 0.6989\n",
      "loading file ./buffers\\CIFAR10_NO_ZCA\\ConvNet\\replay_buffer_4.pt\n",
      "[2022-12-06 03:59:01] iter = 1590, loss = 0.7214\n",
      "loading file ./buffers\\CIFAR10_NO_ZCA\\ConvNet\\replay_buffer_2.pt\n",
      "-------------------------\n",
      "Evaluation\n",
      "model_train = ConvNet, model_eval = ConvNet, iteration = 1600\n",
      "DSA augmentation strategy: \n",
      " color_crop_cutout_flip_scale_rotate\n",
      "DSA augmentation parameters: \n",
      " {'aug_mode': 'S', 'prob_flip': 0.5, 'ratio_scale': 1.2, 'ratio_rotate': 15.0, 'ratio_crop_pad': 0.125, 'ratio_cutout': 0.5, 'ratio_noise': 0.05, 'brightness': 1.0, 'saturation': 2.0, 'contrast': 0.5, 'batchmode': False, 'latestseed': -1}\n"
     ]
    },
    {
     "name": "stderr",
     "output_type": "stream",
     "text": [
      "100%|██████████████████████████████████████████████████████████████████████████████| 1001/1001 [00:12<00:00, 78.90it/s]\n"
     ]
    },
    {
     "name": "stdout",
     "output_type": "stream",
     "text": [
      "[2022-12-06 03:59:33] Evaluate_00: epoch = 1000 train time = 12 s train loss = 0.000520 train acc = 1.0000, test acc = 0.6152\n"
     ]
    },
    {
     "name": "stderr",
     "output_type": "stream",
     "text": [
      "100%|██████████████████████████████████████████████████████████████████████████████| 1001/1001 [00:12<00:00, 78.47it/s]\n"
     ]
    },
    {
     "name": "stdout",
     "output_type": "stream",
     "text": [
      "[2022-12-06 03:59:46] Evaluate_01: epoch = 1000 train time = 12 s train loss = 0.003716 train acc = 1.0000, test acc = 0.6038\n"
     ]
    },
    {
     "name": "stderr",
     "output_type": "stream",
     "text": [
      "100%|██████████████████████████████████████████████████████████████████████████████| 1001/1001 [00:12<00:00, 77.74it/s]\n"
     ]
    },
    {
     "name": "stdout",
     "output_type": "stream",
     "text": [
      "[2022-12-06 03:59:59] Evaluate_02: epoch = 1000 train time = 12 s train loss = 0.003909 train acc = 1.0000, test acc = 0.5843\n"
     ]
    },
    {
     "name": "stderr",
     "output_type": "stream",
     "text": [
      "100%|██████████████████████████████████████████████████████████████████████████████| 1001/1001 [00:12<00:00, 78.31it/s]\n"
     ]
    },
    {
     "name": "stdout",
     "output_type": "stream",
     "text": [
      "[2022-12-06 04:00:12] Evaluate_03: epoch = 1000 train time = 12 s train loss = 0.002428 train acc = 1.0000, test acc = 0.5941\n"
     ]
    },
    {
     "name": "stderr",
     "output_type": "stream",
     "text": [
      "100%|██████████████████████████████████████████████████████████████████████████████| 1001/1001 [00:12<00:00, 78.45it/s]\n"
     ]
    },
    {
     "name": "stdout",
     "output_type": "stream",
     "text": [
      "[2022-12-06 04:00:25] Evaluate_04: epoch = 1000 train time = 12 s train loss = 0.000197 train acc = 1.0000, test acc = 0.5981\n",
      "Evaluate 5 random ConvNet, mean = 0.5991 std = 0.0103\n",
      "-------------------------\n",
      "[2022-12-06 04:00:27] iter = 1600, loss = 0.8868\n",
      "loading file ./buffers\\CIFAR10_NO_ZCA\\ConvNet\\replay_buffer_0.pt\n",
      "[2022-12-06 04:00:49] iter = 1610, loss = 0.9081\n",
      "loading file ./buffers\\CIFAR10_NO_ZCA\\ConvNet\\replay_buffer_4.pt\n",
      "[2022-12-06 04:01:11] iter = 1620, loss = 0.9392\n",
      "loading file ./buffers\\CIFAR10_NO_ZCA\\ConvNet\\replay_buffer_3.pt\n",
      "[2022-12-06 04:01:33] iter = 1630, loss = 0.8863\n",
      "loading file ./buffers\\CIFAR10_NO_ZCA\\ConvNet\\replay_buffer_1.pt\n",
      "[2022-12-06 04:01:55] iter = 1640, loss = 0.7883\n",
      "loading file ./buffers\\CIFAR10_NO_ZCA\\ConvNet\\replay_buffer_3.pt\n",
      "[2022-12-06 04:02:17] iter = 1650, loss = 0.9245\n",
      "loading file ./buffers\\CIFAR10_NO_ZCA\\ConvNet\\replay_buffer_4.pt\n",
      "[2022-12-06 04:02:39] iter = 1660, loss = 0.7821\n",
      "loading file ./buffers\\CIFAR10_NO_ZCA\\ConvNet\\replay_buffer_1.pt\n",
      "[2022-12-06 04:03:01] iter = 1670, loss = 0.6650\n",
      "loading file ./buffers\\CIFAR10_NO_ZCA\\ConvNet\\replay_buffer_2.pt\n",
      "[2022-12-06 04:03:23] iter = 1680, loss = 0.7823\n",
      "loading file ./buffers\\CIFAR10_NO_ZCA\\ConvNet\\replay_buffer_0.pt\n",
      "[2022-12-06 04:03:45] iter = 1690, loss = 0.5365\n",
      "loading file ./buffers\\CIFAR10_NO_ZCA\\ConvNet\\replay_buffer_0.pt\n",
      "-------------------------\n",
      "Evaluation\n",
      "model_train = ConvNet, model_eval = ConvNet, iteration = 1700\n",
      "DSA augmentation strategy: \n",
      " color_crop_cutout_flip_scale_rotate\n",
      "DSA augmentation parameters: \n",
      " {'aug_mode': 'S', 'prob_flip': 0.5, 'ratio_scale': 1.2, 'ratio_rotate': 15.0, 'ratio_crop_pad': 0.125, 'ratio_cutout': 0.5, 'ratio_noise': 0.05, 'brightness': 1.0, 'saturation': 2.0, 'contrast': 0.5, 'batchmode': False, 'latestseed': -1}\n"
     ]
    },
    {
     "name": "stderr",
     "output_type": "stream",
     "text": [
      "100%|██████████████████████████████████████████████████████████████████████████████| 1001/1001 [00:12<00:00, 78.00it/s]\n"
     ]
    },
    {
     "name": "stdout",
     "output_type": "stream",
     "text": [
      "[2022-12-06 04:04:18] Evaluate_00: epoch = 1000 train time = 12 s train loss = 0.000324 train acc = 1.0000, test acc = 0.6176\n"
     ]
    },
    {
     "name": "stderr",
     "output_type": "stream",
     "text": [
      "100%|██████████████████████████████████████████████████████████████████████████████| 1001/1001 [00:12<00:00, 78.52it/s]\n"
     ]
    },
    {
     "name": "stdout",
     "output_type": "stream",
     "text": [
      "[2022-12-06 04:04:31] Evaluate_01: epoch = 1000 train time = 12 s train loss = 0.000460 train acc = 1.0000, test acc = 0.6046\n"
     ]
    },
    {
     "name": "stderr",
     "output_type": "stream",
     "text": [
      "100%|██████████████████████████████████████████████████████████████████████████████| 1001/1001 [00:12<00:00, 77.40it/s]\n"
     ]
    },
    {
     "name": "stdout",
     "output_type": "stream",
     "text": [
      "[2022-12-06 04:04:44] Evaluate_02: epoch = 1000 train time = 12 s train loss = 0.000626 train acc = 1.0000, test acc = 0.6049\n"
     ]
    },
    {
     "name": "stderr",
     "output_type": "stream",
     "text": [
      "100%|██████████████████████████████████████████████████████████████████████████████| 1001/1001 [00:12<00:00, 78.21it/s]\n"
     ]
    },
    {
     "name": "stdout",
     "output_type": "stream",
     "text": [
      "[2022-12-06 04:04:56] Evaluate_03: epoch = 1000 train time = 12 s train loss = 0.001323 train acc = 1.0000, test acc = 0.5997\n"
     ]
    },
    {
     "name": "stderr",
     "output_type": "stream",
     "text": [
      "100%|██████████████████████████████████████████████████████████████████████████████| 1001/1001 [00:12<00:00, 78.66it/s]\n"
     ]
    },
    {
     "name": "stdout",
     "output_type": "stream",
     "text": [
      "[2022-12-06 04:05:09] Evaluate_04: epoch = 1000 train time = 12 s train loss = 0.005601 train acc = 1.0000, test acc = 0.5989\n",
      "Evaluate 5 random ConvNet, mean = 0.6051 std = 0.0067\n",
      "-------------------------\n",
      "[2022-12-06 04:05:12] iter = 1700, loss = 0.8924\n",
      "loading file ./buffers\\CIFAR10_NO_ZCA\\ConvNet\\replay_buffer_2.pt\n",
      "[2022-12-06 04:05:34] iter = 1710, loss = 0.8906\n",
      "loading file ./buffers\\CIFAR10_NO_ZCA\\ConvNet\\replay_buffer_1.pt\n",
      "[2022-12-06 04:05:56] iter = 1720, loss = 0.7056\n",
      "loading file ./buffers\\CIFAR10_NO_ZCA\\ConvNet\\replay_buffer_4.pt\n",
      "[2022-12-06 04:06:18] iter = 1730, loss = 0.9150\n",
      "loading file ./buffers\\CIFAR10_NO_ZCA\\ConvNet\\replay_buffer_3.pt\n",
      "[2022-12-06 04:06:40] iter = 1740, loss = 0.6338\n",
      "loading file ./buffers\\CIFAR10_NO_ZCA\\ConvNet\\replay_buffer_4.pt\n",
      "[2022-12-06 04:07:02] iter = 1750, loss = 0.7943\n",
      "loading file ./buffers\\CIFAR10_NO_ZCA\\ConvNet\\replay_buffer_0.pt\n",
      "[2022-12-06 04:07:24] iter = 1760, loss = 0.8961\n",
      "loading file ./buffers\\CIFAR10_NO_ZCA\\ConvNet\\replay_buffer_1.pt\n",
      "[2022-12-06 04:07:46] iter = 1770, loss = 0.9212\n",
      "loading file ./buffers\\CIFAR10_NO_ZCA\\ConvNet\\replay_buffer_2.pt\n",
      "[2022-12-06 04:08:08] iter = 1780, loss = 0.6782\n",
      "loading file ./buffers\\CIFAR10_NO_ZCA\\ConvNet\\replay_buffer_3.pt\n",
      "[2022-12-06 04:08:30] iter = 1790, loss = 0.6909\n",
      "loading file ./buffers\\CIFAR10_NO_ZCA\\ConvNet\\replay_buffer_3.pt\n",
      "-------------------------\n",
      "Evaluation\n",
      "model_train = ConvNet, model_eval = ConvNet, iteration = 1800\n",
      "DSA augmentation strategy: \n",
      " color_crop_cutout_flip_scale_rotate\n",
      "DSA augmentation parameters: \n",
      " {'aug_mode': 'S', 'prob_flip': 0.5, 'ratio_scale': 1.2, 'ratio_rotate': 15.0, 'ratio_crop_pad': 0.125, 'ratio_cutout': 0.5, 'ratio_noise': 0.05, 'brightness': 1.0, 'saturation': 2.0, 'contrast': 0.5, 'batchmode': False, 'latestseed': -1}\n"
     ]
    },
    {
     "name": "stderr",
     "output_type": "stream",
     "text": [
      "100%|██████████████████████████████████████████████████████████████████████████████| 1001/1001 [00:12<00:00, 78.98it/s]\n"
     ]
    },
    {
     "name": "stdout",
     "output_type": "stream",
     "text": [
      "[2022-12-06 04:09:03] Evaluate_00: epoch = 1000 train time = 12 s train loss = 0.000171 train acc = 1.0000, test acc = 0.6002\n"
     ]
    },
    {
     "name": "stderr",
     "output_type": "stream",
     "text": [
      "100%|██████████████████████████████████████████████████████████████████████████████| 1001/1001 [00:12<00:00, 78.74it/s]\n"
     ]
    },
    {
     "name": "stdout",
     "output_type": "stream",
     "text": [
      "[2022-12-06 04:09:16] Evaluate_01: epoch = 1000 train time = 12 s train loss = 0.000435 train acc = 1.0000, test acc = 0.5888\n"
     ]
    },
    {
     "name": "stderr",
     "output_type": "stream",
     "text": [
      "100%|██████████████████████████████████████████████████████████████████████████████| 1001/1001 [00:12<00:00, 77.59it/s]\n"
     ]
    },
    {
     "name": "stdout",
     "output_type": "stream",
     "text": [
      "[2022-12-06 04:09:29] Evaluate_02: epoch = 1000 train time = 12 s train loss = 0.001827 train acc = 1.0000, test acc = 0.5918\n"
     ]
    },
    {
     "name": "stderr",
     "output_type": "stream",
     "text": [
      "100%|██████████████████████████████████████████████████████████████████████████████| 1001/1001 [00:12<00:00, 78.61it/s]\n"
     ]
    },
    {
     "name": "stdout",
     "output_type": "stream",
     "text": [
      "[2022-12-06 04:09:41] Evaluate_03: epoch = 1000 train time = 12 s train loss = 0.000455 train acc = 1.0000, test acc = 0.5908\n"
     ]
    },
    {
     "name": "stderr",
     "output_type": "stream",
     "text": [
      "100%|██████████████████████████████████████████████████████████████████████████████| 1001/1001 [00:12<00:00, 78.73it/s]\n"
     ]
    },
    {
     "name": "stdout",
     "output_type": "stream",
     "text": [
      "[2022-12-06 04:09:54] Evaluate_04: epoch = 1000 train time = 12 s train loss = 0.000255 train acc = 1.0000, test acc = 0.6012\n",
      "Evaluate 5 random ConvNet, mean = 0.5946 std = 0.0051\n",
      "-------------------------\n",
      "[2022-12-06 04:09:56] iter = 1800, loss = 0.8830\n",
      "loading file ./buffers\\CIFAR10_NO_ZCA\\ConvNet\\replay_buffer_2.pt\n",
      "[2022-12-06 04:10:18] iter = 1810, loss = 0.8069\n",
      "loading file ./buffers\\CIFAR10_NO_ZCA\\ConvNet\\replay_buffer_4.pt\n",
      "[2022-12-06 04:10:40] iter = 1820, loss = 0.6831\n",
      "loading file ./buffers\\CIFAR10_NO_ZCA\\ConvNet\\replay_buffer_0.pt\n",
      "[2022-12-06 04:11:03] iter = 1830, loss = 0.6402\n",
      "loading file ./buffers\\CIFAR10_NO_ZCA\\ConvNet\\replay_buffer_1.pt\n",
      "[2022-12-06 04:11:24] iter = 1840, loss = 0.5833\n",
      "loading file ./buffers\\CIFAR10_NO_ZCA\\ConvNet\\replay_buffer_2.pt\n",
      "[2022-12-06 04:11:47] iter = 1850, loss = 0.8242\n",
      "loading file ./buffers\\CIFAR10_NO_ZCA\\ConvNet\\replay_buffer_4.pt\n",
      "[2022-12-06 04:12:09] iter = 1860, loss = 0.8765\n",
      "loading file ./buffers\\CIFAR10_NO_ZCA\\ConvNet\\replay_buffer_0.pt\n",
      "[2022-12-06 04:12:31] iter = 1870, loss = 0.6241\n",
      "loading file ./buffers\\CIFAR10_NO_ZCA\\ConvNet\\replay_buffer_3.pt\n",
      "[2022-12-06 04:12:53] iter = 1880, loss = 0.9000\n",
      "loading file ./buffers\\CIFAR10_NO_ZCA\\ConvNet\\replay_buffer_1.pt\n",
      "[2022-12-06 04:13:15] iter = 1890, loss = 0.8855\n",
      "loading file ./buffers\\CIFAR10_NO_ZCA\\ConvNet\\replay_buffer_1.pt\n",
      "-------------------------\n",
      "Evaluation\n",
      "model_train = ConvNet, model_eval = ConvNet, iteration = 1900\n",
      "DSA augmentation strategy: \n",
      " color_crop_cutout_flip_scale_rotate\n",
      "DSA augmentation parameters: \n",
      " {'aug_mode': 'S', 'prob_flip': 0.5, 'ratio_scale': 1.2, 'ratio_rotate': 15.0, 'ratio_crop_pad': 0.125, 'ratio_cutout': 0.5, 'ratio_noise': 0.05, 'brightness': 1.0, 'saturation': 2.0, 'contrast': 0.5, 'batchmode': False, 'latestseed': -1}\n"
     ]
    },
    {
     "name": "stderr",
     "output_type": "stream",
     "text": [
      "100%|██████████████████████████████████████████████████████████████████████████████| 1001/1001 [00:12<00:00, 78.99it/s]\n"
     ]
    },
    {
     "name": "stdout",
     "output_type": "stream",
     "text": [
      "[2022-12-06 04:13:47] Evaluate_00: epoch = 1000 train time = 12 s train loss = 0.000613 train acc = 1.0000, test acc = 0.5956\n"
     ]
    },
    {
     "name": "stderr",
     "output_type": "stream",
     "text": [
      "100%|██████████████████████████████████████████████████████████████████████████████| 1001/1001 [00:12<00:00, 78.94it/s]\n"
     ]
    },
    {
     "name": "stdout",
     "output_type": "stream",
     "text": [
      "[2022-12-06 04:14:00] Evaluate_01: epoch = 1000 train time = 12 s train loss = 0.001116 train acc = 1.0000, test acc = 0.5932\n"
     ]
    },
    {
     "name": "stderr",
     "output_type": "stream",
     "text": [
      "100%|██████████████████████████████████████████████████████████████████████████████| 1001/1001 [00:12<00:00, 77.48it/s]\n"
     ]
    },
    {
     "name": "stdout",
     "output_type": "stream",
     "text": [
      "[2022-12-06 04:14:13] Evaluate_02: epoch = 1000 train time = 12 s train loss = 0.000486 train acc = 1.0000, test acc = 0.6043\n"
     ]
    },
    {
     "name": "stderr",
     "output_type": "stream",
     "text": [
      "100%|██████████████████████████████████████████████████████████████████████████████| 1001/1001 [00:12<00:00, 79.32it/s]\n"
     ]
    },
    {
     "name": "stdout",
     "output_type": "stream",
     "text": [
      "[2022-12-06 04:14:26] Evaluate_03: epoch = 1000 train time = 12 s train loss = 0.000396 train acc = 1.0000, test acc = 0.6031\n"
     ]
    },
    {
     "name": "stderr",
     "output_type": "stream",
     "text": [
      "100%|██████████████████████████████████████████████████████████████████████████████| 1001/1001 [00:12<00:00, 78.98it/s]\n"
     ]
    },
    {
     "name": "stdout",
     "output_type": "stream",
     "text": [
      "[2022-12-06 04:14:38] Evaluate_04: epoch = 1000 train time = 12 s train loss = 0.001030 train acc = 1.0000, test acc = 0.5902\n",
      "Evaluate 5 random ConvNet, mean = 0.5973 std = 0.0055\n",
      "-------------------------\n",
      "[2022-12-06 04:14:41] iter = 1900, loss = 0.9125\n",
      "loading file ./buffers\\CIFAR10_NO_ZCA\\ConvNet\\replay_buffer_2.pt\n",
      "[2022-12-06 04:15:03] iter = 1910, loss = 0.7398\n",
      "loading file ./buffers\\CIFAR10_NO_ZCA\\ConvNet\\replay_buffer_0.pt\n",
      "[2022-12-06 04:15:25] iter = 1920, loss = 0.9250\n",
      "loading file ./buffers\\CIFAR10_NO_ZCA\\ConvNet\\replay_buffer_3.pt\n",
      "[2022-12-06 04:15:47] iter = 1930, loss = 0.7428\n",
      "loading file ./buffers\\CIFAR10_NO_ZCA\\ConvNet\\replay_buffer_4.pt\n",
      "[2022-12-06 04:16:08] iter = 1940, loss = 0.5691\n",
      "loading file ./buffers\\CIFAR10_NO_ZCA\\ConvNet\\replay_buffer_4.pt\n",
      "[2022-12-06 04:16:31] iter = 1950, loss = 0.7431\n",
      "loading file ./buffers\\CIFAR10_NO_ZCA\\ConvNet\\replay_buffer_3.pt\n",
      "[2022-12-06 04:16:53] iter = 1960, loss = 0.6759\n",
      "loading file ./buffers\\CIFAR10_NO_ZCA\\ConvNet\\replay_buffer_0.pt\n",
      "[2022-12-06 04:17:14] iter = 1970, loss = 0.6318\n",
      "loading file ./buffers\\CIFAR10_NO_ZCA\\ConvNet\\replay_buffer_1.pt\n",
      "[2022-12-06 04:17:36] iter = 1980, loss = 0.8485\n",
      "loading file ./buffers\\CIFAR10_NO_ZCA\\ConvNet\\replay_buffer_2.pt\n",
      "[2022-12-06 04:17:58] iter = 1990, loss = 0.8765\n",
      "loading file ./buffers\\CIFAR10_NO_ZCA\\ConvNet\\replay_buffer_2.pt\n",
      "-------------------------\n",
      "Evaluation\n",
      "model_train = ConvNet, model_eval = ConvNet, iteration = 2000\n",
      "DSA augmentation strategy: \n",
      " color_crop_cutout_flip_scale_rotate\n",
      "DSA augmentation parameters: \n",
      " {'aug_mode': 'S', 'prob_flip': 0.5, 'ratio_scale': 1.2, 'ratio_rotate': 15.0, 'ratio_crop_pad': 0.125, 'ratio_cutout': 0.5, 'ratio_noise': 0.05, 'brightness': 1.0, 'saturation': 2.0, 'contrast': 0.5, 'batchmode': False, 'latestseed': -1}\n"
     ]
    },
    {
     "name": "stderr",
     "output_type": "stream",
     "text": [
      "100%|██████████████████████████████████████████████████████████████████████████████| 1001/1001 [00:12<00:00, 77.89it/s]\n"
     ]
    },
    {
     "name": "stdout",
     "output_type": "stream",
     "text": [
      "[2022-12-06 04:18:31] Evaluate_00: epoch = 1000 train time = 12 s train loss = 0.000722 train acc = 1.0000, test acc = 0.5996\n"
     ]
    },
    {
     "name": "stderr",
     "output_type": "stream",
     "text": [
      "100%|██████████████████████████████████████████████████████████████████████████████| 1001/1001 [00:12<00:00, 79.09it/s]\n"
     ]
    },
    {
     "name": "stdout",
     "output_type": "stream",
     "text": [
      "[2022-12-06 04:18:44] Evaluate_01: epoch = 1000 train time = 12 s train loss = 0.000198 train acc = 1.0000, test acc = 0.5989\n"
     ]
    },
    {
     "name": "stderr",
     "output_type": "stream",
     "text": [
      "100%|██████████████████████████████████████████████████████████████████████████████| 1001/1001 [00:12<00:00, 78.63it/s]\n"
     ]
    },
    {
     "name": "stdout",
     "output_type": "stream",
     "text": [
      "[2022-12-06 04:18:56] Evaluate_02: epoch = 1000 train time = 12 s train loss = 0.001501 train acc = 1.0000, test acc = 0.5996\n"
     ]
    },
    {
     "name": "stderr",
     "output_type": "stream",
     "text": [
      "100%|██████████████████████████████████████████████████████████████████████████████| 1001/1001 [00:12<00:00, 79.28it/s]\n"
     ]
    },
    {
     "name": "stdout",
     "output_type": "stream",
     "text": [
      "[2022-12-06 04:19:09] Evaluate_03: epoch = 1000 train time = 12 s train loss = 0.000219 train acc = 1.0000, test acc = 0.5938\n"
     ]
    },
    {
     "name": "stderr",
     "output_type": "stream",
     "text": [
      "100%|██████████████████████████████████████████████████████████████████████████████| 1001/1001 [00:12<00:00, 78.70it/s]\n"
     ]
    },
    {
     "name": "stdout",
     "output_type": "stream",
     "text": [
      "[2022-12-06 04:19:22] Evaluate_04: epoch = 1000 train time = 12 s train loss = 0.000210 train acc = 1.0000, test acc = 0.5906\n",
      "Evaluate 5 random ConvNet, mean = 0.5965 std = 0.0037\n",
      "-------------------------\n",
      "[2022-12-06 04:19:24] iter = 2000, loss = 0.6630\n",
      "loading file ./buffers\\CIFAR10_NO_ZCA\\ConvNet\\replay_buffer_1.pt\n",
      "[2022-12-06 04:19:46] iter = 2010, loss = 0.8589\n",
      "loading file ./buffers\\CIFAR10_NO_ZCA\\ConvNet\\replay_buffer_0.pt\n",
      "[2022-12-06 04:20:09] iter = 2020, loss = 0.8480\n",
      "loading file ./buffers\\CIFAR10_NO_ZCA\\ConvNet\\replay_buffer_4.pt\n",
      "[2022-12-06 04:20:31] iter = 2030, loss = 0.6253\n",
      "loading file ./buffers\\CIFAR10_NO_ZCA\\ConvNet\\replay_buffer_3.pt\n",
      "[2022-12-06 04:20:53] iter = 2040, loss = 0.9305\n",
      "loading file ./buffers\\CIFAR10_NO_ZCA\\ConvNet\\replay_buffer_4.pt\n",
      "[2022-12-06 04:21:15] iter = 2050, loss = 0.8973\n",
      "loading file ./buffers\\CIFAR10_NO_ZCA\\ConvNet\\replay_buffer_0.pt\n",
      "[2022-12-06 04:21:37] iter = 2060, loss = 0.9155\n",
      "loading file ./buffers\\CIFAR10_NO_ZCA\\ConvNet\\replay_buffer_2.pt\n",
      "[2022-12-06 04:21:59] iter = 2070, loss = 0.6516\n",
      "loading file ./buffers\\CIFAR10_NO_ZCA\\ConvNet\\replay_buffer_1.pt\n",
      "[2022-12-06 04:22:21] iter = 2080, loss = 0.6058\n",
      "loading file ./buffers\\CIFAR10_NO_ZCA\\ConvNet\\replay_buffer_3.pt\n",
      "[2022-12-06 04:22:43] iter = 2090, loss = 0.6849\n",
      "loading file ./buffers\\CIFAR10_NO_ZCA\\ConvNet\\replay_buffer_1.pt\n",
      "-------------------------\n",
      "Evaluation\n",
      "model_train = ConvNet, model_eval = ConvNet, iteration = 2100\n",
      "DSA augmentation strategy: \n",
      " color_crop_cutout_flip_scale_rotate\n",
      "DSA augmentation parameters: \n",
      " {'aug_mode': 'S', 'prob_flip': 0.5, 'ratio_scale': 1.2, 'ratio_rotate': 15.0, 'ratio_crop_pad': 0.125, 'ratio_cutout': 0.5, 'ratio_noise': 0.05, 'brightness': 1.0, 'saturation': 2.0, 'contrast': 0.5, 'batchmode': False, 'latestseed': -1}\n"
     ]
    },
    {
     "name": "stderr",
     "output_type": "stream",
     "text": [
      "100%|██████████████████████████████████████████████████████████████████████████████| 1001/1001 [00:12<00:00, 77.88it/s]\n"
     ]
    },
    {
     "name": "stdout",
     "output_type": "stream",
     "text": [
      "[2022-12-06 04:23:16] Evaluate_00: epoch = 1000 train time = 12 s train loss = 0.000239 train acc = 1.0000, test acc = 0.6071\n"
     ]
    },
    {
     "name": "stderr",
     "output_type": "stream",
     "text": [
      "100%|██████████████████████████████████████████████████████████████████████████████| 1001/1001 [00:12<00:00, 78.63it/s]\n"
     ]
    },
    {
     "name": "stdout",
     "output_type": "stream",
     "text": [
      "[2022-12-06 04:23:28] Evaluate_01: epoch = 1000 train time = 12 s train loss = 0.000454 train acc = 1.0000, test acc = 0.5960\n"
     ]
    },
    {
     "name": "stderr",
     "output_type": "stream",
     "text": [
      "100%|██████████████████████████████████████████████████████████████████████████████| 1001/1001 [00:12<00:00, 77.29it/s]\n"
     ]
    },
    {
     "name": "stdout",
     "output_type": "stream",
     "text": [
      "[2022-12-06 04:23:41] Evaluate_02: epoch = 1000 train time = 12 s train loss = 0.000472 train acc = 1.0000, test acc = 0.6109\n"
     ]
    },
    {
     "name": "stderr",
     "output_type": "stream",
     "text": [
      "100%|██████████████████████████████████████████████████████████████████████████████| 1001/1001 [00:12<00:00, 78.61it/s]\n"
     ]
    },
    {
     "name": "stdout",
     "output_type": "stream",
     "text": [
      "[2022-12-06 04:23:54] Evaluate_03: epoch = 1000 train time = 12 s train loss = 0.000392 train acc = 1.0000, test acc = 0.6014\n"
     ]
    },
    {
     "name": "stderr",
     "output_type": "stream",
     "text": [
      "100%|██████████████████████████████████████████████████████████████████████████████| 1001/1001 [00:12<00:00, 78.63it/s]\n"
     ]
    },
    {
     "name": "stdout",
     "output_type": "stream",
     "text": [
      "[2022-12-06 04:24:07] Evaluate_04: epoch = 1000 train time = 12 s train loss = 0.000415 train acc = 1.0000, test acc = 0.6114\n",
      "Evaluate 5 random ConvNet, mean = 0.6054 std = 0.0059\n",
      "-------------------------\n",
      "[2022-12-06 04:24:09] iter = 2100, loss = 0.6444\n",
      "loading file ./buffers\\CIFAR10_NO_ZCA\\ConvNet\\replay_buffer_2.pt\n",
      "[2022-12-06 04:24:32] iter = 2110, loss = 0.5317\n",
      "loading file ./buffers\\CIFAR10_NO_ZCA\\ConvNet\\replay_buffer_3.pt\n",
      "[2022-12-06 04:24:54] iter = 2120, loss = 0.7368\n",
      "loading file ./buffers\\CIFAR10_NO_ZCA\\ConvNet\\replay_buffer_4.pt\n",
      "[2022-12-06 04:25:16] iter = 2130, loss = 0.5451\n",
      "loading file ./buffers\\CIFAR10_NO_ZCA\\ConvNet\\replay_buffer_0.pt\n",
      "[2022-12-06 04:25:38] iter = 2140, loss = 0.6600\n",
      "loading file ./buffers\\CIFAR10_NO_ZCA\\ConvNet\\replay_buffer_2.pt\n",
      "[2022-12-06 04:26:00] iter = 2150, loss = 0.7509\n",
      "loading file ./buffers\\CIFAR10_NO_ZCA\\ConvNet\\replay_buffer_3.pt\n",
      "[2022-12-06 04:26:22] iter = 2160, loss = 0.6819\n",
      "loading file ./buffers\\CIFAR10_NO_ZCA\\ConvNet\\replay_buffer_1.pt\n",
      "[2022-12-06 04:26:44] iter = 2170, loss = 0.8497\n",
      "loading file ./buffers\\CIFAR10_NO_ZCA\\ConvNet\\replay_buffer_4.pt\n",
      "[2022-12-06 04:27:06] iter = 2180, loss = 0.9378\n",
      "loading file ./buffers\\CIFAR10_NO_ZCA\\ConvNet\\replay_buffer_0.pt\n",
      "[2022-12-06 04:27:28] iter = 2190, loss = 0.9182\n",
      "loading file ./buffers\\CIFAR10_NO_ZCA\\ConvNet\\replay_buffer_1.pt\n",
      "-------------------------\n",
      "Evaluation\n",
      "model_train = ConvNet, model_eval = ConvNet, iteration = 2200\n",
      "DSA augmentation strategy: \n",
      " color_crop_cutout_flip_scale_rotate\n",
      "DSA augmentation parameters: \n",
      " {'aug_mode': 'S', 'prob_flip': 0.5, 'ratio_scale': 1.2, 'ratio_rotate': 15.0, 'ratio_crop_pad': 0.125, 'ratio_cutout': 0.5, 'ratio_noise': 0.05, 'brightness': 1.0, 'saturation': 2.0, 'contrast': 0.5, 'batchmode': False, 'latestseed': -1}\n"
     ]
    },
    {
     "name": "stderr",
     "output_type": "stream",
     "text": [
      "100%|██████████████████████████████████████████████████████████████████████████████| 1001/1001 [00:12<00:00, 77.79it/s]\n"
     ]
    },
    {
     "name": "stdout",
     "output_type": "stream",
     "text": [
      "[2022-12-06 04:28:01] Evaluate_00: epoch = 1000 train time = 12 s train loss = 0.000092 train acc = 1.0000, test acc = 0.6157\n"
     ]
    },
    {
     "name": "stderr",
     "output_type": "stream",
     "text": [
      "100%|██████████████████████████████████████████████████████████████████████████████| 1001/1001 [00:12<00:00, 78.90it/s]\n"
     ]
    },
    {
     "name": "stdout",
     "output_type": "stream",
     "text": [
      "[2022-12-06 04:28:13] Evaluate_01: epoch = 1000 train time = 12 s train loss = 0.000431 train acc = 1.0000, test acc = 0.6136\n"
     ]
    },
    {
     "name": "stderr",
     "output_type": "stream",
     "text": [
      "100%|██████████████████████████████████████████████████████████████████████████████| 1001/1001 [00:12<00:00, 78.62it/s]\n"
     ]
    },
    {
     "name": "stdout",
     "output_type": "stream",
     "text": [
      "[2022-12-06 04:28:26] Evaluate_02: epoch = 1000 train time = 12 s train loss = 0.001465 train acc = 1.0000, test acc = 0.6035\n"
     ]
    },
    {
     "name": "stderr",
     "output_type": "stream",
     "text": [
      "100%|██████████████████████████████████████████████████████████████████████████████| 1001/1001 [00:12<00:00, 77.21it/s]\n"
     ]
    },
    {
     "name": "stdout",
     "output_type": "stream",
     "text": [
      "[2022-12-06 04:28:39] Evaluate_03: epoch = 1000 train time = 12 s train loss = 0.000412 train acc = 1.0000, test acc = 0.6006\n"
     ]
    },
    {
     "name": "stderr",
     "output_type": "stream",
     "text": [
      "100%|██████████████████████████████████████████████████████████████████████████████| 1001/1001 [00:12<00:00, 78.50it/s]\n"
     ]
    },
    {
     "name": "stdout",
     "output_type": "stream",
     "text": [
      "[2022-12-06 04:28:52] Evaluate_04: epoch = 1000 train time = 12 s train loss = 0.000305 train acc = 1.0000, test acc = 0.6124\n",
      "Evaluate 5 random ConvNet, mean = 0.6092 std = 0.0060\n",
      "-------------------------\n",
      "[2022-12-06 04:28:54] iter = 2200, loss = 0.8260\n",
      "loading file ./buffers\\CIFAR10_NO_ZCA\\ConvNet\\replay_buffer_2.pt\n",
      "[2022-12-06 04:29:16] iter = 2210, loss = 0.8754\n",
      "loading file ./buffers\\CIFAR10_NO_ZCA\\ConvNet\\replay_buffer_4.pt\n",
      "[2022-12-06 04:29:38] iter = 2220, loss = 0.5540\n",
      "loading file ./buffers\\CIFAR10_NO_ZCA\\ConvNet\\replay_buffer_3.pt\n",
      "[2022-12-06 04:30:00] iter = 2230, loss = 0.8232\n",
      "loading file ./buffers\\CIFAR10_NO_ZCA\\ConvNet\\replay_buffer_0.pt\n",
      "[2022-12-06 04:30:23] iter = 2240, loss = 0.6879\n",
      "loading file ./buffers\\CIFAR10_NO_ZCA\\ConvNet\\replay_buffer_1.pt\n",
      "[2022-12-06 04:30:45] iter = 2250, loss = 0.8128\n",
      "loading file ./buffers\\CIFAR10_NO_ZCA\\ConvNet\\replay_buffer_0.pt\n",
      "[2022-12-06 04:31:07] iter = 2260, loss = 0.5996\n",
      "loading file ./buffers\\CIFAR10_NO_ZCA\\ConvNet\\replay_buffer_2.pt\n",
      "[2022-12-06 04:31:29] iter = 2270, loss = 0.9320\n",
      "loading file ./buffers\\CIFAR10_NO_ZCA\\ConvNet\\replay_buffer_3.pt\n",
      "[2022-12-06 04:31:51] iter = 2280, loss = 0.8878\n",
      "loading file ./buffers\\CIFAR10_NO_ZCA\\ConvNet\\replay_buffer_4.pt\n",
      "[2022-12-06 04:32:13] iter = 2290, loss = 0.9302\n",
      "loading file ./buffers\\CIFAR10_NO_ZCA\\ConvNet\\replay_buffer_3.pt\n",
      "-------------------------\n",
      "Evaluation\n",
      "model_train = ConvNet, model_eval = ConvNet, iteration = 2300\n",
      "DSA augmentation strategy: \n",
      " color_crop_cutout_flip_scale_rotate\n",
      "DSA augmentation parameters: \n",
      " {'aug_mode': 'S', 'prob_flip': 0.5, 'ratio_scale': 1.2, 'ratio_rotate': 15.0, 'ratio_crop_pad': 0.125, 'ratio_cutout': 0.5, 'ratio_noise': 0.05, 'brightness': 1.0, 'saturation': 2.0, 'contrast': 0.5, 'batchmode': False, 'latestseed': -1}\n"
     ]
    },
    {
     "name": "stderr",
     "output_type": "stream",
     "text": [
      "100%|██████████████████████████████████████████████████████████████████████████████| 1001/1001 [00:12<00:00, 78.86it/s]\n"
     ]
    },
    {
     "name": "stdout",
     "output_type": "stream",
     "text": [
      "[2022-12-06 04:32:46] Evaluate_00: epoch = 1000 train time = 12 s train loss = 0.001564 train acc = 1.0000, test acc = 0.6015\n"
     ]
    },
    {
     "name": "stderr",
     "output_type": "stream",
     "text": [
      "100%|██████████████████████████████████████████████████████████████████████████████| 1001/1001 [00:12<00:00, 78.71it/s]\n"
     ]
    },
    {
     "name": "stdout",
     "output_type": "stream",
     "text": [
      "[2022-12-06 04:32:58] Evaluate_01: epoch = 1000 train time = 12 s train loss = 0.001396 train acc = 1.0000, test acc = 0.6114\n"
     ]
    },
    {
     "name": "stderr",
     "output_type": "stream",
     "text": [
      "100%|██████████████████████████████████████████████████████████████████████████████| 1001/1001 [00:13<00:00, 76.97it/s]\n"
     ]
    },
    {
     "name": "stdout",
     "output_type": "stream",
     "text": [
      "[2022-12-06 04:33:12] Evaluate_02: epoch = 1000 train time = 13 s train loss = 0.000338 train acc = 1.0000, test acc = 0.6095\n"
     ]
    },
    {
     "name": "stderr",
     "output_type": "stream",
     "text": [
      "100%|██████████████████████████████████████████████████████████████████████████████| 1001/1001 [00:12<00:00, 78.68it/s]\n"
     ]
    },
    {
     "name": "stdout",
     "output_type": "stream",
     "text": [
      "[2022-12-06 04:33:24] Evaluate_03: epoch = 1000 train time = 12 s train loss = 0.000177 train acc = 1.0000, test acc = 0.6136\n"
     ]
    },
    {
     "name": "stderr",
     "output_type": "stream",
     "text": [
      "100%|██████████████████████████████████████████████████████████████████████████████| 1001/1001 [00:12<00:00, 77.30it/s]\n"
     ]
    },
    {
     "name": "stdout",
     "output_type": "stream",
     "text": [
      "[2022-12-06 04:33:37] Evaluate_04: epoch = 1000 train time = 12 s train loss = 0.001501 train acc = 1.0000, test acc = 0.6185\n",
      "Evaluate 5 random ConvNet, mean = 0.6109 std = 0.0056\n",
      "-------------------------\n",
      "[2022-12-06 04:33:40] iter = 2300, loss = 0.7615\n",
      "loading file ./buffers\\CIFAR10_NO_ZCA\\ConvNet\\replay_buffer_2.pt\n",
      "[2022-12-06 04:34:02] iter = 2310, loss = 0.8744\n",
      "loading file ./buffers\\CIFAR10_NO_ZCA\\ConvNet\\replay_buffer_0.pt\n",
      "[2022-12-06 04:34:24] iter = 2320, loss = 0.9030\n",
      "loading file ./buffers\\CIFAR10_NO_ZCA\\ConvNet\\replay_buffer_1.pt\n",
      "[2022-12-06 04:34:46] iter = 2330, loss = 0.7117\n",
      "loading file ./buffers\\CIFAR10_NO_ZCA\\ConvNet\\replay_buffer_4.pt\n",
      "[2022-12-06 04:35:09] iter = 2340, loss = 0.8718\n",
      "loading file ./buffers\\CIFAR10_NO_ZCA\\ConvNet\\replay_buffer_2.pt\n",
      "[2022-12-06 04:35:31] iter = 2350, loss = 0.5565\n",
      "loading file ./buffers\\CIFAR10_NO_ZCA\\ConvNet\\replay_buffer_0.pt\n",
      "[2022-12-06 04:35:53] iter = 2360, loss = 0.8641\n",
      "loading file ./buffers\\CIFAR10_NO_ZCA\\ConvNet\\replay_buffer_4.pt\n",
      "[2022-12-06 04:36:15] iter = 2370, loss = 0.7911\n",
      "loading file ./buffers\\CIFAR10_NO_ZCA\\ConvNet\\replay_buffer_3.pt\n",
      "[2022-12-06 04:36:37] iter = 2380, loss = 0.5598\n",
      "loading file ./buffers\\CIFAR10_NO_ZCA\\ConvNet\\replay_buffer_1.pt\n",
      "[2022-12-06 04:36:59] iter = 2390, loss = 0.8347\n",
      "loading file ./buffers\\CIFAR10_NO_ZCA\\ConvNet\\replay_buffer_0.pt\n",
      "-------------------------\n",
      "Evaluation\n",
      "model_train = ConvNet, model_eval = ConvNet, iteration = 2400\n",
      "DSA augmentation strategy: \n",
      " color_crop_cutout_flip_scale_rotate\n",
      "DSA augmentation parameters: \n",
      " {'aug_mode': 'S', 'prob_flip': 0.5, 'ratio_scale': 1.2, 'ratio_rotate': 15.0, 'ratio_crop_pad': 0.125, 'ratio_cutout': 0.5, 'ratio_noise': 0.05, 'brightness': 1.0, 'saturation': 2.0, 'contrast': 0.5, 'batchmode': False, 'latestseed': -1}\n"
     ]
    },
    {
     "name": "stderr",
     "output_type": "stream",
     "text": [
      "100%|██████████████████████████████████████████████████████████████████████████████| 1001/1001 [00:12<00:00, 78.57it/s]\n"
     ]
    },
    {
     "name": "stdout",
     "output_type": "stream",
     "text": [
      "[2022-12-06 04:37:32] Evaluate_00: epoch = 1000 train time = 12 s train loss = 0.001532 train acc = 1.0000, test acc = 0.6044\n"
     ]
    },
    {
     "name": "stderr",
     "output_type": "stream",
     "text": [
      "100%|██████████████████████████████████████████████████████████████████████████████| 1001/1001 [00:12<00:00, 78.76it/s]\n"
     ]
    },
    {
     "name": "stdout",
     "output_type": "stream",
     "text": [
      "[2022-12-06 04:37:45] Evaluate_01: epoch = 1000 train time = 12 s train loss = 0.000325 train acc = 1.0000, test acc = 0.6049\n"
     ]
    },
    {
     "name": "stderr",
     "output_type": "stream",
     "text": [
      "100%|██████████████████████████████████████████████████████████████████████████████| 1001/1001 [00:12<00:00, 78.89it/s]\n"
     ]
    },
    {
     "name": "stdout",
     "output_type": "stream",
     "text": [
      "[2022-12-06 04:37:57] Evaluate_02: epoch = 1000 train time = 12 s train loss = 0.000331 train acc = 1.0000, test acc = 0.6114\n"
     ]
    },
    {
     "name": "stderr",
     "output_type": "stream",
     "text": [
      "100%|██████████████████████████████████████████████████████████████████████████████| 1001/1001 [00:12<00:00, 77.69it/s]\n"
     ]
    },
    {
     "name": "stdout",
     "output_type": "stream",
     "text": [
      "[2022-12-06 04:38:10] Evaluate_03: epoch = 1000 train time = 12 s train loss = 0.000432 train acc = 1.0000, test acc = 0.6073\n"
     ]
    },
    {
     "name": "stderr",
     "output_type": "stream",
     "text": [
      "100%|██████████████████████████████████████████████████████████████████████████████| 1001/1001 [00:12<00:00, 79.01it/s]\n"
     ]
    },
    {
     "name": "stdout",
     "output_type": "stream",
     "text": [
      "[2022-12-06 04:38:23] Evaluate_04: epoch = 1000 train time = 12 s train loss = 0.000213 train acc = 1.0000, test acc = 0.5999\n",
      "Evaluate 5 random ConvNet, mean = 0.6056 std = 0.0038\n",
      "-------------------------\n",
      "[2022-12-06 04:38:25] iter = 2400, loss = 0.5543\n",
      "loading file ./buffers\\CIFAR10_NO_ZCA\\ConvNet\\replay_buffer_3.pt\n",
      "[2022-12-06 04:38:48] iter = 2410, loss = 0.9059\n",
      "loading file ./buffers\\CIFAR10_NO_ZCA\\ConvNet\\replay_buffer_4.pt\n",
      "[2022-12-06 04:39:10] iter = 2420, loss = 0.6893\n",
      "loading file ./buffers\\CIFAR10_NO_ZCA\\ConvNet\\replay_buffer_2.pt\n",
      "[2022-12-06 04:39:32] iter = 2430, loss = 0.8021\n",
      "loading file ./buffers\\CIFAR10_NO_ZCA\\ConvNet\\replay_buffer_1.pt\n",
      "[2022-12-06 04:39:54] iter = 2440, loss = 0.5899\n",
      "loading file ./buffers\\CIFAR10_NO_ZCA\\ConvNet\\replay_buffer_0.pt\n",
      "[2022-12-06 04:40:16] iter = 2450, loss = 0.7555\n",
      "loading file ./buffers\\CIFAR10_NO_ZCA\\ConvNet\\replay_buffer_1.pt\n",
      "[2022-12-06 04:40:38] iter = 2460, loss = 0.6125\n",
      "loading file ./buffers\\CIFAR10_NO_ZCA\\ConvNet\\replay_buffer_2.pt\n",
      "[2022-12-06 04:41:00] iter = 2470, loss = 0.9102\n",
      "loading file ./buffers\\CIFAR10_NO_ZCA\\ConvNet\\replay_buffer_3.pt\n",
      "[2022-12-06 04:41:23] iter = 2480, loss = 0.8059\n",
      "loading file ./buffers\\CIFAR10_NO_ZCA\\ConvNet\\replay_buffer_4.pt\n",
      "[2022-12-06 04:41:45] iter = 2490, loss = 0.7225\n",
      "loading file ./buffers\\CIFAR10_NO_ZCA\\ConvNet\\replay_buffer_4.pt\n",
      "-------------------------\n",
      "Evaluation\n",
      "model_train = ConvNet, model_eval = ConvNet, iteration = 2500\n",
      "DSA augmentation strategy: \n",
      " color_crop_cutout_flip_scale_rotate\n",
      "DSA augmentation parameters: \n",
      " {'aug_mode': 'S', 'prob_flip': 0.5, 'ratio_scale': 1.2, 'ratio_rotate': 15.0, 'ratio_crop_pad': 0.125, 'ratio_cutout': 0.5, 'ratio_noise': 0.05, 'brightness': 1.0, 'saturation': 2.0, 'contrast': 0.5, 'batchmode': False, 'latestseed': -1}\n"
     ]
    },
    {
     "name": "stderr",
     "output_type": "stream",
     "text": [
      "100%|██████████████████████████████████████████████████████████████████████████████| 1001/1001 [00:12<00:00, 78.33it/s]\n"
     ]
    },
    {
     "name": "stdout",
     "output_type": "stream",
     "text": [
      "[2022-12-06 04:42:18] Evaluate_00: epoch = 1000 train time = 12 s train loss = 0.001756 train acc = 1.0000, test acc = 0.6057\n"
     ]
    },
    {
     "name": "stderr",
     "output_type": "stream",
     "text": [
      "100%|██████████████████████████████████████████████████████████████████████████████| 1001/1001 [00:13<00:00, 76.93it/s]\n"
     ]
    },
    {
     "name": "stdout",
     "output_type": "stream",
     "text": [
      "[2022-12-06 04:42:31] Evaluate_01: epoch = 1000 train time = 13 s train loss = 0.000550 train acc = 1.0000, test acc = 0.6167\n"
     ]
    },
    {
     "name": "stderr",
     "output_type": "stream",
     "text": [
      "100%|██████████████████████████████████████████████████████████████████████████████| 1001/1001 [00:12<00:00, 78.48it/s]\n"
     ]
    },
    {
     "name": "stdout",
     "output_type": "stream",
     "text": [
      "[2022-12-06 04:42:43] Evaluate_02: epoch = 1000 train time = 12 s train loss = 0.002190 train acc = 1.0000, test acc = 0.6126\n"
     ]
    },
    {
     "name": "stderr",
     "output_type": "stream",
     "text": [
      "100%|██████████████████████████████████████████████████████████████████████████████| 1001/1001 [00:12<00:00, 78.61it/s]\n"
     ]
    },
    {
     "name": "stdout",
     "output_type": "stream",
     "text": [
      "[2022-12-06 04:42:56] Evaluate_03: epoch = 1000 train time = 12 s train loss = 0.000523 train acc = 1.0000, test acc = 0.6037\n"
     ]
    },
    {
     "name": "stderr",
     "output_type": "stream",
     "text": [
      "100%|██████████████████████████████████████████████████████████████████████████████| 1001/1001 [00:12<00:00, 77.40it/s]\n"
     ]
    },
    {
     "name": "stdout",
     "output_type": "stream",
     "text": [
      "[2022-12-06 04:43:09] Evaluate_04: epoch = 1000 train time = 12 s train loss = 0.001511 train acc = 1.0000, test acc = 0.6201\n",
      "Evaluate 5 random ConvNet, mean = 0.6118 std = 0.0063\n",
      "-------------------------\n",
      "[2022-12-06 04:43:12] iter = 2500, loss = 0.5546\n",
      "loading file ./buffers\\CIFAR10_NO_ZCA\\ConvNet\\replay_buffer_3.pt\n",
      "[2022-12-06 04:43:34] iter = 2510, loss = 0.6701\n",
      "loading file ./buffers\\CIFAR10_NO_ZCA\\ConvNet\\replay_buffer_0.pt\n",
      "[2022-12-06 04:43:56] iter = 2520, loss = 0.5533\n",
      "loading file ./buffers\\CIFAR10_NO_ZCA\\ConvNet\\replay_buffer_2.pt\n",
      "[2022-12-06 04:44:18] iter = 2530, loss = 0.8750\n",
      "loading file ./buffers\\CIFAR10_NO_ZCA\\ConvNet\\replay_buffer_1.pt\n",
      "[2022-12-06 04:44:40] iter = 2540, loss = 0.7035\n",
      "loading file ./buffers\\CIFAR10_NO_ZCA\\ConvNet\\replay_buffer_1.pt\n",
      "[2022-12-06 04:45:03] iter = 2550, loss = 0.9024\n",
      "loading file ./buffers\\CIFAR10_NO_ZCA\\ConvNet\\replay_buffer_3.pt\n",
      "[2022-12-06 04:45:25] iter = 2560, loss = 0.9330\n",
      "loading file ./buffers\\CIFAR10_NO_ZCA\\ConvNet\\replay_buffer_4.pt\n",
      "[2022-12-06 04:45:47] iter = 2570, loss = 0.5634\n",
      "loading file ./buffers\\CIFAR10_NO_ZCA\\ConvNet\\replay_buffer_0.pt\n",
      "[2022-12-06 04:46:09] iter = 2580, loss = 0.5525\n",
      "loading file ./buffers\\CIFAR10_NO_ZCA\\ConvNet\\replay_buffer_2.pt\n",
      "[2022-12-06 04:46:31] iter = 2590, loss = 0.6457\n",
      "loading file ./buffers\\CIFAR10_NO_ZCA\\ConvNet\\replay_buffer_0.pt\n",
      "-------------------------\n",
      "Evaluation\n",
      "model_train = ConvNet, model_eval = ConvNet, iteration = 2600\n",
      "DSA augmentation strategy: \n",
      " color_crop_cutout_flip_scale_rotate\n",
      "DSA augmentation parameters: \n",
      " {'aug_mode': 'S', 'prob_flip': 0.5, 'ratio_scale': 1.2, 'ratio_rotate': 15.0, 'ratio_crop_pad': 0.125, 'ratio_cutout': 0.5, 'ratio_noise': 0.05, 'brightness': 1.0, 'saturation': 2.0, 'contrast': 0.5, 'batchmode': False, 'latestseed': -1}\n"
     ]
    },
    {
     "name": "stderr",
     "output_type": "stream",
     "text": [
      "100%|██████████████████████████████████████████████████████████████████████████████| 1001/1001 [00:12<00:00, 77.78it/s]\n"
     ]
    },
    {
     "name": "stdout",
     "output_type": "stream",
     "text": [
      "[2022-12-06 04:47:04] Evaluate_00: epoch = 1000 train time = 12 s train loss = 0.001859 train acc = 1.0000, test acc = 0.5880\n"
     ]
    },
    {
     "name": "stderr",
     "output_type": "stream",
     "text": [
      "100%|██████████████████████████████████████████████████████████████████████████████| 1001/1001 [00:12<00:00, 79.05it/s]\n"
     ]
    },
    {
     "name": "stdout",
     "output_type": "stream",
     "text": [
      "[2022-12-06 04:47:16] Evaluate_01: epoch = 1000 train time = 12 s train loss = 0.000197 train acc = 1.0000, test acc = 0.6008\n"
     ]
    },
    {
     "name": "stderr",
     "output_type": "stream",
     "text": [
      "100%|██████████████████████████████████████████████████████████████████████████████| 1001/1001 [00:12<00:00, 78.34it/s]\n"
     ]
    },
    {
     "name": "stdout",
     "output_type": "stream",
     "text": [
      "[2022-12-06 04:47:29] Evaluate_02: epoch = 1000 train time = 12 s train loss = 0.000273 train acc = 1.0000, test acc = 0.6138\n"
     ]
    },
    {
     "name": "stderr",
     "output_type": "stream",
     "text": [
      "100%|██████████████████████████████████████████████████████████████████████████████| 1001/1001 [00:12<00:00, 78.25it/s]\n"
     ]
    },
    {
     "name": "stdout",
     "output_type": "stream",
     "text": [
      "[2022-12-06 04:47:42] Evaluate_03: epoch = 1000 train time = 12 s train loss = 0.000476 train acc = 1.0000, test acc = 0.6107\n"
     ]
    },
    {
     "name": "stderr",
     "output_type": "stream",
     "text": [
      "100%|██████████████████████████████████████████████████████████████████████████████| 1001/1001 [00:12<00:00, 77.42it/s]\n"
     ]
    },
    {
     "name": "stdout",
     "output_type": "stream",
     "text": [
      "[2022-12-06 04:47:55] Evaluate_04: epoch = 1000 train time = 12 s train loss = 0.000475 train acc = 1.0000, test acc = 0.6058\n",
      "Evaluate 5 random ConvNet, mean = 0.6038 std = 0.0091\n",
      "-------------------------\n",
      "[2022-12-06 04:47:57] iter = 2600, loss = 0.8965\n",
      "loading file ./buffers\\CIFAR10_NO_ZCA\\ConvNet\\replay_buffer_2.pt\n",
      "[2022-12-06 04:48:20] iter = 2610, loss = 0.6827\n",
      "loading file ./buffers\\CIFAR10_NO_ZCA\\ConvNet\\replay_buffer_3.pt\n",
      "[2022-12-06 04:48:42] iter = 2620, loss = 0.8639\n",
      "loading file ./buffers\\CIFAR10_NO_ZCA\\ConvNet\\replay_buffer_4.pt\n",
      "[2022-12-06 04:49:04] iter = 2630, loss = 0.9003\n",
      "loading file ./buffers\\CIFAR10_NO_ZCA\\ConvNet\\replay_buffer_1.pt\n",
      "[2022-12-06 04:49:26] iter = 2640, loss = 0.7602\n",
      "loading file ./buffers\\CIFAR10_NO_ZCA\\ConvNet\\replay_buffer_4.pt\n",
      "[2022-12-06 04:49:48] iter = 2650, loss = 0.8153\n",
      "loading file ./buffers\\CIFAR10_NO_ZCA\\ConvNet\\replay_buffer_1.pt\n",
      "[2022-12-06 04:50:11] iter = 2660, loss = 0.7088\n",
      "loading file ./buffers\\CIFAR10_NO_ZCA\\ConvNet\\replay_buffer_2.pt\n",
      "[2022-12-06 04:50:33] iter = 2670, loss = 0.6002\n",
      "loading file ./buffers\\CIFAR10_NO_ZCA\\ConvNet\\replay_buffer_0.pt\n",
      "[2022-12-06 04:50:55] iter = 2680, loss = 0.7693\n",
      "loading file ./buffers\\CIFAR10_NO_ZCA\\ConvNet\\replay_buffer_3.pt\n",
      "[2022-12-06 04:51:17] iter = 2690, loss = 0.8930\n",
      "loading file ./buffers\\CIFAR10_NO_ZCA\\ConvNet\\replay_buffer_2.pt\n",
      "-------------------------\n",
      "Evaluation\n",
      "model_train = ConvNet, model_eval = ConvNet, iteration = 2700\n",
      "DSA augmentation strategy: \n",
      " color_crop_cutout_flip_scale_rotate\n",
      "DSA augmentation parameters: \n",
      " {'aug_mode': 'S', 'prob_flip': 0.5, 'ratio_scale': 1.2, 'ratio_rotate': 15.0, 'ratio_crop_pad': 0.125, 'ratio_cutout': 0.5, 'ratio_noise': 0.05, 'brightness': 1.0, 'saturation': 2.0, 'contrast': 0.5, 'batchmode': False, 'latestseed': -1}\n"
     ]
    },
    {
     "name": "stderr",
     "output_type": "stream",
     "text": [
      "100%|██████████████████████████████████████████████████████████████████████████████| 1001/1001 [00:12<00:00, 77.84it/s]\n"
     ]
    },
    {
     "name": "stdout",
     "output_type": "stream",
     "text": [
      "[2022-12-06 04:51:50] Evaluate_00: epoch = 1000 train time = 12 s train loss = 0.002082 train acc = 1.0000, test acc = 0.5938\n"
     ]
    },
    {
     "name": "stderr",
     "output_type": "stream",
     "text": [
      "100%|██████████████████████████████████████████████████████████████████████████████| 1001/1001 [00:12<00:00, 78.54it/s]\n"
     ]
    },
    {
     "name": "stdout",
     "output_type": "stream",
     "text": [
      "[2022-12-06 04:52:03] Evaluate_01: epoch = 1000 train time = 12 s train loss = 0.000439 train acc = 1.0000, test acc = 0.5835\n"
     ]
    },
    {
     "name": "stderr",
     "output_type": "stream",
     "text": [
      "100%|██████████████████████████████████████████████████████████████████████████████| 1001/1001 [00:12<00:00, 78.46it/s]\n"
     ]
    },
    {
     "name": "stdout",
     "output_type": "stream",
     "text": [
      "[2022-12-06 04:52:16] Evaluate_02: epoch = 1000 train time = 12 s train loss = 0.000868 train acc = 1.0000, test acc = 0.6103\n"
     ]
    },
    {
     "name": "stderr",
     "output_type": "stream",
     "text": [
      "100%|██████████████████████████████████████████████████████████████████████████████| 1001/1001 [00:12<00:00, 77.41it/s]\n"
     ]
    },
    {
     "name": "stdout",
     "output_type": "stream",
     "text": [
      "[2022-12-06 04:52:29] Evaluate_03: epoch = 1000 train time = 12 s train loss = 0.001669 train acc = 1.0000, test acc = 0.6000\n"
     ]
    },
    {
     "name": "stderr",
     "output_type": "stream",
     "text": [
      "100%|██████████████████████████████████████████████████████████████████████████████| 1001/1001 [00:12<00:00, 78.66it/s]\n"
     ]
    },
    {
     "name": "stdout",
     "output_type": "stream",
     "text": [
      "[2022-12-06 04:52:41] Evaluate_04: epoch = 1000 train time = 12 s train loss = 0.000610 train acc = 1.0000, test acc = 0.5931\n",
      "Evaluate 5 random ConvNet, mean = 0.5961 std = 0.0088\n",
      "-------------------------\n",
      "[2022-12-06 04:52:44] iter = 2700, loss = 0.7182\n",
      "loading file ./buffers\\CIFAR10_NO_ZCA\\ConvNet\\replay_buffer_0.pt\n",
      "[2022-12-06 04:53:06] iter = 2710, loss = 0.9021\n",
      "loading file ./buffers\\CIFAR10_NO_ZCA\\ConvNet\\replay_buffer_3.pt\n",
      "[2022-12-06 04:53:27] iter = 2720, loss = 0.6519\n",
      "loading file ./buffers\\CIFAR10_NO_ZCA\\ConvNet\\replay_buffer_4.pt\n",
      "[2022-12-06 04:53:50] iter = 2730, loss = 0.8901\n",
      "loading file ./buffers\\CIFAR10_NO_ZCA\\ConvNet\\replay_buffer_1.pt\n",
      "[2022-12-06 04:54:12] iter = 2740, loss = 0.6829\n",
      "loading file ./buffers\\CIFAR10_NO_ZCA\\ConvNet\\replay_buffer_3.pt\n",
      "[2022-12-06 04:54:34] iter = 2750, loss = 0.6871\n",
      "loading file ./buffers\\CIFAR10_NO_ZCA\\ConvNet\\replay_buffer_1.pt\n",
      "[2022-12-06 04:54:56] iter = 2760, loss = 0.8067\n",
      "loading file ./buffers\\CIFAR10_NO_ZCA\\ConvNet\\replay_buffer_0.pt\n",
      "[2022-12-06 04:55:18] iter = 2770, loss = 0.6250\n",
      "loading file ./buffers\\CIFAR10_NO_ZCA\\ConvNet\\replay_buffer_2.pt\n",
      "[2022-12-06 04:55:40] iter = 2780, loss = 0.5653\n",
      "loading file ./buffers\\CIFAR10_NO_ZCA\\ConvNet\\replay_buffer_4.pt\n",
      "[2022-12-06 04:56:02] iter = 2790, loss = 0.6530\n",
      "loading file ./buffers\\CIFAR10_NO_ZCA\\ConvNet\\replay_buffer_0.pt\n",
      "-------------------------\n",
      "Evaluation\n",
      "model_train = ConvNet, model_eval = ConvNet, iteration = 2800\n",
      "DSA augmentation strategy: \n",
      " color_crop_cutout_flip_scale_rotate\n",
      "DSA augmentation parameters: \n",
      " {'aug_mode': 'S', 'prob_flip': 0.5, 'ratio_scale': 1.2, 'ratio_rotate': 15.0, 'ratio_crop_pad': 0.125, 'ratio_cutout': 0.5, 'ratio_noise': 0.05, 'brightness': 1.0, 'saturation': 2.0, 'contrast': 0.5, 'batchmode': False, 'latestseed': -1}\n"
     ]
    },
    {
     "name": "stderr",
     "output_type": "stream",
     "text": [
      "100%|██████████████████████████████████████████████████████████████████████████████| 1001/1001 [00:12<00:00, 78.09it/s]\n"
     ]
    },
    {
     "name": "stdout",
     "output_type": "stream",
     "text": [
      "[2022-12-06 04:56:35] Evaluate_00: epoch = 1000 train time = 12 s train loss = 0.001625 train acc = 1.0000, test acc = 0.6057\n"
     ]
    },
    {
     "name": "stderr",
     "output_type": "stream",
     "text": [
      "100%|██████████████████████████████████████████████████████████████████████████████| 1001/1001 [00:12<00:00, 79.07it/s]\n"
     ]
    },
    {
     "name": "stdout",
     "output_type": "stream",
     "text": [
      "[2022-12-06 04:56:48] Evaluate_01: epoch = 1000 train time = 12 s train loss = 0.004089 train acc = 1.0000, test acc = 0.5864\n"
     ]
    },
    {
     "name": "stderr",
     "output_type": "stream",
     "text": [
      "100%|██████████████████████████████████████████████████████████████████████████████| 1001/1001 [00:12<00:00, 79.20it/s]\n"
     ]
    },
    {
     "name": "stdout",
     "output_type": "stream",
     "text": [
      "[2022-12-06 04:57:01] Evaluate_02: epoch = 1000 train time = 12 s train loss = 0.000128 train acc = 1.0000, test acc = 0.6126\n"
     ]
    },
    {
     "name": "stderr",
     "output_type": "stream",
     "text": [
      "100%|██████████████████████████████████████████████████████████████████████████████| 1001/1001 [00:12<00:00, 78.35it/s]\n"
     ]
    },
    {
     "name": "stdout",
     "output_type": "stream",
     "text": [
      "[2022-12-06 04:57:13] Evaluate_03: epoch = 1000 train time = 12 s train loss = 0.000421 train acc = 1.0000, test acc = 0.6050\n"
     ]
    },
    {
     "name": "stderr",
     "output_type": "stream",
     "text": [
      "100%|██████████████████████████████████████████████████████████████████████████████| 1001/1001 [00:13<00:00, 76.81it/s]\n"
     ]
    },
    {
     "name": "stdout",
     "output_type": "stream",
     "text": [
      "[2022-12-06 04:57:26] Evaluate_04: epoch = 1000 train time = 13 s train loss = 0.000330 train acc = 1.0000, test acc = 0.6007\n",
      "Evaluate 5 random ConvNet, mean = 0.6021 std = 0.0087\n",
      "-------------------------\n",
      "[2022-12-06 04:57:29] iter = 2800, loss = 0.5904\n",
      "loading file ./buffers\\CIFAR10_NO_ZCA\\ConvNet\\replay_buffer_4.pt\n",
      "[2022-12-06 04:57:51] iter = 2810, loss = 0.8468\n",
      "loading file ./buffers\\CIFAR10_NO_ZCA\\ConvNet\\replay_buffer_3.pt\n",
      "[2022-12-06 04:58:13] iter = 2820, loss = 0.9322\n",
      "loading file ./buffers\\CIFAR10_NO_ZCA\\ConvNet\\replay_buffer_2.pt\n",
      "[2022-12-06 04:58:34] iter = 2830, loss = 0.5342\n",
      "loading file ./buffers\\CIFAR10_NO_ZCA\\ConvNet\\replay_buffer_1.pt\n",
      "[2022-12-06 04:58:57] iter = 2840, loss = 0.5599\n",
      "loading file ./buffers\\CIFAR10_NO_ZCA\\ConvNet\\replay_buffer_0.pt\n",
      "[2022-12-06 04:59:19] iter = 2850, loss = 0.9143\n",
      "loading file ./buffers\\CIFAR10_NO_ZCA\\ConvNet\\replay_buffer_4.pt\n",
      "[2022-12-06 04:59:41] iter = 2860, loss = 0.6925\n",
      "loading file ./buffers\\CIFAR10_NO_ZCA\\ConvNet\\replay_buffer_1.pt\n",
      "[2022-12-06 05:00:03] iter = 2870, loss = 0.5411\n",
      "loading file ./buffers\\CIFAR10_NO_ZCA\\ConvNet\\replay_buffer_2.pt\n",
      "[2022-12-06 05:00:25] iter = 2880, loss = 0.6964\n",
      "loading file ./buffers\\CIFAR10_NO_ZCA\\ConvNet\\replay_buffer_3.pt\n",
      "[2022-12-06 05:00:47] iter = 2890, loss = 0.8646\n",
      "loading file ./buffers\\CIFAR10_NO_ZCA\\ConvNet\\replay_buffer_3.pt\n",
      "-------------------------\n",
      "Evaluation\n",
      "model_train = ConvNet, model_eval = ConvNet, iteration = 2900\n",
      "DSA augmentation strategy: \n",
      " color_crop_cutout_flip_scale_rotate\n",
      "DSA augmentation parameters: \n",
      " {'aug_mode': 'S', 'prob_flip': 0.5, 'ratio_scale': 1.2, 'ratio_rotate': 15.0, 'ratio_crop_pad': 0.125, 'ratio_cutout': 0.5, 'ratio_noise': 0.05, 'brightness': 1.0, 'saturation': 2.0, 'contrast': 0.5, 'batchmode': False, 'latestseed': -1}\n"
     ]
    },
    {
     "name": "stderr",
     "output_type": "stream",
     "text": [
      "100%|██████████████████████████████████████████████████████████████████████████████| 1001/1001 [00:12<00:00, 78.53it/s]\n"
     ]
    },
    {
     "name": "stdout",
     "output_type": "stream",
     "text": [
      "[2022-12-06 05:01:20] Evaluate_00: epoch = 1000 train time = 12 s train loss = 0.001406 train acc = 1.0000, test acc = 0.5974\n"
     ]
    },
    {
     "name": "stderr",
     "output_type": "stream",
     "text": [
      "100%|██████████████████████████████████████████████████████████████████████████████| 1001/1001 [00:12<00:00, 77.88it/s]\n"
     ]
    },
    {
     "name": "stdout",
     "output_type": "stream",
     "text": [
      "[2022-12-06 05:01:33] Evaluate_01: epoch = 1000 train time = 12 s train loss = 0.001482 train acc = 1.0000, test acc = 0.6161\n"
     ]
    },
    {
     "name": "stderr",
     "output_type": "stream",
     "text": [
      "100%|██████████████████████████████████████████████████████████████████████████████| 1001/1001 [00:12<00:00, 77.69it/s]\n"
     ]
    },
    {
     "name": "stdout",
     "output_type": "stream",
     "text": [
      "[2022-12-06 05:01:46] Evaluate_02: epoch = 1000 train time = 12 s train loss = 0.000487 train acc = 1.0000, test acc = 0.6032\n"
     ]
    },
    {
     "name": "stderr",
     "output_type": "stream",
     "text": [
      "100%|██████████████████████████████████████████████████████████████████████████████| 1001/1001 [00:12<00:00, 78.25it/s]\n"
     ]
    },
    {
     "name": "stdout",
     "output_type": "stream",
     "text": [
      "[2022-12-06 05:01:59] Evaluate_03: epoch = 1000 train time = 12 s train loss = 0.000523 train acc = 1.0000, test acc = 0.6094\n"
     ]
    },
    {
     "name": "stderr",
     "output_type": "stream",
     "text": [
      "100%|██████████████████████████████████████████████████████████████████████████████| 1001/1001 [00:12<00:00, 78.85it/s]\n"
     ]
    },
    {
     "name": "stdout",
     "output_type": "stream",
     "text": [
      "[2022-12-06 05:02:12] Evaluate_04: epoch = 1000 train time = 12 s train loss = 0.000551 train acc = 1.0000, test acc = 0.6077\n",
      "Evaluate 5 random ConvNet, mean = 0.6068 std = 0.0063\n",
      "-------------------------\n",
      "[2022-12-06 05:02:14] iter = 2900, loss = 0.9254\n",
      "loading file ./buffers\\CIFAR10_NO_ZCA\\ConvNet\\replay_buffer_2.pt\n",
      "[2022-12-06 05:02:36] iter = 2910, loss = 0.5860\n",
      "loading file ./buffers\\CIFAR10_NO_ZCA\\ConvNet\\replay_buffer_0.pt\n",
      "[2022-12-06 05:02:58] iter = 2920, loss = 0.6528\n",
      "loading file ./buffers\\CIFAR10_NO_ZCA\\ConvNet\\replay_buffer_1.pt\n",
      "[2022-12-06 05:03:20] iter = 2930, loss = 0.7195\n",
      "loading file ./buffers\\CIFAR10_NO_ZCA\\ConvNet\\replay_buffer_4.pt\n",
      "[2022-12-06 05:03:42] iter = 2940, loss = 0.8389\n",
      "loading file ./buffers\\CIFAR10_NO_ZCA\\ConvNet\\replay_buffer_4.pt\n",
      "[2022-12-06 05:04:04] iter = 2950, loss = 0.9224\n",
      "loading file ./buffers\\CIFAR10_NO_ZCA\\ConvNet\\replay_buffer_3.pt\n",
      "[2022-12-06 05:04:27] iter = 2960, loss = 0.5656\n",
      "loading file ./buffers\\CIFAR10_NO_ZCA\\ConvNet\\replay_buffer_2.pt\n",
      "[2022-12-06 05:04:49] iter = 2970, loss = 0.9037\n",
      "loading file ./buffers\\CIFAR10_NO_ZCA\\ConvNet\\replay_buffer_0.pt\n",
      "[2022-12-06 05:05:11] iter = 2980, loss = 0.8141\n",
      "loading file ./buffers\\CIFAR10_NO_ZCA\\ConvNet\\replay_buffer_1.pt\n",
      "[2022-12-06 05:05:33] iter = 2990, loss = 0.9367\n",
      "loading file ./buffers\\CIFAR10_NO_ZCA\\ConvNet\\replay_buffer_4.pt\n",
      "-------------------------\n",
      "Evaluation\n",
      "model_train = ConvNet, model_eval = ConvNet, iteration = 3000\n",
      "DSA augmentation strategy: \n",
      " color_crop_cutout_flip_scale_rotate\n",
      "DSA augmentation parameters: \n",
      " {'aug_mode': 'S', 'prob_flip': 0.5, 'ratio_scale': 1.2, 'ratio_rotate': 15.0, 'ratio_crop_pad': 0.125, 'ratio_cutout': 0.5, 'ratio_noise': 0.05, 'brightness': 1.0, 'saturation': 2.0, 'contrast': 0.5, 'batchmode': False, 'latestseed': -1}\n"
     ]
    },
    {
     "name": "stderr",
     "output_type": "stream",
     "text": [
      "100%|██████████████████████████████████████████████████████████████████████████████| 1001/1001 [00:12<00:00, 78.68it/s]\n"
     ]
    },
    {
     "name": "stdout",
     "output_type": "stream",
     "text": [
      "[2022-12-06 05:06:06] Evaluate_00: epoch = 1000 train time = 12 s train loss = 0.000257 train acc = 1.0000, test acc = 0.6249\n"
     ]
    },
    {
     "name": "stderr",
     "output_type": "stream",
     "text": [
      "100%|██████████████████████████████████████████████████████████████████████████████| 1001/1001 [00:12<00:00, 78.70it/s]\n"
     ]
    },
    {
     "name": "stdout",
     "output_type": "stream",
     "text": [
      "[2022-12-06 05:06:19] Evaluate_01: epoch = 1000 train time = 12 s train loss = 0.000522 train acc = 1.0000, test acc = 0.6111\n"
     ]
    },
    {
     "name": "stderr",
     "output_type": "stream",
     "text": [
      "100%|██████████████████████████████████████████████████████████████████████████████| 1001/1001 [00:12<00:00, 77.62it/s]\n"
     ]
    },
    {
     "name": "stdout",
     "output_type": "stream",
     "text": [
      "[2022-12-06 05:06:32] Evaluate_02: epoch = 1000 train time = 12 s train loss = 0.001657 train acc = 1.0000, test acc = 0.6107\n"
     ]
    },
    {
     "name": "stderr",
     "output_type": "stream",
     "text": [
      "100%|██████████████████████████████████████████████████████████████████████████████| 1001/1001 [00:12<00:00, 78.99it/s]\n"
     ]
    },
    {
     "name": "stdout",
     "output_type": "stream",
     "text": [
      "[2022-12-06 05:06:44] Evaluate_03: epoch = 1000 train time = 12 s train loss = 0.000456 train acc = 1.0000, test acc = 0.6160\n"
     ]
    },
    {
     "name": "stderr",
     "output_type": "stream",
     "text": [
      "100%|██████████████████████████████████████████████████████████████████████████████| 1001/1001 [00:12<00:00, 78.86it/s]\n"
     ]
    },
    {
     "name": "stdout",
     "output_type": "stream",
     "text": [
      "[2022-12-06 05:06:57] Evaluate_04: epoch = 1000 train time = 12 s train loss = 0.003775 train acc = 1.0000, test acc = 0.6157\n",
      "Evaluate 5 random ConvNet, mean = 0.6157 std = 0.0051\n",
      "-------------------------\n",
      "[2022-12-06 05:07:00] iter = 3000, loss = 0.5212\n",
      "loading file ./buffers\\CIFAR10_NO_ZCA\\ConvNet\\replay_buffer_0.pt\n",
      "[2022-12-06 05:07:22] iter = 3010, loss = 0.8835\n",
      "loading file ./buffers\\CIFAR10_NO_ZCA\\ConvNet\\replay_buffer_2.pt\n",
      "[2022-12-06 05:07:44] iter = 3020, loss = 0.9026\n",
      "loading file ./buffers\\CIFAR10_NO_ZCA\\ConvNet\\replay_buffer_1.pt\n",
      "[2022-12-06 05:08:06] iter = 3030, loss = 0.9273\n",
      "loading file ./buffers\\CIFAR10_NO_ZCA\\ConvNet\\replay_buffer_3.pt\n",
      "[2022-12-06 05:08:28] iter = 3040, loss = 0.8961\n",
      "loading file ./buffers\\CIFAR10_NO_ZCA\\ConvNet\\replay_buffer_2.pt\n",
      "[2022-12-06 05:08:50] iter = 3050, loss = 0.9148\n",
      "loading file ./buffers\\CIFAR10_NO_ZCA\\ConvNet\\replay_buffer_0.pt\n",
      "[2022-12-06 05:09:12] iter = 3060, loss = 0.9139\n",
      "loading file ./buffers\\CIFAR10_NO_ZCA\\ConvNet\\replay_buffer_4.pt\n",
      "[2022-12-06 05:09:34] iter = 3070, loss = 0.9211\n",
      "loading file ./buffers\\CIFAR10_NO_ZCA\\ConvNet\\replay_buffer_1.pt\n",
      "[2022-12-06 05:09:56] iter = 3080, loss = 0.7822\n",
      "loading file ./buffers\\CIFAR10_NO_ZCA\\ConvNet\\replay_buffer_3.pt\n",
      "[2022-12-06 05:10:18] iter = 3090, loss = 0.7477\n",
      "loading file ./buffers\\CIFAR10_NO_ZCA\\ConvNet\\replay_buffer_1.pt\n",
      "-------------------------\n",
      "Evaluation\n",
      "model_train = ConvNet, model_eval = ConvNet, iteration = 3100\n",
      "DSA augmentation strategy: \n",
      " color_crop_cutout_flip_scale_rotate\n",
      "DSA augmentation parameters: \n",
      " {'aug_mode': 'S', 'prob_flip': 0.5, 'ratio_scale': 1.2, 'ratio_rotate': 15.0, 'ratio_crop_pad': 0.125, 'ratio_cutout': 0.5, 'ratio_noise': 0.05, 'brightness': 1.0, 'saturation': 2.0, 'contrast': 0.5, 'batchmode': False, 'latestseed': -1}\n"
     ]
    },
    {
     "name": "stderr",
     "output_type": "stream",
     "text": [
      "100%|██████████████████████████████████████████████████████████████████████████████| 1001/1001 [00:12<00:00, 78.72it/s]\n"
     ]
    },
    {
     "name": "stdout",
     "output_type": "stream",
     "text": [
      "[2022-12-06 05:10:51] Evaluate_00: epoch = 1000 train time = 12 s train loss = 0.001339 train acc = 1.0000, test acc = 0.6160\n"
     ]
    },
    {
     "name": "stderr",
     "output_type": "stream",
     "text": [
      "100%|██████████████████████████████████████████████████████████████████████████████| 1001/1001 [00:12<00:00, 78.87it/s]\n"
     ]
    },
    {
     "name": "stdout",
     "output_type": "stream",
     "text": [
      "[2022-12-06 05:11:03] Evaluate_01: epoch = 1000 train time = 12 s train loss = 0.000514 train acc = 1.0000, test acc = 0.6166\n"
     ]
    },
    {
     "name": "stderr",
     "output_type": "stream",
     "text": [
      "100%|██████████████████████████████████████████████████████████████████████████████| 1001/1001 [00:12<00:00, 78.73it/s]\n"
     ]
    },
    {
     "name": "stdout",
     "output_type": "stream",
     "text": [
      "[2022-12-06 05:11:16] Evaluate_02: epoch = 1000 train time = 12 s train loss = 0.000495 train acc = 1.0000, test acc = 0.6216\n"
     ]
    },
    {
     "name": "stderr",
     "output_type": "stream",
     "text": [
      "100%|██████████████████████████████████████████████████████████████████████████████| 1001/1001 [00:12<00:00, 78.64it/s]\n"
     ]
    },
    {
     "name": "stdout",
     "output_type": "stream",
     "text": [
      "[2022-12-06 05:11:29] Evaluate_03: epoch = 1000 train time = 12 s train loss = 0.000095 train acc = 1.0000, test acc = 0.6036\n"
     ]
    },
    {
     "name": "stderr",
     "output_type": "stream",
     "text": [
      "100%|██████████████████████████████████████████████████████████████████████████████| 1001/1001 [00:12<00:00, 78.80it/s]\n"
     ]
    },
    {
     "name": "stdout",
     "output_type": "stream",
     "text": [
      "[2022-12-06 05:11:42] Evaluate_04: epoch = 1000 train time = 12 s train loss = 0.000149 train acc = 1.0000, test acc = 0.6136\n",
      "Evaluate 5 random ConvNet, mean = 0.6143 std = 0.0059\n",
      "-------------------------\n",
      "[2022-12-06 05:11:44] iter = 3100, loss = 0.9194\n",
      "loading file ./buffers\\CIFAR10_NO_ZCA\\ConvNet\\replay_buffer_2.pt\n",
      "[2022-12-06 05:12:06] iter = 3110, loss = 0.5932\n",
      "loading file ./buffers\\CIFAR10_NO_ZCA\\ConvNet\\replay_buffer_4.pt\n",
      "[2022-12-06 05:12:28] iter = 3120, loss = 0.9127\n",
      "loading file ./buffers\\CIFAR10_NO_ZCA\\ConvNet\\replay_buffer_0.pt\n",
      "[2022-12-06 05:12:50] iter = 3130, loss = 0.6519\n",
      "loading file ./buffers\\CIFAR10_NO_ZCA\\ConvNet\\replay_buffer_3.pt\n",
      "[2022-12-06 05:13:13] iter = 3140, loss = 0.9066\n",
      "loading file ./buffers\\CIFAR10_NO_ZCA\\ConvNet\\replay_buffer_2.pt\n",
      "[2022-12-06 05:13:35] iter = 3150, loss = 0.5894\n",
      "loading file ./buffers\\CIFAR10_NO_ZCA\\ConvNet\\replay_buffer_0.pt\n",
      "[2022-12-06 05:13:57] iter = 3160, loss = 0.5710\n",
      "loading file ./buffers\\CIFAR10_NO_ZCA\\ConvNet\\replay_buffer_1.pt\n",
      "[2022-12-06 05:14:19] iter = 3170, loss = 0.6063\n",
      "loading file ./buffers\\CIFAR10_NO_ZCA\\ConvNet\\replay_buffer_4.pt\n",
      "[2022-12-06 05:14:41] iter = 3180, loss = 0.6250\n",
      "loading file ./buffers\\CIFAR10_NO_ZCA\\ConvNet\\replay_buffer_3.pt\n",
      "[2022-12-06 05:15:03] iter = 3190, loss = 0.7218\n",
      "loading file ./buffers\\CIFAR10_NO_ZCA\\ConvNet\\replay_buffer_0.pt\n",
      "-------------------------\n",
      "Evaluation\n",
      "model_train = ConvNet, model_eval = ConvNet, iteration = 3200\n",
      "DSA augmentation strategy: \n",
      " color_crop_cutout_flip_scale_rotate\n",
      "DSA augmentation parameters: \n",
      " {'aug_mode': 'S', 'prob_flip': 0.5, 'ratio_scale': 1.2, 'ratio_rotate': 15.0, 'ratio_crop_pad': 0.125, 'ratio_cutout': 0.5, 'ratio_noise': 0.05, 'brightness': 1.0, 'saturation': 2.0, 'contrast': 0.5, 'batchmode': False, 'latestseed': -1}\n"
     ]
    },
    {
     "name": "stderr",
     "output_type": "stream",
     "text": [
      "100%|██████████████████████████████████████████████████████████████████████████████| 1001/1001 [00:12<00:00, 78.66it/s]\n"
     ]
    },
    {
     "name": "stdout",
     "output_type": "stream",
     "text": [
      "[2022-12-06 05:15:35] Evaluate_00: epoch = 1000 train time = 12 s train loss = 0.002314 train acc = 1.0000, test acc = 0.6105\n"
     ]
    },
    {
     "name": "stderr",
     "output_type": "stream",
     "text": [
      "100%|██████████████████████████████████████████████████████████████████████████████| 1001/1001 [00:12<00:00, 78.94it/s]\n"
     ]
    },
    {
     "name": "stdout",
     "output_type": "stream",
     "text": [
      "[2022-12-06 05:15:48] Evaluate_01: epoch = 1000 train time = 12 s train loss = 0.000578 train acc = 1.0000, test acc = 0.6108\n"
     ]
    },
    {
     "name": "stderr",
     "output_type": "stream",
     "text": [
      "100%|██████████████████████████████████████████████████████████████████████████████| 1001/1001 [00:12<00:00, 77.57it/s]\n"
     ]
    },
    {
     "name": "stdout",
     "output_type": "stream",
     "text": [
      "[2022-12-06 05:16:01] Evaluate_02: epoch = 1000 train time = 12 s train loss = 0.001245 train acc = 1.0000, test acc = 0.6087\n"
     ]
    },
    {
     "name": "stderr",
     "output_type": "stream",
     "text": [
      "100%|██████████████████████████████████████████████████████████████████████████████| 1001/1001 [00:12<00:00, 78.82it/s]\n"
     ]
    },
    {
     "name": "stdout",
     "output_type": "stream",
     "text": [
      "[2022-12-06 05:16:14] Evaluate_03: epoch = 1000 train time = 12 s train loss = 0.000561 train acc = 1.0000, test acc = 0.6143\n"
     ]
    },
    {
     "name": "stderr",
     "output_type": "stream",
     "text": [
      "100%|██████████████████████████████████████████████████████████████████████████████| 1001/1001 [00:12<00:00, 78.94it/s]\n"
     ]
    },
    {
     "name": "stdout",
     "output_type": "stream",
     "text": [
      "[2022-12-06 05:16:27] Evaluate_04: epoch = 1000 train time = 12 s train loss = 0.004046 train acc = 1.0000, test acc = 0.6082\n",
      "Evaluate 5 random ConvNet, mean = 0.6105 std = 0.0021\n",
      "-------------------------\n",
      "[2022-12-06 05:16:29] iter = 3200, loss = 0.8942\n",
      "loading file ./buffers\\CIFAR10_NO_ZCA\\ConvNet\\replay_buffer_4.pt\n",
      "[2022-12-06 05:16:51] iter = 3210, loss = 0.8294\n",
      "loading file ./buffers\\CIFAR10_NO_ZCA\\ConvNet\\replay_buffer_2.pt\n",
      "[2022-12-06 05:17:13] iter = 3220, loss = 0.8304\n",
      "loading file ./buffers\\CIFAR10_NO_ZCA\\ConvNet\\replay_buffer_1.pt\n",
      "[2022-12-06 05:17:35] iter = 3230, loss = 0.8477\n",
      "loading file ./buffers\\CIFAR10_NO_ZCA\\ConvNet\\replay_buffer_3.pt\n",
      "[2022-12-06 05:17:58] iter = 3240, loss = 0.9344\n",
      "loading file ./buffers\\CIFAR10_NO_ZCA\\ConvNet\\replay_buffer_4.pt\n",
      "[2022-12-06 05:18:19] iter = 3250, loss = 0.9290\n",
      "loading file ./buffers\\CIFAR10_NO_ZCA\\ConvNet\\replay_buffer_0.pt\n",
      "[2022-12-06 05:18:41] iter = 3260, loss = 0.5591\n",
      "loading file ./buffers\\CIFAR10_NO_ZCA\\ConvNet\\replay_buffer_1.pt\n",
      "[2022-12-06 05:19:03] iter = 3270, loss = 0.5606\n",
      "loading file ./buffers\\CIFAR10_NO_ZCA\\ConvNet\\replay_buffer_3.pt\n",
      "[2022-12-06 05:19:26] iter = 3280, loss = 0.9325\n",
      "loading file ./buffers\\CIFAR10_NO_ZCA\\ConvNet\\replay_buffer_2.pt\n",
      "[2022-12-06 05:19:48] iter = 3290, loss = 0.8807\n",
      "loading file ./buffers\\CIFAR10_NO_ZCA\\ConvNet\\replay_buffer_1.pt\n",
      "-------------------------\n",
      "Evaluation\n",
      "model_train = ConvNet, model_eval = ConvNet, iteration = 3300\n",
      "DSA augmentation strategy: \n",
      " color_crop_cutout_flip_scale_rotate\n",
      "DSA augmentation parameters: \n",
      " {'aug_mode': 'S', 'prob_flip': 0.5, 'ratio_scale': 1.2, 'ratio_rotate': 15.0, 'ratio_crop_pad': 0.125, 'ratio_cutout': 0.5, 'ratio_noise': 0.05, 'brightness': 1.0, 'saturation': 2.0, 'contrast': 0.5, 'batchmode': False, 'latestseed': -1}\n"
     ]
    },
    {
     "name": "stderr",
     "output_type": "stream",
     "text": [
      "100%|██████████████████████████████████████████████████████████████████████████████| 1001/1001 [00:12<00:00, 79.19it/s]\n"
     ]
    },
    {
     "name": "stdout",
     "output_type": "stream",
     "text": [
      "[2022-12-06 05:20:20] Evaluate_00: epoch = 1000 train time = 12 s train loss = 0.000569 train acc = 1.0000, test acc = 0.6051\n"
     ]
    },
    {
     "name": "stderr",
     "output_type": "stream",
     "text": [
      "100%|██████████████████████████████████████████████████████████████████████████████| 1001/1001 [00:12<00:00, 78.98it/s]\n"
     ]
    },
    {
     "name": "stdout",
     "output_type": "stream",
     "text": [
      "[2022-12-06 05:20:33] Evaluate_01: epoch = 1000 train time = 12 s train loss = 0.000339 train acc = 1.0000, test acc = 0.6124\n"
     ]
    },
    {
     "name": "stderr",
     "output_type": "stream",
     "text": [
      "100%|██████████████████████████████████████████████████████████████████████████████| 1001/1001 [00:12<00:00, 78.37it/s]\n"
     ]
    },
    {
     "name": "stdout",
     "output_type": "stream",
     "text": [
      "[2022-12-06 05:20:46] Evaluate_02: epoch = 1000 train time = 12 s train loss = 0.004058 train acc = 1.0000, test acc = 0.6092\n"
     ]
    },
    {
     "name": "stderr",
     "output_type": "stream",
     "text": [
      "100%|██████████████████████████████████████████████████████████████████████████████| 1001/1001 [00:12<00:00, 78.87it/s]\n"
     ]
    },
    {
     "name": "stdout",
     "output_type": "stream",
     "text": [
      "[2022-12-06 05:20:59] Evaluate_03: epoch = 1000 train time = 12 s train loss = 0.000475 train acc = 1.0000, test acc = 0.6058\n"
     ]
    },
    {
     "name": "stderr",
     "output_type": "stream",
     "text": [
      "100%|██████████████████████████████████████████████████████████████████████████████| 1001/1001 [00:12<00:00, 77.57it/s]\n"
     ]
    },
    {
     "name": "stdout",
     "output_type": "stream",
     "text": [
      "[2022-12-06 05:21:12] Evaluate_04: epoch = 1000 train time = 12 s train loss = 0.001008 train acc = 1.0000, test acc = 0.6012\n",
      "Evaluate 5 random ConvNet, mean = 0.6067 std = 0.0038\n",
      "-------------------------\n",
      "[2022-12-06 05:21:14] iter = 3300, loss = 0.9229\n",
      "loading file ./buffers\\CIFAR10_NO_ZCA\\ConvNet\\replay_buffer_4.pt\n",
      "[2022-12-06 05:21:36] iter = 3310, loss = 0.5982\n",
      "loading file ./buffers\\CIFAR10_NO_ZCA\\ConvNet\\replay_buffer_3.pt\n",
      "[2022-12-06 05:21:58] iter = 3320, loss = 0.8972\n",
      "loading file ./buffers\\CIFAR10_NO_ZCA\\ConvNet\\replay_buffer_0.pt\n",
      "[2022-12-06 05:22:20] iter = 3330, loss = 0.7345\n",
      "loading file ./buffers\\CIFAR10_NO_ZCA\\ConvNet\\replay_buffer_2.pt\n",
      "[2022-12-06 05:22:42] iter = 3340, loss = 0.8559\n",
      "loading file ./buffers\\CIFAR10_NO_ZCA\\ConvNet\\replay_buffer_0.pt\n",
      "[2022-12-06 05:23:04] iter = 3350, loss = 0.8845\n",
      "loading file ./buffers\\CIFAR10_NO_ZCA\\ConvNet\\replay_buffer_1.pt\n",
      "[2022-12-06 05:23:26] iter = 3360, loss = 0.6437\n",
      "loading file ./buffers\\CIFAR10_NO_ZCA\\ConvNet\\replay_buffer_4.pt\n",
      "[2022-12-06 05:23:48] iter = 3370, loss = 0.5805\n",
      "loading file ./buffers\\CIFAR10_NO_ZCA\\ConvNet\\replay_buffer_3.pt\n",
      "[2022-12-06 05:24:10] iter = 3380, loss = 0.6166\n",
      "loading file ./buffers\\CIFAR10_NO_ZCA\\ConvNet\\replay_buffer_2.pt\n",
      "[2022-12-06 05:24:32] iter = 3390, loss = 0.9287\n",
      "loading file ./buffers\\CIFAR10_NO_ZCA\\ConvNet\\replay_buffer_4.pt\n",
      "-------------------------\n",
      "Evaluation\n",
      "model_train = ConvNet, model_eval = ConvNet, iteration = 3400\n",
      "DSA augmentation strategy: \n",
      " color_crop_cutout_flip_scale_rotate\n",
      "DSA augmentation parameters: \n",
      " {'aug_mode': 'S', 'prob_flip': 0.5, 'ratio_scale': 1.2, 'ratio_rotate': 15.0, 'ratio_crop_pad': 0.125, 'ratio_cutout': 0.5, 'ratio_noise': 0.05, 'brightness': 1.0, 'saturation': 2.0, 'contrast': 0.5, 'batchmode': False, 'latestseed': -1}\n"
     ]
    },
    {
     "name": "stderr",
     "output_type": "stream",
     "text": [
      "100%|██████████████████████████████████████████████████████████████████████████████| 1001/1001 [00:12<00:00, 77.73it/s]\n"
     ]
    },
    {
     "name": "stdout",
     "output_type": "stream",
     "text": [
      "[2022-12-06 05:25:05] Evaluate_00: epoch = 1000 train time = 12 s train loss = 0.003006 train acc = 1.0000, test acc = 0.6019\n"
     ]
    },
    {
     "name": "stderr",
     "output_type": "stream",
     "text": [
      "100%|██████████████████████████████████████████████████████████████████████████████| 1001/1001 [00:12<00:00, 78.66it/s]\n"
     ]
    },
    {
     "name": "stdout",
     "output_type": "stream",
     "text": [
      "[2022-12-06 05:25:18] Evaluate_01: epoch = 1000 train time = 12 s train loss = 0.000527 train acc = 1.0000, test acc = 0.6129\n"
     ]
    },
    {
     "name": "stderr",
     "output_type": "stream",
     "text": [
      "100%|██████████████████████████████████████████████████████████████████████████████| 1001/1001 [00:12<00:00, 79.00it/s]\n"
     ]
    },
    {
     "name": "stdout",
     "output_type": "stream",
     "text": [
      "[2022-12-06 05:25:31] Evaluate_02: epoch = 1000 train time = 12 s train loss = 0.000433 train acc = 1.0000, test acc = 0.6037\n"
     ]
    },
    {
     "name": "stderr",
     "output_type": "stream",
     "text": [
      "100%|██████████████████████████████████████████████████████████████████████████████| 1001/1001 [00:12<00:00, 78.81it/s]\n"
     ]
    },
    {
     "name": "stdout",
     "output_type": "stream",
     "text": [
      "[2022-12-06 05:25:44] Evaluate_03: epoch = 1000 train time = 12 s train loss = 0.004324 train acc = 1.0000, test acc = 0.5868\n"
     ]
    },
    {
     "name": "stderr",
     "output_type": "stream",
     "text": [
      "100%|██████████████████████████████████████████████████████████████████████████████| 1001/1001 [00:12<00:00, 77.56it/s]\n"
     ]
    },
    {
     "name": "stdout",
     "output_type": "stream",
     "text": [
      "[2022-12-06 05:25:57] Evaluate_04: epoch = 1000 train time = 12 s train loss = 0.000287 train acc = 1.0000, test acc = 0.6075\n",
      "Evaluate 5 random ConvNet, mean = 0.6026 std = 0.0087\n",
      "-------------------------\n",
      "[2022-12-06 05:25:59] iter = 3400, loss = 0.8575\n",
      "loading file ./buffers\\CIFAR10_NO_ZCA\\ConvNet\\replay_buffer_1.pt\n",
      "[2022-12-06 05:26:21] iter = 3410, loss = 0.7372\n",
      "loading file ./buffers\\CIFAR10_NO_ZCA\\ConvNet\\replay_buffer_2.pt\n",
      "[2022-12-06 05:26:43] iter = 3420, loss = 0.8742\n",
      "loading file ./buffers\\CIFAR10_NO_ZCA\\ConvNet\\replay_buffer_0.pt\n",
      "[2022-12-06 05:27:05] iter = 3430, loss = 0.8796\n",
      "loading file ./buffers\\CIFAR10_NO_ZCA\\ConvNet\\replay_buffer_3.pt\n",
      "[2022-12-06 05:27:27] iter = 3440, loss = 0.8819\n",
      "loading file ./buffers\\CIFAR10_NO_ZCA\\ConvNet\\replay_buffer_1.pt\n",
      "[2022-12-06 05:27:50] iter = 3450, loss = 0.9157\n",
      "loading file ./buffers\\CIFAR10_NO_ZCA\\ConvNet\\replay_buffer_0.pt\n",
      "[2022-12-06 05:28:11] iter = 3460, loss = 0.8985\n",
      "loading file ./buffers\\CIFAR10_NO_ZCA\\ConvNet\\replay_buffer_4.pt\n",
      "[2022-12-06 05:28:34] iter = 3470, loss = 0.7259\n",
      "loading file ./buffers\\CIFAR10_NO_ZCA\\ConvNet\\replay_buffer_3.pt\n",
      "[2022-12-06 05:28:56] iter = 3480, loss = 0.8539\n",
      "loading file ./buffers\\CIFAR10_NO_ZCA\\ConvNet\\replay_buffer_2.pt\n",
      "[2022-12-06 05:29:18] iter = 3490, loss = 0.5614\n",
      "loading file ./buffers\\CIFAR10_NO_ZCA\\ConvNet\\replay_buffer_0.pt\n",
      "-------------------------\n",
      "Evaluation\n",
      "model_train = ConvNet, model_eval = ConvNet, iteration = 3500\n",
      "DSA augmentation strategy: \n",
      " color_crop_cutout_flip_scale_rotate\n",
      "DSA augmentation parameters: \n",
      " {'aug_mode': 'S', 'prob_flip': 0.5, 'ratio_scale': 1.2, 'ratio_rotate': 15.0, 'ratio_crop_pad': 0.125, 'ratio_cutout': 0.5, 'ratio_noise': 0.05, 'brightness': 1.0, 'saturation': 2.0, 'contrast': 0.5, 'batchmode': False, 'latestseed': -1}\n"
     ]
    },
    {
     "name": "stderr",
     "output_type": "stream",
     "text": [
      "100%|██████████████████████████████████████████████████████████████████████████████| 1001/1001 [00:12<00:00, 78.80it/s]\n"
     ]
    },
    {
     "name": "stdout",
     "output_type": "stream",
     "text": [
      "[2022-12-06 05:29:51] Evaluate_00: epoch = 1000 train time = 12 s train loss = 0.000402 train acc = 1.0000, test acc = 0.6181\n"
     ]
    },
    {
     "name": "stderr",
     "output_type": "stream",
     "text": [
      "100%|██████████████████████████████████████████████████████████████████████████████| 1001/1001 [00:12<00:00, 78.99it/s]\n"
     ]
    },
    {
     "name": "stdout",
     "output_type": "stream",
     "text": [
      "[2022-12-06 05:30:03] Evaluate_01: epoch = 1000 train time = 12 s train loss = 0.000246 train acc = 1.0000, test acc = 0.6083\n"
     ]
    },
    {
     "name": "stderr",
     "output_type": "stream",
     "text": [
      "100%|██████████████████████████████████████████████████████████████████████████████| 1001/1001 [00:12<00:00, 77.61it/s]\n"
     ]
    },
    {
     "name": "stdout",
     "output_type": "stream",
     "text": [
      "[2022-12-06 05:30:16] Evaluate_02: epoch = 1000 train time = 12 s train loss = 0.000759 train acc = 1.0000, test acc = 0.6144\n"
     ]
    },
    {
     "name": "stderr",
     "output_type": "stream",
     "text": [
      "100%|██████████████████████████████████████████████████████████████████████████████| 1001/1001 [00:12<00:00, 78.67it/s]\n"
     ]
    },
    {
     "name": "stdout",
     "output_type": "stream",
     "text": [
      "[2022-12-06 05:30:29] Evaluate_03: epoch = 1000 train time = 12 s train loss = 0.000501 train acc = 1.0000, test acc = 0.6081\n"
     ]
    },
    {
     "name": "stderr",
     "output_type": "stream",
     "text": [
      "100%|██████████████████████████████████████████████████████████████████████████████| 1001/1001 [00:12<00:00, 78.34it/s]\n"
     ]
    },
    {
     "name": "stdout",
     "output_type": "stream",
     "text": [
      "[2022-12-06 05:30:42] Evaluate_04: epoch = 1000 train time = 12 s train loss = 0.003263 train acc = 1.0000, test acc = 0.6096\n",
      "Evaluate 5 random ConvNet, mean = 0.6117 std = 0.0039\n",
      "-------------------------\n",
      "[2022-12-06 05:30:44] iter = 3500, loss = 0.6933\n",
      "loading file ./buffers\\CIFAR10_NO_ZCA\\ConvNet\\replay_buffer_2.pt\n",
      "[2022-12-06 05:31:06] iter = 3510, loss = 0.8800\n",
      "loading file ./buffers\\CIFAR10_NO_ZCA\\ConvNet\\replay_buffer_3.pt\n",
      "[2022-12-06 05:31:29] iter = 3520, loss = 0.9179\n",
      "loading file ./buffers\\CIFAR10_NO_ZCA\\ConvNet\\replay_buffer_1.pt\n",
      "[2022-12-06 05:31:50] iter = 3530, loss = 0.8510\n",
      "loading file ./buffers\\CIFAR10_NO_ZCA\\ConvNet\\replay_buffer_4.pt\n",
      "[2022-12-06 05:32:13] iter = 3540, loss = 0.7739\n",
      "loading file ./buffers\\CIFAR10_NO_ZCA\\ConvNet\\replay_buffer_1.pt\n",
      "[2022-12-06 05:32:35] iter = 3550, loss = 0.6247\n",
      "loading file ./buffers\\CIFAR10_NO_ZCA\\ConvNet\\replay_buffer_3.pt\n",
      "[2022-12-06 05:32:57] iter = 3560, loss = 0.6343\n",
      "loading file ./buffers\\CIFAR10_NO_ZCA\\ConvNet\\replay_buffer_2.pt\n",
      "[2022-12-06 05:33:20] iter = 3570, loss = 0.7239\n",
      "loading file ./buffers\\CIFAR10_NO_ZCA\\ConvNet\\replay_buffer_0.pt\n",
      "[2022-12-06 05:33:42] iter = 3580, loss = 0.8707\n",
      "loading file ./buffers\\CIFAR10_NO_ZCA\\ConvNet\\replay_buffer_4.pt\n",
      "[2022-12-06 05:34:04] iter = 3590, loss = 0.8886\n",
      "loading file ./buffers\\CIFAR10_NO_ZCA\\ConvNet\\replay_buffer_2.pt\n",
      "-------------------------\n",
      "Evaluation\n",
      "model_train = ConvNet, model_eval = ConvNet, iteration = 3600\n",
      "DSA augmentation strategy: \n",
      " color_crop_cutout_flip_scale_rotate\n",
      "DSA augmentation parameters: \n",
      " {'aug_mode': 'S', 'prob_flip': 0.5, 'ratio_scale': 1.2, 'ratio_rotate': 15.0, 'ratio_crop_pad': 0.125, 'ratio_cutout': 0.5, 'ratio_noise': 0.05, 'brightness': 1.0, 'saturation': 2.0, 'contrast': 0.5, 'batchmode': False, 'latestseed': -1}\n"
     ]
    },
    {
     "name": "stderr",
     "output_type": "stream",
     "text": [
      "100%|██████████████████████████████████████████████████████████████████████████████| 1001/1001 [00:12<00:00, 78.40it/s]\n"
     ]
    },
    {
     "name": "stdout",
     "output_type": "stream",
     "text": [
      "[2022-12-06 05:34:37] Evaluate_00: epoch = 1000 train time = 12 s train loss = 0.000493 train acc = 1.0000, test acc = 0.5928\n"
     ]
    },
    {
     "name": "stderr",
     "output_type": "stream",
     "text": [
      "100%|██████████████████████████████████████████████████████████████████████████████| 1001/1001 [00:12<00:00, 79.10it/s]\n"
     ]
    },
    {
     "name": "stdout",
     "output_type": "stream",
     "text": [
      "[2022-12-06 05:34:49] Evaluate_01: epoch = 1000 train time = 12 s train loss = 0.000262 train acc = 1.0000, test acc = 0.6053\n"
     ]
    },
    {
     "name": "stderr",
     "output_type": "stream",
     "text": [
      "100%|██████████████████████████████████████████████████████████████████████████████| 1001/1001 [00:12<00:00, 78.86it/s]\n"
     ]
    },
    {
     "name": "stdout",
     "output_type": "stream",
     "text": [
      "[2022-12-06 05:35:02] Evaluate_02: epoch = 1000 train time = 12 s train loss = 0.000289 train acc = 1.0000, test acc = 0.6092\n"
     ]
    },
    {
     "name": "stderr",
     "output_type": "stream",
     "text": [
      "100%|██████████████████████████████████████████████████████████████████████████████| 1001/1001 [00:12<00:00, 78.78it/s]\n"
     ]
    },
    {
     "name": "stdout",
     "output_type": "stream",
     "text": [
      "[2022-12-06 05:35:15] Evaluate_03: epoch = 1000 train time = 12 s train loss = 0.000277 train acc = 1.0000, test acc = 0.6179\n"
     ]
    },
    {
     "name": "stderr",
     "output_type": "stream",
     "text": [
      "100%|██████████████████████████████████████████████████████████████████████████████| 1001/1001 [00:12<00:00, 78.35it/s]\n"
     ]
    },
    {
     "name": "stdout",
     "output_type": "stream",
     "text": [
      "[2022-12-06 05:35:28] Evaluate_04: epoch = 1000 train time = 12 s train loss = 0.002346 train acc = 1.0000, test acc = 0.6043\n",
      "Evaluate 5 random ConvNet, mean = 0.6059 std = 0.0081\n",
      "-------------------------\n",
      "[2022-12-06 05:35:30] iter = 3600, loss = 0.7142\n",
      "loading file ./buffers\\CIFAR10_NO_ZCA\\ConvNet\\replay_buffer_3.pt\n",
      "[2022-12-06 05:35:52] iter = 3610, loss = 0.5979\n",
      "loading file ./buffers\\CIFAR10_NO_ZCA\\ConvNet\\replay_buffer_4.pt\n",
      "[2022-12-06 05:36:14] iter = 3620, loss = 0.9226\n",
      "loading file ./buffers\\CIFAR10_NO_ZCA\\ConvNet\\replay_buffer_0.pt\n",
      "[2022-12-06 05:36:37] iter = 3630, loss = 0.5863\n",
      "loading file ./buffers\\CIFAR10_NO_ZCA\\ConvNet\\replay_buffer_1.pt\n",
      "[2022-12-06 05:36:59] iter = 3640, loss = 0.7829\n",
      "loading file ./buffers\\CIFAR10_NO_ZCA\\ConvNet\\replay_buffer_0.pt\n",
      "[2022-12-06 05:37:21] iter = 3650, loss = 0.9068\n",
      "loading file ./buffers\\CIFAR10_NO_ZCA\\ConvNet\\replay_buffer_2.pt\n",
      "[2022-12-06 05:37:43] iter = 3660, loss = 0.6587\n",
      "loading file ./buffers\\CIFAR10_NO_ZCA\\ConvNet\\replay_buffer_4.pt\n",
      "[2022-12-06 05:38:05] iter = 3670, loss = 0.7071\n",
      "loading file ./buffers\\CIFAR10_NO_ZCA\\ConvNet\\replay_buffer_3.pt\n",
      "[2022-12-06 05:38:28] iter = 3680, loss = 0.9139\n",
      "loading file ./buffers\\CIFAR10_NO_ZCA\\ConvNet\\replay_buffer_1.pt\n",
      "[2022-12-06 05:38:50] iter = 3690, loss = 0.6866\n",
      "loading file ./buffers\\CIFAR10_NO_ZCA\\ConvNet\\replay_buffer_4.pt\n",
      "-------------------------\n",
      "Evaluation\n",
      "model_train = ConvNet, model_eval = ConvNet, iteration = 3700\n",
      "DSA augmentation strategy: \n",
      " color_crop_cutout_flip_scale_rotate\n",
      "DSA augmentation parameters: \n",
      " {'aug_mode': 'S', 'prob_flip': 0.5, 'ratio_scale': 1.2, 'ratio_rotate': 15.0, 'ratio_crop_pad': 0.125, 'ratio_cutout': 0.5, 'ratio_noise': 0.05, 'brightness': 1.0, 'saturation': 2.0, 'contrast': 0.5, 'batchmode': False, 'latestseed': -1}\n"
     ]
    },
    {
     "name": "stderr",
     "output_type": "stream",
     "text": [
      "100%|██████████████████████████████████████████████████████████████████████████████| 1001/1001 [00:12<00:00, 77.90it/s]\n"
     ]
    },
    {
     "name": "stdout",
     "output_type": "stream",
     "text": [
      "[2022-12-06 05:39:23] Evaluate_00: epoch = 1000 train time = 12 s train loss = 0.000233 train acc = 1.0000, test acc = 0.6193\n"
     ]
    },
    {
     "name": "stderr",
     "output_type": "stream",
     "text": [
      "100%|██████████████████████████████████████████████████████████████████████████████| 1001/1001 [00:12<00:00, 78.52it/s]\n"
     ]
    },
    {
     "name": "stdout",
     "output_type": "stream",
     "text": [
      "[2022-12-06 05:39:36] Evaluate_01: epoch = 1000 train time = 12 s train loss = 0.000518 train acc = 1.0000, test acc = 0.6097\n"
     ]
    },
    {
     "name": "stderr",
     "output_type": "stream",
     "text": [
      "100%|██████████████████████████████████████████████████████████████████████████████| 1001/1001 [00:12<00:00, 78.50it/s]\n"
     ]
    },
    {
     "name": "stdout",
     "output_type": "stream",
     "text": [
      "[2022-12-06 05:39:49] Evaluate_02: epoch = 1000 train time = 12 s train loss = 0.000253 train acc = 1.0000, test acc = 0.6118\n"
     ]
    },
    {
     "name": "stderr",
     "output_type": "stream",
     "text": [
      "100%|██████████████████████████████████████████████████████████████████████████████| 1001/1001 [00:13<00:00, 76.61it/s]\n"
     ]
    },
    {
     "name": "stdout",
     "output_type": "stream",
     "text": [
      "[2022-12-06 05:40:02] Evaluate_03: epoch = 1000 train time = 13 s train loss = 0.004493 train acc = 1.0000, test acc = 0.6015\n"
     ]
    },
    {
     "name": "stderr",
     "output_type": "stream",
     "text": [
      "100%|██████████████████████████████████████████████████████████████████████████████| 1001/1001 [00:12<00:00, 78.51it/s]\n"
     ]
    },
    {
     "name": "stdout",
     "output_type": "stream",
     "text": [
      "[2022-12-06 05:40:15] Evaluate_04: epoch = 1000 train time = 12 s train loss = 0.003560 train acc = 1.0000, test acc = 0.6170\n",
      "Evaluate 5 random ConvNet, mean = 0.6119 std = 0.0062\n",
      "-------------------------\n",
      "[2022-12-06 05:40:17] iter = 3700, loss = 0.6381\n",
      "loading file ./buffers\\CIFAR10_NO_ZCA\\ConvNet\\replay_buffer_1.pt\n",
      "[2022-12-06 05:40:39] iter = 3710, loss = 0.5945\n",
      "loading file ./buffers\\CIFAR10_NO_ZCA\\ConvNet\\replay_buffer_3.pt\n",
      "[2022-12-06 05:41:01] iter = 3720, loss = 0.9341\n",
      "loading file ./buffers\\CIFAR10_NO_ZCA\\ConvNet\\replay_buffer_2.pt\n",
      "[2022-12-06 05:41:23] iter = 3730, loss = 0.9110\n",
      "loading file ./buffers\\CIFAR10_NO_ZCA\\ConvNet\\replay_buffer_0.pt\n",
      "[2022-12-06 05:41:45] iter = 3740, loss = 0.5980\n",
      "loading file ./buffers\\CIFAR10_NO_ZCA\\ConvNet\\replay_buffer_1.pt\n",
      "[2022-12-06 05:42:07] iter = 3750, loss = 0.8511\n",
      "loading file ./buffers\\CIFAR10_NO_ZCA\\ConvNet\\replay_buffer_2.pt\n",
      "[2022-12-06 05:42:29] iter = 3760, loss = 0.7000\n",
      "loading file ./buffers\\CIFAR10_NO_ZCA\\ConvNet\\replay_buffer_4.pt\n",
      "[2022-12-06 05:42:52] iter = 3770, loss = 0.8041\n",
      "loading file ./buffers\\CIFAR10_NO_ZCA\\ConvNet\\replay_buffer_3.pt\n",
      "[2022-12-06 05:43:14] iter = 3780, loss = 0.8774\n",
      "loading file ./buffers\\CIFAR10_NO_ZCA\\ConvNet\\replay_buffer_0.pt\n",
      "[2022-12-06 05:43:36] iter = 3790, loss = 0.9095\n",
      "loading file ./buffers\\CIFAR10_NO_ZCA\\ConvNet\\replay_buffer_1.pt\n",
      "-------------------------\n",
      "Evaluation\n",
      "model_train = ConvNet, model_eval = ConvNet, iteration = 3800\n",
      "DSA augmentation strategy: \n",
      " color_crop_cutout_flip_scale_rotate\n",
      "DSA augmentation parameters: \n",
      " {'aug_mode': 'S', 'prob_flip': 0.5, 'ratio_scale': 1.2, 'ratio_rotate': 15.0, 'ratio_crop_pad': 0.125, 'ratio_cutout': 0.5, 'ratio_noise': 0.05, 'brightness': 1.0, 'saturation': 2.0, 'contrast': 0.5, 'batchmode': False, 'latestseed': -1}\n"
     ]
    },
    {
     "name": "stderr",
     "output_type": "stream",
     "text": [
      "100%|██████████████████████████████████████████████████████████████████████████████| 1001/1001 [00:12<00:00, 78.84it/s]\n"
     ]
    },
    {
     "name": "stdout",
     "output_type": "stream",
     "text": [
      "[2022-12-06 05:44:08] Evaluate_00: epoch = 1000 train time = 12 s train loss = 0.000390 train acc = 1.0000, test acc = 0.6117\n"
     ]
    },
    {
     "name": "stderr",
     "output_type": "stream",
     "text": [
      "100%|██████████████████████████████████████████████████████████████████████████████| 1001/1001 [00:13<00:00, 76.74it/s]\n"
     ]
    },
    {
     "name": "stdout",
     "output_type": "stream",
     "text": [
      "[2022-12-06 05:44:21] Evaluate_01: epoch = 1000 train time = 13 s train loss = 0.000482 train acc = 1.0000, test acc = 0.6013\n"
     ]
    },
    {
     "name": "stderr",
     "output_type": "stream",
     "text": [
      "100%|██████████████████████████████████████████████████████████████████████████████| 1001/1001 [00:12<00:00, 79.09it/s]\n"
     ]
    },
    {
     "name": "stdout",
     "output_type": "stream",
     "text": [
      "[2022-12-06 05:44:34] Evaluate_02: epoch = 1000 train time = 12 s train loss = 0.000174 train acc = 1.0000, test acc = 0.5944\n"
     ]
    },
    {
     "name": "stderr",
     "output_type": "stream",
     "text": [
      "100%|██████████████████████████████████████████████████████████████████████████████| 1001/1001 [00:12<00:00, 78.18it/s]\n"
     ]
    },
    {
     "name": "stdout",
     "output_type": "stream",
     "text": [
      "[2022-12-06 05:44:47] Evaluate_03: epoch = 1000 train time = 12 s train loss = 0.000594 train acc = 1.0000, test acc = 0.5950\n"
     ]
    },
    {
     "name": "stderr",
     "output_type": "stream",
     "text": [
      "100%|██████████████████████████████████████████████████████████████████████████████| 1001/1001 [00:12<00:00, 77.43it/s]\n"
     ]
    },
    {
     "name": "stdout",
     "output_type": "stream",
     "text": [
      "[2022-12-06 05:45:00] Evaluate_04: epoch = 1000 train time = 12 s train loss = 0.003516 train acc = 1.0000, test acc = 0.5950\n",
      "Evaluate 5 random ConvNet, mean = 0.5995 std = 0.0066\n",
      "-------------------------\n",
      "[2022-12-06 05:45:02] iter = 3800, loss = 0.7849\n",
      "loading file ./buffers\\CIFAR10_NO_ZCA\\ConvNet\\replay_buffer_0.pt\n",
      "[2022-12-06 05:45:24] iter = 3810, loss = 0.5606\n",
      "loading file ./buffers\\CIFAR10_NO_ZCA\\ConvNet\\replay_buffer_2.pt\n",
      "[2022-12-06 05:45:46] iter = 3820, loss = 0.9262\n",
      "loading file ./buffers\\CIFAR10_NO_ZCA\\ConvNet\\replay_buffer_3.pt\n",
      "[2022-12-06 05:46:09] iter = 3830, loss = 0.7895\n",
      "loading file ./buffers\\CIFAR10_NO_ZCA\\ConvNet\\replay_buffer_4.pt\n",
      "[2022-12-06 05:46:31] iter = 3840, loss = 0.9101\n",
      "loading file ./buffers\\CIFAR10_NO_ZCA\\ConvNet\\replay_buffer_0.pt\n",
      "[2022-12-06 05:46:53] iter = 3850, loss = 0.8929\n",
      "loading file ./buffers\\CIFAR10_NO_ZCA\\ConvNet\\replay_buffer_4.pt\n",
      "[2022-12-06 05:47:15] iter = 3860, loss = 0.9161\n",
      "loading file ./buffers\\CIFAR10_NO_ZCA\\ConvNet\\replay_buffer_1.pt\n",
      "[2022-12-06 05:47:37] iter = 3870, loss = 0.5668\n",
      "loading file ./buffers\\CIFAR10_NO_ZCA\\ConvNet\\replay_buffer_3.pt\n",
      "[2022-12-06 05:48:00] iter = 3880, loss = 0.5609\n",
      "loading file ./buffers\\CIFAR10_NO_ZCA\\ConvNet\\replay_buffer_2.pt\n",
      "[2022-12-06 05:48:22] iter = 3890, loss = 0.5626\n",
      "loading file ./buffers\\CIFAR10_NO_ZCA\\ConvNet\\replay_buffer_1.pt\n",
      "-------------------------\n",
      "Evaluation\n",
      "model_train = ConvNet, model_eval = ConvNet, iteration = 3900\n",
      "DSA augmentation strategy: \n",
      " color_crop_cutout_flip_scale_rotate\n",
      "DSA augmentation parameters: \n",
      " {'aug_mode': 'S', 'prob_flip': 0.5, 'ratio_scale': 1.2, 'ratio_rotate': 15.0, 'ratio_crop_pad': 0.125, 'ratio_cutout': 0.5, 'ratio_noise': 0.05, 'brightness': 1.0, 'saturation': 2.0, 'contrast': 0.5, 'batchmode': False, 'latestseed': -1}\n"
     ]
    },
    {
     "name": "stderr",
     "output_type": "stream",
     "text": [
      "100%|██████████████████████████████████████████████████████████████████████████████| 1001/1001 [00:13<00:00, 75.63it/s]\n"
     ]
    },
    {
     "name": "stdout",
     "output_type": "stream",
     "text": [
      "[2022-12-06 05:48:56] Evaluate_00: epoch = 1000 train time = 13 s train loss = 0.000312 train acc = 1.0000, test acc = 0.6205\n"
     ]
    },
    {
     "name": "stderr",
     "output_type": "stream",
     "text": [
      "100%|██████████████████████████████████████████████████████████████████████████████| 1001/1001 [00:12<00:00, 78.74it/s]\n"
     ]
    },
    {
     "name": "stdout",
     "output_type": "stream",
     "text": [
      "[2022-12-06 05:49:08] Evaluate_01: epoch = 1000 train time = 12 s train loss = 0.004376 train acc = 1.0000, test acc = 0.6039\n"
     ]
    },
    {
     "name": "stderr",
     "output_type": "stream",
     "text": [
      "100%|██████████████████████████████████████████████████████████████████████████████| 1001/1001 [00:13<00:00, 76.92it/s]\n"
     ]
    },
    {
     "name": "stdout",
     "output_type": "stream",
     "text": [
      "[2022-12-06 05:49:21] Evaluate_02: epoch = 1000 train time = 13 s train loss = 0.001368 train acc = 1.0000, test acc = 0.6013\n"
     ]
    },
    {
     "name": "stderr",
     "output_type": "stream",
     "text": [
      "100%|██████████████████████████████████████████████████████████████████████████████| 1001/1001 [00:12<00:00, 78.44it/s]\n"
     ]
    },
    {
     "name": "stdout",
     "output_type": "stream",
     "text": [
      "[2022-12-06 05:49:34] Evaluate_03: epoch = 1000 train time = 12 s train loss = 0.003646 train acc = 1.0000, test acc = 0.5993\n"
     ]
    },
    {
     "name": "stderr",
     "output_type": "stream",
     "text": [
      "100%|██████████████████████████████████████████████████████████████████████████████| 1001/1001 [00:12<00:00, 77.55it/s]\n"
     ]
    },
    {
     "name": "stdout",
     "output_type": "stream",
     "text": [
      "[2022-12-06 05:49:47] Evaluate_04: epoch = 1000 train time = 12 s train loss = 0.000498 train acc = 1.0000, test acc = 0.6017\n",
      "Evaluate 5 random ConvNet, mean = 0.6053 std = 0.0077\n",
      "-------------------------\n",
      "[2022-12-06 05:49:50] iter = 3900, loss = 0.9101\n",
      "loading file ./buffers\\CIFAR10_NO_ZCA\\ConvNet\\replay_buffer_0.pt\n",
      "[2022-12-06 05:50:12] iter = 3910, loss = 0.7524\n",
      "loading file ./buffers\\CIFAR10_NO_ZCA\\ConvNet\\replay_buffer_4.pt\n",
      "[2022-12-06 05:50:34] iter = 3920, loss = 0.6313\n",
      "loading file ./buffers\\CIFAR10_NO_ZCA\\ConvNet\\replay_buffer_3.pt\n",
      "[2022-12-06 05:50:56] iter = 3930, loss = 0.9349\n",
      "loading file ./buffers\\CIFAR10_NO_ZCA\\ConvNet\\replay_buffer_2.pt\n",
      "[2022-12-06 05:51:18] iter = 3940, loss = 0.5547\n",
      "loading file ./buffers\\CIFAR10_NO_ZCA\\ConvNet\\replay_buffer_1.pt\n",
      "[2022-12-06 05:51:40] iter = 3950, loss = 0.6309\n",
      "loading file ./buffers\\CIFAR10_NO_ZCA\\ConvNet\\replay_buffer_4.pt\n",
      "[2022-12-06 05:52:02] iter = 3960, loss = 0.8050\n",
      "loading file ./buffers\\CIFAR10_NO_ZCA\\ConvNet\\replay_buffer_3.pt\n",
      "[2022-12-06 05:52:24] iter = 3970, loss = 0.5731\n",
      "loading file ./buffers\\CIFAR10_NO_ZCA\\ConvNet\\replay_buffer_0.pt\n",
      "[2022-12-06 05:52:47] iter = 3980, loss = 0.6817\n",
      "loading file ./buffers\\CIFAR10_NO_ZCA\\ConvNet\\replay_buffer_2.pt\n",
      "[2022-12-06 05:53:09] iter = 3990, loss = 0.5719\n",
      "loading file ./buffers\\CIFAR10_NO_ZCA\\ConvNet\\replay_buffer_4.pt\n",
      "-------------------------\n",
      "Evaluation\n",
      "model_train = ConvNet, model_eval = ConvNet, iteration = 4000\n",
      "DSA augmentation strategy: \n",
      " color_crop_cutout_flip_scale_rotate\n",
      "DSA augmentation parameters: \n",
      " {'aug_mode': 'S', 'prob_flip': 0.5, 'ratio_scale': 1.2, 'ratio_rotate': 15.0, 'ratio_crop_pad': 0.125, 'ratio_cutout': 0.5, 'ratio_noise': 0.05, 'brightness': 1.0, 'saturation': 2.0, 'contrast': 0.5, 'batchmode': False, 'latestseed': -1}\n"
     ]
    },
    {
     "name": "stderr",
     "output_type": "stream",
     "text": [
      "100%|██████████████████████████████████████████████████████████████████████████████| 1001/1001 [00:12<00:00, 78.93it/s]\n"
     ]
    },
    {
     "name": "stdout",
     "output_type": "stream",
     "text": [
      "[2022-12-06 05:53:41] Evaluate_00: epoch = 1000 train time = 12 s train loss = 0.000987 train acc = 1.0000, test acc = 0.6021\n"
     ]
    },
    {
     "name": "stderr",
     "output_type": "stream",
     "text": [
      "100%|██████████████████████████████████████████████████████████████████████████████| 1001/1001 [00:12<00:00, 78.30it/s]\n"
     ]
    },
    {
     "name": "stdout",
     "output_type": "stream",
     "text": [
      "[2022-12-06 05:53:54] Evaluate_01: epoch = 1000 train time = 12 s train loss = 0.000413 train acc = 1.0000, test acc = 0.6045\n"
     ]
    },
    {
     "name": "stderr",
     "output_type": "stream",
     "text": [
      "100%|██████████████████████████████████████████████████████████████████████████████| 1001/1001 [00:12<00:00, 77.84it/s]\n"
     ]
    },
    {
     "name": "stdout",
     "output_type": "stream",
     "text": [
      "[2022-12-06 05:54:07] Evaluate_02: epoch = 1000 train time = 12 s train loss = 0.000430 train acc = 1.0000, test acc = 0.5970\n"
     ]
    },
    {
     "name": "stderr",
     "output_type": "stream",
     "text": [
      "100%|██████████████████████████████████████████████████████████████████████████████| 1001/1001 [00:12<00:00, 79.05it/s]\n"
     ]
    },
    {
     "name": "stdout",
     "output_type": "stream",
     "text": [
      "[2022-12-06 05:54:20] Evaluate_03: epoch = 1000 train time = 12 s train loss = 0.003405 train acc = 1.0000, test acc = 0.5844\n"
     ]
    },
    {
     "name": "stderr",
     "output_type": "stream",
     "text": [
      "100%|██████████████████████████████████████████████████████████████████████████████| 1001/1001 [00:12<00:00, 78.74it/s]\n"
     ]
    },
    {
     "name": "stdout",
     "output_type": "stream",
     "text": [
      "[2022-12-06 05:54:33] Evaluate_04: epoch = 1000 train time = 12 s train loss = 0.001277 train acc = 1.0000, test acc = 0.6010\n",
      "Evaluate 5 random ConvNet, mean = 0.5978 std = 0.0071\n",
      "-------------------------\n",
      "[2022-12-06 05:54:35] iter = 4000, loss = 0.9014\n",
      "loading file ./buffers\\CIFAR10_NO_ZCA\\ConvNet\\replay_buffer_3.pt\n",
      "[2022-12-06 05:54:57] iter = 4010, loss = 0.6172\n",
      "loading file ./buffers\\CIFAR10_NO_ZCA\\ConvNet\\replay_buffer_0.pt\n",
      "[2022-12-06 05:55:19] iter = 4020, loss = 0.6647\n",
      "loading file ./buffers\\CIFAR10_NO_ZCA\\ConvNet\\replay_buffer_2.pt\n",
      "[2022-12-06 05:55:41] iter = 4030, loss = 0.5656\n",
      "loading file ./buffers\\CIFAR10_NO_ZCA\\ConvNet\\replay_buffer_1.pt\n",
      "[2022-12-06 05:56:03] iter = 4040, loss = 0.5833\n",
      "loading file ./buffers\\CIFAR10_NO_ZCA\\ConvNet\\replay_buffer_4.pt\n",
      "[2022-12-06 05:56:25] iter = 4050, loss = 0.5392\n",
      "loading file ./buffers\\CIFAR10_NO_ZCA\\ConvNet\\replay_buffer_2.pt\n",
      "[2022-12-06 05:56:47] iter = 4060, loss = 0.8455\n",
      "loading file ./buffers\\CIFAR10_NO_ZCA\\ConvNet\\replay_buffer_0.pt\n",
      "[2022-12-06 05:57:10] iter = 4070, loss = 0.7393\n",
      "loading file ./buffers\\CIFAR10_NO_ZCA\\ConvNet\\replay_buffer_1.pt\n",
      "[2022-12-06 05:57:32] iter = 4080, loss = 0.8033\n",
      "loading file ./buffers\\CIFAR10_NO_ZCA\\ConvNet\\replay_buffer_3.pt\n",
      "[2022-12-06 05:57:54] iter = 4090, loss = 0.7941\n",
      "loading file ./buffers\\CIFAR10_NO_ZCA\\ConvNet\\replay_buffer_0.pt\n",
      "-------------------------\n",
      "Evaluation\n",
      "model_train = ConvNet, model_eval = ConvNet, iteration = 4100\n",
      "DSA augmentation strategy: \n",
      " color_crop_cutout_flip_scale_rotate\n",
      "DSA augmentation parameters: \n",
      " {'aug_mode': 'S', 'prob_flip': 0.5, 'ratio_scale': 1.2, 'ratio_rotate': 15.0, 'ratio_crop_pad': 0.125, 'ratio_cutout': 0.5, 'ratio_noise': 0.05, 'brightness': 1.0, 'saturation': 2.0, 'contrast': 0.5, 'batchmode': False, 'latestseed': -1}\n"
     ]
    },
    {
     "name": "stderr",
     "output_type": "stream",
     "text": [
      "100%|██████████████████████████████████████████████████████████████████████████████| 1001/1001 [00:12<00:00, 78.69it/s]\n"
     ]
    },
    {
     "name": "stdout",
     "output_type": "stream",
     "text": [
      "[2022-12-06 05:58:26] Evaluate_00: epoch = 1000 train time = 12 s train loss = 0.000460 train acc = 1.0000, test acc = 0.6152\n"
     ]
    },
    {
     "name": "stderr",
     "output_type": "stream",
     "text": [
      "100%|██████████████████████████████████████████████████████████████████████████████| 1001/1001 [00:12<00:00, 77.07it/s]\n"
     ]
    },
    {
     "name": "stdout",
     "output_type": "stream",
     "text": [
      "[2022-12-06 05:58:40] Evaluate_01: epoch = 1000 train time = 12 s train loss = 0.000270 train acc = 1.0000, test acc = 0.6157\n"
     ]
    },
    {
     "name": "stderr",
     "output_type": "stream",
     "text": [
      "100%|██████████████████████████████████████████████████████████████████████████████| 1001/1001 [00:12<00:00, 78.59it/s]\n"
     ]
    },
    {
     "name": "stdout",
     "output_type": "stream",
     "text": [
      "[2022-12-06 05:58:52] Evaluate_02: epoch = 1000 train time = 12 s train loss = 0.001350 train acc = 1.0000, test acc = 0.6072\n"
     ]
    },
    {
     "name": "stderr",
     "output_type": "stream",
     "text": [
      "100%|██████████████████████████████████████████████████████████████████████████████| 1001/1001 [00:12<00:00, 77.14it/s]\n"
     ]
    },
    {
     "name": "stdout",
     "output_type": "stream",
     "text": [
      "[2022-12-06 05:59:05] Evaluate_03: epoch = 1000 train time = 12 s train loss = 0.000796 train acc = 1.0000, test acc = 0.6065\n"
     ]
    },
    {
     "name": "stderr",
     "output_type": "stream",
     "text": [
      "100%|██████████████████████████████████████████████████████████████████████████████| 1001/1001 [00:12<00:00, 78.60it/s]\n"
     ]
    },
    {
     "name": "stdout",
     "output_type": "stream",
     "text": [
      "[2022-12-06 05:59:18] Evaluate_04: epoch = 1000 train time = 12 s train loss = 0.004708 train acc = 1.0000, test acc = 0.6010\n",
      "Evaluate 5 random ConvNet, mean = 0.6091 std = 0.0056\n",
      "-------------------------\n",
      "[2022-12-06 05:59:20] iter = 4100, loss = 0.5710\n",
      "loading file ./buffers\\CIFAR10_NO_ZCA\\ConvNet\\replay_buffer_1.pt\n",
      "[2022-12-06 05:59:42] iter = 4110, loss = 0.8556\n",
      "loading file ./buffers\\CIFAR10_NO_ZCA\\ConvNet\\replay_buffer_2.pt\n",
      "[2022-12-06 06:00:04] iter = 4120, loss = 0.5797\n",
      "loading file ./buffers\\CIFAR10_NO_ZCA\\ConvNet\\replay_buffer_4.pt\n",
      "[2022-12-06 06:00:26] iter = 4130, loss = 0.6751\n",
      "loading file ./buffers\\CIFAR10_NO_ZCA\\ConvNet\\replay_buffer_3.pt\n",
      "[2022-12-06 06:00:49] iter = 4140, loss = 0.9364\n",
      "loading file ./buffers\\CIFAR10_NO_ZCA\\ConvNet\\replay_buffer_2.pt\n",
      "[2022-12-06 06:01:11] iter = 4150, loss = 0.5323\n",
      "loading file ./buffers\\CIFAR10_NO_ZCA\\ConvNet\\replay_buffer_4.pt\n",
      "[2022-12-06 06:01:33] iter = 4160, loss = 0.7854\n",
      "loading file ./buffers\\CIFAR10_NO_ZCA\\ConvNet\\replay_buffer_1.pt\n",
      "[2022-12-06 06:01:55] iter = 4170, loss = 0.9356\n",
      "loading file ./buffers\\CIFAR10_NO_ZCA\\ConvNet\\replay_buffer_0.pt\n",
      "[2022-12-06 06:02:18] iter = 4180, loss = 0.7003\n",
      "loading file ./buffers\\CIFAR10_NO_ZCA\\ConvNet\\replay_buffer_3.pt\n",
      "[2022-12-06 06:02:40] iter = 4190, loss = 0.8771\n",
      "loading file ./buffers\\CIFAR10_NO_ZCA\\ConvNet\\replay_buffer_0.pt\n",
      "-------------------------\n",
      "Evaluation\n",
      "model_train = ConvNet, model_eval = ConvNet, iteration = 4200\n",
      "DSA augmentation strategy: \n",
      " color_crop_cutout_flip_scale_rotate\n",
      "DSA augmentation parameters: \n",
      " {'aug_mode': 'S', 'prob_flip': 0.5, 'ratio_scale': 1.2, 'ratio_rotate': 15.0, 'ratio_crop_pad': 0.125, 'ratio_cutout': 0.5, 'ratio_noise': 0.05, 'brightness': 1.0, 'saturation': 2.0, 'contrast': 0.5, 'batchmode': False, 'latestseed': -1}\n"
     ]
    },
    {
     "name": "stderr",
     "output_type": "stream",
     "text": [
      "100%|██████████████████████████████████████████████████████████████████████████████| 1001/1001 [00:12<00:00, 78.04it/s]\n"
     ]
    },
    {
     "name": "stdout",
     "output_type": "stream",
     "text": [
      "[2022-12-06 06:03:13] Evaluate_00: epoch = 1000 train time = 12 s train loss = 0.001096 train acc = 1.0000, test acc = 0.6072\n"
     ]
    },
    {
     "name": "stderr",
     "output_type": "stream",
     "text": [
      "100%|██████████████████████████████████████████████████████████████████████████████| 1001/1001 [00:12<00:00, 78.60it/s]\n"
     ]
    },
    {
     "name": "stdout",
     "output_type": "stream",
     "text": [
      "[2022-12-06 06:03:25] Evaluate_01: epoch = 1000 train time = 12 s train loss = 0.003961 train acc = 1.0000, test acc = 0.6164\n"
     ]
    },
    {
     "name": "stderr",
     "output_type": "stream",
     "text": [
      "100%|██████████████████████████████████████████████████████████████████████████████| 1001/1001 [00:12<00:00, 77.20it/s]\n"
     ]
    },
    {
     "name": "stdout",
     "output_type": "stream",
     "text": [
      "[2022-12-06 06:03:38] Evaluate_02: epoch = 1000 train time = 12 s train loss = 0.000302 train acc = 1.0000, test acc = 0.6140\n"
     ]
    },
    {
     "name": "stderr",
     "output_type": "stream",
     "text": [
      "100%|██████████████████████████████████████████████████████████████████████████████| 1001/1001 [00:12<00:00, 78.27it/s]\n"
     ]
    },
    {
     "name": "stdout",
     "output_type": "stream",
     "text": [
      "[2022-12-06 06:03:51] Evaluate_03: epoch = 1000 train time = 12 s train loss = 0.000610 train acc = 1.0000, test acc = 0.6131\n"
     ]
    },
    {
     "name": "stderr",
     "output_type": "stream",
     "text": [
      "100%|██████████████████████████████████████████████████████████████████████████████| 1001/1001 [00:12<00:00, 78.39it/s]\n"
     ]
    },
    {
     "name": "stdout",
     "output_type": "stream",
     "text": [
      "[2022-12-06 06:04:04] Evaluate_04: epoch = 1000 train time = 12 s train loss = 0.000489 train acc = 1.0000, test acc = 0.6148\n",
      "Evaluate 5 random ConvNet, mean = 0.6131 std = 0.0031\n",
      "-------------------------\n",
      "[2022-12-06 06:04:06] iter = 4200, loss = 0.7052\n",
      "loading file ./buffers\\CIFAR10_NO_ZCA\\ConvNet\\replay_buffer_4.pt\n",
      "[2022-12-06 06:04:29] iter = 4210, loss = 0.8644\n",
      "loading file ./buffers\\CIFAR10_NO_ZCA\\ConvNet\\replay_buffer_3.pt\n",
      "[2022-12-06 06:04:50] iter = 4220, loss = 0.6925\n",
      "loading file ./buffers\\CIFAR10_NO_ZCA\\ConvNet\\replay_buffer_1.pt\n",
      "[2022-12-06 06:05:13] iter = 4230, loss = 0.8555\n",
      "loading file ./buffers\\CIFAR10_NO_ZCA\\ConvNet\\replay_buffer_2.pt\n",
      "[2022-12-06 06:05:35] iter = 4240, loss = 0.7817\n",
      "loading file ./buffers\\CIFAR10_NO_ZCA\\ConvNet\\replay_buffer_0.pt\n",
      "[2022-12-06 06:05:57] iter = 4250, loss = 0.6599\n",
      "loading file ./buffers\\CIFAR10_NO_ZCA\\ConvNet\\replay_buffer_1.pt\n",
      "[2022-12-06 06:06:19] iter = 4260, loss = 0.6165\n",
      "loading file ./buffers\\CIFAR10_NO_ZCA\\ConvNet\\replay_buffer_2.pt\n",
      "[2022-12-06 06:06:42] iter = 4270, loss = 0.9208\n",
      "loading file ./buffers\\CIFAR10_NO_ZCA\\ConvNet\\replay_buffer_4.pt\n",
      "[2022-12-06 06:07:04] iter = 4280, loss = 0.7162\n",
      "loading file ./buffers\\CIFAR10_NO_ZCA\\ConvNet\\replay_buffer_3.pt\n",
      "[2022-12-06 06:07:26] iter = 4290, loss = 0.6486\n",
      "loading file ./buffers\\CIFAR10_NO_ZCA\\ConvNet\\replay_buffer_0.pt\n",
      "-------------------------\n",
      "Evaluation\n",
      "model_train = ConvNet, model_eval = ConvNet, iteration = 4300\n",
      "DSA augmentation strategy: \n",
      " color_crop_cutout_flip_scale_rotate\n",
      "DSA augmentation parameters: \n",
      " {'aug_mode': 'S', 'prob_flip': 0.5, 'ratio_scale': 1.2, 'ratio_rotate': 15.0, 'ratio_crop_pad': 0.125, 'ratio_cutout': 0.5, 'ratio_noise': 0.05, 'brightness': 1.0, 'saturation': 2.0, 'contrast': 0.5, 'batchmode': False, 'latestseed': -1}\n"
     ]
    },
    {
     "name": "stderr",
     "output_type": "stream",
     "text": [
      "100%|██████████████████████████████████████████████████████████████████████████████| 1001/1001 [00:12<00:00, 78.30it/s]\n"
     ]
    },
    {
     "name": "stdout",
     "output_type": "stream",
     "text": [
      "[2022-12-06 06:07:58] Evaluate_00: epoch = 1000 train time = 12 s train loss = 0.002188 train acc = 1.0000, test acc = 0.6154\n"
     ]
    },
    {
     "name": "stderr",
     "output_type": "stream",
     "text": [
      "100%|██████████████████████████████████████████████████████████████████████████████| 1001/1001 [00:12<00:00, 78.27it/s]\n"
     ]
    },
    {
     "name": "stdout",
     "output_type": "stream",
     "text": [
      "[2022-12-06 06:08:11] Evaluate_01: epoch = 1000 train time = 12 s train loss = 0.000555 train acc = 1.0000, test acc = 0.5966\n"
     ]
    },
    {
     "name": "stderr",
     "output_type": "stream",
     "text": [
      "100%|██████████████████████████████████████████████████████████████████████████████| 1001/1001 [00:12<00:00, 78.67it/s]\n"
     ]
    },
    {
     "name": "stdout",
     "output_type": "stream",
     "text": [
      "[2022-12-06 06:08:24] Evaluate_02: epoch = 1000 train time = 12 s train loss = 0.000646 train acc = 1.0000, test acc = 0.6048\n"
     ]
    },
    {
     "name": "stderr",
     "output_type": "stream",
     "text": [
      "100%|██████████████████████████████████████████████████████████████████████████████| 1001/1001 [00:12<00:00, 78.33it/s]\n"
     ]
    },
    {
     "name": "stdout",
     "output_type": "stream",
     "text": [
      "[2022-12-06 06:08:37] Evaluate_03: epoch = 1000 train time = 12 s train loss = 0.000547 train acc = 1.0000, test acc = 0.6102\n"
     ]
    },
    {
     "name": "stderr",
     "output_type": "stream",
     "text": [
      "100%|██████████████████████████████████████████████████████████████████████████████| 1001/1001 [00:12<00:00, 78.40it/s]\n"
     ]
    },
    {
     "name": "stdout",
     "output_type": "stream",
     "text": [
      "[2022-12-06 06:08:50] Evaluate_04: epoch = 1000 train time = 12 s train loss = 0.001608 train acc = 1.0000, test acc = 0.6143\n",
      "Evaluate 5 random ConvNet, mean = 0.6083 std = 0.0069\n",
      "-------------------------\n",
      "[2022-12-06 06:08:52] iter = 4300, loss = 0.8052\n",
      "loading file ./buffers\\CIFAR10_NO_ZCA\\ConvNet\\replay_buffer_4.pt\n",
      "[2022-12-06 06:09:14] iter = 4310, loss = 0.9364\n",
      "loading file ./buffers\\CIFAR10_NO_ZCA\\ConvNet\\replay_buffer_3.pt\n",
      "[2022-12-06 06:09:36] iter = 4320, loss = 0.6574\n",
      "loading file ./buffers\\CIFAR10_NO_ZCA\\ConvNet\\replay_buffer_2.pt\n",
      "[2022-12-06 06:09:59] iter = 4330, loss = 0.8981\n",
      "loading file ./buffers\\CIFAR10_NO_ZCA\\ConvNet\\replay_buffer_1.pt\n",
      "[2022-12-06 06:10:21] iter = 4340, loss = 0.9162\n",
      "loading file ./buffers\\CIFAR10_NO_ZCA\\ConvNet\\replay_buffer_1.pt\n",
      "[2022-12-06 06:10:43] iter = 4350, loss = 0.7059\n",
      "loading file ./buffers\\CIFAR10_NO_ZCA\\ConvNet\\replay_buffer_3.pt\n",
      "[2022-12-06 06:11:05] iter = 4360, loss = 0.9035\n",
      "loading file ./buffers\\CIFAR10_NO_ZCA\\ConvNet\\replay_buffer_2.pt\n",
      "[2022-12-06 06:11:27] iter = 4370, loss = 0.9294\n",
      "loading file ./buffers\\CIFAR10_NO_ZCA\\ConvNet\\replay_buffer_0.pt\n",
      "[2022-12-06 06:11:49] iter = 4380, loss = 0.5439\n",
      "loading file ./buffers\\CIFAR10_NO_ZCA\\ConvNet\\replay_buffer_4.pt\n",
      "[2022-12-06 06:12:12] iter = 4390, loss = 0.7084\n",
      "loading file ./buffers\\CIFAR10_NO_ZCA\\ConvNet\\replay_buffer_1.pt\n",
      "-------------------------\n",
      "Evaluation\n",
      "model_train = ConvNet, model_eval = ConvNet, iteration = 4400\n",
      "DSA augmentation strategy: \n",
      " color_crop_cutout_flip_scale_rotate\n",
      "DSA augmentation parameters: \n",
      " {'aug_mode': 'S', 'prob_flip': 0.5, 'ratio_scale': 1.2, 'ratio_rotate': 15.0, 'ratio_crop_pad': 0.125, 'ratio_cutout': 0.5, 'ratio_noise': 0.05, 'brightness': 1.0, 'saturation': 2.0, 'contrast': 0.5, 'batchmode': False, 'latestseed': -1}\n"
     ]
    },
    {
     "name": "stderr",
     "output_type": "stream",
     "text": [
      "100%|██████████████████████████████████████████████████████████████████████████████| 1001/1001 [00:12<00:00, 78.82it/s]\n"
     ]
    },
    {
     "name": "stdout",
     "output_type": "stream",
     "text": [
      "[2022-12-06 06:12:44] Evaluate_00: epoch = 1000 train time = 12 s train loss = 0.000174 train acc = 1.0000, test acc = 0.6144\n"
     ]
    },
    {
     "name": "stderr",
     "output_type": "stream",
     "text": [
      "100%|██████████████████████████████████████████████████████████████████████████████| 1001/1001 [00:12<00:00, 78.29it/s]\n"
     ]
    },
    {
     "name": "stdout",
     "output_type": "stream",
     "text": [
      "[2022-12-06 06:12:57] Evaluate_01: epoch = 1000 train time = 12 s train loss = 0.000547 train acc = 1.0000, test acc = 0.6010\n"
     ]
    },
    {
     "name": "stderr",
     "output_type": "stream",
     "text": [
      "100%|██████████████████████████████████████████████████████████████████████████████| 1001/1001 [00:12<00:00, 77.30it/s]\n"
     ]
    },
    {
     "name": "stdout",
     "output_type": "stream",
     "text": [
      "[2022-12-06 06:13:10] Evaluate_02: epoch = 1000 train time = 12 s train loss = 0.000233 train acc = 1.0000, test acc = 0.6022\n"
     ]
    },
    {
     "name": "stderr",
     "output_type": "stream",
     "text": [
      "100%|██████████████████████████████████████████████████████████████████████████████| 1001/1001 [00:12<00:00, 78.28it/s]\n"
     ]
    },
    {
     "name": "stdout",
     "output_type": "stream",
     "text": [
      "[2022-12-06 06:13:23] Evaluate_03: epoch = 1000 train time = 12 s train loss = 0.000343 train acc = 1.0000, test acc = 0.6128\n"
     ]
    },
    {
     "name": "stderr",
     "output_type": "stream",
     "text": [
      "100%|██████████████████████████████████████████████████████████████████████████████| 1001/1001 [00:12<00:00, 78.71it/s]\n"
     ]
    },
    {
     "name": "stdout",
     "output_type": "stream",
     "text": [
      "[2022-12-06 06:13:36] Evaluate_04: epoch = 1000 train time = 12 s train loss = 0.004821 train acc = 1.0000, test acc = 0.6067\n",
      "Evaluate 5 random ConvNet, mean = 0.6074 std = 0.0054\n",
      "-------------------------\n",
      "[2022-12-06 06:13:38] iter = 4400, loss = 0.8875\n",
      "loading file ./buffers\\CIFAR10_NO_ZCA\\ConvNet\\replay_buffer_4.pt\n",
      "[2022-12-06 06:14:00] iter = 4410, loss = 0.5190\n",
      "loading file ./buffers\\CIFAR10_NO_ZCA\\ConvNet\\replay_buffer_2.pt\n",
      "[2022-12-06 06:14:23] iter = 4420, loss = 0.5496\n",
      "loading file ./buffers\\CIFAR10_NO_ZCA\\ConvNet\\replay_buffer_3.pt\n",
      "[2022-12-06 06:14:45] iter = 4430, loss = 0.9131\n",
      "loading file ./buffers\\CIFAR10_NO_ZCA\\ConvNet\\replay_buffer_0.pt\n",
      "[2022-12-06 06:15:07] iter = 4440, loss = 0.6557\n",
      "loading file ./buffers\\CIFAR10_NO_ZCA\\ConvNet\\replay_buffer_4.pt\n",
      "[2022-12-06 06:15:29] iter = 4450, loss = 0.8218\n",
      "loading file ./buffers\\CIFAR10_NO_ZCA\\ConvNet\\replay_buffer_1.pt\n",
      "[2022-12-06 06:15:51] iter = 4460, loss = 0.8485\n",
      "loading file ./buffers\\CIFAR10_NO_ZCA\\ConvNet\\replay_buffer_2.pt\n",
      "[2022-12-06 06:16:14] iter = 4470, loss = 0.9253\n",
      "loading file ./buffers\\CIFAR10_NO_ZCA\\ConvNet\\replay_buffer_0.pt\n",
      "[2022-12-06 06:16:36] iter = 4480, loss = 0.9027\n",
      "loading file ./buffers\\CIFAR10_NO_ZCA\\ConvNet\\replay_buffer_3.pt\n",
      "[2022-12-06 06:16:58] iter = 4490, loss = 0.6941\n",
      "loading file ./buffers\\CIFAR10_NO_ZCA\\ConvNet\\replay_buffer_2.pt\n",
      "-------------------------\n",
      "Evaluation\n",
      "model_train = ConvNet, model_eval = ConvNet, iteration = 4500\n",
      "DSA augmentation strategy: \n",
      " color_crop_cutout_flip_scale_rotate\n",
      "DSA augmentation parameters: \n",
      " {'aug_mode': 'S', 'prob_flip': 0.5, 'ratio_scale': 1.2, 'ratio_rotate': 15.0, 'ratio_crop_pad': 0.125, 'ratio_cutout': 0.5, 'ratio_noise': 0.05, 'brightness': 1.0, 'saturation': 2.0, 'contrast': 0.5, 'batchmode': False, 'latestseed': -1}\n"
     ]
    },
    {
     "name": "stderr",
     "output_type": "stream",
     "text": [
      "100%|██████████████████████████████████████████████████████████████████████████████| 1001/1001 [00:12<00:00, 78.17it/s]\n"
     ]
    },
    {
     "name": "stdout",
     "output_type": "stream",
     "text": [
      "[2022-12-06 06:17:31] Evaluate_00: epoch = 1000 train time = 12 s train loss = 0.001147 train acc = 1.0000, test acc = 0.6057\n"
     ]
    },
    {
     "name": "stderr",
     "output_type": "stream",
     "text": [
      "100%|██████████████████████████████████████████████████████████████████████████████| 1001/1001 [00:12<00:00, 78.09it/s]\n"
     ]
    },
    {
     "name": "stdout",
     "output_type": "stream",
     "text": [
      "[2022-12-06 06:17:44] Evaluate_01: epoch = 1000 train time = 12 s train loss = 0.000355 train acc = 1.0000, test acc = 0.6099\n"
     ]
    },
    {
     "name": "stderr",
     "output_type": "stream",
     "text": [
      "100%|██████████████████████████████████████████████████████████████████████████████| 1001/1001 [00:12<00:00, 77.35it/s]\n"
     ]
    },
    {
     "name": "stdout",
     "output_type": "stream",
     "text": [
      "[2022-12-06 06:17:57] Evaluate_02: epoch = 1000 train time = 12 s train loss = 0.004675 train acc = 1.0000, test acc = 0.5958\n"
     ]
    },
    {
     "name": "stderr",
     "output_type": "stream",
     "text": [
      "100%|██████████████████████████████████████████████████████████████████████████████| 1001/1001 [00:12<00:00, 78.90it/s]\n"
     ]
    },
    {
     "name": "stdout",
     "output_type": "stream",
     "text": [
      "[2022-12-06 06:18:09] Evaluate_03: epoch = 1000 train time = 12 s train loss = 0.002996 train acc = 1.0000, test acc = 0.6058\n"
     ]
    },
    {
     "name": "stderr",
     "output_type": "stream",
     "text": [
      "100%|██████████████████████████████████████████████████████████████████████████████| 1001/1001 [00:12<00:00, 77.97it/s]\n"
     ]
    },
    {
     "name": "stdout",
     "output_type": "stream",
     "text": [
      "[2022-12-06 06:18:22] Evaluate_04: epoch = 1000 train time = 12 s train loss = 0.000660 train acc = 1.0000, test acc = 0.6070\n",
      "Evaluate 5 random ConvNet, mean = 0.6048 std = 0.0048\n",
      "-------------------------\n",
      "[2022-12-06 06:18:25] iter = 4500, loss = 0.7344\n",
      "loading file ./buffers\\CIFAR10_NO_ZCA\\ConvNet\\replay_buffer_0.pt\n",
      "[2022-12-06 06:18:46] iter = 4510, loss = 0.8541\n",
      "loading file ./buffers\\CIFAR10_NO_ZCA\\ConvNet\\replay_buffer_4.pt\n",
      "[2022-12-06 06:19:09] iter = 4520, loss = 0.5623\n",
      "loading file ./buffers\\CIFAR10_NO_ZCA\\ConvNet\\replay_buffer_3.pt\n",
      "[2022-12-06 06:19:31] iter = 4530, loss = 0.8298\n",
      "loading file ./buffers\\CIFAR10_NO_ZCA\\ConvNet\\replay_buffer_1.pt\n",
      "[2022-12-06 06:19:53] iter = 4540, loss = 0.6725\n",
      "loading file ./buffers\\CIFAR10_NO_ZCA\\ConvNet\\replay_buffer_0.pt\n",
      "[2022-12-06 06:20:15] iter = 4550, loss = 0.5338\n",
      "loading file ./buffers\\CIFAR10_NO_ZCA\\ConvNet\\replay_buffer_2.pt\n",
      "[2022-12-06 06:20:37] iter = 4560, loss = 0.8735\n",
      "loading file ./buffers\\CIFAR10_NO_ZCA\\ConvNet\\replay_buffer_4.pt\n",
      "[2022-12-06 06:20:59] iter = 4570, loss = 0.7919\n",
      "loading file ./buffers\\CIFAR10_NO_ZCA\\ConvNet\\replay_buffer_3.pt\n",
      "[2022-12-06 06:21:21] iter = 4580, loss = 0.6901\n",
      "loading file ./buffers\\CIFAR10_NO_ZCA\\ConvNet\\replay_buffer_1.pt\n",
      "[2022-12-06 06:21:43] iter = 4590, loss = 0.9070\n",
      "loading file ./buffers\\CIFAR10_NO_ZCA\\ConvNet\\replay_buffer_2.pt\n",
      "-------------------------\n",
      "Evaluation\n",
      "model_train = ConvNet, model_eval = ConvNet, iteration = 4600\n",
      "DSA augmentation strategy: \n",
      " color_crop_cutout_flip_scale_rotate\n",
      "DSA augmentation parameters: \n",
      " {'aug_mode': 'S', 'prob_flip': 0.5, 'ratio_scale': 1.2, 'ratio_rotate': 15.0, 'ratio_crop_pad': 0.125, 'ratio_cutout': 0.5, 'ratio_noise': 0.05, 'brightness': 1.0, 'saturation': 2.0, 'contrast': 0.5, 'batchmode': False, 'latestseed': -1}\n"
     ]
    },
    {
     "name": "stderr",
     "output_type": "stream",
     "text": [
      "100%|██████████████████████████████████████████████████████████████████████████████| 1001/1001 [00:12<00:00, 78.45it/s]\n"
     ]
    },
    {
     "name": "stdout",
     "output_type": "stream",
     "text": [
      "[2022-12-06 06:22:16] Evaluate_00: epoch = 1000 train time = 12 s train loss = 0.001149 train acc = 1.0000, test acc = 0.5965\n"
     ]
    },
    {
     "name": "stderr",
     "output_type": "stream",
     "text": [
      "100%|██████████████████████████████████████████████████████████████████████████████| 1001/1001 [00:13<00:00, 76.29it/s]\n"
     ]
    },
    {
     "name": "stdout",
     "output_type": "stream",
     "text": [
      "[2022-12-06 06:22:29] Evaluate_01: epoch = 1000 train time = 13 s train loss = 0.000829 train acc = 1.0000, test acc = 0.6071\n"
     ]
    },
    {
     "name": "stderr",
     "output_type": "stream",
     "text": [
      "100%|██████████████████████████████████████████████████████████████████████████████| 1001/1001 [00:12<00:00, 78.73it/s]\n"
     ]
    },
    {
     "name": "stdout",
     "output_type": "stream",
     "text": [
      "[2022-12-06 06:22:42] Evaluate_02: epoch = 1000 train time = 12 s train loss = 0.000473 train acc = 1.0000, test acc = 0.6165\n"
     ]
    },
    {
     "name": "stderr",
     "output_type": "stream",
     "text": [
      "100%|██████████████████████████████████████████████████████████████████████████████| 1001/1001 [00:12<00:00, 77.58it/s]\n"
     ]
    },
    {
     "name": "stdout",
     "output_type": "stream",
     "text": [
      "[2022-12-06 06:22:55] Evaluate_03: epoch = 1000 train time = 12 s train loss = 0.002263 train acc = 1.0000, test acc = 0.5967\n"
     ]
    },
    {
     "name": "stderr",
     "output_type": "stream",
     "text": [
      "100%|██████████████████████████████████████████████████████████████████████████████| 1001/1001 [00:12<00:00, 78.27it/s]\n"
     ]
    },
    {
     "name": "stdout",
     "output_type": "stream",
     "text": [
      "[2022-12-06 06:23:08] Evaluate_04: epoch = 1000 train time = 12 s train loss = 0.000288 train acc = 1.0000, test acc = 0.6114\n",
      "Evaluate 5 random ConvNet, mean = 0.6056 std = 0.0080\n",
      "-------------------------\n",
      "[2022-12-06 06:23:10] iter = 4600, loss = 0.7934\n",
      "loading file ./buffers\\CIFAR10_NO_ZCA\\ConvNet\\replay_buffer_4.pt\n",
      "[2022-12-06 06:23:32] iter = 4610, loss = 0.8372\n",
      "loading file ./buffers\\CIFAR10_NO_ZCA\\ConvNet\\replay_buffer_3.pt\n",
      "[2022-12-06 06:23:54] iter = 4620, loss = 0.6634\n",
      "loading file ./buffers\\CIFAR10_NO_ZCA\\ConvNet\\replay_buffer_1.pt\n",
      "[2022-12-06 06:24:16] iter = 4630, loss = 0.8765\n",
      "loading file ./buffers\\CIFAR10_NO_ZCA\\ConvNet\\replay_buffer_0.pt\n",
      "[2022-12-06 06:24:38] iter = 4640, loss = 0.8836\n",
      "loading file ./buffers\\CIFAR10_NO_ZCA\\ConvNet\\replay_buffer_4.pt\n",
      "[2022-12-06 06:25:00] iter = 4650, loss = 0.9011\n",
      "loading file ./buffers\\CIFAR10_NO_ZCA\\ConvNet\\replay_buffer_1.pt\n",
      "[2022-12-06 06:25:22] iter = 4660, loss = 0.9048\n",
      "loading file ./buffers\\CIFAR10_NO_ZCA\\ConvNet\\replay_buffer_0.pt\n",
      "[2022-12-06 06:25:44] iter = 4670, loss = 0.7794\n",
      "loading file ./buffers\\CIFAR10_NO_ZCA\\ConvNet\\replay_buffer_2.pt\n",
      "[2022-12-06 06:26:06] iter = 4680, loss = 0.7067\n",
      "loading file ./buffers\\CIFAR10_NO_ZCA\\ConvNet\\replay_buffer_3.pt\n",
      "[2022-12-06 06:26:28] iter = 4690, loss = 0.5578\n",
      "loading file ./buffers\\CIFAR10_NO_ZCA\\ConvNet\\replay_buffer_2.pt\n",
      "-------------------------\n",
      "Evaluation\n",
      "model_train = ConvNet, model_eval = ConvNet, iteration = 4700\n",
      "DSA augmentation strategy: \n",
      " color_crop_cutout_flip_scale_rotate\n",
      "DSA augmentation parameters: \n",
      " {'aug_mode': 'S', 'prob_flip': 0.5, 'ratio_scale': 1.2, 'ratio_rotate': 15.0, 'ratio_crop_pad': 0.125, 'ratio_cutout': 0.5, 'ratio_noise': 0.05, 'brightness': 1.0, 'saturation': 2.0, 'contrast': 0.5, 'batchmode': False, 'latestseed': -1}\n"
     ]
    },
    {
     "name": "stderr",
     "output_type": "stream",
     "text": [
      "100%|██████████████████████████████████████████████████████████████████████████████| 1001/1001 [00:12<00:00, 79.01it/s]\n"
     ]
    },
    {
     "name": "stdout",
     "output_type": "stream",
     "text": [
      "[2022-12-06 06:27:01] Evaluate_00: epoch = 1000 train time = 12 s train loss = 0.000570 train acc = 1.0000, test acc = 0.6155\n"
     ]
    },
    {
     "name": "stderr",
     "output_type": "stream",
     "text": [
      "100%|██████████████████████████████████████████████████████████████████████████████| 1001/1001 [00:12<00:00, 78.47it/s]\n"
     ]
    },
    {
     "name": "stdout",
     "output_type": "stream",
     "text": [
      "[2022-12-06 06:27:14] Evaluate_01: epoch = 1000 train time = 12 s train loss = 0.004432 train acc = 1.0000, test acc = 0.5997\n"
     ]
    },
    {
     "name": "stderr",
     "output_type": "stream",
     "text": [
      "100%|██████████████████████████████████████████████████████████████████████████████| 1001/1001 [00:12<00:00, 77.62it/s]\n"
     ]
    },
    {
     "name": "stdout",
     "output_type": "stream",
     "text": [
      "[2022-12-06 06:27:27] Evaluate_02: epoch = 1000 train time = 12 s train loss = 0.000531 train acc = 1.0000, test acc = 0.6070\n"
     ]
    },
    {
     "name": "stderr",
     "output_type": "stream",
     "text": [
      "100%|██████████████████████████████████████████████████████████████████████████████| 1001/1001 [00:12<00:00, 78.67it/s]\n"
     ]
    },
    {
     "name": "stdout",
     "output_type": "stream",
     "text": [
      "[2022-12-06 06:27:39] Evaluate_03: epoch = 1000 train time = 12 s train loss = 0.000236 train acc = 1.0000, test acc = 0.6050\n"
     ]
    },
    {
     "name": "stderr",
     "output_type": "stream",
     "text": [
      "100%|██████████████████████████████████████████████████████████████████████████████| 1001/1001 [00:12<00:00, 78.45it/s]\n"
     ]
    },
    {
     "name": "stdout",
     "output_type": "stream",
     "text": [
      "[2022-12-06 06:27:52] Evaluate_04: epoch = 1000 train time = 12 s train loss = 0.003133 train acc = 1.0000, test acc = 0.6112\n",
      "Evaluate 5 random ConvNet, mean = 0.6077 std = 0.0054\n",
      "-------------------------\n",
      "[2022-12-06 06:27:55] iter = 4700, loss = 0.6949\n",
      "loading file ./buffers\\CIFAR10_NO_ZCA\\ConvNet\\replay_buffer_1.pt\n",
      "[2022-12-06 06:28:17] iter = 4710, loss = 0.6742\n",
      "loading file ./buffers\\CIFAR10_NO_ZCA\\ConvNet\\replay_buffer_4.pt\n",
      "[2022-12-06 06:28:39] iter = 4720, loss = 0.8890\n",
      "loading file ./buffers\\CIFAR10_NO_ZCA\\ConvNet\\replay_buffer_3.pt\n",
      "[2022-12-06 06:29:01] iter = 4730, loss = 0.6526\n",
      "loading file ./buffers\\CIFAR10_NO_ZCA\\ConvNet\\replay_buffer_0.pt\n",
      "[2022-12-06 06:29:23] iter = 4740, loss = 0.5849\n",
      "loading file ./buffers\\CIFAR10_NO_ZCA\\ConvNet\\replay_buffer_2.pt\n",
      "[2022-12-06 06:29:45] iter = 4750, loss = 0.7364\n",
      "loading file ./buffers\\CIFAR10_NO_ZCA\\ConvNet\\replay_buffer_1.pt\n",
      "[2022-12-06 06:30:07] iter = 4760, loss = 0.6260\n",
      "loading file ./buffers\\CIFAR10_NO_ZCA\\ConvNet\\replay_buffer_0.pt\n",
      "[2022-12-06 06:30:29] iter = 4770, loss = 0.8905\n",
      "loading file ./buffers\\CIFAR10_NO_ZCA\\ConvNet\\replay_buffer_3.pt\n",
      "[2022-12-06 06:30:51] iter = 4780, loss = 0.7797\n",
      "loading file ./buffers\\CIFAR10_NO_ZCA\\ConvNet\\replay_buffer_4.pt\n",
      "[2022-12-06 06:31:12] iter = 4790, loss = 0.6004\n",
      "loading file ./buffers\\CIFAR10_NO_ZCA\\ConvNet\\replay_buffer_4.pt\n",
      "-------------------------\n",
      "Evaluation\n",
      "model_train = ConvNet, model_eval = ConvNet, iteration = 4800\n",
      "DSA augmentation strategy: \n",
      " color_crop_cutout_flip_scale_rotate\n",
      "DSA augmentation parameters: \n",
      " {'aug_mode': 'S', 'prob_flip': 0.5, 'ratio_scale': 1.2, 'ratio_rotate': 15.0, 'ratio_crop_pad': 0.125, 'ratio_cutout': 0.5, 'ratio_noise': 0.05, 'brightness': 1.0, 'saturation': 2.0, 'contrast': 0.5, 'batchmode': False, 'latestseed': -1}\n"
     ]
    },
    {
     "name": "stderr",
     "output_type": "stream",
     "text": [
      "100%|██████████████████████████████████████████████████████████████████████████████| 1001/1001 [00:12<00:00, 77.88it/s]\n"
     ]
    },
    {
     "name": "stdout",
     "output_type": "stream",
     "text": [
      "[2022-12-06 06:31:45] Evaluate_00: epoch = 1000 train time = 12 s train loss = 0.000403 train acc = 1.0000, test acc = 0.6059\n"
     ]
    },
    {
     "name": "stderr",
     "output_type": "stream",
     "text": [
      "100%|██████████████████████████████████████████████████████████████████████████████| 1001/1001 [00:12<00:00, 79.12it/s]\n"
     ]
    },
    {
     "name": "stdout",
     "output_type": "stream",
     "text": [
      "[2022-12-06 06:31:58] Evaluate_01: epoch = 1000 train time = 12 s train loss = 0.003840 train acc = 1.0000, test acc = 0.6155\n"
     ]
    },
    {
     "name": "stderr",
     "output_type": "stream",
     "text": [
      "100%|██████████████████████████████████████████████████████████████████████████████| 1001/1001 [00:12<00:00, 78.56it/s]\n"
     ]
    },
    {
     "name": "stdout",
     "output_type": "stream",
     "text": [
      "[2022-12-06 06:32:11] Evaluate_02: epoch = 1000 train time = 12 s train loss = 0.000388 train acc = 1.0000, test acc = 0.6089\n"
     ]
    },
    {
     "name": "stderr",
     "output_type": "stream",
     "text": [
      "100%|██████████████████████████████████████████████████████████████████████████████| 1001/1001 [00:12<00:00, 78.46it/s]\n"
     ]
    },
    {
     "name": "stdout",
     "output_type": "stream",
     "text": [
      "[2022-12-06 06:32:24] Evaluate_03: epoch = 1000 train time = 12 s train loss = 0.000310 train acc = 1.0000, test acc = 0.6146\n"
     ]
    },
    {
     "name": "stderr",
     "output_type": "stream",
     "text": [
      "100%|██████████████████████████████████████████████████████████████████████████████| 1001/1001 [00:12<00:00, 77.23it/s]\n"
     ]
    },
    {
     "name": "stdout",
     "output_type": "stream",
     "text": [
      "[2022-12-06 06:32:37] Evaluate_04: epoch = 1000 train time = 12 s train loss = 0.000306 train acc = 1.0000, test acc = 0.6100\n",
      "Evaluate 5 random ConvNet, mean = 0.6110 std = 0.0036\n",
      "-------------------------\n",
      "[2022-12-06 06:32:39] iter = 4800, loss = 0.9039\n",
      "loading file ./buffers\\CIFAR10_NO_ZCA\\ConvNet\\replay_buffer_2.pt\n",
      "[2022-12-06 06:33:01] iter = 4810, loss = 0.9039\n",
      "loading file ./buffers\\CIFAR10_NO_ZCA\\ConvNet\\replay_buffer_0.pt\n",
      "[2022-12-06 06:33:23] iter = 4820, loss = 0.7029\n",
      "loading file ./buffers\\CIFAR10_NO_ZCA\\ConvNet\\replay_buffer_1.pt\n",
      "[2022-12-06 06:33:45] iter = 4830, loss = 0.6520\n",
      "loading file ./buffers\\CIFAR10_NO_ZCA\\ConvNet\\replay_buffer_3.pt\n",
      "[2022-12-06 06:34:07] iter = 4840, loss = 0.6831\n",
      "loading file ./buffers\\CIFAR10_NO_ZCA\\ConvNet\\replay_buffer_1.pt\n",
      "[2022-12-06 06:34:29] iter = 4850, loss = 0.6558\n",
      "loading file ./buffers\\CIFAR10_NO_ZCA\\ConvNet\\replay_buffer_0.pt\n",
      "[2022-12-06 06:34:51] iter = 4860, loss = 0.9377\n",
      "loading file ./buffers\\CIFAR10_NO_ZCA\\ConvNet\\replay_buffer_2.pt\n",
      "[2022-12-06 06:35:13] iter = 4870, loss = 0.5661\n",
      "loading file ./buffers\\CIFAR10_NO_ZCA\\ConvNet\\replay_buffer_4.pt\n",
      "[2022-12-06 06:35:35] iter = 4880, loss = 0.5865\n",
      "loading file ./buffers\\CIFAR10_NO_ZCA\\ConvNet\\replay_buffer_3.pt\n",
      "[2022-12-06 06:35:57] iter = 4890, loss = 0.5904\n",
      "loading file ./buffers\\CIFAR10_NO_ZCA\\ConvNet\\replay_buffer_4.pt\n",
      "-------------------------\n",
      "Evaluation\n",
      "model_train = ConvNet, model_eval = ConvNet, iteration = 4900\n",
      "DSA augmentation strategy: \n",
      " color_crop_cutout_flip_scale_rotate\n",
      "DSA augmentation parameters: \n",
      " {'aug_mode': 'S', 'prob_flip': 0.5, 'ratio_scale': 1.2, 'ratio_rotate': 15.0, 'ratio_crop_pad': 0.125, 'ratio_cutout': 0.5, 'ratio_noise': 0.05, 'brightness': 1.0, 'saturation': 2.0, 'contrast': 0.5, 'batchmode': False, 'latestseed': -1}\n"
     ]
    },
    {
     "name": "stderr",
     "output_type": "stream",
     "text": [
      "100%|██████████████████████████████████████████████████████████████████████████████| 1001/1001 [00:12<00:00, 78.53it/s]\n"
     ]
    },
    {
     "name": "stdout",
     "output_type": "stream",
     "text": [
      "[2022-12-06 06:36:29] Evaluate_00: epoch = 1000 train time = 12 s train loss = 0.000281 train acc = 1.0000, test acc = 0.6022\n"
     ]
    },
    {
     "name": "stderr",
     "output_type": "stream",
     "text": [
      "100%|██████████████████████████████████████████████████████████████████████████████| 1001/1001 [00:12<00:00, 78.69it/s]\n"
     ]
    },
    {
     "name": "stdout",
     "output_type": "stream",
     "text": [
      "[2022-12-06 06:36:42] Evaluate_01: epoch = 1000 train time = 12 s train loss = 0.002531 train acc = 1.0000, test acc = 0.6080\n"
     ]
    },
    {
     "name": "stderr",
     "output_type": "stream",
     "text": [
      "100%|██████████████████████████████████████████████████████████████████████████████| 1001/1001 [00:12<00:00, 77.44it/s]\n"
     ]
    },
    {
     "name": "stdout",
     "output_type": "stream",
     "text": [
      "[2022-12-06 06:36:55] Evaluate_02: epoch = 1000 train time = 12 s train loss = 0.000223 train acc = 1.0000, test acc = 0.6118\n"
     ]
    },
    {
     "name": "stderr",
     "output_type": "stream",
     "text": [
      "100%|██████████████████████████████████████████████████████████████████████████████| 1001/1001 [00:12<00:00, 78.49it/s]\n"
     ]
    },
    {
     "name": "stdout",
     "output_type": "stream",
     "text": [
      "[2022-12-06 06:37:08] Evaluate_03: epoch = 1000 train time = 12 s train loss = 0.001685 train acc = 1.0000, test acc = 0.6100\n"
     ]
    },
    {
     "name": "stderr",
     "output_type": "stream",
     "text": [
      "100%|██████████████████████████████████████████████████████████████████████████████| 1001/1001 [00:12<00:00, 78.38it/s]\n"
     ]
    },
    {
     "name": "stdout",
     "output_type": "stream",
     "text": [
      "[2022-12-06 06:37:21] Evaluate_04: epoch = 1000 train time = 12 s train loss = 0.000409 train acc = 1.0000, test acc = 0.6026\n",
      "Evaluate 5 random ConvNet, mean = 0.6069 std = 0.0039\n",
      "-------------------------\n",
      "[2022-12-06 06:37:23] iter = 4900, loss = 0.8985\n",
      "loading file ./buffers\\CIFAR10_NO_ZCA\\ConvNet\\replay_buffer_3.pt\n",
      "[2022-12-06 06:37:45] iter = 4910, loss = 0.5907\n",
      "loading file ./buffers\\CIFAR10_NO_ZCA\\ConvNet\\replay_buffer_0.pt\n",
      "[2022-12-06 06:38:07] iter = 4920, loss = 0.6755\n",
      "loading file ./buffers\\CIFAR10_NO_ZCA\\ConvNet\\replay_buffer_1.pt\n",
      "[2022-12-06 06:38:29] iter = 4930, loss = 0.7002\n",
      "loading file ./buffers\\CIFAR10_NO_ZCA\\ConvNet\\replay_buffer_2.pt\n",
      "[2022-12-06 06:38:52] iter = 4940, loss = 0.7005\n",
      "loading file ./buffers\\CIFAR10_NO_ZCA\\ConvNet\\replay_buffer_2.pt\n",
      "[2022-12-06 06:39:14] iter = 4950, loss = 0.6120\n",
      "loading file ./buffers\\CIFAR10_NO_ZCA\\ConvNet\\replay_buffer_1.pt\n",
      "[2022-12-06 06:39:36] iter = 4960, loss = 0.6351\n",
      "loading file ./buffers\\CIFAR10_NO_ZCA\\ConvNet\\replay_buffer_3.pt\n",
      "[2022-12-06 06:39:58] iter = 4970, loss = 0.9018\n",
      "loading file ./buffers\\CIFAR10_NO_ZCA\\ConvNet\\replay_buffer_4.pt\n",
      "[2022-12-06 06:40:21] iter = 4980, loss = 0.8325\n",
      "loading file ./buffers\\CIFAR10_NO_ZCA\\ConvNet\\replay_buffer_0.pt\n",
      "[2022-12-06 06:40:43] iter = 4990, loss = 0.8788\n",
      "loading file ./buffers\\CIFAR10_NO_ZCA\\ConvNet\\replay_buffer_3.pt\n",
      "-------------------------\n",
      "Evaluation\n",
      "model_train = ConvNet, model_eval = ConvNet, iteration = 5000\n",
      "DSA augmentation strategy: \n",
      " color_crop_cutout_flip_scale_rotate\n",
      "DSA augmentation parameters: \n",
      " {'aug_mode': 'S', 'prob_flip': 0.5, 'ratio_scale': 1.2, 'ratio_rotate': 15.0, 'ratio_crop_pad': 0.125, 'ratio_cutout': 0.5, 'ratio_noise': 0.05, 'brightness': 1.0, 'saturation': 2.0, 'contrast': 0.5, 'batchmode': False, 'latestseed': -1}\n"
     ]
    },
    {
     "name": "stderr",
     "output_type": "stream",
     "text": [
      "100%|██████████████████████████████████████████████████████████████████████████████| 1001/1001 [00:12<00:00, 78.51it/s]\n"
     ]
    },
    {
     "name": "stdout",
     "output_type": "stream",
     "text": [
      "[2022-12-06 06:41:16] Evaluate_00: epoch = 1000 train time = 12 s train loss = 0.003355 train acc = 1.0000, test acc = 0.5912\n"
     ]
    },
    {
     "name": "stderr",
     "output_type": "stream",
     "text": [
      "100%|██████████████████████████████████████████████████████████████████████████████| 1001/1001 [00:12<00:00, 77.51it/s]\n"
     ]
    },
    {
     "name": "stdout",
     "output_type": "stream",
     "text": [
      "[2022-12-06 06:41:29] Evaluate_01: epoch = 1000 train time = 12 s train loss = 0.000414 train acc = 1.0000, test acc = 0.5898\n"
     ]
    },
    {
     "name": "stderr",
     "output_type": "stream",
     "text": [
      "100%|██████████████████████████████████████████████████████████████████████████████| 1001/1001 [00:12<00:00, 78.57it/s]\n"
     ]
    },
    {
     "name": "stdout",
     "output_type": "stream",
     "text": [
      "[2022-12-06 06:41:41] Evaluate_02: epoch = 1000 train time = 12 s train loss = 0.001302 train acc = 1.0000, test acc = 0.5971\n"
     ]
    },
    {
     "name": "stderr",
     "output_type": "stream",
     "text": [
      "100%|██████████████████████████████████████████████████████████████████████████████| 1001/1001 [00:12<00:00, 78.63it/s]\n"
     ]
    },
    {
     "name": "stdout",
     "output_type": "stream",
     "text": [
      "[2022-12-06 06:41:54] Evaluate_03: epoch = 1000 train time = 12 s train loss = 0.000390 train acc = 1.0000, test acc = 0.6000\n"
     ]
    },
    {
     "name": "stderr",
     "output_type": "stream",
     "text": [
      "100%|██████████████████████████████████████████████████████████████████████████████| 1001/1001 [00:12<00:00, 77.78it/s]\n"
     ]
    },
    {
     "name": "stdout",
     "output_type": "stream",
     "text": [
      "[2022-12-06 06:42:07] Evaluate_04: epoch = 1000 train time = 12 s train loss = 0.004025 train acc = 1.0000, test acc = 0.5920\n",
      "Evaluate 5 random ConvNet, mean = 0.5940 std = 0.0039\n",
      "-------------------------\n",
      "[2022-12-06 06:42:10] iter = 5000, loss = 0.8608\n"
     ]
    },
    {
     "data": {
      "text/html": [
       "Waiting for W&B process to finish... <strong style=\"color:green\">(success).</strong>"
      ],
      "text/plain": [
       "<IPython.core.display.HTML object>"
      ]
     },
     "metadata": {},
     "output_type": "display_data"
    },
    {
     "data": {
      "text/html": [
       "<style>\n",
       "    table.wandb td:nth-child(1) { padding: 0 10px; text-align: left ; width: auto;} td:nth-child(2) {text-align: left ; width: 100%}\n",
       "    .wandb-row { display: flex; flex-direction: row; flex-wrap: wrap; justify-content: flex-start; width: 100% }\n",
       "    .wandb-col { display: flex; flex-direction: column; flex-basis: 100%; flex: 1; padding: 10px; }\n",
       "    </style>\n",
       "<div class=\"wandb-row\"><div class=\"wandb-col\"><h3>Run history:</h3><br/><table class=\"wandb\"><tr><td>Accuracy/ConvNet</td><td>▁▅▆▇▇▇▇▇█▇█████████████████████████████▇</td></tr><tr><td>Grand_Loss</td><td>▅▆▃█▄▆▃▅▃█▃▁▆▄▇▆▂▂▂▁▁▆▂▄▃▂▆█▆▆▆▃█▃▃▄▆▅▆█</td></tr><tr><td>Max_Accuracy/ConvNet</td><td>▁▅▆▇▇▇▇▇████████████████████████████████</td></tr><tr><td>Max_Std/ConvNet</td><td>▂▁▁█▆██▅▂▂▂▂▂▂▇▇▇▅▅▅▆▆▆▆▄▄▄▄▄▄▄▄▄▄▄▄▄▄▄▄</td></tr><tr><td>Progress</td><td>▁▁▁▁▂▂▂▂▂▃▃▃▃▃▃▄▄▄▄▄▅▅▅▅▅▅▆▆▆▆▆▇▇▇▇▇▇███</td></tr><tr><td>Start_Epoch</td><td>▃▃▂▇▃▅▃▄▁▇▁▂▅▃▆▅▃▃▂▂▂▅▃▁▁▂▅▇▅▅▆▁█▄▃▁▅▅▅█</td></tr><tr><td>Std/ConvNet</td><td>▂▂▂▆▄▅▄▄▃▂▂▂▃█▅▄▂▄▄▂▅▇▇▅▄▁▂▇▃▅▅▆▄▂▅▄▆▄▂▂</td></tr><tr><td>Synthetic_LR</td><td>▁▃▄▅▆▆▇▇▇▇▇████▇▇█████▇███████▇██████▇▇▇</td></tr></table><br/></div><div class=\"wandb-col\"><h3>Run summary:</h3><br/><table class=\"wandb\"><tr><td>Accuracy/ConvNet</td><td>0.59402</td></tr><tr><td>Grand_Loss</td><td>0.86079</td></tr><tr><td>Max_Accuracy/ConvNet</td><td>0.61568</td></tr><tr><td>Max_Std/ConvNet</td><td>0.00512</td></tr><tr><td>Progress</td><td>5000</td></tr><tr><td>Start_Epoch</td><td>11</td></tr><tr><td>Std/ConvNet</td><td>0.00388</td></tr><tr><td>Synthetic_LR</td><td>0.02497</td></tr></table><br/></div></div>"
      ],
      "text/plain": [
       "<IPython.core.display.HTML object>"
      ]
     },
     "metadata": {},
     "output_type": "display_data"
    },
    {
     "data": {
      "text/html": [
       "Synced <strong style=\"color:#cdcd00\">skilled-pyramid-14</strong>: <a href=\"https://wandb.ai/1512-project/DatasetDistillation/runs/2t4dg8wt\" target=\"_blank\">https://wandb.ai/1512-project/DatasetDistillation/runs/2t4dg8wt</a><br/>Synced 6 W&B file(s), 38 media file(s), 0 artifact file(s) and 0 other file(s)"
      ],
      "text/plain": [
       "<IPython.core.display.HTML object>"
      ]
     },
     "metadata": {},
     "output_type": "display_data"
    },
    {
     "data": {
      "text/html": [
       "Find logs at: <code>.\\wandb\\run-20221206_024240-2t4dg8wt\\logs</code>"
      ],
      "text/plain": [
       "<IPython.core.display.HTML object>"
      ]
     },
     "metadata": {},
     "output_type": "display_data"
    }
   ],
   "source": [
    "image_syn, label_syn = main(args)"
   ]
  },
  {
   "cell_type": "code",
   "execution_count": 7,
   "id": "e31a821c-dd27-4994-b8e1-3e128e1006b3",
   "metadata": {},
   "outputs": [
    {
     "name": "stdout",
     "output_type": "stream",
     "text": [
      "tensor([0, 0, 0, 0, 0, 0, 0, 0, 0, 0, 1, 1, 1, 1, 1, 1, 1, 1, 1, 1, 2, 2, 2, 2,\n",
      "        2, 2, 2, 2, 2, 2, 3, 3, 3, 3, 3, 3, 3, 3, 3, 3, 4, 4, 4, 4, 4, 4, 4, 4,\n",
      "        4, 4, 5, 5, 5, 5, 5, 5, 5, 5, 5, 5, 6, 6, 6, 6, 6, 6, 6, 6, 6, 6, 7, 7,\n",
      "        7, 7, 7, 7, 7, 7, 7, 7, 8, 8, 8, 8, 8, 8, 8, 8, 8, 8, 9, 9, 9, 9, 9, 9,\n",
      "        9, 9, 9, 9], device='cuda:0')\n"
     ]
    }
   ],
   "source": [
    "print(label_syn)"
   ]
  },
  {
   "cell_type": "code",
   "execution_count": 8,
   "id": "eae1356e-4b5d-4a19-aa8e-f8284bd302d9",
   "metadata": {},
   "outputs": [],
   "source": [
    "def epoch(mode, dataloader, net, optimizer, criterion,device):\n",
    "    loss_avg, acc_avg, num_exp = 0,0,0\n",
    "    net = net.to(device)\n",
    "    criterion = criterion.to(device)\n",
    "    if mode == 'train':\n",
    "        net.train()\n",
    "    else:\n",
    "        net.eval()\n",
    "    scheduler = torch.optim.lr_scheduler.CosineAnnealingLR(optimizer, T_max = 10)\n",
    "    for i_batch,datum in enumerate(dataloader):\n",
    "        img = datum[0].float().to(device)\n",
    "        lab = datum[1].long().to(device)\n",
    "        n_b = lab.shape[0]\n",
    "        \n",
    "        output = net(img)\n",
    "        loss = criterion(output,lab)\n",
    "        acc = np.sum(np.equal(np.argmax(output.cpu().data.numpy(), axis=-1), lab.cpu().data.numpy()))\n",
    "        \n",
    "        loss_avg += loss.item()*n_b\n",
    "        acc_avg += acc\n",
    "        num_exp += n_b\n",
    "        \n",
    "        if mode == 'train':\n",
    "            optimizer.zero_grad()\n",
    "            loss.backward()\n",
    "            optimizer.step()\n",
    "            scheduler.step()\n",
    "    loss_avg /= num_exp\n",
    "    acc_avg /= num_exp\n",
    "    \n",
    "    return loss_avg, acc_avg\n",
    "\n",
    "\n",
    "def train_with_dataset(net, images_train, labels_train, testloader,device):\n",
    "    net = net.to(device)\n",
    "    images_train = images_train.to(device)\n",
    "    labels_train = labels_train.to(device)\n",
    "    lr = 0.01\n",
    "    Epoch = 20\n",
    "    optimizer = torch.optim.SGD(net.parameters(), lr = lr, momentum = 0.9, weight_decay = 0.0005)\n",
    "    criterion = nn.CrossEntropyLoss().to(device)\n",
    "    dst_train = TensorDataset(images_train,labels_train)\n",
    "    trainloader = torch.utils.data.DataLoader(dst_train, batch_size = 256, shuffle = True, num_workers = 0)\n",
    "    for ep in range(Epoch):\n",
    "        loss_train, acc_train = epoch('train',trainloader, net, optimizer, criterion, device)\n",
    "        print(\"loss train: {}, acc_train: {}\".format(loss_train, acc_train))\n",
    "    loss_test, acc_test = epoch('test', testloader, net, optimizer, criterion, device)\n",
    "    return acc_train, acc_test\n"
   ]
  },
  {
   "cell_type": "code",
   "execution_count": 9,
   "id": "3dfc45a4-d135-4881-96fa-7baf40819586",
   "metadata": {},
   "outputs": [],
   "source": [
    "# ----------------CIFAR Dataset Baseline----------------------------------"
   ]
  },
  {
   "cell_type": "code",
   "execution_count": 10,
   "id": "ce318030-390c-4b33-9a8b-56a52640e54b",
   "metadata": {},
   "outputs": [
    {
     "name": "stdout",
     "output_type": "stream",
     "text": [
      "Files already downloaded and verified\n",
      "Files already downloaded and verified\n",
      "BUILDING DATASET\n"
     ]
    },
    {
     "name": "stderr",
     "output_type": "stream",
     "text": [
      "100%|██████████████████████████████████████████████████████████████████████████| 50000/50000 [00:10<00:00, 4806.81it/s]\n",
      "50000it [00:00, 2179674.48it/s]\n"
     ]
    }
   ],
   "source": [
    "channel, im_size, num_classes, class_names, mean, std, dst_train, dst_test, testloader, loader_train_dict, class_map, class_map_inv = get_dataset(args.dataset, args.data_path, args.batch_real, args.subset, args=args)\n",
    "\n",
    "images_all = []\n",
    "labels_all = []\n",
    "indices_class = [[] for c in range(num_classes)]\n",
    "print(\"BUILDING DATASET\")\n",
    "for i in tqdm(range(len(dst_train))):\n",
    "    sample = dst_train[i]\n",
    "    images_all.append(torch.unsqueeze(sample[0], dim=0))\n",
    "    labels_all.append(class_map[torch.tensor(sample[1]).item()])\n",
    "\n",
    "for i, lab in tqdm(enumerate(labels_all)):\n",
    "    indices_class[lab].append(i)\n",
    "images_all = torch.cat(images_all, dim=0).to(\"cpu\")\n",
    "labels_all = torch.tensor(labels_all, dtype=torch.long, device=\"cpu\")\n",
    "\n"
   ]
  },
  {
   "cell_type": "code",
   "execution_count": 67,
   "id": "bf2585ac-f399-420c-a9c6-f1f6eeda8b76",
   "metadata": {},
   "outputs": [
    {
     "name": "stdout",
     "output_type": "stream",
     "text": [
      "10\n"
     ]
    }
   ],
   "source": [
    "print(num_classes)"
   ]
  },
  {
   "cell_type": "code",
   "execution_count": 11,
   "id": "ce7a853c-007d-4436-9a9c-5ccad79243c1",
   "metadata": {},
   "outputs": [],
   "source": [
    "net = get_network('ConvNet', channel, num_classes, im_size).to(args.device)\n",
    "images, labels = copy.deepcopy(images_all.detach()), copy.deepcopy(labels_all.detach())"
   ]
  },
  {
   "cell_type": "code",
   "execution_count": 12,
   "id": "ad3059c6-f3e5-49e5-8184-41d1b89d9ecc",
   "metadata": {},
   "outputs": [
    {
     "name": "stdout",
     "output_type": "stream",
     "text": [
      "loss train: 1.5458141270828247, acc_train: 0.46004\n",
      "loss train: 1.1348182203292847, acc_train: 0.6086\n",
      "loss train: 0.9768042590332031, acc_train: 0.66484\n",
      "loss train: 0.8667140663337708, acc_train: 0.70332\n",
      "loss train: 0.7886089546012879, acc_train: 0.7336\n",
      "loss train: 0.7327367053794861, acc_train: 0.75302\n",
      "loss train: 0.6789219907188415, acc_train: 0.77186\n",
      "loss train: 0.6488300566864014, acc_train: 0.77914\n",
      "loss train: 0.6147946351242065, acc_train: 0.79082\n",
      "loss train: 0.5747826115036011, acc_train: 0.80764\n",
      "loss train: 0.5360389952850342, acc_train: 0.82158\n",
      "loss train: 0.525631457080841, acc_train: 0.82328\n",
      "loss train: 0.5057268027687073, acc_train: 0.83034\n",
      "loss train: 0.4745848100948334, acc_train: 0.84118\n",
      "loss train: 0.44133560585021975, acc_train: 0.85454\n",
      "loss train: 0.4221388782501221, acc_train: 0.8611\n",
      "loss train: 0.40991880661010743, acc_train: 0.86568\n",
      "loss train: 0.38320010358810425, acc_train: 0.87518\n",
      "loss train: 0.3655198347473145, acc_train: 0.88184\n",
      "loss train: 0.3504759517478943, acc_train: 0.88806\n",
      "Test Acc 0.7808\n"
     ]
    }
   ],
   "source": [
    "acc_train, acc_test = train_with_dataset(net,images, labels, testloader, args.device)\n",
    "print(\"Test Acc {}\".format( acc_test))"
   ]
  },
  {
   "cell_type": "code",
   "execution_count": 13,
   "id": "bd3943b2-523e-4d58-80dc-bcf88a324916",
   "metadata": {},
   "outputs": [],
   "source": [
    "#-------------------CIFAR Sync Data------------------------------------"
   ]
  },
  {
   "cell_type": "code",
   "execution_count": 15,
   "id": "203323ff-7cec-45c1-a3f2-6e64e746daa4",
   "metadata": {},
   "outputs": [
    {
     "name": "stdout",
     "output_type": "stream",
     "text": [
      "loss train: 2.359267234802246, acc_train: 0.08\n",
      "loss train: 2.305011034011841, acc_train: 0.12\n",
      "loss train: 2.2336618900299072, acc_train: 0.21\n",
      "loss train: 2.1659324169158936, acc_train: 0.25\n",
      "loss train: 2.0942673683166504, acc_train: 0.33\n",
      "loss train: 2.006448984146118, acc_train: 0.4\n",
      "loss train: 1.9092174768447876, acc_train: 0.65\n",
      "loss train: 1.8177409172058105, acc_train: 0.82\n",
      "loss train: 1.7378085851669312, acc_train: 0.81\n",
      "loss train: 1.6623742580413818, acc_train: 0.75\n",
      "loss train: 1.582899570465088, acc_train: 0.78\n",
      "loss train: 1.4999313354492188, acc_train: 0.83\n",
      "loss train: 1.4189307689666748, acc_train: 0.91\n",
      "loss train: 1.3440018892288208, acc_train: 0.91\n",
      "loss train: 1.2733107805252075, acc_train: 0.93\n",
      "loss train: 1.2030750513076782, acc_train: 0.95\n",
      "loss train: 1.1319321393966675, acc_train: 0.97\n",
      "loss train: 1.0614135265350342, acc_train: 0.99\n",
      "loss train: 0.9939176440238953, acc_train: 1.0\n",
      "loss train: 0.9304765462875366, acc_train: 1.0\n",
      " Acc test 0.3832\n"
     ]
    }
   ],
   "source": [
    "net = get_network('ConvNet', channel, num_classes, im_size).to(args.device)\n",
    "acc_train,acc_test = train_with_dataset(net,image_syn, label_syn, testloader, args.device)\n",
    "print(\" Acc test {}\".format( acc_test))"
   ]
  },
  {
   "cell_type": "code",
   "execution_count": null,
   "id": "c3c2ea01-ef30-499a-98f1-ecf53c96c442",
   "metadata": {},
   "outputs": [],
   "source": []
  }
 ],
 "metadata": {
  "kernelspec": {
   "display_name": "Python 3 (ipykernel)",
   "language": "python",
   "name": "python3"
  },
  "language_info": {
   "codemirror_mode": {
    "name": "ipython",
    "version": 3
   },
   "file_extension": ".py",
   "mimetype": "text/x-python",
   "name": "python",
   "nbconvert_exporter": "python",
   "pygments_lexer": "ipython3",
   "version": "3.8.15"
  }
 },
 "nbformat": 4,
 "nbformat_minor": 5
}
