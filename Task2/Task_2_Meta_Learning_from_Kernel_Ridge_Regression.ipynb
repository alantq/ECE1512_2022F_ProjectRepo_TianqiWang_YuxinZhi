{
  "cells": [
    {
      "attachments": {},
      "cell_type": "markdown",
      "metadata": {
        "id": "txNTHnugxKGe"
      },
      "source": [
        "# Demonstration of KIP and Label Solve algorithms"
      ]
    },
    {
      "cell_type": "markdown",
      "metadata": {
        "id": "ETZ1YWxfn_q2"
      },
      "source": [
        "# Imports"
      ]
    },
    {
      "cell_type": "code",
      "execution_count": 1,
      "metadata": {
        "id": "eAsNM11umxLz",
        "vscode": {
          "languageId": "python"
        }
      },
      "outputs": [],
      "source": [
        "import dataclasses\n",
        "import functools\n",
        "from typing import Callable, Optional\n",
        "\n",
        "from jax.example_libraries import optimizers\n",
        "import jax\n",
        "import jax.config\n",
        "from jax.config import config as jax_config\n",
        "jax_config.update('jax_enable_x64', True) # for numerical stability, can disable if not an issue\n",
        "from jax import numpy as jnp\n",
        "from jax import scipy as sp\n",
        "import numpy as np\n",
        "import tensorflow as tf\n",
        "import tensorflow_datasets as tfds\n",
        "\n",
        "import matplotlib.pyplot as plt\n",
        "%matplotlib inline"
      ]
    },
    {
      "cell_type": "code",
      "execution_count": 2,
      "metadata": {
        "id": "8RRu_vG2nbjF",
        "vscode": {
          "languageId": "python"
        }
      },
      "outputs": [],
      "source": [
        "!pip install -q git+https://www.github.com/google/neural-tangents"
      ]
    },
    {
      "cell_type": "code",
      "execution_count": 3,
      "metadata": {
        "id": "6wgJY0hqncuM",
        "vscode": {
          "languageId": "python"
        }
      },
      "outputs": [],
      "source": [
        "import neural_tangents as nt\n",
        "from neural_tangents import stax"
      ]
    },
    {
      "cell_type": "markdown",
      "metadata": {
        "id": "L5MsuE5poiWH"
      },
      "source": [
        "# Define Parameters"
      ]
    },
    {
      "cell_type": "code",
      "execution_count": 4,
      "metadata": {
        "id": "lbyEeP8FxOKM",
        "vscode": {
          "languageId": "python"
        }
      },
      "outputs": [],
      "source": [
        "# architecture params\n",
        "ARCHITECTURE = 'FC' #@param ['FC', 'Conv', 'Myrtle']; choice of neural network architecture yielding the corresponding NTK\n",
        "DEPTH =  1#@param {'type': int}; depth of neural network\n",
        "WIDTH = 1024 #@param {'type': int}; width of finite width neural network; only used if parameterization is 'standard'\n",
        "PARAMETERIZATION = 'ntk' #@param ['ntk', 'standard']; whether to use standard or NTK parameterization, see https://arxiv.org/abs/2001.07301\n",
        "\n",
        "# dataset\n",
        "DATASET = 'mnist' #@param ['cifar10', 'cifar100', 'mnist', 'svhn_cropped']\n",
        "\n",
        "# training params\n",
        "LEARNING_RATE = 4e-2 #@param {'type': float};\n",
        "SUPPORT_SIZE = 100  #@param {'type': int}; number of images to learn\n",
        "TARGET_BATCH_SIZE = 5000  #@param {'type': int}; number of target images to use in KRR for each step\n",
        "LEARN_LABELS = False #@param {'type': bool}; whether to optimize over support labels during training"
      ]
    },
    {
      "cell_type": "markdown",
      "metadata": {
        "id": "J_MMTsKRoNyR"
      },
      "source": [
        "# Load Data"
      ]
    },
    {
      "cell_type": "code",
      "execution_count": 5,
      "metadata": {
        "id": "HgF2vzW1oPZF",
        "vscode": {
          "languageId": "python"
        }
      },
      "outputs": [],
      "source": [
        "def get_tfds_dataset(name):\n",
        "  ds_train, ds_test = tfds.as_numpy(\n",
        "      tfds.load(\n",
        "          name,\n",
        "          split=['train', 'test'],\n",
        "          batch_size=-1,\n",
        "          as_dataset_kwargs={'shuffle_files': False}))\n",
        "\n",
        "  return ds_train['image'], ds_train['label'], ds_test['image'], ds_test['label']\n",
        "\n",
        "def one_hot(x,\n",
        "            num_classes,\n",
        "            center=True,\n",
        "            dtype=np.float32):\n",
        "  assert len(x.shape) == 1\n",
        "  one_hot_vectors = np.array(x[:, None] == np.arange(num_classes), dtype)\n",
        "  if center:\n",
        "    one_hot_vectors = one_hot_vectors - 1. / num_classes\n",
        "  return one_hot_vectors\n",
        "\n",
        "def get_normalization_data(arr):\n",
        "  channel_means = np.mean(arr, axis=(0, 1, 2))\n",
        "  channel_stds = np.std(arr, axis=(0, 1, 2))\n",
        "  return channel_means, channel_stds\n",
        "\n",
        "def normalize(array, mean, std):\n",
        "  return (array - mean) / std\n",
        "\n",
        "def unnormalize(array, mean, std):\n",
        "  return (array * std) + mean\n",
        "\n",
        "\n",
        "X_TRAIN_RAW, LABELS_TRAIN, X_TEST_RAW, LABELS_TEST = get_tfds_dataset(DATASET)\n",
        "channel_means, channel_stds = get_normalization_data(X_TRAIN_RAW)\n",
        "X_TRAIN, X_TEST = normalize(X_TRAIN_RAW, channel_means, channel_stds), normalize(X_TEST_RAW, channel_means, channel_stds) \n",
        "Y_TRAIN, Y_TEST = one_hot(LABELS_TRAIN, 10), one_hot(LABELS_TEST, 10) "
      ]
    },
    {
      "cell_type": "markdown",
      "metadata": {
        "id": "UqU9zsUsEUHQ"
      },
      "source": [
        "Augmentation class used to augment images"
      ]
    },
    {
      "cell_type": "code",
      "execution_count": 6,
      "metadata": {
        "id": "DNdLyttkEYY2",
        "vscode": {
          "languageId": "python"
        }
      },
      "outputs": [],
      "source": [
        "@dataclasses.dataclass\n",
        "class Augmentor:\n",
        "  \"\"\"Class for creating augmentation function.\"\"\"\n",
        "\n",
        "  # function applied after augmentations (maps uint8 image to float image)\n",
        "  # if standard preprocessing, this should be function which does channel-wise\n",
        "  # standardization\n",
        "  preprocessing_function: Callable[[np.ndarray], np.ndarray]\n",
        "\n",
        "  # need this to unnormalize images if they are already normalized\n",
        "  # before applying augmentations\n",
        "  channel_means: Optional[np.ndarray] = None\n",
        "  channel_stds: Optional[np.ndarray] = None\n",
        "\n",
        "  # Specify these to augment at custom rate\n",
        "  augmentation_frac: float = 1.0\n",
        "  rotation_range: float = 0.0\n",
        "  width_shift_range: float = 0.0\n",
        "  height_shift_range: float = 0.0\n",
        "  horizontal_flip: bool = False\n",
        "  channel_shift_range: float = 0.0\n",
        "\n",
        "  def __post_init__(self):\n",
        "    self.aug_generator = tf.keras.preprocessing.image.ImageDataGenerator(\n",
        "        rotation_range=self.rotation_range,\n",
        "        width_shift_range=self.width_shift_range,\n",
        "        height_shift_range=self.height_shift_range,\n",
        "        horizontal_flip=self.horizontal_flip,\n",
        "        channel_shift_range=self.channel_shift_range,\n",
        "        preprocessing_function=self.preprocessing_function,\n",
        "    )\n",
        "\n",
        "  def __call__(self,\n",
        "               x: np.ndarray,\n",
        "               normalized: bool = True,\n",
        "               seed: Optional[int] = None):\n",
        "    \"\"\"Augments a numpy array of images.\n",
        "\n",
        "    Args:\n",
        "      x: image array (B,H,W,C)\n",
        "      normalized: if True, then image is assumed to be standard preprocessed and\n",
        "        therefore must be unnormalized before augmented\n",
        "      seed: random seed for augmentations\n",
        "\n",
        "    Returns:\n",
        "      augmented images\n",
        "    \"\"\"\n",
        "\n",
        "    if self.augmentation_frac == 0.0:\n",
        "      return x\n",
        "\n",
        "    permutation = np.random.permutation(x.shape[0])\n",
        "    inv_permutation = get_inverse_permutation(permutation)\n",
        "    num_aug_images = int(self.augmentation_frac * x.shape[0])\n",
        "\n",
        "    x = x[permutation]\n",
        "    if normalized:\n",
        "      x_raw = unnormalize(x, self.channel_means, self.channel_stds)\n",
        "    else:\n",
        "      x_raw = x\n",
        "\n",
        "    iterator = self.aug_generator.flow(  # pytype: disable=attribute-error\n",
        "        x_raw[:num_aug_images],\n",
        "        batch_size=num_aug_images,\n",
        "        shuffle=False,\n",
        "        seed=seed)\n",
        "    x_aug = next(iterator)\n",
        "    x_aug = np.concatenate([x_aug, x[num_aug_images:]])\n",
        "    return x_aug[inv_permutation]\n",
        "\n",
        "def get_inverse_permutation(perm):\n",
        "  array = np.zeros_like(perm)\n",
        "  array[perm] = np.arange(len(perm), dtype=int)\n",
        "  return array"
      ]
    },
    {
      "cell_type": "markdown",
      "metadata": {
        "id": "w8yR-mNeoP4K"
      },
      "source": [
        "# Define Kernel"
      ]
    },
    {
      "cell_type": "code",
      "execution_count": 7,
      "metadata": {
        "id": "9sLlI8URoTGv",
        "vscode": {
          "languageId": "python"
        }
      },
      "outputs": [],
      "source": [
        "# define architectures\n",
        "\n",
        "def FullyConnectedNetwork( \n",
        "    depth,\n",
        "    width,\n",
        "    W_std = np.sqrt(2), \n",
        "    b_std = 0.1,\n",
        "    num_classes = 10,\n",
        "    parameterization = 'ntk',\n",
        "    activation = 'relu'):\n",
        "  \"\"\"Returns neural_tangents.stax fully connected network.\"\"\"\n",
        "  activation_fn = stax.Relu()\n",
        "  dense = functools.partial(\n",
        "      stax.Dense, W_std=W_std, b_std=b_std, parameterization=parameterization)\n",
        "\n",
        "  layers = [stax.Flatten()]\n",
        "  for _ in range(depth):\n",
        "    layers += [dense(width), activation_fn]\n",
        "  layers += [stax.Dense(num_classes, W_std=W_std, b_std=b_std, \n",
        "                        parameterization=parameterization)]\n",
        "\n",
        "  return stax.serial(*layers)\n",
        "\n",
        "def FullyConvolutionalNetwork( \n",
        "    depth,\n",
        "    width,\n",
        "    W_std = np.sqrt(2), \n",
        "    b_std = 0.1,\n",
        "    num_classes = 10,\n",
        "    parameterization = 'ntk',\n",
        "    activation = 'relu'):\n",
        "  \"\"\"Returns neural_tangents.stax fully convolutional network.\"\"\"\n",
        "  activation_fn = stax.Relu()\n",
        "  conv = functools.partial(\n",
        "      stax.Conv,\n",
        "      W_std=W_std,\n",
        "      b_std=b_std,\n",
        "      padding='SAME',\n",
        "      parameterization=parameterization)\n",
        "\n",
        "  for _ in range(depth):\n",
        "    layers += [conv(width, (3,3)), activation_fn]\n",
        "  layers += [stax.Flatten(), stax.Dense(num_classes, W_std=W_std, b_std=b_std,\n",
        "                                        parameterization=parameterization)]\n",
        "\n",
        "  return stax.serial(*layers)\n",
        "\n",
        "def MyrtleNetwork(  \n",
        "    depth,\n",
        "    width,\n",
        "    W_std = np.sqrt(2), \n",
        "    b_std = 0.1,\n",
        "    num_classes = 10,\n",
        "    parameterization = 'ntk',\n",
        "    activation = 'relu'):\n",
        "  \"\"\"Returns neural_tangents.stax Myrtle network.\"\"\"\n",
        "  layer_factor = {5: [1, 1, 1], 7: [1, 2, 2], 10: [2, 3, 3]}\n",
        "  if depth not in layer_factor.keys():\n",
        "    raise NotImplementedError(\n",
        "        'Myrtle network withd depth %d is not implemented!' % depth)\n",
        "  activation_fn = stax.Relu()\n",
        "  layers = []\n",
        "  conv = functools.partial(\n",
        "      stax.Conv,\n",
        "      W_std=W_std,\n",
        "      b_std=b_std,\n",
        "      padding='SAME',\n",
        "      parameterization=parameterization)\n",
        "  layers += [conv(width, (3, 3)), activation_fn]\n",
        "\n",
        "  # generate blocks of convolutions followed by average pooling for each\n",
        "  # layer of layer_factor except the last\n",
        "  for block_depth in layer_factor[depth][:-1]:\n",
        "    for _ in range(block_depth):\n",
        "      layers += [conv(width, (3, 3)), activation_fn]\n",
        "    layers += [stax.AvgPool((2, 2), strides=(2, 2))]\n",
        "\n",
        "  # generate final blocks of convolution followed by global average pooling\n",
        "  for _ in range(layer_factor[depth][-1]):\n",
        "    layers += [conv(width, (3, 3)), activation_fn]\n",
        "  layers += [stax.GlobalAvgPool()]\n",
        "\n",
        "  layers += [\n",
        "      stax.Dense(num_classes, W_std, b_std, parameterization=parameterization)\n",
        "  ]\n",
        "\n",
        "  return stax.serial(*layers)\n",
        "\n",
        "def get_kernel_fn(architecture, depth, width, parameterization):\n",
        "  if architecture == 'FC':\n",
        "    return FullyConnectedNetwork(depth=depth, width=width, parameterization=parameterization)\n",
        "  elif architecture == 'Conv':\n",
        "    return FullyConvolutionalNetwork(depth=depth, width=width, parameterization=parameterization)\n",
        "  elif architecture == 'Myrtle':\n",
        "    return MyrtleNetwork(depth=depth, width=width, parameterization=parameterization)\n",
        "  else:\n",
        "    raise NotImplementedError(f'Unrecognized architecture {architecture}')"
      ]
    },
    {
      "cell_type": "code",
      "execution_count": 8,
      "metadata": {
        "id": "xvlwOxjC8I_9",
        "vscode": {
          "languageId": "python"
        }
      },
      "outputs": [],
      "source": [
        "_, _, kernel_fn = get_kernel_fn(ARCHITECTURE, DEPTH, WIDTH, PARAMETERIZATION)\n",
        "KERNEL_FN = jax.jit(functools.partial(kernel_fn, get='ntk'))"
      ]
    },
    {
      "cell_type": "markdown",
      "metadata": {
        "id": "hEOv9lzuoTv8"
      },
      "source": [
        "# Run KIP"
      ]
    },
    {
      "cell_type": "code",
      "execution_count": 9,
      "metadata": {
        "id": "XHfPTAAmrBIR",
        "vscode": {
          "languageId": "python"
        }
      },
      "outputs": [],
      "source": [
        "def class_balanced_sample(sample_size: int, \n",
        "                          labels: np.ndarray,\n",
        "                          *arrays: np.ndarray, **kwargs: int):\n",
        "  \"\"\"Get random sample_size unique items consistently from equal length arrays.\n",
        "\n",
        "  The items are class_balanced with respect to labels.\n",
        "\n",
        "  Args:\n",
        "    sample_size: Number of elements to get from each array from arrays. Must be\n",
        "      divisible by the number of unique classes\n",
        "    labels: 1D array enumerating class label of items\n",
        "    *arrays: arrays to sample from; all have same length as labels\n",
        "    **kwargs: pass in a seed to set random seed\n",
        "\n",
        "  Returns:\n",
        "    A tuple of indices sampled and the corresponding sliced labels and arrays\n",
        "  \"\"\"\n",
        "  if labels.ndim != 1:\n",
        "    raise ValueError(f'Labels should be one-dimensional, got shape {labels.shape}')\n",
        "  n = len(labels)\n",
        "  if not all([n == len(arr) for arr in arrays[1:]]):\n",
        "    raise ValueError(f'All arrays to be subsampled should have the same length. Got lengths {[len(arr) for arr in arrays]}')\n",
        "  classes = np.unique(labels)\n",
        "  n_classes = len(classes)\n",
        "  n_per_class, remainder = divmod(sample_size, n_classes)\n",
        "  if remainder != 0:\n",
        "    raise ValueError(\n",
        "        f'Number of classes {n_classes} in labels must divide sample size {sample_size}.'\n",
        "    )\n",
        "  if kwargs.get('seed') is not None:\n",
        "    np.random.seed(kwargs['seed'])\n",
        "  inds = np.concatenate([\n",
        "      np.random.choice(np.where(labels == c)[0], n_per_class, replace=False)\n",
        "      for c in classes\n",
        "  ])\n",
        "  return (inds, labels[inds].copy()) + tuple(\n",
        "      [arr[inds].copy() for arr in arrays])\n",
        "\n",
        "def make_loss_acc_fn(kernel_fn):\n",
        "\n",
        "  @jax.jit\n",
        "  def loss_acc_fn(x_support, y_support, x_target, y_target, reg=1e-6):\n",
        "    y_support = jax.lax.cond(LEARN_LABELS, lambda y: y, jax.lax.stop_gradient, y_support)\n",
        "    k_ss = kernel_fn(x_support, x_support)\n",
        "    k_ts = kernel_fn(x_target, x_support)\n",
        "    k_ss_reg = (k_ss + jnp.abs(reg) * jnp.trace(k_ss) * jnp.eye(k_ss.shape[0]) / k_ss.shape[0])\n",
        "    pred = jnp.dot(k_ts, sp.linalg.solve(k_ss_reg, y_support, sym_pos=True))\n",
        "    mse_loss = 0.5*jnp.mean((pred - y_target) ** 2)\n",
        "    acc = jnp.mean(jnp.argmax(pred, axis=1) == jnp.argmax(y_target, axis=1))\n",
        "    return mse_loss, acc\n",
        "\n",
        "  return loss_acc_fn\n",
        "\n",
        "def get_update_functions(init_params, kernel_fn, lr):\n",
        "  opt_init, opt_update, get_params = optimizers.adam(lr) \n",
        "  opt_state = opt_init(init_params)\n",
        "  loss_acc_fn = make_loss_acc_fn(kernel_fn)\n",
        "  value_and_grad = jax.value_and_grad(lambda params, x_target, y_target: loss_acc_fn(params['x'],\n",
        "                                                                       params['y'],\n",
        "                                                                       x_target,\n",
        "                                                                       y_target), has_aux=True)\n",
        "\n",
        "  @jax.jit\n",
        "  def update_fn(step, opt_state, params, x_target, y_target):\n",
        "    (loss, acc), dparams = value_and_grad(params, x_target, y_target)\n",
        "    return opt_update(step, dparams, opt_state), (loss, acc)\n",
        "\n",
        "  return opt_state, get_params, update_fn\n",
        "\n",
        "def train(num_train_steps, log_freq=20, seed=1):\n",
        "\n",
        "  _, labels_init, x_init_raw, y_init = class_balanced_sample(SUPPORT_SIZE, LABELS_TRAIN, X_TRAIN_RAW, Y_TRAIN, seed=seed)\n",
        "  x_init = normalize(x_init_raw, channel_means, channel_stds)\n",
        "  params_init = {'x': x_init, 'y': y_init}\n",
        "  params_init_raw = {'x': x_init_raw, 'y': labels_init}\n",
        "\n",
        "  opt_state, get_params, update_fn = get_update_functions(params_init, KERNEL_FN, LEARNING_RATE)\n",
        "  params = get_params(opt_state)\n",
        "  loss_acc_fn = make_loss_acc_fn(KERNEL_FN)\n",
        "\n",
        "  test_loss, test_acc = loss_acc_fn(params['x'], params['y'], X_TEST, Y_TEST)  # compute in batches for expensive kernels\n",
        "  print('initial test loss:', test_loss)\n",
        "  print('initial test acc:', test_acc)\n",
        "\n",
        "  for i in range(1,num_train_steps+1):\n",
        "    # full batch gradient descent\n",
        "    _, _, x_target_batch, y_target_batch = class_balanced_sample(TARGET_BATCH_SIZE, LABELS_TRAIN, X_TRAIN, Y_TRAIN) \n",
        "    opt_state, aux = update_fn(i, opt_state, params, x_target_batch, y_target_batch)\n",
        "    train_loss, train_acc = aux\n",
        "    params = get_params(opt_state)\n",
        "    if i % log_freq == 0:\n",
        "      print(f'----step {i}:')\n",
        "      print('train loss:', train_loss)\n",
        "      print('train acc:', train_acc)\n",
        "      test_loss, test_acc = loss_acc_fn(params['x'], params['y'], X_TEST, Y_TEST)  # compute in batches for expensive kernels\n",
        "      print('test loss:', test_loss)\n",
        "      print('test acc:', test_acc)\n",
        "\n",
        "  return params, params_init, params_init_raw"
      ]
    },
    {
      "cell_type": "markdown",
      "metadata": {
        "id": "T6AufNvmf5Y6"
      },
      "source": [
        "## Run KIP to learn SUPPORT_SIZE=100 number of images using FC1 kernel. Algorithm converges rapidly (less than 300 training steps needed in below run for reasonable performance). Train for ~ 1000 or more steps for full convergence."
      ]
    },
    {
      "cell_type": "code",
      "execution_count": 10,
      "metadata": {
        "colab": {
          "base_uri": "https://localhost:8080/"
        },
        "id": "GGH8WKdi8CZY",
        "outputId": "375c57a1-9e68-4e15-e1ea-0b6c3dc14e01",
        "vscode": {
          "languageId": "python"
        }
      },
      "outputs": [
        {
          "name": "stderr",
          "output_type": "stream",
          "text": [
            "WARNING:jax._src.lib.xla_bridge:No GPU/TPU found, falling back to CPU. (Set TF_CPP_MIN_LOG_LEVEL=0 and rerun for more info.)\n",
            "<ipython-input-9-3040ea114360>:47: FutureWarning: The sym_pos argument to solve() is deprecated and will be removed in a future JAX release. Use assume_a='pos' instead.\n",
            "  pred = jnp.dot(k_ts, sp.linalg.solve(k_ss_reg, y_support, sym_pos=True))\n"
          ]
        },
        {
          "name": "stdout",
          "output_type": "stream",
          "text": [
            "initial test loss: 0.024267245940376273\n",
            "initial test acc: 0.7436\n"
          ]
        },
        {
          "name": "stderr",
          "output_type": "stream",
          "text": [
            "<ipython-input-9-3040ea114360>:47: FutureWarning: The sym_pos argument to solve() is deprecated and will be removed in a future JAX release. Use assume_a='pos' instead.\n",
            "  pred = jnp.dot(k_ts, sp.linalg.solve(k_ss_reg, y_support, sym_pos=True))\n"
          ]
        },
        {
          "name": "stdout",
          "output_type": "stream",
          "text": [
            "----step 20:\n",
            "train loss: 0.015444331427902809\n",
            "train acc: 0.89599997\n",
            "test loss: 0.015054413700210217\n",
            "test acc: 0.9037\n",
            "----step 40:\n",
            "train loss: 0.01372491782835145\n",
            "train acc: 0.9162\n",
            "test loss: 0.013192639334320855\n",
            "test acc: 0.91969997\n",
            "----step 60:\n",
            "train loss: 0.012410749453760726\n",
            "train acc: 0.9208\n",
            "test loss: 0.011857062688475665\n",
            "test acc: 0.92749995\n",
            "----step 80:\n",
            "train loss: 0.011077974376306537\n",
            "train acc: 0.9378\n",
            "test loss: 0.010909245871188078\n",
            "test acc: 0.9357\n",
            "----step 100:\n",
            "train loss: 0.010309845831155273\n",
            "train acc: 0.936\n",
            "test loss: 0.010299281437174271\n",
            "test acc: 0.93909997\n",
            "----step 120:\n",
            "train loss: 0.010064469607374242\n",
            "train acc: 0.94119996\n",
            "test loss: 0.009838605972941658\n",
            "test acc: 0.9432\n",
            "----step 140:\n",
            "train loss: 0.009709778703797805\n",
            "train acc: 0.94699997\n",
            "test loss: 0.009549037313799786\n",
            "test acc: 0.9447\n",
            "----step 160:\n",
            "train loss: 0.009469791450590547\n",
            "train acc: 0.944\n",
            "test loss: 0.009347282836121094\n",
            "test acc: 0.94659996\n",
            "----step 180:\n",
            "train loss: 0.009084653381079128\n",
            "train acc: 0.949\n",
            "test loss: 0.009121123456978032\n",
            "test acc: 0.9493\n",
            "----step 200:\n",
            "train loss: 0.009166955132554435\n",
            "train acc: 0.9486\n",
            "test loss: 0.008969625227474536\n",
            "test acc: 0.9468\n",
            "----step 220:\n",
            "train loss: 0.008838646373576191\n",
            "train acc: 0.9532\n",
            "test loss: 0.008824105456623037\n",
            "test acc: 0.95\n",
            "----step 240:\n",
            "train loss: 0.008975208690731824\n",
            "train acc: 0.95059997\n",
            "test loss: 0.008733696515719692\n",
            "test acc: 0.9522\n",
            "----step 260:\n",
            "train loss: 0.008680300662743107\n",
            "train acc: 0.9518\n",
            "test loss: 0.008704614660432987\n",
            "test acc: 0.95269996\n",
            "----step 280:\n",
            "train loss: 0.009018339724903245\n",
            "train acc: 0.9478\n",
            "test loss: 0.008649386067389483\n",
            "test acc: 0.95309997\n",
            "----step 300:\n",
            "train loss: 0.008551991528524648\n",
            "train acc: 0.9546\n",
            "test loss: 0.008547167229969226\n",
            "test acc: 0.9525\n"
          ]
        }
      ],
      "source": [
        "params_final, params_init, params_init_raw = train(300)"
      ]
    },
    {
      "cell_type": "code",
      "execution_count": 11,
      "metadata": {
        "colab": {
          "base_uri": "https://localhost:8080/",
          "height": 662
        },
        "id": "vtqrqHoYRDpE",
        "outputId": "90110d33-03ac-4238-e98e-e0ed811aec88",
        "vscode": {
          "languageId": "python"
        }
      },
      "outputs": [
        {
          "data": {
            "image/png": "[encoded data removed]",
            "text/plain": [
              "<Figure size 2376x720 with 30 Axes>"
            ]
          },
          "metadata": {
            "needs_background": "light"
          },
          "output_type": "display_data"
        }
      ],
      "source": [
        "_, _, sample_raw, sample_init, sample_final = class_balanced_sample(10, params_init_raw['y'], params_init_raw['x'], params_init['x'], params_final['x'], seed=3)\n",
        "class_names = ['0', '1', '2', '3', '4', '5', '6', '7', '8', '9']\n",
        "\n",
        "fig = plt.figure(figsize=(33,10))\n",
        "fig.suptitle('Image comparison.\\n\\nRow 1: Original uint8.  Row2: Original normalized.  Row 3: KIP learned images.', fontsize=16, y=1.02)\n",
        "for i, img in enumerate(sample_raw):\n",
        "  ax = plt.subplot(3, 10, i+1)\n",
        "  ax.set_title(class_names[i])\n",
        "  plt.imshow(np.squeeze(img))\n",
        "\n",
        "for i, img in enumerate(sample_init, 1):\n",
        "  plt.subplot(3, 10, 10+i)\n",
        "  plt.imshow(np.squeeze(img))\n",
        "\n",
        "for i, img in enumerate(sample_final, 1):\n",
        "  plt.subplot(3, 10, 20+i)\n",
        "  plt.imshow(np.squeeze(img))"
      ]
    },
    {
      "cell_type": "markdown",
      "metadata": {
        "id": "7mu-uhruoWRQ"
      },
      "source": [
        "# Run Label Solve"
      ]
    },
    {
      "cell_type": "code",
      "execution_count": 12,
      "metadata": {
        "id": "0P47zfIGoV3I",
        "vscode": {
          "languageId": "python"
        }
      },
      "outputs": [],
      "source": [
        "def make_label_solve_fn(kernel_fn):\n",
        "\n",
        "  @jax.jit\n",
        "  def label_solve(x_support, x_target, y_target, reg=1e-6):\n",
        "    \"\"\"Formula for label solve valid when |x_support| <= |x_target|. A regularized version of the pseudo-inverse is used for numerical stability.\"\"\"\n",
        "    kss = kernel_fn(x_support, x_support)\n",
        "    kst = kernel_fn(x_support, x_target)\n",
        "    matrix = jnp.dot(kst, kst.T)\n",
        "    matrix_reg = matrix + reg * jnp.eye(matrix.shape[0])/matrix.shape[0]\n",
        "    reg_pinv = sp.linalg.solve(matrix_reg, jnp.dot(kst, y_target), sym_pos=True)\n",
        "    return jnp.dot(kss + reg* jnp.eye(kss.shape[0])/kss.shape[0], reg_pinv)\n",
        "\n",
        "  return label_solve"
      ]
    },
    {
      "attachments": {},
      "cell_type": "markdown",
      "metadata": {
        "id": "Wy82CFxFeQXx"
      },
      "source": [
        "## Label solve using 500 MNIST images using FC1 kernel"
      ]
    },
    {
      "cell_type": "code",
      "execution_count": 13,
      "metadata": {
        "colab": {
          "base_uri": "https://localhost:8080/"
        },
        "id": "TNw44mmjcjrh",
        "outputId": "6027c4f5-f635-45c4-c4ca-fb1ca2124550",
        "vscode": {
          "languageId": "python"
        }
      },
      "outputs": [
        {
          "name": "stderr",
          "output_type": "stream",
          "text": [
            "<ipython-input-12-5009e6622cd7>:10: FutureWarning: The sym_pos argument to solve() is deprecated and will be removed in a future JAX release. Use assume_a='pos' instead.\n",
            "  reg_pinv = sp.linalg.solve(matrix_reg, jnp.dot(kst, y_target), sym_pos=True)\n",
            "<ipython-input-9-3040ea114360>:47: FutureWarning: The sym_pos argument to solve() is deprecated and will be removed in a future JAX release. Use assume_a='pos' instead.\n",
            "  pred = jnp.dot(k_ts, sp.linalg.solve(k_ss_reg, y_support, sym_pos=True))\n",
            "<ipython-input-9-3040ea114360>:47: FutureWarning: The sym_pos argument to solve() is deprecated and will be removed in a future JAX release. Use assume_a='pos' instead.\n",
            "  pred = jnp.dot(k_ts, sp.linalg.solve(k_ss_reg, y_support, sym_pos=True))\n"
          ]
        },
        {
          "name": "stdout",
          "output_type": "stream",
          "text": [
            "Original test loss: 0.013824155334317478, test acc: 0.8949999809265137\n",
            "Label solved test loss: 0.009222203996726751, test acc: 0.9477999806404114\n"
          ]
        }
      ],
      "source": [
        "_, _, x_support, y_support = class_balanced_sample(500, LABELS_TRAIN, X_TRAIN, Y_TRAIN, seed=2021)\n",
        "solved_labels = make_label_solve_fn(KERNEL_FN)(x_support, X_TRAIN, Y_TRAIN)\n",
        "\n",
        "loss_acc_fn = make_loss_acc_fn(KERNEL_FN)\n",
        "loss_orig, acc_orig = loss_acc_fn(x_support, y_support, X_TEST, Y_TEST)\n",
        "loss_solved, acc_solved = loss_acc_fn(x_support, solved_labels, X_TEST, Y_TEST)\n",
        "print(f'Original test loss: {loss_orig}, test acc: {acc_orig}')\n",
        "print(f'Label solved test loss: {loss_solved}, test acc: {acc_solved}')"
      ]
    },
    {
      "cell_type": "code",
      "execution_count": 14,
      "metadata": {
        "colab": {
          "base_uri": "https://localhost:8080/"
        },
        "id": "2mqJVRDJWQU8",
        "outputId": "1b65c3c0-5f6d-4189-e4c8-a0e17b8df807",
        "vscode": {
          "languageId": "python"
        }
      },
      "outputs": [
        {
          "name": "stderr",
          "output_type": "stream",
          "text": [
            "<ipython-input-12-5009e6622cd7>:10: FutureWarning: The sym_pos argument to solve() is deprecated and will be removed in a future JAX release. Use assume_a='pos' instead.\n",
            "  reg_pinv = sp.linalg.solve(matrix_reg, jnp.dot(kst, y_target), sym_pos=True)\n",
            "<ipython-input-9-3040ea114360>:47: FutureWarning: The sym_pos argument to solve() is deprecated and will be removed in a future JAX release. Use assume_a='pos' instead.\n",
            "  pred = jnp.dot(k_ts, sp.linalg.solve(k_ss_reg, y_support, sym_pos=True))\n",
            "<ipython-input-9-3040ea114360>:47: FutureWarning: The sym_pos argument to solve() is deprecated and will be removed in a future JAX release. Use assume_a='pos' instead.\n",
            "  pred = jnp.dot(k_ts, sp.linalg.solve(k_ss_reg, y_support, sym_pos=True))\n"
          ]
        },
        {
          "name": "stdout",
          "output_type": "stream",
          "text": [
            "Original test loss: 0.014110072785503781, test acc: 0.892799973487854\n",
            "Label solved test loss: 0.009259792463241216, test acc: 0.9466999769210815\n"
          ]
        }
      ],
      "source": [
        "inds = np.random.choice(50000, 500)\n",
        "x_support, y_support = X_TRAIN[inds], Y_TRAIN[inds]\n",
        "solved_labels = make_label_solve_fn(KERNEL_FN)(x_support, X_TRAIN, Y_TRAIN)\n",
        "\n",
        "loss_acc_fn = make_loss_acc_fn(KERNEL_FN)\n",
        "loss_orig, acc_orig = loss_acc_fn(x_support, y_support, X_TEST, Y_TEST)\n",
        "loss_solved, acc_solved = loss_acc_fn(x_support, solved_labels, X_TEST, Y_TEST)\n",
        "print(f'Original test loss: {loss_orig}, test acc: {acc_orig}')\n",
        "print(f'Label solved test loss: {loss_solved}, test acc: {acc_solved}')"
      ]
    },
    {
      "cell_type": "code",
      "execution_count": 15,
      "metadata": {
        "colab": {
          "base_uri": "https://localhost:8080/",
          "height": 214
        },
        "id": "lBUgEqBwW-b4",
        "outputId": "8ebb6299-2182-47bd-ca51-13d5e0361f33",
        "vscode": {
          "languageId": "python"
        }
      },
      "outputs": [
        {
          "data": {
            "image/png": "[encoded data removed]",
            "text/plain": [
              "<Figure size 216x216 with 2 Axes>"
            ]
          },
          "metadata": {
            "needs_background": "light"
          },
          "output_type": "display_data"
        }
      ],
      "source": [
        "from mpl_toolkits.axes_grid1.axes_divider import make_axes_locatable\n",
        "\n",
        "fig, ax = plt.subplots(figsize=(3, 3))\n",
        "im = ax.imshow(np.dot(y_support.T, solved_labels)/solved_labels.shape[0], \n",
        "               vmin=-0.01, vmax=0.01)\n",
        "ax.set_xticks(range(10))\n",
        "ax.set_yticks(range(10))\n",
        "ax.set_xticklabels(class_names, rotation = 90, ha=\"right\")\n",
        "ax.set_yticklabels(class_names, rotation = 0, ha=\"right\")\n",
        "ax_divider = make_axes_locatable(ax)\n",
        "# Add an axes to the right of the main axes.\n",
        "cax = ax_divider.append_axes(\"right\", size=\"7%\", pad=\"2%\")\n",
        "fig.colorbar(im, cax=cax)\n",
        "ax.set_title('FC1 LS 500 support')\n",
        "plt.show()"
      ]
    }
  ],
  "metadata": {
    "colab": {
      "provenance": []
    },
    "kernelspec": {
      "display_name": "Python 3",
      "name": "python3"
    }
  },
  "nbformat": 4,
  "nbformat_minor": 0
}
